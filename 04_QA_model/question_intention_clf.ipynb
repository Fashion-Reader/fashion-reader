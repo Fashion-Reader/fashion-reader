{
  "cells": [
    {
      "cell_type": "markdown",
      "metadata": {
        "id": "0_mY5rknvZdg"
      },
      "source": [
        "# 💫Training"
      ]
    },
    {
      "cell_type": "markdown",
      "metadata": {
        "id": "S_r9HHchtrRX"
      },
      "source": [
        "### User의 질문을 19가지의 의도로 분류하는 모델\n",
        "#### Accuracy : 94%\n",
        "0: '이름'<br>\n",
        "1: '가격'<br>\n",
        "2: '사이즈 옵션'<br>\n",
        "3: '소재'<br>\n",
        "4: '비침'<br>\n",
        "5: '카테고리'<br>\n",
        "6: '색 옵션'<br>\n",
        "7: '두께감'<br>\n",
        "8: '신축성'<br>\n",
        "9: '촉감'<br>\n",
        "10: '핏'<br>\n",
        "11: '안감'<br>\n",
        "12: '스타일'<br>\n",
        "13: '프린팅'<br>\n",
        "14: '상의 색'<br>\n",
        "15: '하의 색'<br>\n",
        "16: '상의 카테고리'<br>\n",
        "17: '하의 카테고리'<br>\n",
        "18: '넥 라인'"
      ]
    },
    {
      "cell_type": "code",
      "execution_count": 2,
      "metadata": {
        "colab": {
          "base_uri": "https://localhost:8080/"
        },
        "id": "545ge2D6trRZ",
        "outputId": "376c7279-576f-4dd3-b2ec-5d111040b7c8"
      },
      "outputs": [
        {
          "name": "stdout",
          "output_type": "stream",
          "text": [
            "Collecting transformers==4.6.1\n",
            "  Downloading transformers-4.6.1-py3-none-any.whl (2.2 MB)\n",
            "\u001b[K     |████████████████████████████████| 2.2 MB 5.2 MB/s \n",
            "\u001b[?25hCollecting sacremoses\n",
            "  Downloading sacremoses-0.0.46-py3-none-any.whl (895 kB)\n",
            "\u001b[K     |████████████████████████████████| 895 kB 56.4 MB/s \n",
            "\u001b[?25hRequirement already satisfied: requests in /usr/local/lib/python3.7/dist-packages (from transformers==4.6.1) (2.23.0)\n",
            "Requirement already satisfied: packaging in /usr/local/lib/python3.7/dist-packages (from transformers==4.6.1) (21.2)\n",
            "Requirement already satisfied: regex!=2019.12.17 in /usr/local/lib/python3.7/dist-packages (from transformers==4.6.1) (2019.12.20)\n",
            "Requirement already satisfied: numpy>=1.17 in /usr/local/lib/python3.7/dist-packages (from transformers==4.6.1) (1.19.5)\n",
            "Requirement already satisfied: tqdm>=4.27 in /usr/local/lib/python3.7/dist-packages (from transformers==4.6.1) (4.62.3)\n",
            "Collecting huggingface-hub==0.0.8\n",
            "  Downloading huggingface_hub-0.0.8-py3-none-any.whl (34 kB)\n",
            "Requirement already satisfied: filelock in /usr/local/lib/python3.7/dist-packages (from transformers==4.6.1) (3.3.2)\n",
            "Collecting tokenizers<0.11,>=0.10.1\n",
            "  Downloading tokenizers-0.10.3-cp37-cp37m-manylinux_2_5_x86_64.manylinux1_x86_64.manylinux_2_12_x86_64.manylinux2010_x86_64.whl (3.3 MB)\n",
            "\u001b[K     |████████████████████████████████| 3.3 MB 44.2 MB/s \n",
            "\u001b[?25hRequirement already satisfied: importlib-metadata in /usr/local/lib/python3.7/dist-packages (from transformers==4.6.1) (4.8.2)\n",
            "Requirement already satisfied: typing-extensions>=3.6.4 in /usr/local/lib/python3.7/dist-packages (from importlib-metadata->transformers==4.6.1) (3.10.0.2)\n",
            "Requirement already satisfied: zipp>=0.5 in /usr/local/lib/python3.7/dist-packages (from importlib-metadata->transformers==4.6.1) (3.6.0)\n",
            "Requirement already satisfied: pyparsing<3,>=2.0.2 in /usr/local/lib/python3.7/dist-packages (from packaging->transformers==4.6.1) (2.4.7)\n",
            "Requirement already satisfied: urllib3!=1.25.0,!=1.25.1,<1.26,>=1.21.1 in /usr/local/lib/python3.7/dist-packages (from requests->transformers==4.6.1) (1.24.3)\n",
            "Requirement already satisfied: certifi>=2017.4.17 in /usr/local/lib/python3.7/dist-packages (from requests->transformers==4.6.1) (2021.10.8)\n",
            "Requirement already satisfied: chardet<4,>=3.0.2 in /usr/local/lib/python3.7/dist-packages (from requests->transformers==4.6.1) (3.0.4)\n",
            "Requirement already satisfied: idna<3,>=2.5 in /usr/local/lib/python3.7/dist-packages (from requests->transformers==4.6.1) (2.10)\n",
            "Requirement already satisfied: joblib in /usr/local/lib/python3.7/dist-packages (from sacremoses->transformers==4.6.1) (1.1.0)\n",
            "Requirement already satisfied: click in /usr/local/lib/python3.7/dist-packages (from sacremoses->transformers==4.6.1) (7.1.2)\n",
            "Requirement already satisfied: six in /usr/local/lib/python3.7/dist-packages (from sacremoses->transformers==4.6.1) (1.15.0)\n",
            "Installing collected packages: tokenizers, sacremoses, huggingface-hub, transformers\n",
            "Successfully installed huggingface-hub-0.0.8 sacremoses-0.0.46 tokenizers-0.10.3 transformers-4.6.1\n",
            "Collecting adamp\n",
            "  Downloading adamp-0.3.0.tar.gz (5.1 kB)\n",
            "Building wheels for collected packages: adamp\n",
            "  Building wheel for adamp (setup.py) ... \u001b[?25l\u001b[?25hdone\n",
            "  Created wheel for adamp: filename=adamp-0.3.0-py3-none-any.whl size=5999 sha256=00857cf04ccfe66ca96412498953df09957d1b5656b2c20352c1cd6ff5c29d73\n",
            "  Stored in directory: /root/.cache/pip/wheels/bb/95/21/ced2d2cb9944e3a72e58fece7958973eed3fd8d0aeb6e2e450\n",
            "Successfully built adamp\n",
            "Installing collected packages: adamp\n",
            "Successfully installed adamp-0.3.0\n"
          ]
        }
      ],
      "source": [
        "!pip3 install transformers==4.6.1\n",
        "!pip install adamp"
      ]
    },
    {
      "cell_type": "code",
      "execution_count": 32,
      "metadata": {
        "id": "Snh0MeQEvso0"
      },
      "outputs": [],
      "source": [
        "#필요한 라이브러리 불러오기\n",
        "import argparse\n",
        "import os\n",
        "import pickle\n",
        "import random\n",
        "import time\n",
        "import warnings\n",
        "from copy import deepcopy\n",
        "import numpy as np\n",
        "import pandas as pd\n",
        "import torch\n",
        "import torch.nn as nn\n",
        "import torch.nn.functional as F\n",
        "from adamp import AdamP\n",
        "from sklearn.metrics import f1_score\n",
        "from torch import nn, optim\n",
        "from torch.cuda.amp import autocast, GradScaler\n",
        "from torch.utils.data import DataLoader\n",
        "from torch.utils.data import Dataset\n",
        "from tqdm import tqdm\n",
        "from sklearn.metrics import classification_report\n",
        "from transformers import AutoTokenizer, AutoModelForSequenceClassification, Trainer, TrainingArguments, \\\n",
        "    ElectraForSequenceClassification, AdamW, get_cosine_with_hard_restarts_schedule_with_warmup"
      ]
    },
    {
      "cell_type": "code",
      "execution_count": 33,
      "metadata": {
        "colab": {
          "base_uri": "https://localhost:8080/"
        },
        "id": "_TqoUGEbtrRc",
        "outputId": "5f351a83-e0ab-43ec-8618-cf7b1b165b1e"
      },
      "outputs": [
        {
          "data": {
            "text/plain": [
              "device(type='cuda')"
            ]
          },
          "execution_count": 33,
          "metadata": {},
          "output_type": "execute_result"
        }
      ],
      "source": [
        "GPU_NUM = 1 # 원하는 GPU 번호 입력\n",
        "# device = torch.device(f'cuda:{GPU_NUM}' if torch.cuda.is_available() else 'cpu')\n",
        "device = torch.device('cuda' if torch.cuda.is_available() else 'cpu')\n",
        "# torch.cuda.set_device(device) # change allocation of current GPU\n",
        "device"
      ]
    },
    {
      "cell_type": "code",
      "execution_count": 34,
      "metadata": {
        "id": "_7hVdl4Bvsyd"
      },
      "outputs": [],
      "source": [
        "#random seed 고정\n",
        "def seed_everything(seed):\n",
        "    random.seed(seed)\n",
        "    os.environ['PYTHONHASHSEED'] = str(seed)\n",
        "    np.random.seed(seed)\n",
        "    torch.manual_seed(seed)\n",
        "    torch.cuda.manual_seed(seed)\n",
        "    torch.backends.cudnn.deterministic = True\n",
        "    torch.backends.cudnn.benchmark = True\n",
        "seed_everything(42)"
      ]
    },
    {
      "cell_type": "code",
      "execution_count": 35,
      "metadata": {
        "id": "ZWAqIfMQvs2D"
      },
      "outputs": [],
      "source": [
        "#데이터를 불러오기 위한 함수\n",
        "def load_data(file_path):\n",
        "    with open(file_path, 'r') as f:\n",
        "        data = [line.strip() for line in f.readlines()]\n",
        "    return data\n",
        "\n",
        "#전처리한 train 데이터 불러오기\n",
        "# train_data = pd.read_csv(\"final.csv\")\n",
        "train_data = pd.read_csv(\"/content/drive/MyDrive/Colab Notebooks/fashion_reader/question_intention_classification/new_data.csv\")"
      ]
    },
    {
      "cell_type": "code",
      "execution_count": 36,
      "metadata": {
        "colab": {
          "base_uri": "https://localhost:8080/",
          "height": 204
        },
        "id": "Q9R0bnG1trRf",
        "outputId": "6f86f44c-4496-4f92-9a84-e31ac775259a"
      },
      "outputs": [
        {
          "data": {
            "text/html": [
              "<div>\n",
              "<style scoped>\n",
              "    .dataframe tbody tr th:only-of-type {\n",
              "        vertical-align: middle;\n",
              "    }\n",
              "\n",
              "    .dataframe tbody tr th {\n",
              "        vertical-align: top;\n",
              "    }\n",
              "\n",
              "    .dataframe thead th {\n",
              "        text-align: right;\n",
              "    }\n",
              "</style>\n",
              "<table border=\"1\" class=\"dataframe\">\n",
              "  <thead>\n",
              "    <tr style=\"text-align: right;\">\n",
              "      <th></th>\n",
              "      <th>question</th>\n",
              "      <th>answer</th>\n",
              "      <th>label</th>\n",
              "    </tr>\n",
              "  </thead>\n",
              "  <tbody>\n",
              "    <tr>\n",
              "      <th>0</th>\n",
              "      <td>상품 이름이 뭐야?</td>\n",
              "      <td>이름</td>\n",
              "      <td>0</td>\n",
              "    </tr>\n",
              "    <tr>\n",
              "      <th>1</th>\n",
              "      <td>모델이 입고 있는 옷 이름이 뭐야?</td>\n",
              "      <td>이름</td>\n",
              "      <td>0</td>\n",
              "    </tr>\n",
              "    <tr>\n",
              "      <th>2</th>\n",
              "      <td>이거 이름 알려줘</td>\n",
              "      <td>이름</td>\n",
              "      <td>0</td>\n",
              "    </tr>\n",
              "    <tr>\n",
              "      <th>3</th>\n",
              "      <td>상품 이름이 어떻게 돼?</td>\n",
              "      <td>이름</td>\n",
              "      <td>0</td>\n",
              "    </tr>\n",
              "    <tr>\n",
              "      <th>4</th>\n",
              "      <td>이름 좀 알려줘</td>\n",
              "      <td>이름</td>\n",
              "      <td>0</td>\n",
              "    </tr>\n",
              "  </tbody>\n",
              "</table>\n",
              "</div>"
            ],
            "text/plain": [
              "              question answer  label\n",
              "0           상품 이름이 뭐야?     이름      0\n",
              "1  모델이 입고 있는 옷 이름이 뭐야?     이름      0\n",
              "2            이거 이름 알려줘     이름      0\n",
              "3        상품 이름이 어떻게 돼?     이름      0\n",
              "4             이름 좀 알려줘     이름      0"
            ]
          },
          "execution_count": 36,
          "metadata": {},
          "output_type": "execute_result"
        }
      ],
      "source": [
        "train_data.head()"
      ]
    },
    {
      "cell_type": "code",
      "execution_count": 37,
      "metadata": {
        "colab": {
          "base_uri": "https://localhost:8080/"
        },
        "id": "4Tc-EBpEtrRh",
        "outputId": "5b56bce7-2a23-42d3-b8ba-cbe86284373f"
      },
      "outputs": [
        {
          "name": "stdout",
          "output_type": "stream",
          "text": [
            "<class 'pandas.core.frame.DataFrame'>\n",
            "RangeIndex: 306 entries, 0 to 305\n",
            "Data columns (total 3 columns):\n",
            " #   Column    Non-Null Count  Dtype \n",
            "---  ------    --------------  ----- \n",
            " 0   question  306 non-null    object\n",
            " 1   answer    306 non-null    object\n",
            " 2   label     306 non-null    int64 \n",
            "dtypes: int64(1), object(2)\n",
            "memory usage: 7.3+ KB\n"
          ]
        }
      ],
      "source": [
        "train_data.info()"
      ]
    },
    {
      "cell_type": "markdown",
      "metadata": {
        "id": "c19B_GPZtrRi"
      },
      "source": [
        "### NLP_Dataset 클래스 선언"
      ]
    },
    {
      "cell_type": "code",
      "execution_count": 38,
      "metadata": {
        "id": "187ne_ortrRj"
      },
      "outputs": [],
      "source": [
        "class NLP_Dataset(Dataset):\n",
        "    def __init__(self, dataframe, tokenizer):\n",
        "        self.dataset = dataframe\n",
        "        self.question = dataframe['question']\n",
        "        self.labels = dataframe['label']\n",
        "        self.tokenizer = tokenizer\n",
        "\n",
        "    def __getitem__(self, idx) :\n",
        "        tokenized_text = self.tokenizer(self.question[idx], \n",
        "                                        max_length=CFG.tokenizer_max_length, \n",
        "                                        padding='max_length', \n",
        "                                        truncation=True, \n",
        "                                        return_tensors='pt',\n",
        "                                        add_special_tokens=True)\n",
        "        \n",
        "        tokenized_text['label'] = self.labels[idx]\n",
        "        return tokenized_text\n",
        "\n",
        "    def __len__(self):\n",
        "        return len(self.labels)"
      ]
    },
    {
      "cell_type": "markdown",
      "metadata": {
        "id": "zmDHy_2GtrRk"
      },
      "source": [
        "### get_model 함수 선언\n",
        "network, optimizer, scaler, scheduler, criterion 반환"
      ]
    },
    {
      "cell_type": "code",
      "execution_count": 39,
      "metadata": {
        "id": "RozSgdJktrRk"
      },
      "outputs": [],
      "source": [
        "def get_model():\n",
        "    network = AutoModelForSequenceClassification.from_pretrained(CFG.model_name, num_labels=CFG.n_classes, hidden_dropout_prob=CFG.dropout_rate).to(\"cuda\")\n",
        "    optimizer = AdamP(network.parameters(), lr=CFG.lr, betas=(0.9, 0.999), weight_decay=1e-2)\n",
        "    scaler = GradScaler()\n",
        "    scheduler = torch.optim.lr_scheduler.CosineAnnealingLR(optimizer, T_max=300)\n",
        "    criterion = nn.CrossEntropyLoss().to(\"cuda\")\n",
        "    return network, optimizer, scaler, scheduler, criterion"
      ]
    },
    {
      "cell_type": "markdown",
      "metadata": {
        "id": "DcVH7zKptrRl"
      },
      "source": [
        "### training_per_step 선언"
      ]
    },
    {
      "cell_type": "code",
      "execution_count": 40,
      "metadata": {
        "id": "k8InsL8mtrRl"
      },
      "outputs": [],
      "source": [
        "def training_per_step(model, loss_fn, optimizer, scaler, input_ids, attention_mask, labels, device):\n",
        "    '''매 step마다 학습을 하는 함수'''\n",
        "    model.train()\n",
        "    \n",
        "    with autocast():\n",
        "        labels = labels.to(device)\n",
        "        outputs = model(input_ids.to(device), attention_mask = attention_mask.to(device))[0]\n",
        "        loss = loss_fn(outputs, labels)\n",
        "        scaler.scale(loss).backward()\n",
        "        scaler.step(optimizer)\n",
        "        scaler.update()\n",
        "        optimizer.zero_grad()\n",
        "\n",
        "    return loss"
      ]
    },
    {
      "cell_type": "markdown",
      "metadata": {
        "id": "5sw5eWjLtrRm"
      },
      "source": [
        "### validating_per_steps 선언"
      ]
    },
    {
      "cell_type": "code",
      "execution_count": 41,
      "metadata": {
        "id": "Dn8RshY9trRm"
      },
      "outputs": [],
      "source": [
        "def validating_per_steps(epoch, model, loss_fn, test_loader, device):\n",
        "    '''특정 step마다 검증을 하는 함수'''\n",
        "    model.eval()\n",
        "\n",
        "    loss_sum = 0\n",
        "    sample_num = 0\n",
        "    preds_all = []\n",
        "    targets_all = []\n",
        "\n",
        "    pbar = tqdm(test_loader, total=len(test_loader), position=0, leave=True)\n",
        "    for batch in pbar :\n",
        "        labels = batch.pop('label').to(device)\n",
        "        input_ids = batch['input_ids'].squeeze(1).to(device)\n",
        "        attention_mask = batch['attention_mask'].squeeze(1).to(device)\n",
        "        \n",
        "        preds = model(input_ids, attention_mask = attention_mask)[0]\n",
        "        \n",
        "        preds_all += [torch.argmax(preds, 1).detach().cpu().numpy()]\n",
        "        targets_all += [labels.detach().cpu().numpy()]\n",
        "\n",
        "        loss = loss_fn(preds, labels)\n",
        "\n",
        "        loss_sum += loss.item()*labels.shape[0]\n",
        "        sample_num += labels.shape[0]\n",
        "\n",
        "        description = f\"epoch {epoch + 1} loss: {loss_sum/sample_num:.4f}\"\n",
        "        pbar.set_description(description)\n",
        "    \n",
        "    preds_all = np.concatenate(preds_all)\n",
        "    targets_all = np.concatenate(targets_all)\n",
        "    accuracy = (preds_all == targets_all).mean()\n",
        "    f1 = f1_score(preds_all, targets_all, average='macro')\n",
        "    print('validation multi-class accuracy = {:.4f}, f1 score = {:.4f}'.format(accuracy, f1))\n",
        "    print(classification_report(targets_all, preds_all))\n",
        "    return accuracy, f1"
      ]
    },
    {
      "cell_type": "markdown",
      "metadata": {
        "id": "mGrlq7-ttrRn"
      },
      "source": [
        "### Train 함수 선언"
      ]
    },
    {
      "cell_type": "code",
      "execution_count": 42,
      "metadata": {
        "id": "xohgkMGYtrRn"
      },
      "outputs": [],
      "source": [
        "def train(model, loss_fn, optimizer, scaler, train_loader, test_loader, scheduler, device):\n",
        "    '''training과 validating을 진행하는 함수'''\n",
        "    prev_acc = 0\n",
        "    prev_f1 = 0\n",
        "    global_steps = 0\n",
        "    for epoch in range(CFG.epochs):\n",
        "        running_loss = 0\n",
        "        sample_num = 0\n",
        "        preds_all = []\n",
        "        targets_all = []\n",
        "        \n",
        "        pbar = tqdm(enumerate(train_loader), total=len(train_loader), position=0, leave=True)\n",
        "        for step, batch in pbar:\n",
        "            # training phase\n",
        "            labels = batch.pop('label')\n",
        "            input_ids = batch['input_ids'].squeeze(1)\n",
        "            attention_mask = batch['attention_mask'].squeeze(1)\n",
        "    \n",
        "            loss = training_per_step(model, loss_fn, optimizer, scaler, input_ids.to(device), attention_mask.to(device), labels.to(device), device)\n",
        "            running_loss += loss.item()*labels.shape[0]\n",
        "            sample_num += labels.shape[0]\n",
        "            \n",
        "            global_steps += 1\n",
        "            description = f\"{epoch+1}epoch {global_steps: >4d}step | loss: {running_loss/sample_num: .4f} \"\n",
        "            pbar.set_description(description)\n",
        "\n",
        "            if scheduler is not None :\n",
        "                scheduler.step() \n",
        "                \n",
        "            # validating phase\n",
        "            if global_steps % CFG.logging_step == 0 :\n",
        "                with torch.no_grad():\n",
        "                    acc, f1 = validating_per_steps(epoch, model, loss_fn, test_loader, device)\n",
        "                if f1 > prev_f1:\n",
        "                    # torch.save(model, \"./output/baseline.pt\")\n",
        "                    torch.save(model, \"/content/drive/MyDrive/Colab Notebooks/fashion_reader/question_intention_classification/output/new_baseline.pt\")\n",
        "                    prev_f1 = f1\n",
        "                    \n",
        "                # wandb.log({\n",
        "                # 'eval/acc' : acc,\n",
        "                # 'eval/f1' : f1,\n",
        "                # 'global_steps': global_steps\n",
        "                # })\n",
        "                print(f'eval/acc : {acc}, eval/f1 : {f1}, global_steps: {global_steps}')\n",
        "                    \n",
        "            else:\n",
        "                print(f\" global_steps : {global_steps}\")\n",
        "                # wandb.log({'global_steps':global_steps})  "
      ]
    },
    {
      "cell_type": "markdown",
      "metadata": {
        "id": "eth6879xtrRo"
      },
      "source": [
        "### 학습을 위한 config 설정"
      ]
    },
    {
      "cell_type": "code",
      "execution_count": 43,
      "metadata": {
        "id": "-2jYMtWgvs_P",
        "tags": []
      },
      "outputs": [],
      "source": [
        "class CFG:\n",
        "    tokenizer_max_length = 35\n",
        "    batch_size = 32\n",
        "#     model_name = \"xlm-roberta-large\" # 19,069 #93%\n",
        "    model_name = \"xlm-roberta-base\" # 11,548 #93%\n",
        "    # model_name = \"bert-base-multilingual-cased\" # 7,461 #93%\n",
        "#     model_name = 'albert-base-v2' # 4,445 #23%\n",
        "    lr = 0.000005\n",
        "    epochs = 100\n",
        "    change_mask_prop = 0.\n",
        "    dropout_rate = 0\n",
        "    n_classes = 19\n",
        "    logging_step = 15"
      ]
    },
    {
      "cell_type": "markdown",
      "metadata": {
        "id": "gSBukcFJtrRp"
      },
      "source": [
        "### tokenizer와 데이터 불러오기 "
      ]
    },
    {
      "cell_type": "code",
      "execution_count": 44,
      "metadata": {
        "id": "fLcmZHQctrRp"
      },
      "outputs": [],
      "source": [
        "from sklearn.model_selection import train_test_split\n",
        "X_train, X_test, y_train, y_test = train_test_split(train_data['question'], train_data['label'],\n",
        "                                                    stratify= train_data['label'], \n",
        "                                                    test_size=0.2)"
      ]
    },
    {
      "cell_type": "code",
      "execution_count": 45,
      "metadata": {
        "id": "umpjifRatrRp"
      },
      "outputs": [],
      "source": [
        "train_data = pd.DataFrame(zip(X_train, y_train), columns=['question', 'label'])\n",
        "valid_data = pd.DataFrame(zip(X_test, y_test), columns=['question', 'label'])"
      ]
    },
    {
      "cell_type": "code",
      "execution_count": 46,
      "metadata": {
        "colab": {
          "base_uri": "https://localhost:8080/"
        },
        "id": "Oeogxxq4trRp",
        "outputId": "aeb0c5c7-a5e1-422a-ed00-4fbe8e33c14f"
      },
      "outputs": [
        {
          "data": {
            "text/plain": [
              "10    21\n",
              "4     17\n",
              "14    17\n",
              "15    16\n",
              "16    14\n",
              "8     14\n",
              "17    13\n",
              "6     13\n",
              "5     13\n",
              "9     12\n",
              "11    12\n",
              "3     12\n",
              "1     10\n",
              "2     10\n",
              "18    10\n",
              "7     10\n",
              "12    10\n",
              "13    10\n",
              "0     10\n",
              "Name: label, dtype: int64"
            ]
          },
          "execution_count": 46,
          "metadata": {},
          "output_type": "execute_result"
        }
      ],
      "source": [
        "train_data.label.value_counts()"
      ]
    },
    {
      "cell_type": "code",
      "execution_count": 47,
      "metadata": {
        "colab": {
          "base_uri": "https://localhost:8080/"
        },
        "id": "V8dQ0poYtrRq",
        "outputId": "aa666fa1-82fe-42f0-9bdc-8bb72ff36788"
      },
      "outputs": [
        {
          "data": {
            "text/plain": [
              "10    6\n",
              "15    4\n",
              "14    4\n",
              "4     4\n",
              "5     4\n",
              "17    4\n",
              "18    3\n",
              "7     3\n",
              "1     3\n",
              "3     3\n",
              "6     3\n",
              "9     3\n",
              "8     3\n",
              "11    3\n",
              "16    3\n",
              "0     3\n",
              "12    2\n",
              "13    2\n",
              "2     2\n",
              "Name: label, dtype: int64"
            ]
          },
          "execution_count": 47,
          "metadata": {},
          "output_type": "execute_result"
        }
      ],
      "source": [
        "valid_data.label.value_counts()"
      ]
    },
    {
      "cell_type": "code",
      "execution_count": 48,
      "metadata": {
        "id": "FohyiI-GtrRq"
      },
      "outputs": [],
      "source": [
        "tokenizer = AutoTokenizer.from_pretrained(CFG.model_name)\n",
        "train_set = NLP_Dataset(train_data, tokenizer)\n",
        "valid_set = NLP_Dataset(valid_data, tokenizer)"
      ]
    },
    {
      "cell_type": "code",
      "execution_count": 49,
      "metadata": {
        "id": "cm_UMhU1trRq"
      },
      "outputs": [],
      "source": [
        "train_iter = DataLoader(train_set, batch_size=CFG.batch_size, shuffle=True)\n",
        "val_iter = DataLoader(valid_set, batch_size=CFG.batch_size, shuffle=True)"
      ]
    },
    {
      "cell_type": "code",
      "execution_count": 50,
      "metadata": {
        "colab": {
          "base_uri": "https://localhost:8080/"
        },
        "id": "Q7W0S2A-trRq",
        "outputId": "02f3fd4f-e625-4d38-f454-a60bfac50840"
      },
      "outputs": [
        {
          "name": "stderr",
          "output_type": "stream",
          "text": [
            "Some weights of the model checkpoint at xlm-roberta-base were not used when initializing XLMRobertaForSequenceClassification: ['lm_head.layer_norm.weight', 'roberta.pooler.dense.bias', 'roberta.pooler.dense.weight', 'lm_head.layer_norm.bias', 'lm_head.dense.weight', 'lm_head.decoder.weight', 'lm_head.dense.bias', 'lm_head.bias']\n",
            "- This IS expected if you are initializing XLMRobertaForSequenceClassification from the checkpoint of a model trained on another task or with another architecture (e.g. initializing a BertForSequenceClassification model from a BertForPreTraining model).\n",
            "- This IS NOT expected if you are initializing XLMRobertaForSequenceClassification from the checkpoint of a model that you expect to be exactly identical (initializing a BertForSequenceClassification model from a BertForSequenceClassification model).\n",
            "Some weights of XLMRobertaForSequenceClassification were not initialized from the model checkpoint at xlm-roberta-base and are newly initialized: ['classifier.out_proj.bias', 'classifier.dense.weight', 'classifier.dense.bias', 'classifier.out_proj.weight']\n",
            "You should probably TRAIN this model on a down-stream task to be able to use it for predictions and inference.\n"
          ]
        }
      ],
      "source": [
        "network, optimizer, scaler, scheduler, criterion = get_model()"
      ]
    },
    {
      "cell_type": "markdown",
      "metadata": {
        "id": "YbJKW4uQtrRq"
      },
      "source": [
        "### wandb setting"
      ]
    },
    {
      "cell_type": "code",
      "execution_count": 51,
      "metadata": {
        "id": "1CDYdC36trRq"
      },
      "outputs": [],
      "source": [
        "# import wandb\n",
        "# os.environ['WANDB_LOG_MODEL'] = 'true'\n",
        "# os.environ['WANDB_WATCH'] = 'all'\n",
        "# os.environ['WANDB_SILENT'] = 'true'\n",
        "# wandb.login()\n",
        "# wandb.init(project='fashion_reader_question_classification', name='baseline_tjdnsgkek')"
      ]
    },
    {
      "cell_type": "code",
      "execution_count": 52,
      "metadata": {
        "colab": {
          "base_uri": "https://localhost:8080/"
        },
        "id": "0CbLg6a9trRr",
        "outputId": "6d9972bc-4807-4280-d929-5f2a1064a92a"
      },
      "outputs": [
        {
          "name": "stderr",
          "output_type": "stream",
          "text": [
            "1epoch    1step | loss:  2.9410 :  12%|█▎        | 1/8 [00:00<00:06,  1.08it/s]"
          ]
        },
        {
          "name": "stdout",
          "output_type": "stream",
          "text": [
            " global_steps : 1\n"
          ]
        },
        {
          "name": "stderr",
          "output_type": "stream",
          "text": [
            "1epoch    2step | loss:  2.9249 :  25%|██▌       | 2/8 [00:01<00:03,  1.81it/s]"
          ]
        },
        {
          "name": "stdout",
          "output_type": "stream",
          "text": [
            " global_steps : 2\n"
          ]
        },
        {
          "name": "stderr",
          "output_type": "stream",
          "text": [
            "1epoch    3step | loss:  2.9537 :  38%|███▊      | 3/8 [00:01<00:02,  2.33it/s]"
          ]
        },
        {
          "name": "stdout",
          "output_type": "stream",
          "text": [
            " global_steps : 3\n"
          ]
        },
        {
          "name": "stderr",
          "output_type": "stream",
          "text": [
            "1epoch    4step | loss:  2.9540 :  50%|█████     | 4/8 [00:01<00:01,  2.70it/s]"
          ]
        },
        {
          "name": "stdout",
          "output_type": "stream",
          "text": [
            " global_steps : 4\n"
          ]
        },
        {
          "name": "stderr",
          "output_type": "stream",
          "text": [
            "1epoch    5step | loss:  2.9480 :  62%|██████▎   | 5/8 [00:02<00:01,  2.89it/s]"
          ]
        },
        {
          "name": "stdout",
          "output_type": "stream",
          "text": [
            " global_steps : 5\n"
          ]
        },
        {
          "name": "stderr",
          "output_type": "stream",
          "text": [
            "1epoch    6step | loss:  2.9567 :  75%|███████▌  | 6/8 [00:02<00:00,  2.92it/s]"
          ]
        },
        {
          "name": "stdout",
          "output_type": "stream",
          "text": [
            " global_steps : 6\n"
          ]
        },
        {
          "name": "stderr",
          "output_type": "stream",
          "text": [
            "1epoch    7step | loss:  2.9615 :  88%|████████▊ | 7/8 [00:02<00:00,  3.05it/s]"
          ]
        },
        {
          "name": "stdout",
          "output_type": "stream",
          "text": [
            " global_steps : 7\n"
          ]
        },
        {
          "name": "stderr",
          "output_type": "stream",
          "text": [
            "1epoch    8step | loss:  2.9605 : 100%|██████████| 8/8 [00:02<00:00,  2.67it/s]\n"
          ]
        },
        {
          "name": "stdout",
          "output_type": "stream",
          "text": [
            " global_steps : 8\n"
          ]
        },
        {
          "name": "stderr",
          "output_type": "stream",
          "text": [
            "2epoch    9step | loss:  2.9547 :  12%|█▎        | 1/8 [00:00<00:02,  3.37it/s]"
          ]
        },
        {
          "name": "stdout",
          "output_type": "stream",
          "text": [
            " global_steps : 9\n"
          ]
        },
        {
          "name": "stderr",
          "output_type": "stream",
          "text": [
            "2epoch   10step | loss:  2.9589 :  25%|██▌       | 2/8 [00:00<00:01,  3.46it/s]"
          ]
        },
        {
          "name": "stdout",
          "output_type": "stream",
          "text": [
            " global_steps : 10\n"
          ]
        },
        {
          "name": "stderr",
          "output_type": "stream",
          "text": [
            "2epoch   11step | loss:  2.9443 :  38%|███▊      | 3/8 [00:00<00:01,  3.33it/s]"
          ]
        },
        {
          "name": "stdout",
          "output_type": "stream",
          "text": [
            " global_steps : 11\n"
          ]
        },
        {
          "name": "stderr",
          "output_type": "stream",
          "text": [
            "2epoch   12step | loss:  2.9538 :  50%|█████     | 4/8 [00:01<00:01,  3.06it/s]"
          ]
        },
        {
          "name": "stdout",
          "output_type": "stream",
          "text": [
            " global_steps : 12\n"
          ]
        },
        {
          "name": "stderr",
          "output_type": "stream",
          "text": [
            "2epoch   14step | loss:  2.9554 :  75%|███████▌  | 6/8 [00:01<00:00,  3.96it/s]"
          ]
        },
        {
          "name": "stdout",
          "output_type": "stream",
          "text": [
            " global_steps : 13\n",
            " global_steps : 14\n"
          ]
        },
        {
          "name": "stderr",
          "output_type": "stream",
          "text": [
            "epoch 2 loss: 2.9502: 100%|██████████| 2/2 [00:00<00:00, 14.80it/s]\n",
            "/usr/local/lib/python3.7/dist-packages/sklearn/metrics/_classification.py:1272: UndefinedMetricWarning: Precision and F-score are ill-defined and being set to 0.0 in labels with no predicted samples. Use `zero_division` parameter to control this behavior.\n",
            "  _warn_prf(average, modifier, msg_start, len(result))\n"
          ]
        },
        {
          "name": "stdout",
          "output_type": "stream",
          "text": [
            "validation multi-class accuracy = 0.0645, f1 score = 0.0064\n",
            "              precision    recall  f1-score   support\n",
            "\n",
            "           0       0.00      0.00      0.00         3\n",
            "           1       0.00      0.00      0.00         3\n",
            "           2       0.00      0.00      0.00         2\n",
            "           3       0.00      0.00      0.00         3\n",
            "           4       0.06      1.00      0.12         4\n",
            "           5       0.00      0.00      0.00         4\n",
            "           6       0.00      0.00      0.00         3\n",
            "           7       0.00      0.00      0.00         3\n",
            "           8       0.00      0.00      0.00         3\n",
            "           9       0.00      0.00      0.00         3\n",
            "          10       0.00      0.00      0.00         6\n",
            "          11       0.00      0.00      0.00         3\n",
            "          12       0.00      0.00      0.00         2\n",
            "          13       0.00      0.00      0.00         2\n",
            "          14       0.00      0.00      0.00         4\n",
            "          15       0.00      0.00      0.00         4\n",
            "          16       0.00      0.00      0.00         3\n",
            "          17       0.00      0.00      0.00         4\n",
            "          18       0.00      0.00      0.00         3\n",
            "\n",
            "    accuracy                           0.06        62\n",
            "   macro avg       0.00      0.05      0.01        62\n",
            "weighted avg       0.00      0.06      0.01        62\n",
            "\n"
          ]
        },
        {
          "name": "stderr",
          "output_type": "stream",
          "text": [
            "\r2epoch   15step | loss:  2.9528 :  88%|████████▊ | 7/8 [00:07<00:02,  2.11s/it]"
          ]
        },
        {
          "name": "stdout",
          "output_type": "stream",
          "text": [
            "eval/acc : 0.06451612903225806, eval/f1 : 0.006379585326953748, global_steps: 15\n"
          ]
        },
        {
          "name": "stderr",
          "output_type": "stream",
          "text": [
            "2epoch   16step | loss:  2.9539 : 100%|██████████| 8/8 [00:07<00:00,  1.01it/s]\n"
          ]
        },
        {
          "name": "stdout",
          "output_type": "stream",
          "text": [
            " global_steps : 16\n"
          ]
        },
        {
          "name": "stderr",
          "output_type": "stream",
          "text": [
            "3epoch   17step | loss:  2.9930 :  12%|█▎        | 1/8 [00:00<00:02,  3.23it/s]"
          ]
        },
        {
          "name": "stdout",
          "output_type": "stream",
          "text": [
            " global_steps : 17\n"
          ]
        },
        {
          "name": "stderr",
          "output_type": "stream",
          "text": [
            "3epoch   18step | loss:  2.9495 :  25%|██▌       | 2/8 [00:00<00:01,  3.13it/s]"
          ]
        },
        {
          "name": "stdout",
          "output_type": "stream",
          "text": [
            " global_steps : 18\n"
          ]
        },
        {
          "name": "stderr",
          "output_type": "stream",
          "text": [
            "3epoch   19step | loss:  2.9576 :  38%|███▊      | 3/8 [00:00<00:01,  3.31it/s]"
          ]
        },
        {
          "name": "stdout",
          "output_type": "stream",
          "text": [
            " global_steps : 19\n"
          ]
        },
        {
          "name": "stderr",
          "output_type": "stream",
          "text": [
            "3epoch   20step | loss:  2.9578 :  50%|█████     | 4/8 [00:01<00:01,  3.36it/s]"
          ]
        },
        {
          "name": "stdout",
          "output_type": "stream",
          "text": [
            " global_steps : 20\n"
          ]
        },
        {
          "name": "stderr",
          "output_type": "stream",
          "text": [
            "3epoch   21step | loss:  2.9525 :  62%|██████▎   | 5/8 [00:01<00:00,  3.43it/s]"
          ]
        },
        {
          "name": "stdout",
          "output_type": "stream",
          "text": [
            " global_steps : 21\n"
          ]
        },
        {
          "name": "stderr",
          "output_type": "stream",
          "text": [
            "3epoch   22step | loss:  2.9501 :  75%|███████▌  | 6/8 [00:01<00:00,  3.37it/s]"
          ]
        },
        {
          "name": "stdout",
          "output_type": "stream",
          "text": [
            " global_steps : 22\n"
          ]
        },
        {
          "name": "stderr",
          "output_type": "stream",
          "text": [
            "3epoch   23step | loss:  2.9365 :  88%|████████▊ | 7/8 [00:02<00:00,  3.31it/s]"
          ]
        },
        {
          "name": "stdout",
          "output_type": "stream",
          "text": [
            " global_steps : 23\n"
          ]
        },
        {
          "name": "stderr",
          "output_type": "stream",
          "text": [
            "3epoch   24step | loss:  2.9373 : 100%|██████████| 8/8 [00:02<00:00,  3.34it/s]\n"
          ]
        },
        {
          "name": "stdout",
          "output_type": "stream",
          "text": [
            " global_steps : 24\n"
          ]
        },
        {
          "name": "stderr",
          "output_type": "stream",
          "text": [
            "4epoch   26step | loss:  2.9504 :  25%|██▌       | 2/8 [00:00<00:01,  4.84it/s]"
          ]
        },
        {
          "name": "stdout",
          "output_type": "stream",
          "text": [
            " global_steps : 25\n",
            " global_steps : 26\n"
          ]
        },
        {
          "name": "stderr",
          "output_type": "stream",
          "text": [
            "4epoch   27step | loss:  2.9435 :  38%|███▊      | 3/8 [00:00<00:01,  4.08it/s]"
          ]
        },
        {
          "name": "stdout",
          "output_type": "stream",
          "text": [
            " global_steps : 27\n"
          ]
        },
        {
          "name": "stderr",
          "output_type": "stream",
          "text": [
            "4epoch   28step | loss:  2.9389 :  50%|█████     | 4/8 [00:01<00:01,  3.75it/s]"
          ]
        },
        {
          "name": "stdout",
          "output_type": "stream",
          "text": [
            " global_steps : 28\n"
          ]
        },
        {
          "name": "stderr",
          "output_type": "stream",
          "text": [
            "4epoch   29step | loss:  2.9376 :  62%|██████▎   | 5/8 [00:01<00:00,  3.66it/s]"
          ]
        },
        {
          "name": "stdout",
          "output_type": "stream",
          "text": [
            " global_steps : 29\n"
          ]
        },
        {
          "name": "stderr",
          "output_type": "stream",
          "text": [
            "epoch 4 loss: 2.9341: 100%|██████████| 2/2 [00:00<00:00, 22.06it/s]\n"
          ]
        },
        {
          "name": "stdout",
          "output_type": "stream",
          "text": [
            "validation multi-class accuracy = 0.1129, f1 score = 0.0498\n",
            "              precision    recall  f1-score   support\n",
            "\n",
            "           0       0.00      0.00      0.00         3\n",
            "           1       0.00      0.00      0.00         3\n",
            "           2       0.00      0.00      0.00         2\n",
            "           3       0.00      0.00      0.00         3\n",
            "           4       0.07      1.00      0.14         4\n",
            "           5       0.00      0.00      0.00         4\n",
            "           6       0.00      0.00      0.00         3\n",
            "           7       0.00      0.00      0.00         3\n",
            "           8       0.00      0.00      0.00         3\n",
            "           9       0.00      0.00      0.00         3\n",
            "          10       0.29      0.33      0.31         6\n",
            "          11       1.00      0.33      0.50         3\n",
            "          12       0.00      0.00      0.00         2\n",
            "          13       0.00      0.00      0.00         2\n",
            "          14       0.00      0.00      0.00         4\n",
            "          15       0.00      0.00      0.00         4\n",
            "          16       0.00      0.00      0.00         3\n",
            "          17       0.00      0.00      0.00         4\n",
            "          18       0.00      0.00      0.00         3\n",
            "\n",
            "    accuracy                           0.11        62\n",
            "   macro avg       0.07      0.09      0.05        62\n",
            "weighted avg       0.08      0.11      0.06        62\n",
            "\n"
          ]
        },
        {
          "name": "stderr",
          "output_type": "stream",
          "text": [
            "\r4epoch   30step | loss:  2.9237 :  75%|███████▌  | 6/8 [00:07<00:04,  2.24s/it]"
          ]
        },
        {
          "name": "stdout",
          "output_type": "stream",
          "text": [
            "eval/acc : 0.11290322580645161, eval/f1 : 0.04976964958816139, global_steps: 30\n"
          ]
        },
        {
          "name": "stderr",
          "output_type": "stream",
          "text": [
            "4epoch   31step | loss:  2.9249 :  88%|████████▊ | 7/8 [00:07<00:01,  1.63s/it]"
          ]
        },
        {
          "name": "stdout",
          "output_type": "stream",
          "text": [
            " global_steps : 31\n"
          ]
        },
        {
          "name": "stderr",
          "output_type": "stream",
          "text": [
            "4epoch   32step | loss:  2.9241 : 100%|██████████| 8/8 [00:08<00:00,  1.00s/it]\n"
          ]
        },
        {
          "name": "stdout",
          "output_type": "stream",
          "text": [
            " global_steps : 32\n"
          ]
        },
        {
          "name": "stderr",
          "output_type": "stream",
          "text": [
            "5epoch   33step | loss:  2.9618 :  12%|█▎        | 1/8 [00:00<00:02,  3.22it/s]"
          ]
        },
        {
          "name": "stdout",
          "output_type": "stream",
          "text": [
            " global_steps : 33\n"
          ]
        },
        {
          "name": "stderr",
          "output_type": "stream",
          "text": [
            "5epoch   34step | loss:  2.9308 :  25%|██▌       | 2/8 [00:00<00:01,  3.17it/s]"
          ]
        },
        {
          "name": "stdout",
          "output_type": "stream",
          "text": [
            " global_steps : 34\n"
          ]
        },
        {
          "name": "stderr",
          "output_type": "stream",
          "text": [
            "5epoch   35step | loss:  2.9360 :  38%|███▊      | 3/8 [00:00<00:01,  3.14it/s]"
          ]
        },
        {
          "name": "stdout",
          "output_type": "stream",
          "text": [
            " global_steps : 35\n"
          ]
        },
        {
          "name": "stderr",
          "output_type": "stream",
          "text": [
            "5epoch   36step | loss:  2.9557 :  50%|█████     | 4/8 [00:01<00:01,  3.16it/s]"
          ]
        },
        {
          "name": "stdout",
          "output_type": "stream",
          "text": [
            " global_steps : 36\n"
          ]
        },
        {
          "name": "stderr",
          "output_type": "stream",
          "text": [
            "5epoch   37step | loss:  2.9242 :  62%|██████▎   | 5/8 [00:01<00:00,  3.25it/s]"
          ]
        },
        {
          "name": "stdout",
          "output_type": "stream",
          "text": [
            " global_steps : 37\n"
          ]
        },
        {
          "name": "stderr",
          "output_type": "stream",
          "text": [
            "5epoch   38step | loss:  2.9328 :  75%|███████▌  | 6/8 [00:01<00:00,  3.22it/s]"
          ]
        },
        {
          "name": "stdout",
          "output_type": "stream",
          "text": [
            " global_steps : 38\n"
          ]
        },
        {
          "name": "stderr",
          "output_type": "stream",
          "text": [
            "5epoch   39step | loss:  2.9240 :  88%|████████▊ | 7/8 [00:02<00:00,  2.99it/s]"
          ]
        },
        {
          "name": "stdout",
          "output_type": "stream",
          "text": [
            " global_steps : 39\n"
          ]
        },
        {
          "name": "stderr",
          "output_type": "stream",
          "text": [
            "5epoch   40step | loss:  2.9143 : 100%|██████████| 8/8 [00:02<00:00,  3.16it/s]\n"
          ]
        },
        {
          "name": "stdout",
          "output_type": "stream",
          "text": [
            " global_steps : 40\n"
          ]
        },
        {
          "name": "stderr",
          "output_type": "stream",
          "text": [
            "6epoch   41step | loss:  2.9205 :  12%|█▎        | 1/8 [00:00<00:02,  3.24it/s]"
          ]
        },
        {
          "name": "stdout",
          "output_type": "stream",
          "text": [
            " global_steps : 41\n"
          ]
        },
        {
          "name": "stderr",
          "output_type": "stream",
          "text": [
            "6epoch   42step | loss:  2.9232 :  25%|██▌       | 2/8 [00:00<00:01,  3.05it/s]"
          ]
        },
        {
          "name": "stdout",
          "output_type": "stream",
          "text": [
            " global_steps : 42\n"
          ]
        },
        {
          "name": "stderr",
          "output_type": "stream",
          "text": [
            "6epoch   43step | loss:  2.8749 :  38%|███▊      | 3/8 [00:00<00:01,  3.13it/s]"
          ]
        },
        {
          "name": "stdout",
          "output_type": "stream",
          "text": [
            " global_steps : 43\n"
          ]
        },
        {
          "name": "stderr",
          "output_type": "stream",
          "text": [
            "6epoch   44step | loss:  2.9103 :  50%|█████     | 4/8 [00:01<00:01,  3.22it/s]"
          ]
        },
        {
          "name": "stdout",
          "output_type": "stream",
          "text": [
            " global_steps : 44\n"
          ]
        },
        {
          "name": "stderr",
          "output_type": "stream",
          "text": [
            "epoch 6 loss: 2.9237: 100%|██████████| 2/2 [00:00<00:00, 21.12it/s]\n",
            "6epoch   45step | loss:  2.9160 :  62%|██████▎   | 5/8 [00:01<00:01,  2.95it/s]"
          ]
        },
        {
          "name": "stdout",
          "output_type": "stream",
          "text": [
            "validation multi-class accuracy = 0.1129, f1 score = 0.0216\n",
            "              precision    recall  f1-score   support\n",
            "\n",
            "           0       0.00      0.00      0.00         3\n",
            "           1       0.00      0.00      0.00         3\n",
            "           2       0.00      0.00      0.00         2\n",
            "           3       0.00      0.00      0.00         3\n",
            "           4       0.08      0.75      0.14         4\n",
            "           5       0.00      0.00      0.00         4\n",
            "           6       0.00      0.00      0.00         3\n",
            "           7       0.00      0.00      0.00         3\n",
            "           8       0.00      0.00      0.00         3\n",
            "           9       0.00      0.00      0.00         3\n",
            "          10       0.17      0.67      0.27         6\n",
            "          11       0.00      0.00      0.00         3\n",
            "          12       0.00      0.00      0.00         2\n",
            "          13       0.00      0.00      0.00         2\n",
            "          14       0.00      0.00      0.00         4\n",
            "          15       0.00      0.00      0.00         4\n",
            "          16       0.00      0.00      0.00         3\n",
            "          17       0.00      0.00      0.00         4\n",
            "          18       0.00      0.00      0.00         3\n",
            "\n",
            "    accuracy                           0.11        62\n",
            "   macro avg       0.01      0.07      0.02        62\n",
            "weighted avg       0.02      0.11      0.04        62\n",
            "\n",
            "eval/acc : 0.11290322580645161, eval/f1 : 0.021553884711779447, global_steps: 45\n"
          ]
        },
        {
          "name": "stderr",
          "output_type": "stream",
          "text": [
            "6epoch   46step | loss:  2.9058 :  75%|███████▌  | 6/8 [00:01<00:00,  3.07it/s]"
          ]
        },
        {
          "name": "stdout",
          "output_type": "stream",
          "text": [
            " global_steps : 46\n"
          ]
        },
        {
          "name": "stderr",
          "output_type": "stream",
          "text": [
            "6epoch   48step | loss:  2.8983 : 100%|██████████| 8/8 [00:02<00:00,  3.39it/s]\n"
          ]
        },
        {
          "name": "stdout",
          "output_type": "stream",
          "text": [
            " global_steps : 47\n",
            " global_steps : 48\n"
          ]
        },
        {
          "name": "stderr",
          "output_type": "stream",
          "text": [
            "7epoch   49step | loss:  2.8844 :  12%|█▎        | 1/8 [00:00<00:02,  3.24it/s]"
          ]
        },
        {
          "name": "stdout",
          "output_type": "stream",
          "text": [
            " global_steps : 49\n"
          ]
        },
        {
          "name": "stderr",
          "output_type": "stream",
          "text": [
            "7epoch   50step | loss:  2.8849 :  25%|██▌       | 2/8 [00:00<00:01,  3.32it/s]"
          ]
        },
        {
          "name": "stdout",
          "output_type": "stream",
          "text": [
            " global_steps : 50\n"
          ]
        },
        {
          "name": "stderr",
          "output_type": "stream",
          "text": [
            "7epoch   51step | loss:  2.8760 :  38%|███▊      | 3/8 [00:00<00:01,  3.41it/s]"
          ]
        },
        {
          "name": "stdout",
          "output_type": "stream",
          "text": [
            " global_steps : 51\n"
          ]
        },
        {
          "name": "stderr",
          "output_type": "stream",
          "text": [
            "7epoch   52step | loss:  2.8717 :  50%|█████     | 4/8 [00:01<00:01,  3.40it/s]"
          ]
        },
        {
          "name": "stdout",
          "output_type": "stream",
          "text": [
            " global_steps : 52\n"
          ]
        },
        {
          "name": "stderr",
          "output_type": "stream",
          "text": [
            "7epoch   53step | loss:  2.8697 :  62%|██████▎   | 5/8 [00:01<00:00,  3.42it/s]"
          ]
        },
        {
          "name": "stdout",
          "output_type": "stream",
          "text": [
            " global_steps : 53\n"
          ]
        },
        {
          "name": "stderr",
          "output_type": "stream",
          "text": [
            "7epoch   54step | loss:  2.8653 :  75%|███████▌  | 6/8 [00:01<00:00,  3.12it/s]"
          ]
        },
        {
          "name": "stdout",
          "output_type": "stream",
          "text": [
            " global_steps : 54\n"
          ]
        },
        {
          "name": "stderr",
          "output_type": "stream",
          "text": [
            "7epoch   55step | loss:  2.8676 :  88%|████████▊ | 7/8 [00:02<00:00,  3.20it/s]"
          ]
        },
        {
          "name": "stdout",
          "output_type": "stream",
          "text": [
            " global_steps : 55\n"
          ]
        },
        {
          "name": "stderr",
          "output_type": "stream",
          "text": [
            "7epoch   56step | loss:  2.8751 : 100%|██████████| 8/8 [00:02<00:00,  3.32it/s]\n"
          ]
        },
        {
          "name": "stdout",
          "output_type": "stream",
          "text": [
            " global_steps : 56\n"
          ]
        },
        {
          "name": "stderr",
          "output_type": "stream",
          "text": [
            "8epoch   57step | loss:  2.9415 :  12%|█▎        | 1/8 [00:00<00:02,  3.49it/s]"
          ]
        },
        {
          "name": "stdout",
          "output_type": "stream",
          "text": [
            " global_steps : 57\n"
          ]
        },
        {
          "name": "stderr",
          "output_type": "stream",
          "text": [
            "8epoch   58step | loss:  2.8718 :  25%|██▌       | 2/8 [00:00<00:01,  3.51it/s]"
          ]
        },
        {
          "name": "stdout",
          "output_type": "stream",
          "text": [
            " global_steps : 58\n"
          ]
        },
        {
          "name": "stderr",
          "output_type": "stream",
          "text": [
            "8epoch   59step | loss:  2.8510 :  38%|███▊      | 3/8 [00:00<00:01,  3.40it/s]"
          ]
        },
        {
          "name": "stdout",
          "output_type": "stream",
          "text": [
            " global_steps : 59\n"
          ]
        },
        {
          "name": "stderr",
          "output_type": "stream",
          "text": [
            "epoch 8 loss: 2.8992: 100%|██████████| 2/2 [00:00<00:00, 21.61it/s]\n",
            "8epoch   60step | loss:  2.8500 :  50%|█████     | 4/8 [00:01<00:01,  2.90it/s]"
          ]
        },
        {
          "name": "stdout",
          "output_type": "stream",
          "text": [
            "validation multi-class accuracy = 0.1129, f1 score = 0.0221\n",
            "              precision    recall  f1-score   support\n",
            "\n",
            "           0       0.00      0.00      0.00         3\n",
            "           1       0.00      0.00      0.00         3\n",
            "           2       0.00      0.00      0.00         2\n",
            "           3       0.00      0.00      0.00         3\n",
            "           4       0.05      0.50      0.10         4\n",
            "           5       0.00      0.00      0.00         4\n",
            "           6       0.00      0.00      0.00         3\n",
            "           7       0.00      0.00      0.00         3\n",
            "           8       0.00      0.00      0.00         3\n",
            "           9       0.00      0.00      0.00         3\n",
            "          10       0.20      0.83      0.32         6\n",
            "          11       0.00      0.00      0.00         3\n",
            "          12       0.00      0.00      0.00         2\n",
            "          13       0.00      0.00      0.00         2\n",
            "          14       0.00      0.00      0.00         4\n",
            "          15       0.00      0.00      0.00         4\n",
            "          16       0.00      0.00      0.00         3\n",
            "          17       0.00      0.00      0.00         4\n",
            "          18       0.00      0.00      0.00         3\n",
            "\n",
            "    accuracy                           0.11        62\n",
            "   macro avg       0.01      0.07      0.02        62\n",
            "weighted avg       0.02      0.11      0.04        62\n",
            "\n",
            "eval/acc : 0.11290322580645161, eval/f1 : 0.022112716882686654, global_steps: 60\n"
          ]
        },
        {
          "name": "stderr",
          "output_type": "stream",
          "text": [
            "8epoch   61step | loss:  2.8613 :  62%|██████▎   | 5/8 [00:01<00:01,  2.97it/s]"
          ]
        },
        {
          "name": "stdout",
          "output_type": "stream",
          "text": [
            " global_steps : 61\n"
          ]
        },
        {
          "name": "stderr",
          "output_type": "stream",
          "text": [
            "8epoch   62step | loss:  2.8615 :  75%|███████▌  | 6/8 [00:02<00:00,  2.71it/s]"
          ]
        },
        {
          "name": "stdout",
          "output_type": "stream",
          "text": [
            " global_steps : 62\n"
          ]
        },
        {
          "name": "stderr",
          "output_type": "stream",
          "text": [
            "8epoch   63step | loss:  2.8656 :  88%|████████▊ | 7/8 [00:02<00:00,  2.75it/s]"
          ]
        },
        {
          "name": "stdout",
          "output_type": "stream",
          "text": [
            " global_steps : 63\n"
          ]
        },
        {
          "name": "stderr",
          "output_type": "stream",
          "text": [
            "8epoch   64step | loss:  2.8669 : 100%|██████████| 8/8 [00:02<00:00,  2.94it/s]\n"
          ]
        },
        {
          "name": "stdout",
          "output_type": "stream",
          "text": [
            " global_steps : 64\n"
          ]
        },
        {
          "name": "stderr",
          "output_type": "stream",
          "text": [
            "9epoch   65step | loss:  2.8051 :  12%|█▎        | 1/8 [00:00<00:02,  3.27it/s]"
          ]
        },
        {
          "name": "stdout",
          "output_type": "stream",
          "text": [
            " global_steps : 65\n"
          ]
        },
        {
          "name": "stderr",
          "output_type": "stream",
          "text": [
            "9epoch   66step | loss:  2.8255 :  25%|██▌       | 2/8 [00:00<00:01,  3.13it/s]"
          ]
        },
        {
          "name": "stdout",
          "output_type": "stream",
          "text": [
            " global_steps : 66\n"
          ]
        },
        {
          "name": "stderr",
          "output_type": "stream",
          "text": [
            "9epoch   67step | loss:  2.8391 :  38%|███▊      | 3/8 [00:00<00:01,  2.99it/s]"
          ]
        },
        {
          "name": "stdout",
          "output_type": "stream",
          "text": [
            " global_steps : 67\n"
          ]
        },
        {
          "name": "stderr",
          "output_type": "stream",
          "text": [
            "9epoch   68step | loss:  2.8179 :  50%|█████     | 4/8 [00:01<00:01,  3.16it/s]"
          ]
        },
        {
          "name": "stdout",
          "output_type": "stream",
          "text": [
            " global_steps : 68\n"
          ]
        },
        {
          "name": "stderr",
          "output_type": "stream",
          "text": [
            "9epoch   69step | loss:  2.8354 :  62%|██████▎   | 5/8 [00:01<00:00,  3.04it/s]"
          ]
        },
        {
          "name": "stdout",
          "output_type": "stream",
          "text": [
            " global_steps : 69\n"
          ]
        },
        {
          "name": "stderr",
          "output_type": "stream",
          "text": [
            "9epoch   70step | loss:  2.8292 :  75%|███████▌  | 6/8 [00:01<00:00,  2.97it/s]"
          ]
        },
        {
          "name": "stdout",
          "output_type": "stream",
          "text": [
            " global_steps : 70\n"
          ]
        },
        {
          "name": "stderr",
          "output_type": "stream",
          "text": [
            "9epoch   71step | loss:  2.8382 :  88%|████████▊ | 7/8 [00:02<00:00,  3.03it/s]"
          ]
        },
        {
          "name": "stdout",
          "output_type": "stream",
          "text": [
            " global_steps : 71\n"
          ]
        },
        {
          "name": "stderr",
          "output_type": "stream",
          "text": [
            "9epoch   72step | loss:  2.8423 : 100%|██████████| 8/8 [00:02<00:00,  3.11it/s]\n"
          ]
        },
        {
          "name": "stdout",
          "output_type": "stream",
          "text": [
            " global_steps : 72\n"
          ]
        },
        {
          "name": "stderr",
          "output_type": "stream",
          "text": [
            "10epoch   73step | loss:  2.8561 :  12%|█▎        | 1/8 [00:00<00:02,  2.74it/s]"
          ]
        },
        {
          "name": "stdout",
          "output_type": "stream",
          "text": [
            " global_steps : 73\n"
          ]
        },
        {
          "name": "stderr",
          "output_type": "stream",
          "text": [
            "10epoch   74step | loss:  2.8566 :  25%|██▌       | 2/8 [00:00<00:02,  2.86it/s]"
          ]
        },
        {
          "name": "stdout",
          "output_type": "stream",
          "text": [
            " global_steps : 74\n"
          ]
        },
        {
          "name": "stderr",
          "output_type": "stream",
          "text": [
            "epoch 10 loss: 2.8629: 100%|██████████| 2/2 [00:00<00:00, 19.02it/s]\n",
            "10epoch   75step | loss:  2.8086 :  38%|███▊      | 3/8 [00:01<00:02,  2.23it/s]"
          ]
        },
        {
          "name": "stdout",
          "output_type": "stream",
          "text": [
            "validation multi-class accuracy = 0.1129, f1 score = 0.0202\n",
            "              precision    recall  f1-score   support\n",
            "\n",
            "           0       0.00      0.00      0.00         3\n",
            "           1       0.00      0.00      0.00         3\n",
            "           2       0.00      0.00      0.00         2\n",
            "           3       0.00      0.00      0.00         3\n",
            "           4       0.06      0.50      0.11         4\n",
            "           5       0.00      0.00      0.00         4\n",
            "           6       0.00      0.00      0.00         3\n",
            "           7       0.00      0.00      0.00         3\n",
            "           8       0.00      0.00      0.00         3\n",
            "           9       0.00      0.00      0.00         3\n",
            "          10       0.16      0.83      0.27         6\n",
            "          11       0.00      0.00      0.00         3\n",
            "          12       0.00      0.00      0.00         2\n",
            "          13       0.00      0.00      0.00         2\n",
            "          14       0.00      0.00      0.00         4\n",
            "          15       0.00      0.00      0.00         4\n",
            "          16       0.00      0.00      0.00         3\n",
            "          17       0.00      0.00      0.00         4\n",
            "          18       0.00      0.00      0.00         3\n",
            "\n",
            "    accuracy                           0.11        62\n",
            "   macro avg       0.01      0.07      0.02        62\n",
            "weighted avg       0.02      0.11      0.03        62\n",
            "\n",
            "eval/acc : 0.11290322580645161, eval/f1 : 0.02023978866084129, global_steps: 75\n"
          ]
        },
        {
          "name": "stderr",
          "output_type": "stream",
          "text": [
            "10epoch   76step | loss:  2.8103 :  50%|█████     | 4/8 [00:01<00:01,  2.44it/s]"
          ]
        },
        {
          "name": "stdout",
          "output_type": "stream",
          "text": [
            " global_steps : 76\n"
          ]
        },
        {
          "name": "stderr",
          "output_type": "stream",
          "text": [
            "10epoch   77step | loss:  2.8137 :  62%|██████▎   | 5/8 [00:01<00:01,  2.62it/s]"
          ]
        },
        {
          "name": "stdout",
          "output_type": "stream",
          "text": [
            " global_steps : 77\n"
          ]
        },
        {
          "name": "stderr",
          "output_type": "stream",
          "text": [
            "10epoch   78step | loss:  2.7963 :  75%|███████▌  | 6/8 [00:02<00:00,  2.81it/s]"
          ]
        },
        {
          "name": "stdout",
          "output_type": "stream",
          "text": [
            " global_steps : 78\n"
          ]
        },
        {
          "name": "stderr",
          "output_type": "stream",
          "text": [
            "10epoch   79step | loss:  2.8009 :  88%|████████▊ | 7/8 [00:02<00:00,  2.83it/s]"
          ]
        },
        {
          "name": "stdout",
          "output_type": "stream",
          "text": [
            " global_steps : 79\n"
          ]
        },
        {
          "name": "stderr",
          "output_type": "stream",
          "text": [
            "10epoch   80step | loss:  2.8018 : 100%|██████████| 8/8 [00:02<00:00,  2.74it/s]\n"
          ]
        },
        {
          "name": "stdout",
          "output_type": "stream",
          "text": [
            " global_steps : 80\n"
          ]
        },
        {
          "name": "stderr",
          "output_type": "stream",
          "text": [
            "11epoch   81step | loss:  2.6831 :  12%|█▎        | 1/8 [00:00<00:01,  6.70it/s]"
          ]
        },
        {
          "name": "stdout",
          "output_type": "stream",
          "text": [
            " global_steps : 81\n"
          ]
        },
        {
          "name": "stderr",
          "output_type": "stream",
          "text": [
            "11epoch   82step | loss:  2.7657 :  25%|██▌       | 2/8 [00:00<00:01,  3.61it/s]"
          ]
        },
        {
          "name": "stdout",
          "output_type": "stream",
          "text": [
            " global_steps : 82\n"
          ]
        },
        {
          "name": "stderr",
          "output_type": "stream",
          "text": [
            "11epoch   83step | loss:  2.7976 :  38%|███▊      | 3/8 [00:00<00:01,  3.50it/s]"
          ]
        },
        {
          "name": "stdout",
          "output_type": "stream",
          "text": [
            " global_steps : 83\n"
          ]
        },
        {
          "name": "stderr",
          "output_type": "stream",
          "text": [
            "11epoch   84step | loss:  2.8019 :  50%|█████     | 4/8 [00:01<00:01,  3.20it/s]"
          ]
        },
        {
          "name": "stdout",
          "output_type": "stream",
          "text": [
            " global_steps : 84\n"
          ]
        },
        {
          "name": "stderr",
          "output_type": "stream",
          "text": [
            "11epoch   85step | loss:  2.7771 :  62%|██████▎   | 5/8 [00:01<00:01,  2.91it/s]"
          ]
        },
        {
          "name": "stdout",
          "output_type": "stream",
          "text": [
            " global_steps : 85\n"
          ]
        },
        {
          "name": "stderr",
          "output_type": "stream",
          "text": [
            "11epoch   86step | loss:  2.7675 :  75%|███████▌  | 6/8 [00:01<00:00,  3.07it/s]"
          ]
        },
        {
          "name": "stdout",
          "output_type": "stream",
          "text": [
            " global_steps : 86\n"
          ]
        },
        {
          "name": "stderr",
          "output_type": "stream",
          "text": [
            "11epoch   87step | loss:  2.7688 :  88%|████████▊ | 7/8 [00:02<00:00,  3.08it/s]"
          ]
        },
        {
          "name": "stdout",
          "output_type": "stream",
          "text": [
            " global_steps : 87\n"
          ]
        },
        {
          "name": "stderr",
          "output_type": "stream",
          "text": [
            "11epoch   88step | loss:  2.7758 : 100%|██████████| 8/8 [00:02<00:00,  3.24it/s]\n"
          ]
        },
        {
          "name": "stdout",
          "output_type": "stream",
          "text": [
            " global_steps : 88\n"
          ]
        },
        {
          "name": "stderr",
          "output_type": "stream",
          "text": [
            "12epoch   89step | loss:  2.7993 :  12%|█▎        | 1/8 [00:00<00:02,  2.96it/s]"
          ]
        },
        {
          "name": "stdout",
          "output_type": "stream",
          "text": [
            " global_steps : 89\n"
          ]
        },
        {
          "name": "stderr",
          "output_type": "stream",
          "text": [
            "epoch 12 loss: 2.8473: 100%|██████████| 2/2 [00:00<00:00, 21.30it/s]\n",
            "12epoch   90step | loss:  2.8275 :  25%|██▌       | 2/8 [00:00<00:02,  2.35it/s]"
          ]
        },
        {
          "name": "stdout",
          "output_type": "stream",
          "text": [
            "validation multi-class accuracy = 0.1129, f1 score = 0.0211\n",
            "              precision    recall  f1-score   support\n",
            "\n",
            "           0       0.00      0.00      0.00         3\n",
            "           1       0.00      0.00      0.00         3\n",
            "           2       0.00      0.00      0.00         2\n",
            "           3       0.00      0.00      0.00         3\n",
            "           4       0.08      0.75      0.15         4\n",
            "           5       0.00      0.00      0.00         4\n",
            "           6       0.00      0.00      0.00         3\n",
            "           7       0.00      0.00      0.00         3\n",
            "           8       0.00      0.00      0.00         3\n",
            "           9       0.00      0.00      0.00         3\n",
            "          10       0.15      0.67      0.25         6\n",
            "          11       0.00      0.00      0.00         3\n",
            "          12       0.00      0.00      0.00         2\n",
            "          13       0.00      0.00      0.00         2\n",
            "          14       0.00      0.00      0.00         4\n",
            "          15       0.00      0.00      0.00         4\n",
            "          16       0.00      0.00      0.00         3\n",
            "          17       0.00      0.00      0.00         4\n",
            "          18       0.00      0.00      0.00         3\n",
            "\n",
            "    accuracy                           0.11        62\n",
            "   macro avg       0.01      0.07      0.02        62\n",
            "weighted avg       0.02      0.11      0.03        62\n",
            "\n",
            "eval/acc : 0.11290322580645161, eval/f1 : 0.021052631578947368, global_steps: 90\n"
          ]
        },
        {
          "name": "stderr",
          "output_type": "stream",
          "text": [
            "12epoch   91step | loss:  2.8087 :  38%|███▊      | 3/8 [00:01<00:01,  2.58it/s]"
          ]
        },
        {
          "name": "stdout",
          "output_type": "stream",
          "text": [
            " global_steps : 91\n"
          ]
        },
        {
          "name": "stderr",
          "output_type": "stream",
          "text": [
            "12epoch   92step | loss:  2.7997 :  50%|█████     | 4/8 [00:01<00:01,  2.77it/s]"
          ]
        },
        {
          "name": "stdout",
          "output_type": "stream",
          "text": [
            " global_steps : 92\n"
          ]
        },
        {
          "name": "stderr",
          "output_type": "stream",
          "text": [
            "12epoch   93step | loss:  2.7658 :  62%|██████▎   | 5/8 [00:01<00:01,  2.93it/s]"
          ]
        },
        {
          "name": "stdout",
          "output_type": "stream",
          "text": [
            " global_steps : 93\n"
          ]
        },
        {
          "name": "stderr",
          "output_type": "stream",
          "text": [
            "12epoch   94step | loss:  2.7578 :  75%|███████▌  | 6/8 [00:02<00:00,  3.05it/s]"
          ]
        },
        {
          "name": "stdout",
          "output_type": "stream",
          "text": [
            " global_steps : 94\n"
          ]
        },
        {
          "name": "stderr",
          "output_type": "stream",
          "text": [
            "12epoch   95step | loss:  2.7511 :  88%|████████▊ | 7/8 [00:02<00:00,  2.99it/s]"
          ]
        },
        {
          "name": "stdout",
          "output_type": "stream",
          "text": [
            " global_steps : 95\n"
          ]
        },
        {
          "name": "stderr",
          "output_type": "stream",
          "text": [
            "12epoch   96step | loss:  2.7530 : 100%|██████████| 8/8 [00:02<00:00,  2.87it/s]\n"
          ]
        },
        {
          "name": "stdout",
          "output_type": "stream",
          "text": [
            " global_steps : 96\n"
          ]
        },
        {
          "name": "stderr",
          "output_type": "stream",
          "text": [
            "13epoch   97step | loss:  2.7038 :  12%|█▎        | 1/8 [00:00<00:02,  3.03it/s]"
          ]
        },
        {
          "name": "stdout",
          "output_type": "stream",
          "text": [
            " global_steps : 97\n"
          ]
        },
        {
          "name": "stderr",
          "output_type": "stream",
          "text": [
            "13epoch   98step | loss:  2.7246 :  25%|██▌       | 2/8 [00:00<00:02,  2.67it/s]"
          ]
        },
        {
          "name": "stdout",
          "output_type": "stream",
          "text": [
            " global_steps : 98\n"
          ]
        },
        {
          "name": "stderr",
          "output_type": "stream",
          "text": [
            "13epoch   99step | loss:  2.7532 :  38%|███▊      | 3/8 [00:01<00:01,  2.92it/s]"
          ]
        },
        {
          "name": "stdout",
          "output_type": "stream",
          "text": [
            " global_steps : 99\n"
          ]
        },
        {
          "name": "stderr",
          "output_type": "stream",
          "text": [
            "13epoch  100step | loss:  2.7527 :  50%|█████     | 4/8 [00:01<00:01,  2.95it/s]"
          ]
        },
        {
          "name": "stdout",
          "output_type": "stream",
          "text": [
            " global_steps : 100\n"
          ]
        },
        {
          "name": "stderr",
          "output_type": "stream",
          "text": [
            "13epoch  101step | loss:  2.7375 :  62%|██████▎   | 5/8 [00:01<00:00,  3.04it/s]"
          ]
        },
        {
          "name": "stdout",
          "output_type": "stream",
          "text": [
            " global_steps : 101\n"
          ]
        },
        {
          "name": "stderr",
          "output_type": "stream",
          "text": [
            "13epoch  102step | loss:  2.7359 :  75%|███████▌  | 6/8 [00:02<00:00,  3.05it/s]"
          ]
        },
        {
          "name": "stdout",
          "output_type": "stream",
          "text": [
            " global_steps : 102\n"
          ]
        },
        {
          "name": "stderr",
          "output_type": "stream",
          "text": [
            "13epoch  103step | loss:  2.7203 :  88%|████████▊ | 7/8 [00:02<00:00,  3.05it/s]"
          ]
        },
        {
          "name": "stdout",
          "output_type": "stream",
          "text": [
            " global_steps : 103\n"
          ]
        },
        {
          "name": "stderr",
          "output_type": "stream",
          "text": [
            "13epoch  104step | loss:  2.7197 : 100%|██████████| 8/8 [00:02<00:00,  2.89it/s]\n"
          ]
        },
        {
          "name": "stdout",
          "output_type": "stream",
          "text": [
            " global_steps : 104\n"
          ]
        },
        {
          "name": "stderr",
          "output_type": "stream",
          "text": [
            "epoch 14 loss: 2.7982: 100%|██████████| 2/2 [00:00<00:00, 16.50it/s]\n",
            "14epoch  105step | loss:  2.7305 :  12%|█▎        | 1/8 [00:00<00:03,  1.92it/s]"
          ]
        },
        {
          "name": "stdout",
          "output_type": "stream",
          "text": [
            "validation multi-class accuracy = 0.1290, f1 score = 0.0380\n",
            "              precision    recall  f1-score   support\n",
            "\n",
            "           0       0.00      0.00      0.00         3\n",
            "           1       0.00      0.00      0.00         3\n",
            "           2       0.00      0.00      0.00         2\n",
            "           3       0.00      0.00      0.00         3\n",
            "           4       0.08      0.50      0.14         4\n",
            "           5       0.00      0.00      0.00         4\n",
            "           6       0.00      0.00      0.00         3\n",
            "           7       0.00      0.00      0.00         3\n",
            "           8       0.00      0.00      0.00         3\n",
            "           9       0.00      0.00      0.00         3\n",
            "          10       0.15      0.83      0.25         6\n",
            "          11       0.00      0.00      0.00         3\n",
            "          12       0.00      0.00      0.00         2\n",
            "          13       0.00      0.00      0.00         2\n",
            "          14       0.00      0.00      0.00         4\n",
            "          15       0.50      0.25      0.33         4\n",
            "          16       0.00      0.00      0.00         3\n",
            "          17       0.00      0.00      0.00         4\n",
            "          18       0.00      0.00      0.00         3\n",
            "\n",
            "    accuracy                           0.13        62\n",
            "   macro avg       0.04      0.08      0.04        62\n",
            "weighted avg       0.05      0.13      0.05        62\n",
            "\n",
            "eval/acc : 0.12903225806451613, eval/f1 : 0.03796128251663642, global_steps: 105\n"
          ]
        },
        {
          "name": "stderr",
          "output_type": "stream",
          "text": [
            "14epoch  106step | loss:  2.7330 :  25%|██▌       | 2/8 [00:00<00:02,  2.35it/s]"
          ]
        },
        {
          "name": "stdout",
          "output_type": "stream",
          "text": [
            " global_steps : 106\n"
          ]
        },
        {
          "name": "stderr",
          "output_type": "stream",
          "text": [
            "14epoch  107step | loss:  2.7051 :  38%|███▊      | 3/8 [00:01<00:01,  2.63it/s]"
          ]
        },
        {
          "name": "stdout",
          "output_type": "stream",
          "text": [
            " global_steps : 107\n"
          ]
        },
        {
          "name": "stderr",
          "output_type": "stream",
          "text": [
            "14epoch  108step | loss:  2.7083 :  50%|█████     | 4/8 [00:01<00:01,  2.77it/s]"
          ]
        },
        {
          "name": "stdout",
          "output_type": "stream",
          "text": [
            " global_steps : 108\n"
          ]
        },
        {
          "name": "stderr",
          "output_type": "stream",
          "text": [
            "14epoch  109step | loss:  2.7222 :  62%|██████▎   | 5/8 [00:01<00:01,  2.81it/s]"
          ]
        },
        {
          "name": "stdout",
          "output_type": "stream",
          "text": [
            " global_steps : 109\n"
          ]
        },
        {
          "name": "stderr",
          "output_type": "stream",
          "text": [
            "14epoch  110step | loss:  2.7007 :  75%|███████▌  | 6/8 [00:02<00:00,  2.77it/s]"
          ]
        },
        {
          "name": "stdout",
          "output_type": "stream",
          "text": [
            " global_steps : 110\n"
          ]
        },
        {
          "name": "stderr",
          "output_type": "stream",
          "text": [
            "14epoch  111step | loss:  2.6808 :  88%|████████▊ | 7/8 [00:02<00:00,  2.85it/s]"
          ]
        },
        {
          "name": "stdout",
          "output_type": "stream",
          "text": [
            " global_steps : 111\n"
          ]
        },
        {
          "name": "stderr",
          "output_type": "stream",
          "text": [
            "14epoch  112step | loss:  2.6880 : 100%|██████████| 8/8 [00:02<00:00,  2.70it/s]\n"
          ]
        },
        {
          "name": "stdout",
          "output_type": "stream",
          "text": [
            " global_steps : 112\n"
          ]
        },
        {
          "name": "stderr",
          "output_type": "stream",
          "text": [
            "15epoch  113step | loss:  2.6560 :  12%|█▎        | 1/8 [00:00<00:02,  3.08it/s]"
          ]
        },
        {
          "name": "stdout",
          "output_type": "stream",
          "text": [
            " global_steps : 113\n"
          ]
        },
        {
          "name": "stderr",
          "output_type": "stream",
          "text": [
            "15epoch  114step | loss:  2.6287 :  25%|██▌       | 2/8 [00:00<00:02,  2.72it/s]"
          ]
        },
        {
          "name": "stdout",
          "output_type": "stream",
          "text": [
            " global_steps : 114\n"
          ]
        },
        {
          "name": "stderr",
          "output_type": "stream",
          "text": [
            "15epoch  115step | loss:  2.6295 :  38%|███▊      | 3/8 [00:01<00:01,  2.83it/s]"
          ]
        },
        {
          "name": "stdout",
          "output_type": "stream",
          "text": [
            " global_steps : 115\n"
          ]
        },
        {
          "name": "stderr",
          "output_type": "stream",
          "text": [
            "15epoch  116step | loss:  2.6055 :  50%|█████     | 4/8 [00:01<00:01,  3.04it/s]"
          ]
        },
        {
          "name": "stdout",
          "output_type": "stream",
          "text": [
            " global_steps : 116\n"
          ]
        },
        {
          "name": "stderr",
          "output_type": "stream",
          "text": [
            "15epoch  117step | loss:  2.6163 :  62%|██████▎   | 5/8 [00:01<00:01,  2.98it/s]"
          ]
        },
        {
          "name": "stdout",
          "output_type": "stream",
          "text": [
            " global_steps : 117\n"
          ]
        },
        {
          "name": "stderr",
          "output_type": "stream",
          "text": [
            "15epoch  118step | loss:  2.6158 :  75%|███████▌  | 6/8 [00:01<00:00,  3.12it/s]"
          ]
        },
        {
          "name": "stdout",
          "output_type": "stream",
          "text": [
            " global_steps : 118\n"
          ]
        },
        {
          "name": "stderr",
          "output_type": "stream",
          "text": [
            "15epoch  119step | loss:  2.6136 :  88%|████████▊ | 7/8 [00:02<00:00,  3.16it/s]"
          ]
        },
        {
          "name": "stdout",
          "output_type": "stream",
          "text": [
            " global_steps : 119\n"
          ]
        },
        {
          "name": "stderr",
          "output_type": "stream",
          "text": [
            "epoch 15 loss: 2.7484: 100%|██████████| 2/2 [00:00<00:00, 21.84it/s]\n"
          ]
        },
        {
          "name": "stdout",
          "output_type": "stream",
          "text": [
            "validation multi-class accuracy = 0.1613, f1 score = 0.0546\n",
            "              precision    recall  f1-score   support\n",
            "\n",
            "           0       0.00      0.00      0.00         3\n",
            "           1       0.00      0.00      0.00         3\n",
            "           2       0.00      0.00      0.00         2\n",
            "           3       0.00      0.00      0.00         3\n",
            "           4       0.15      1.00      0.27         4\n",
            "           5       0.00      0.00      0.00         4\n",
            "           6       0.00      0.00      0.00         3\n",
            "           7       0.00      0.00      0.00         3\n",
            "           8       0.00      0.00      0.00         3\n",
            "           9       0.00      0.00      0.00         3\n",
            "          10       0.14      0.67      0.24         6\n",
            "          11       0.00      0.00      0.00         3\n",
            "          12       0.00      0.00      0.00         2\n",
            "          13       0.00      0.00      0.00         2\n",
            "          14       0.33      0.25      0.29         4\n",
            "          15       0.25      0.25      0.25         4\n",
            "          16       0.00      0.00      0.00         3\n",
            "          17       0.00      0.00      0.00         4\n",
            "          18       0.00      0.00      0.00         3\n",
            "\n",
            "    accuracy                           0.16        62\n",
            "   macro avg       0.05      0.11      0.05        62\n",
            "weighted avg       0.06      0.16      0.07        62\n",
            "\n"
          ]
        },
        {
          "name": "stderr",
          "output_type": "stream",
          "text": [
            "15epoch  120step | loss:  2.6124 : 100%|██████████| 8/8 [00:08<00:00,  1.03s/it]\n"
          ]
        },
        {
          "name": "stdout",
          "output_type": "stream",
          "text": [
            "eval/acc : 0.16129032258064516, eval/f1 : 0.05461447736989533, global_steps: 120\n"
          ]
        },
        {
          "name": "stderr",
          "output_type": "stream",
          "text": [
            "16epoch  121step | loss:  2.6454 :  12%|█▎        | 1/8 [00:00<00:02,  3.24it/s]"
          ]
        },
        {
          "name": "stdout",
          "output_type": "stream",
          "text": [
            " global_steps : 121\n"
          ]
        },
        {
          "name": "stderr",
          "output_type": "stream",
          "text": [
            "16epoch  122step | loss:  2.6762 :  25%|██▌       | 2/8 [00:00<00:01,  3.32it/s]"
          ]
        },
        {
          "name": "stdout",
          "output_type": "stream",
          "text": [
            " global_steps : 122\n"
          ]
        },
        {
          "name": "stderr",
          "output_type": "stream",
          "text": [
            "16epoch  123step | loss:  2.6876 :  38%|███▊      | 3/8 [00:00<00:01,  3.41it/s]"
          ]
        },
        {
          "name": "stdout",
          "output_type": "stream",
          "text": [
            " global_steps : 123\n"
          ]
        },
        {
          "name": "stderr",
          "output_type": "stream",
          "text": [
            "16epoch  124step | loss:  2.6733 :  50%|█████     | 4/8 [00:01<00:01,  3.44it/s]"
          ]
        },
        {
          "name": "stdout",
          "output_type": "stream",
          "text": [
            " global_steps : 124\n"
          ]
        },
        {
          "name": "stderr",
          "output_type": "stream",
          "text": [
            "16epoch  125step | loss:  2.6506 :  62%|██████▎   | 5/8 [00:01<00:00,  3.35it/s]"
          ]
        },
        {
          "name": "stdout",
          "output_type": "stream",
          "text": [
            " global_steps : 125\n"
          ]
        },
        {
          "name": "stderr",
          "output_type": "stream",
          "text": [
            "16epoch  126step | loss:  2.6435 :  75%|███████▌  | 6/8 [00:01<00:00,  3.31it/s]"
          ]
        },
        {
          "name": "stdout",
          "output_type": "stream",
          "text": [
            " global_steps : 126\n"
          ]
        },
        {
          "name": "stderr",
          "output_type": "stream",
          "text": [
            "16epoch  127step | loss:  2.6316 :  88%|████████▊ | 7/8 [00:02<00:00,  3.33it/s]"
          ]
        },
        {
          "name": "stdout",
          "output_type": "stream",
          "text": [
            " global_steps : 127\n"
          ]
        },
        {
          "name": "stderr",
          "output_type": "stream",
          "text": [
            "16epoch  128step | loss:  2.6143 : 100%|██████████| 8/8 [00:02<00:00,  3.39it/s]\n"
          ]
        },
        {
          "name": "stdout",
          "output_type": "stream",
          "text": [
            " global_steps : 128\n"
          ]
        },
        {
          "name": "stderr",
          "output_type": "stream",
          "text": [
            "17epoch  129step | loss:  2.5544 :  12%|█▎        | 1/8 [00:00<00:01,  3.52it/s]"
          ]
        },
        {
          "name": "stdout",
          "output_type": "stream",
          "text": [
            " global_steps : 129\n"
          ]
        },
        {
          "name": "stderr",
          "output_type": "stream",
          "text": [
            "17epoch  130step | loss:  2.5655 :  25%|██▌       | 2/8 [00:00<00:01,  3.30it/s]"
          ]
        },
        {
          "name": "stdout",
          "output_type": "stream",
          "text": [
            " global_steps : 130\n"
          ]
        },
        {
          "name": "stderr",
          "output_type": "stream",
          "text": [
            "17epoch  131step | loss:  2.5244 :  38%|███▊      | 3/8 [00:00<00:01,  3.21it/s]"
          ]
        },
        {
          "name": "stdout",
          "output_type": "stream",
          "text": [
            " global_steps : 131\n"
          ]
        },
        {
          "name": "stderr",
          "output_type": "stream",
          "text": [
            "17epoch  132step | loss:  2.5461 :  50%|█████     | 4/8 [00:01<00:01,  3.17it/s]"
          ]
        },
        {
          "name": "stdout",
          "output_type": "stream",
          "text": [
            " global_steps : 132\n"
          ]
        },
        {
          "name": "stderr",
          "output_type": "stream",
          "text": [
            "17epoch  133step | loss:  2.5562 :  62%|██████▎   | 5/8 [00:01<00:00,  3.16it/s]"
          ]
        },
        {
          "name": "stdout",
          "output_type": "stream",
          "text": [
            " global_steps : 133\n"
          ]
        },
        {
          "name": "stderr",
          "output_type": "stream",
          "text": [
            "17epoch  134step | loss:  2.5522 :  75%|███████▌  | 6/8 [00:01<00:00,  3.15it/s]"
          ]
        },
        {
          "name": "stdout",
          "output_type": "stream",
          "text": [
            " global_steps : 134\n"
          ]
        },
        {
          "name": "stderr",
          "output_type": "stream",
          "text": [
            "epoch 17 loss: 2.6977: 100%|██████████| 2/2 [00:00<00:00, 17.82it/s]\n"
          ]
        },
        {
          "name": "stdout",
          "output_type": "stream",
          "text": [
            "validation multi-class accuracy = 0.2097, f1 score = 0.0753\n",
            "              precision    recall  f1-score   support\n",
            "\n",
            "           0       0.00      0.00      0.00         3\n",
            "           1       0.00      0.00      0.00         3\n",
            "           2       0.00      0.00      0.00         2\n",
            "           3       0.00      0.00      0.00         3\n",
            "           4       0.17      1.00      0.29         4\n",
            "           5       0.00      0.00      0.00         4\n",
            "           6       0.00      0.00      0.00         3\n",
            "           7       0.00      0.00      0.00         3\n",
            "           8       0.00      0.00      0.00         3\n",
            "           9       0.00      0.00      0.00         3\n",
            "          10       0.19      0.83      0.31         6\n",
            "          11       0.00      0.00      0.00         3\n",
            "          12       0.00      0.00      0.00         2\n",
            "          13       0.00      0.00      0.00         2\n",
            "          14       0.38      0.75      0.50         4\n",
            "          15       0.50      0.25      0.33         4\n",
            "          16       0.00      0.00      0.00         3\n",
            "          17       0.00      0.00      0.00         4\n",
            "          18       0.00      0.00      0.00         3\n",
            "\n",
            "    accuracy                           0.21        62\n",
            "   macro avg       0.06      0.15      0.08        62\n",
            "weighted avg       0.09      0.21      0.10        62\n",
            "\n"
          ]
        },
        {
          "name": "stderr",
          "output_type": "stream",
          "text": [
            "\r17epoch  135step | loss:  2.5725 :  88%|████████▊ | 7/8 [00:08<00:02,  2.23s/it]"
          ]
        },
        {
          "name": "stdout",
          "output_type": "stream",
          "text": [
            "eval/acc : 0.20967741935483872, eval/f1 : 0.07534461152882206, global_steps: 135\n"
          ]
        },
        {
          "name": "stderr",
          "output_type": "stream",
          "text": [
            "17epoch  136step | loss:  2.5543 : 100%|██████████| 8/8 [00:08<00:00,  1.05s/it]\n"
          ]
        },
        {
          "name": "stdout",
          "output_type": "stream",
          "text": [
            " global_steps : 136\n"
          ]
        },
        {
          "name": "stderr",
          "output_type": "stream",
          "text": [
            "18epoch  137step | loss:  2.4636 :  12%|█▎        | 1/8 [00:00<00:02,  3.33it/s]"
          ]
        },
        {
          "name": "stdout",
          "output_type": "stream",
          "text": [
            " global_steps : 137\n"
          ]
        },
        {
          "name": "stderr",
          "output_type": "stream",
          "text": [
            "18epoch  138step | loss:  2.4684 :  25%|██▌       | 2/8 [00:00<00:01,  3.36it/s]"
          ]
        },
        {
          "name": "stdout",
          "output_type": "stream",
          "text": [
            " global_steps : 138\n"
          ]
        },
        {
          "name": "stderr",
          "output_type": "stream",
          "text": [
            "18epoch  139step | loss:  2.4609 :  38%|███▊      | 3/8 [00:00<00:01,  3.43it/s]"
          ]
        },
        {
          "name": "stdout",
          "output_type": "stream",
          "text": [
            " global_steps : 139\n"
          ]
        },
        {
          "name": "stderr",
          "output_type": "stream",
          "text": [
            "18epoch  140step | loss:  2.5085 :  50%|█████     | 4/8 [00:01<00:01,  3.32it/s]"
          ]
        },
        {
          "name": "stdout",
          "output_type": "stream",
          "text": [
            " global_steps : 140\n"
          ]
        },
        {
          "name": "stderr",
          "output_type": "stream",
          "text": [
            "18epoch  141step | loss:  2.5293 :  62%|██████▎   | 5/8 [00:01<00:00,  3.33it/s]"
          ]
        },
        {
          "name": "stdout",
          "output_type": "stream",
          "text": [
            " global_steps : 141\n"
          ]
        },
        {
          "name": "stderr",
          "output_type": "stream",
          "text": [
            "18epoch  142step | loss:  2.5410 :  75%|███████▌  | 6/8 [00:01<00:00,  3.28it/s]"
          ]
        },
        {
          "name": "stdout",
          "output_type": "stream",
          "text": [
            " global_steps : 142\n"
          ]
        },
        {
          "name": "stderr",
          "output_type": "stream",
          "text": [
            "18epoch  144step | loss:  2.5240 : 100%|██████████| 8/8 [00:02<00:00,  3.62it/s]\n"
          ]
        },
        {
          "name": "stdout",
          "output_type": "stream",
          "text": [
            " global_steps : 143\n",
            " global_steps : 144\n"
          ]
        },
        {
          "name": "stderr",
          "output_type": "stream",
          "text": [
            "19epoch  145step | loss:  2.5663 :  12%|█▎        | 1/8 [00:00<00:02,  2.85it/s]"
          ]
        },
        {
          "name": "stdout",
          "output_type": "stream",
          "text": [
            " global_steps : 145\n"
          ]
        },
        {
          "name": "stderr",
          "output_type": "stream",
          "text": [
            "19epoch  146step | loss:  2.5298 :  25%|██▌       | 2/8 [00:00<00:01,  3.20it/s]"
          ]
        },
        {
          "name": "stdout",
          "output_type": "stream",
          "text": [
            " global_steps : 146\n"
          ]
        },
        {
          "name": "stderr",
          "output_type": "stream",
          "text": [
            "19epoch  147step | loss:  2.5156 :  38%|███▊      | 3/8 [00:00<00:01,  3.23it/s]"
          ]
        },
        {
          "name": "stdout",
          "output_type": "stream",
          "text": [
            " global_steps : 147\n"
          ]
        },
        {
          "name": "stderr",
          "output_type": "stream",
          "text": [
            "19epoch  148step | loss:  2.5036 :  50%|█████     | 4/8 [00:01<00:01,  3.23it/s]"
          ]
        },
        {
          "name": "stdout",
          "output_type": "stream",
          "text": [
            " global_steps : 148\n"
          ]
        },
        {
          "name": "stderr",
          "output_type": "stream",
          "text": [
            "19epoch  149step | loss:  2.4914 :  62%|██████▎   | 5/8 [00:01<00:00,  3.26it/s]"
          ]
        },
        {
          "name": "stdout",
          "output_type": "stream",
          "text": [
            " global_steps : 149\n"
          ]
        },
        {
          "name": "stderr",
          "output_type": "stream",
          "text": [
            "epoch 19 loss: 2.6275: 100%|██████████| 2/2 [00:00<00:00, 20.93it/s]\n"
          ]
        },
        {
          "name": "stdout",
          "output_type": "stream",
          "text": [
            "validation multi-class accuracy = 0.2097, f1 score = 0.1042\n",
            "              precision    recall  f1-score   support\n",
            "\n",
            "           0       0.00      0.00      0.00         3\n",
            "           1       0.00      0.00      0.00         3\n",
            "           2       1.00      0.50      0.67         2\n",
            "           3       0.00      0.00      0.00         3\n",
            "           4       0.17      1.00      0.29         4\n",
            "           5       0.00      0.00      0.00         4\n",
            "           6       0.00      0.00      0.00         3\n",
            "           7       0.00      0.00      0.00         3\n",
            "           8       0.00      0.00      0.00         3\n",
            "           9       0.00      0.00      0.00         3\n",
            "          10       0.17      0.50      0.25         6\n",
            "          11       0.00      0.00      0.00         3\n",
            "          12       0.00      0.00      0.00         2\n",
            "          13       0.00      0.00      0.00         2\n",
            "          14       0.29      1.00      0.44         4\n",
            "          15       0.50      0.25      0.33         4\n",
            "          16       0.00      0.00      0.00         3\n",
            "          17       0.00      0.00      0.00         4\n",
            "          18       0.00      0.00      0.00         3\n",
            "\n",
            "    accuracy                           0.21        62\n",
            "   macro avg       0.11      0.17      0.10        62\n",
            "weighted avg       0.11      0.21      0.11        62\n",
            "\n"
          ]
        },
        {
          "name": "stderr",
          "output_type": "stream",
          "text": [
            "\r19epoch  150step | loss:  2.4865 :  75%|███████▌  | 6/8 [00:07<00:04,  2.35s/it]"
          ]
        },
        {
          "name": "stdout",
          "output_type": "stream",
          "text": [
            "eval/acc : 0.20967741935483872, eval/f1 : 0.10421888053467002, global_steps: 150\n"
          ]
        },
        {
          "name": "stderr",
          "output_type": "stream",
          "text": [
            "19epoch  151step | loss:  2.4889 :  88%|████████▊ | 7/8 [00:08<00:01,  1.68s/it]"
          ]
        },
        {
          "name": "stdout",
          "output_type": "stream",
          "text": [
            " global_steps : 151\n"
          ]
        },
        {
          "name": "stderr",
          "output_type": "stream",
          "text": [
            "19epoch  152step | loss:  2.4858 : 100%|██████████| 8/8 [00:08<00:00,  1.05s/it]\n"
          ]
        },
        {
          "name": "stdout",
          "output_type": "stream",
          "text": [
            " global_steps : 152\n"
          ]
        },
        {
          "name": "stderr",
          "output_type": "stream",
          "text": [
            "20epoch  153step | loss:  2.5648 :  12%|█▎        | 1/8 [00:00<00:02,  3.44it/s]"
          ]
        },
        {
          "name": "stdout",
          "output_type": "stream",
          "text": [
            " global_steps : 153\n"
          ]
        },
        {
          "name": "stderr",
          "output_type": "stream",
          "text": [
            "20epoch  154step | loss:  2.5346 :  25%|██▌       | 2/8 [00:00<00:01,  3.25it/s]"
          ]
        },
        {
          "name": "stdout",
          "output_type": "stream",
          "text": [
            " global_steps : 154\n"
          ]
        },
        {
          "name": "stderr",
          "output_type": "stream",
          "text": [
            "20epoch  155step | loss:  2.5241 :  38%|███▊      | 3/8 [00:00<00:01,  3.29it/s]"
          ]
        },
        {
          "name": "stdout",
          "output_type": "stream",
          "text": [
            " global_steps : 155\n"
          ]
        },
        {
          "name": "stderr",
          "output_type": "stream",
          "text": [
            "20epoch  156step | loss:  2.5275 :  50%|█████     | 4/8 [00:01<00:01,  3.37it/s]"
          ]
        },
        {
          "name": "stdout",
          "output_type": "stream",
          "text": [
            " global_steps : 156\n"
          ]
        },
        {
          "name": "stderr",
          "output_type": "stream",
          "text": [
            "20epoch  157step | loss:  2.5107 :  62%|██████▎   | 5/8 [00:01<00:00,  3.28it/s]"
          ]
        },
        {
          "name": "stdout",
          "output_type": "stream",
          "text": [
            " global_steps : 157\n"
          ]
        },
        {
          "name": "stderr",
          "output_type": "stream",
          "text": [
            "20epoch  158step | loss:  2.4742 :  75%|███████▌  | 6/8 [00:01<00:00,  3.25it/s]"
          ]
        },
        {
          "name": "stdout",
          "output_type": "stream",
          "text": [
            " global_steps : 158\n"
          ]
        },
        {
          "name": "stderr",
          "output_type": "stream",
          "text": [
            "20epoch  159step | loss:  2.4776 :  88%|████████▊ | 7/8 [00:02<00:00,  3.16it/s]"
          ]
        },
        {
          "name": "stdout",
          "output_type": "stream",
          "text": [
            " global_steps : 159\n"
          ]
        },
        {
          "name": "stderr",
          "output_type": "stream",
          "text": [
            "20epoch  160step | loss:  2.4721 : 100%|██████████| 8/8 [00:02<00:00,  3.28it/s]\n"
          ]
        },
        {
          "name": "stdout",
          "output_type": "stream",
          "text": [
            " global_steps : 160\n"
          ]
        },
        {
          "name": "stderr",
          "output_type": "stream",
          "text": [
            "21epoch  161step | loss:  2.3219 :  12%|█▎        | 1/8 [00:00<00:02,  3.40it/s]"
          ]
        },
        {
          "name": "stdout",
          "output_type": "stream",
          "text": [
            " global_steps : 161\n"
          ]
        },
        {
          "name": "stderr",
          "output_type": "stream",
          "text": [
            "21epoch  162step | loss:  2.4232 :  25%|██▌       | 2/8 [00:00<00:01,  3.40it/s]"
          ]
        },
        {
          "name": "stdout",
          "output_type": "stream",
          "text": [
            " global_steps : 162\n"
          ]
        },
        {
          "name": "stderr",
          "output_type": "stream",
          "text": [
            "21epoch  163step | loss:  2.4012 :  38%|███▊      | 3/8 [00:00<00:01,  3.27it/s]"
          ]
        },
        {
          "name": "stdout",
          "output_type": "stream",
          "text": [
            " global_steps : 163\n"
          ]
        },
        {
          "name": "stderr",
          "output_type": "stream",
          "text": [
            "21epoch  164step | loss:  2.3940 :  50%|█████     | 4/8 [00:01<00:01,  3.31it/s]"
          ]
        },
        {
          "name": "stdout",
          "output_type": "stream",
          "text": [
            " global_steps : 164\n"
          ]
        },
        {
          "name": "stderr",
          "output_type": "stream",
          "text": [
            "epoch 21 loss: 2.5622: 100%|██████████| 2/2 [00:00<00:00, 20.95it/s]\n",
            "21epoch  165step | loss:  2.4126 :  62%|██████▎   | 5/8 [00:01<00:01,  2.92it/s]"
          ]
        },
        {
          "name": "stdout",
          "output_type": "stream",
          "text": [
            "validation multi-class accuracy = 0.1935, f1 score = 0.0956\n",
            "              precision    recall  f1-score   support\n",
            "\n",
            "           0       0.00      0.00      0.00         3\n",
            "           1       0.00      0.00      0.00         3\n",
            "           2       1.00      0.50      0.67         2\n",
            "           3       0.00      0.00      0.00         3\n",
            "           4       0.15      1.00      0.27         4\n",
            "           5       0.00      0.00      0.00         4\n",
            "           6       0.00      0.00      0.00         3\n",
            "           7       0.00      0.00      0.00         3\n",
            "           8       0.00      0.00      0.00         3\n",
            "           9       0.00      0.00      0.00         3\n",
            "          10       0.21      0.50      0.30         6\n",
            "          11       0.00      0.00      0.00         3\n",
            "          12       0.00      0.00      0.00         2\n",
            "          13       0.00      0.00      0.00         2\n",
            "          14       0.21      0.75      0.33         4\n",
            "          15       0.25      0.25      0.25         4\n",
            "          16       0.00      0.00      0.00         3\n",
            "          17       0.00      0.00      0.00         4\n",
            "          18       0.00      0.00      0.00         3\n",
            "\n",
            "    accuracy                           0.19        62\n",
            "   macro avg       0.10      0.16      0.10        62\n",
            "weighted avg       0.09      0.19      0.11        62\n",
            "\n",
            "eval/acc : 0.1935483870967742, eval/f1 : 0.09561403508771929, global_steps: 165\n"
          ]
        },
        {
          "name": "stderr",
          "output_type": "stream",
          "text": [
            "21epoch  166step | loss:  2.4400 :  75%|███████▌  | 6/8 [00:01<00:00,  3.00it/s]"
          ]
        },
        {
          "name": "stdout",
          "output_type": "stream",
          "text": [
            " global_steps : 166\n"
          ]
        },
        {
          "name": "stderr",
          "output_type": "stream",
          "text": [
            "21epoch  167step | loss:  2.4376 :  88%|████████▊ | 7/8 [00:02<00:00,  3.08it/s]"
          ]
        },
        {
          "name": "stdout",
          "output_type": "stream",
          "text": [
            " global_steps : 167\n"
          ]
        },
        {
          "name": "stderr",
          "output_type": "stream",
          "text": [
            "21epoch  168step | loss:  2.4325 : 100%|██████████| 8/8 [00:02<00:00,  3.21it/s]\n"
          ]
        },
        {
          "name": "stdout",
          "output_type": "stream",
          "text": [
            " global_steps : 168\n"
          ]
        },
        {
          "name": "stderr",
          "output_type": "stream",
          "text": [
            "22epoch  169step | loss:  2.4141 :  12%|█▎        | 1/8 [00:00<00:01,  3.57it/s]"
          ]
        },
        {
          "name": "stdout",
          "output_type": "stream",
          "text": [
            " global_steps : 169\n"
          ]
        },
        {
          "name": "stderr",
          "output_type": "stream",
          "text": [
            "22epoch  170step | loss:  2.4887 :  25%|██▌       | 2/8 [00:00<00:01,  3.49it/s]"
          ]
        },
        {
          "name": "stdout",
          "output_type": "stream",
          "text": [
            " global_steps : 170\n"
          ]
        },
        {
          "name": "stderr",
          "output_type": "stream",
          "text": [
            "22epoch  171step | loss:  2.4078 :  38%|███▊      | 3/8 [00:00<00:01,  3.34it/s]"
          ]
        },
        {
          "name": "stdout",
          "output_type": "stream",
          "text": [
            " global_steps : 171\n"
          ]
        },
        {
          "name": "stderr",
          "output_type": "stream",
          "text": [
            "22epoch  172step | loss:  2.3925 :  50%|█████     | 4/8 [00:01<00:01,  3.29it/s]"
          ]
        },
        {
          "name": "stdout",
          "output_type": "stream",
          "text": [
            " global_steps : 172\n"
          ]
        },
        {
          "name": "stderr",
          "output_type": "stream",
          "text": [
            "22epoch  173step | loss:  2.3971 :  62%|██████▎   | 5/8 [00:01<00:00,  3.02it/s]"
          ]
        },
        {
          "name": "stdout",
          "output_type": "stream",
          "text": [
            " global_steps : 173\n"
          ]
        },
        {
          "name": "stderr",
          "output_type": "stream",
          "text": [
            "22epoch  174step | loss:  2.3822 :  75%|███████▌  | 6/8 [00:02<00:00,  2.73it/s]"
          ]
        },
        {
          "name": "stdout",
          "output_type": "stream",
          "text": [
            " global_steps : 174\n"
          ]
        },
        {
          "name": "stderr",
          "output_type": "stream",
          "text": [
            "22epoch  175step | loss:  2.3843 :  88%|████████▊ | 7/8 [00:02<00:00,  2.82it/s]"
          ]
        },
        {
          "name": "stdout",
          "output_type": "stream",
          "text": [
            " global_steps : 175\n"
          ]
        },
        {
          "name": "stderr",
          "output_type": "stream",
          "text": [
            "22epoch  176step | loss:  2.3794 : 100%|██████████| 8/8 [00:02<00:00,  2.98it/s]\n"
          ]
        },
        {
          "name": "stdout",
          "output_type": "stream",
          "text": [
            " global_steps : 176\n"
          ]
        },
        {
          "name": "stderr",
          "output_type": "stream",
          "text": [
            "23epoch  177step | loss:  2.2961 :  12%|█▎        | 1/8 [00:00<00:02,  2.68it/s]"
          ]
        },
        {
          "name": "stdout",
          "output_type": "stream",
          "text": [
            " global_steps : 177\n"
          ]
        },
        {
          "name": "stderr",
          "output_type": "stream",
          "text": [
            "23epoch  178step | loss:  2.3466 :  25%|██▌       | 2/8 [00:00<00:02,  2.84it/s]"
          ]
        },
        {
          "name": "stdout",
          "output_type": "stream",
          "text": [
            " global_steps : 178\n"
          ]
        },
        {
          "name": "stderr",
          "output_type": "stream",
          "text": [
            "23epoch  179step | loss:  2.3836 :  38%|███▊      | 3/8 [00:01<00:01,  2.84it/s]"
          ]
        },
        {
          "name": "stdout",
          "output_type": "stream",
          "text": [
            " global_steps : 179\n"
          ]
        },
        {
          "name": "stderr",
          "output_type": "stream",
          "text": [
            "epoch 23 loss: 2.5061: 100%|██████████| 2/2 [00:00<00:00, 19.34it/s]\n"
          ]
        },
        {
          "name": "stdout",
          "output_type": "stream",
          "text": [
            "validation multi-class accuracy = 0.1935, f1 score = 0.1158\n",
            "              precision    recall  f1-score   support\n",
            "\n",
            "           0       0.00      0.00      0.00         3\n",
            "           1       0.00      0.00      0.00         3\n",
            "           2       1.00      0.50      0.67         2\n",
            "           3       1.00      0.33      0.50         3\n",
            "           4       0.17      1.00      0.30         4\n",
            "           5       0.00      0.00      0.00         4\n",
            "           6       0.00      0.00      0.00         3\n",
            "           7       0.00      0.00      0.00         3\n",
            "           8       0.00      0.00      0.00         3\n",
            "           9       0.00      0.00      0.00         3\n",
            "          10       0.14      0.33      0.20         6\n",
            "          11       0.00      0.00      0.00         3\n",
            "          12       0.00      0.00      0.00         2\n",
            "          13       0.00      0.00      0.00         2\n",
            "          14       0.20      0.75      0.32         4\n",
            "          15       0.20      0.25      0.22         4\n",
            "          16       0.00      0.00      0.00         3\n",
            "          17       0.00      0.00      0.00         4\n",
            "          18       0.00      0.00      0.00         3\n",
            "\n",
            "    accuracy                           0.19        62\n",
            "   macro avg       0.14      0.17      0.12        62\n",
            "weighted avg       0.13      0.19      0.12        62\n",
            "\n"
          ]
        },
        {
          "name": "stderr",
          "output_type": "stream",
          "text": [
            "\r23epoch  180step | loss:  2.3783 :  50%|█████     | 4/8 [00:07<00:10,  2.71s/it]"
          ]
        },
        {
          "name": "stdout",
          "output_type": "stream",
          "text": [
            "eval/acc : 0.1935483870967742, eval/f1 : 0.11584077151944189, global_steps: 180\n"
          ]
        },
        {
          "name": "stderr",
          "output_type": "stream",
          "text": [
            "23epoch  181step | loss:  2.3741 :  62%|██████▎   | 5/8 [00:07<00:05,  1.84s/it]"
          ]
        },
        {
          "name": "stdout",
          "output_type": "stream",
          "text": [
            " global_steps : 181\n"
          ]
        },
        {
          "name": "stderr",
          "output_type": "stream",
          "text": [
            "23epoch  182step | loss:  2.3605 :  75%|███████▌  | 6/8 [00:08<00:02,  1.33s/it]"
          ]
        },
        {
          "name": "stdout",
          "output_type": "stream",
          "text": [
            " global_steps : 182\n"
          ]
        },
        {
          "name": "stderr",
          "output_type": "stream",
          "text": [
            "23epoch  183step | loss:  2.3576 :  88%|████████▊ | 7/8 [00:08<00:00,  1.01it/s]"
          ]
        },
        {
          "name": "stdout",
          "output_type": "stream",
          "text": [
            " global_steps : 183\n"
          ]
        },
        {
          "name": "stderr",
          "output_type": "stream",
          "text": [
            "23epoch  184step | loss:  2.3607 : 100%|██████████| 8/8 [00:08<00:00,  1.08s/it]\n"
          ]
        },
        {
          "name": "stdout",
          "output_type": "stream",
          "text": [
            " global_steps : 184\n"
          ]
        },
        {
          "name": "stderr",
          "output_type": "stream",
          "text": [
            "24epoch  185step | loss:  2.3983 :  12%|█▎        | 1/8 [00:00<00:02,  3.38it/s]"
          ]
        },
        {
          "name": "stdout",
          "output_type": "stream",
          "text": [
            " global_steps : 185\n"
          ]
        },
        {
          "name": "stderr",
          "output_type": "stream",
          "text": [
            "24epoch  186step | loss:  2.3758 :  25%|██▌       | 2/8 [00:00<00:01,  3.29it/s]"
          ]
        },
        {
          "name": "stdout",
          "output_type": "stream",
          "text": [
            " global_steps : 186\n"
          ]
        },
        {
          "name": "stderr",
          "output_type": "stream",
          "text": [
            "24epoch  187step | loss:  2.3049 :  38%|███▊      | 3/8 [00:00<00:01,  3.29it/s]"
          ]
        },
        {
          "name": "stdout",
          "output_type": "stream",
          "text": [
            " global_steps : 187\n"
          ]
        },
        {
          "name": "stderr",
          "output_type": "stream",
          "text": [
            "24epoch  188step | loss:  2.3119 :  50%|█████     | 4/8 [00:01<00:01,  3.36it/s]"
          ]
        },
        {
          "name": "stdout",
          "output_type": "stream",
          "text": [
            " global_steps : 188\n"
          ]
        },
        {
          "name": "stderr",
          "output_type": "stream",
          "text": [
            "24epoch  189step | loss:  2.3291 :  62%|██████▎   | 5/8 [00:01<00:00,  3.38it/s]"
          ]
        },
        {
          "name": "stdout",
          "output_type": "stream",
          "text": [
            " global_steps : 189\n"
          ]
        },
        {
          "name": "stderr",
          "output_type": "stream",
          "text": [
            "24epoch  190step | loss:  2.3523 :  75%|███████▌  | 6/8 [00:01<00:00,  3.24it/s]"
          ]
        },
        {
          "name": "stdout",
          "output_type": "stream",
          "text": [
            " global_steps : 190\n"
          ]
        },
        {
          "name": "stderr",
          "output_type": "stream",
          "text": [
            "24epoch  191step | loss:  2.3391 :  88%|████████▊ | 7/8 [00:02<00:00,  3.25it/s]"
          ]
        },
        {
          "name": "stdout",
          "output_type": "stream",
          "text": [
            " global_steps : 191\n"
          ]
        },
        {
          "name": "stderr",
          "output_type": "stream",
          "text": [
            "24epoch  192step | loss:  2.3387 : 100%|██████████| 8/8 [00:02<00:00,  3.31it/s]\n"
          ]
        },
        {
          "name": "stdout",
          "output_type": "stream",
          "text": [
            " global_steps : 192\n"
          ]
        },
        {
          "name": "stderr",
          "output_type": "stream",
          "text": [
            "25epoch  193step | loss:  2.2485 :  12%|█▎        | 1/8 [00:00<00:02,  3.28it/s]"
          ]
        },
        {
          "name": "stdout",
          "output_type": "stream",
          "text": [
            " global_steps : 193\n"
          ]
        },
        {
          "name": "stderr",
          "output_type": "stream",
          "text": [
            "25epoch  194step | loss:  2.3192 :  25%|██▌       | 2/8 [00:00<00:01,  3.27it/s]"
          ]
        },
        {
          "name": "stdout",
          "output_type": "stream",
          "text": [
            " global_steps : 194\n"
          ]
        },
        {
          "name": "stderr",
          "output_type": "stream",
          "text": [
            "epoch 25 loss: 2.4610: 100%|██████████| 2/2 [00:00<00:00, 22.27it/s]\n"
          ]
        },
        {
          "name": "stdout",
          "output_type": "stream",
          "text": [
            "validation multi-class accuracy = 0.1935, f1 score = 0.1168\n",
            "              precision    recall  f1-score   support\n",
            "\n",
            "           0       0.00      0.00      0.00         3\n",
            "           1       0.00      0.00      0.00         3\n",
            "           2       1.00      0.50      0.67         2\n",
            "           3       1.00      0.33      0.50         3\n",
            "           4       0.17      1.00      0.29         4\n",
            "           5       0.00      0.00      0.00         4\n",
            "           6       0.00      0.00      0.00         3\n",
            "           7       0.00      0.00      0.00         3\n",
            "           8       0.00      0.00      0.00         3\n",
            "           9       0.00      0.00      0.00         3\n",
            "          10       0.15      0.33      0.21         6\n",
            "          11       0.00      0.00      0.00         3\n",
            "          12       0.00      0.00      0.00         2\n",
            "          13       0.00      0.00      0.00         2\n",
            "          14       0.21      0.75      0.33         4\n",
            "          15       0.20      0.25      0.22         4\n",
            "          16       0.00      0.00      0.00         3\n",
            "          17       0.00      0.00      0.00         4\n",
            "          18       0.00      0.00      0.00         3\n",
            "\n",
            "    accuracy                           0.19        62\n",
            "   macro avg       0.14      0.17      0.12        62\n",
            "weighted avg       0.13      0.19      0.12        62\n",
            "\n"
          ]
        },
        {
          "name": "stderr",
          "output_type": "stream",
          "text": [
            "\r25epoch  195step | loss:  2.3076 :  38%|███▊      | 3/8 [00:06<00:14,  2.90s/it]"
          ]
        },
        {
          "name": "stdout",
          "output_type": "stream",
          "text": [
            "eval/acc : 0.1935483870967742, eval/f1 : 0.11676120124873589, global_steps: 195\n"
          ]
        },
        {
          "name": "stderr",
          "output_type": "stream",
          "text": [
            "25epoch  196step | loss:  2.3035 :  50%|█████     | 4/8 [00:06<00:07,  1.88s/it]"
          ]
        },
        {
          "name": "stdout",
          "output_type": "stream",
          "text": [
            " global_steps : 196\n"
          ]
        },
        {
          "name": "stderr",
          "output_type": "stream",
          "text": [
            "25epoch  197step | loss:  2.2713 :  62%|██████▎   | 5/8 [00:07<00:03,  1.33s/it]"
          ]
        },
        {
          "name": "stdout",
          "output_type": "stream",
          "text": [
            " global_steps : 197\n"
          ]
        },
        {
          "name": "stderr",
          "output_type": "stream",
          "text": [
            "25epoch  198step | loss:  2.2886 :  75%|███████▌  | 6/8 [00:07<00:01,  1.01it/s]"
          ]
        },
        {
          "name": "stdout",
          "output_type": "stream",
          "text": [
            " global_steps : 198\n"
          ]
        },
        {
          "name": "stderr",
          "output_type": "stream",
          "text": [
            "25epoch  199step | loss:  2.2856 :  88%|████████▊ | 7/8 [00:07<00:00,  1.31it/s]"
          ]
        },
        {
          "name": "stdout",
          "output_type": "stream",
          "text": [
            " global_steps : 199\n"
          ]
        },
        {
          "name": "stderr",
          "output_type": "stream",
          "text": [
            "25epoch  200step | loss:  2.2943 : 100%|██████████| 8/8 [00:08<00:00,  1.02s/it]\n"
          ]
        },
        {
          "name": "stdout",
          "output_type": "stream",
          "text": [
            " global_steps : 200\n"
          ]
        },
        {
          "name": "stderr",
          "output_type": "stream",
          "text": [
            "26epoch  201step | loss:  2.3343 :  12%|█▎        | 1/8 [00:00<00:01,  3.53it/s]"
          ]
        },
        {
          "name": "stdout",
          "output_type": "stream",
          "text": [
            " global_steps : 201\n"
          ]
        },
        {
          "name": "stderr",
          "output_type": "stream",
          "text": [
            "26epoch  202step | loss:  2.2961 :  25%|██▌       | 2/8 [00:00<00:01,  3.50it/s]"
          ]
        },
        {
          "name": "stdout",
          "output_type": "stream",
          "text": [
            " global_steps : 202\n"
          ]
        },
        {
          "name": "stderr",
          "output_type": "stream",
          "text": [
            "26epoch  203step | loss:  2.2503 :  38%|███▊      | 3/8 [00:00<00:01,  3.37it/s]"
          ]
        },
        {
          "name": "stdout",
          "output_type": "stream",
          "text": [
            " global_steps : 203\n"
          ]
        },
        {
          "name": "stderr",
          "output_type": "stream",
          "text": [
            "26epoch  204step | loss:  2.2627 :  50%|█████     | 4/8 [00:01<00:01,  3.27it/s]"
          ]
        },
        {
          "name": "stdout",
          "output_type": "stream",
          "text": [
            " global_steps : 204\n"
          ]
        },
        {
          "name": "stderr",
          "output_type": "stream",
          "text": [
            "26epoch  205step | loss:  2.2663 :  62%|██████▎   | 5/8 [00:01<00:00,  3.28it/s]"
          ]
        },
        {
          "name": "stdout",
          "output_type": "stream",
          "text": [
            " global_steps : 205\n"
          ]
        },
        {
          "name": "stderr",
          "output_type": "stream",
          "text": [
            "26epoch  206step | loss:  2.2671 :  75%|███████▌  | 6/8 [00:01<00:00,  3.30it/s]"
          ]
        },
        {
          "name": "stdout",
          "output_type": "stream",
          "text": [
            " global_steps : 206\n"
          ]
        },
        {
          "name": "stderr",
          "output_type": "stream",
          "text": [
            "26epoch  207step | loss:  2.2633 :  88%|████████▊ | 7/8 [00:02<00:00,  3.23it/s]"
          ]
        },
        {
          "name": "stdout",
          "output_type": "stream",
          "text": [
            " global_steps : 207\n"
          ]
        },
        {
          "name": "stderr",
          "output_type": "stream",
          "text": [
            "26epoch  208step | loss:  2.2648 : 100%|██████████| 8/8 [00:02<00:00,  3.28it/s]\n"
          ]
        },
        {
          "name": "stdout",
          "output_type": "stream",
          "text": [
            " global_steps : 208\n"
          ]
        },
        {
          "name": "stderr",
          "output_type": "stream",
          "text": [
            "27epoch  209step | loss:  2.2701 :  12%|█▎        | 1/8 [00:00<00:02,  3.28it/s]"
          ]
        },
        {
          "name": "stdout",
          "output_type": "stream",
          "text": [
            " global_steps : 209\n"
          ]
        },
        {
          "name": "stderr",
          "output_type": "stream",
          "text": [
            "epoch 27 loss: 2.4229: 100%|██████████| 2/2 [00:00<00:00, 21.72it/s]\n"
          ]
        },
        {
          "name": "stdout",
          "output_type": "stream",
          "text": [
            "validation multi-class accuracy = 0.2581, f1 score = 0.1661\n",
            "              precision    recall  f1-score   support\n",
            "\n",
            "           0       0.00      0.00      0.00         3\n",
            "           1       0.00      0.00      0.00         3\n",
            "           2       1.00      1.00      1.00         2\n",
            "           3       1.00      0.67      0.80         3\n",
            "           4       0.17      1.00      0.29         4\n",
            "           5       0.00      0.00      0.00         4\n",
            "           6       0.00      0.00      0.00         3\n",
            "           7       0.00      0.00      0.00         3\n",
            "           8       0.00      0.00      0.00         3\n",
            "           9       0.00      0.00      0.00         3\n",
            "          10       0.23      0.50      0.32         6\n",
            "          11       0.00      0.00      0.00         3\n",
            "          12       0.00      0.00      0.00         2\n",
            "          13       0.00      0.00      0.00         2\n",
            "          14       0.27      1.00      0.42         4\n",
            "          15       0.50      0.25      0.33         4\n",
            "          16       0.00      0.00      0.00         3\n",
            "          17       0.00      0.00      0.00         4\n",
            "          18       0.00      0.00      0.00         3\n",
            "\n",
            "    accuracy                           0.26        62\n",
            "   macro avg       0.17      0.23      0.17        62\n",
            "weighted avg       0.16      0.26      0.17        62\n",
            "\n"
          ]
        },
        {
          "name": "stderr",
          "output_type": "stream",
          "text": [
            "\r27epoch  210step | loss:  2.2996 :  25%|██▌       | 2/8 [00:06<00:22,  3.80s/it]"
          ]
        },
        {
          "name": "stdout",
          "output_type": "stream",
          "text": [
            "eval/acc : 0.25806451612903225, eval/f1 : 0.16609945917425142, global_steps: 210\n"
          ]
        },
        {
          "name": "stderr",
          "output_type": "stream",
          "text": [
            "27epoch  211step | loss:  2.2687 :  38%|███▊      | 3/8 [00:06<00:11,  2.20s/it]"
          ]
        },
        {
          "name": "stdout",
          "output_type": "stream",
          "text": [
            " global_steps : 211\n"
          ]
        },
        {
          "name": "stderr",
          "output_type": "stream",
          "text": [
            "27epoch  212step | loss:  2.2512 :  50%|█████     | 4/8 [00:07<00:05,  1.45s/it]"
          ]
        },
        {
          "name": "stdout",
          "output_type": "stream",
          "text": [
            " global_steps : 212\n"
          ]
        },
        {
          "name": "stderr",
          "output_type": "stream",
          "text": [
            "27epoch  213step | loss:  2.2294 :  62%|██████▎   | 5/8 [00:07<00:03,  1.03s/it]"
          ]
        },
        {
          "name": "stdout",
          "output_type": "stream",
          "text": [
            " global_steps : 213\n"
          ]
        },
        {
          "name": "stderr",
          "output_type": "stream",
          "text": [
            "27epoch  214step | loss:  2.2275 :  75%|███████▌  | 6/8 [00:07<00:01,  1.29it/s]"
          ]
        },
        {
          "name": "stdout",
          "output_type": "stream",
          "text": [
            " global_steps : 214\n"
          ]
        },
        {
          "name": "stderr",
          "output_type": "stream",
          "text": [
            "27epoch  215step | loss:  2.2356 :  88%|████████▊ | 7/8 [00:08<00:00,  1.60it/s]"
          ]
        },
        {
          "name": "stdout",
          "output_type": "stream",
          "text": [
            " global_steps : 215\n"
          ]
        },
        {
          "name": "stderr",
          "output_type": "stream",
          "text": [
            "27epoch  216step | loss:  2.2351 : 100%|██████████| 8/8 [00:08<00:00,  1.04s/it]\n"
          ]
        },
        {
          "name": "stdout",
          "output_type": "stream",
          "text": [
            " global_steps : 216\n"
          ]
        },
        {
          "name": "stderr",
          "output_type": "stream",
          "text": [
            "28epoch  217step | loss:  2.2052 :  12%|█▎        | 1/8 [00:00<00:01,  3.60it/s]"
          ]
        },
        {
          "name": "stdout",
          "output_type": "stream",
          "text": [
            " global_steps : 217\n"
          ]
        },
        {
          "name": "stderr",
          "output_type": "stream",
          "text": [
            "28epoch  218step | loss:  2.2603 :  25%|██▌       | 2/8 [00:00<00:01,  3.51it/s]"
          ]
        },
        {
          "name": "stdout",
          "output_type": "stream",
          "text": [
            " global_steps : 218\n"
          ]
        },
        {
          "name": "stderr",
          "output_type": "stream",
          "text": [
            "28epoch  219step | loss:  2.2414 :  38%|███▊      | 3/8 [00:00<00:01,  3.47it/s]"
          ]
        },
        {
          "name": "stdout",
          "output_type": "stream",
          "text": [
            " global_steps : 219\n"
          ]
        },
        {
          "name": "stderr",
          "output_type": "stream",
          "text": [
            "28epoch  220step | loss:  2.2283 :  50%|█████     | 4/8 [00:01<00:01,  3.35it/s]"
          ]
        },
        {
          "name": "stdout",
          "output_type": "stream",
          "text": [
            " global_steps : 220\n"
          ]
        },
        {
          "name": "stderr",
          "output_type": "stream",
          "text": [
            "28epoch  221step | loss:  2.2185 :  62%|██████▎   | 5/8 [00:01<00:00,  3.33it/s]"
          ]
        },
        {
          "name": "stdout",
          "output_type": "stream",
          "text": [
            " global_steps : 221\n"
          ]
        },
        {
          "name": "stderr",
          "output_type": "stream",
          "text": [
            "28epoch  222step | loss:  2.2268 :  75%|███████▌  | 6/8 [00:01<00:00,  3.22it/s]"
          ]
        },
        {
          "name": "stdout",
          "output_type": "stream",
          "text": [
            " global_steps : 222\n"
          ]
        },
        {
          "name": "stderr",
          "output_type": "stream",
          "text": [
            "28epoch  223step | loss:  2.2416 :  88%|████████▊ | 7/8 [00:02<00:00,  3.30it/s]"
          ]
        },
        {
          "name": "stdout",
          "output_type": "stream",
          "text": [
            " global_steps : 223\n"
          ]
        },
        {
          "name": "stderr",
          "output_type": "stream",
          "text": [
            "28epoch  224step | loss:  2.2390 : 100%|██████████| 8/8 [00:02<00:00,  3.40it/s]\n"
          ]
        },
        {
          "name": "stdout",
          "output_type": "stream",
          "text": [
            " global_steps : 224\n"
          ]
        },
        {
          "name": "stderr",
          "output_type": "stream",
          "text": [
            "epoch 29 loss: 2.3898: 100%|██████████| 2/2 [00:00<00:00, 21.12it/s]\n"
          ]
        },
        {
          "name": "stdout",
          "output_type": "stream",
          "text": [
            "validation multi-class accuracy = 0.3065, f1 score = 0.2362\n",
            "              precision    recall  f1-score   support\n",
            "\n",
            "           0       0.33      0.33      0.33         3\n",
            "           1       0.00      0.00      0.00         3\n",
            "           2       1.00      1.00      1.00         2\n",
            "           3       1.00      1.00      1.00         3\n",
            "           4       0.20      1.00      0.33         4\n",
            "           5       1.00      0.25      0.40         4\n",
            "           6       0.00      0.00      0.00         3\n",
            "           7       1.00      0.33      0.50         3\n",
            "           8       0.00      0.00      0.00         3\n",
            "           9       0.00      0.00      0.00         3\n",
            "          10       0.18      0.33      0.24         6\n",
            "          11       0.00      0.00      0.00         3\n",
            "          12       0.00      0.00      0.00         2\n",
            "          13       0.00      0.00      0.00         2\n",
            "          14       0.25      1.00      0.40         4\n",
            "          15       0.33      0.25      0.29         4\n",
            "          16       0.00      0.00      0.00         3\n",
            "          17       0.00      0.00      0.00         4\n",
            "          18       0.00      0.00      0.00         3\n",
            "\n",
            "    accuracy                           0.31        62\n",
            "   macro avg       0.28      0.29      0.24        62\n",
            "weighted avg       0.28      0.31      0.24        62\n",
            "\n"
          ]
        },
        {
          "name": "stderr",
          "output_type": "stream",
          "text": [
            "\r29epoch  225step | loss:  2.1169 :  12%|█▎        | 1/8 [00:06<00:48,  6.96s/it]"
          ]
        },
        {
          "name": "stdout",
          "output_type": "stream",
          "text": [
            "eval/acc : 0.3064516129032258, eval/f1 : 0.2361934247383164, global_steps: 225\n"
          ]
        },
        {
          "name": "stderr",
          "output_type": "stream",
          "text": [
            "29epoch  226step | loss:  2.1637 :  25%|██▌       | 2/8 [00:07<00:18,  3.06s/it]"
          ]
        },
        {
          "name": "stdout",
          "output_type": "stream",
          "text": [
            " global_steps : 226\n"
          ]
        },
        {
          "name": "stderr",
          "output_type": "stream",
          "text": [
            "29epoch  227step | loss:  2.1963 :  38%|███▊      | 3/8 [00:07<00:09,  1.82s/it]"
          ]
        },
        {
          "name": "stdout",
          "output_type": "stream",
          "text": [
            " global_steps : 227\n"
          ]
        },
        {
          "name": "stderr",
          "output_type": "stream",
          "text": [
            "29epoch  228step | loss:  2.1876 :  50%|█████     | 4/8 [00:07<00:04,  1.22s/it]"
          ]
        },
        {
          "name": "stdout",
          "output_type": "stream",
          "text": [
            " global_steps : 228\n"
          ]
        },
        {
          "name": "stderr",
          "output_type": "stream",
          "text": [
            "29epoch  229step | loss:  2.1948 :  62%|██████▎   | 5/8 [00:08<00:02,  1.12it/s]"
          ]
        },
        {
          "name": "stdout",
          "output_type": "stream",
          "text": [
            " global_steps : 229\n"
          ]
        },
        {
          "name": "stderr",
          "output_type": "stream",
          "text": [
            "29epoch  230step | loss:  2.1953 :  75%|███████▌  | 6/8 [00:08<00:01,  1.45it/s]"
          ]
        },
        {
          "name": "stdout",
          "output_type": "stream",
          "text": [
            " global_steps : 230\n"
          ]
        },
        {
          "name": "stderr",
          "output_type": "stream",
          "text": [
            "29epoch  231step | loss:  2.2000 :  88%|████████▊ | 7/8 [00:08<00:00,  1.69it/s]"
          ]
        },
        {
          "name": "stdout",
          "output_type": "stream",
          "text": [
            " global_steps : 231\n"
          ]
        },
        {
          "name": "stderr",
          "output_type": "stream",
          "text": [
            "29epoch  232step | loss:  2.1997 : 100%|██████████| 8/8 [00:09<00:00,  1.15s/it]\n"
          ]
        },
        {
          "name": "stdout",
          "output_type": "stream",
          "text": [
            " global_steps : 232\n"
          ]
        },
        {
          "name": "stderr",
          "output_type": "stream",
          "text": [
            "30epoch  233step | loss:  2.2015 :  12%|█▎        | 1/8 [00:00<00:02,  3.08it/s]"
          ]
        },
        {
          "name": "stdout",
          "output_type": "stream",
          "text": [
            " global_steps : 233\n"
          ]
        },
        {
          "name": "stderr",
          "output_type": "stream",
          "text": [
            "30epoch  234step | loss:  2.2101 :  25%|██▌       | 2/8 [00:00<00:01,  3.02it/s]"
          ]
        },
        {
          "name": "stdout",
          "output_type": "stream",
          "text": [
            " global_steps : 234\n"
          ]
        },
        {
          "name": "stderr",
          "output_type": "stream",
          "text": [
            "30epoch  235step | loss:  2.1857 :  38%|███▊      | 3/8 [00:00<00:01,  3.13it/s]"
          ]
        },
        {
          "name": "stdout",
          "output_type": "stream",
          "text": [
            " global_steps : 235\n"
          ]
        },
        {
          "name": "stderr",
          "output_type": "stream",
          "text": [
            "30epoch  236step | loss:  2.1815 :  50%|█████     | 4/8 [00:01<00:01,  3.22it/s]"
          ]
        },
        {
          "name": "stdout",
          "output_type": "stream",
          "text": [
            " global_steps : 236\n"
          ]
        },
        {
          "name": "stderr",
          "output_type": "stream",
          "text": [
            "30epoch  237step | loss:  2.2137 :  62%|██████▎   | 5/8 [00:01<00:00,  3.25it/s]"
          ]
        },
        {
          "name": "stdout",
          "output_type": "stream",
          "text": [
            " global_steps : 237\n"
          ]
        },
        {
          "name": "stderr",
          "output_type": "stream",
          "text": [
            "30epoch  238step | loss:  2.2085 :  75%|███████▌  | 6/8 [00:01<00:00,  3.29it/s]"
          ]
        },
        {
          "name": "stdout",
          "output_type": "stream",
          "text": [
            " global_steps : 238\n"
          ]
        },
        {
          "name": "stderr",
          "output_type": "stream",
          "text": [
            "30epoch  239step | loss:  2.2165 :  88%|████████▊ | 7/8 [00:02<00:00,  3.25it/s]"
          ]
        },
        {
          "name": "stdout",
          "output_type": "stream",
          "text": [
            " global_steps : 239\n"
          ]
        },
        {
          "name": "stderr",
          "output_type": "stream",
          "text": [
            "epoch 30 loss: 2.3730: 100%|██████████| 2/2 [00:00<00:00, 18.40it/s]\n"
          ]
        },
        {
          "name": "stdout",
          "output_type": "stream",
          "text": [
            "validation multi-class accuracy = 0.3226, f1 score = 0.2529\n",
            "              precision    recall  f1-score   support\n",
            "\n",
            "           0       0.33      0.33      0.33         3\n",
            "           1       0.00      0.00      0.00         3\n",
            "           2       1.00      1.00      1.00         2\n",
            "           3       1.00      1.00      1.00         3\n",
            "           4       0.21      1.00      0.35         4\n",
            "           5       1.00      0.25      0.40         4\n",
            "           6       0.00      0.00      0.00         3\n",
            "           7       1.00      0.33      0.50         3\n",
            "           8       0.00      0.00      0.00         3\n",
            "           9       0.00      0.00      0.00         3\n",
            "          10       0.22      0.33      0.27         6\n",
            "          11       0.00      0.00      0.00         3\n",
            "          12       0.00      0.00      0.00         2\n",
            "          13       0.00      0.00      0.00         2\n",
            "          14       0.27      1.00      0.42         4\n",
            "          15       0.33      0.25      0.29         4\n",
            "          16       0.20      0.33      0.25         3\n",
            "          17       0.00      0.00      0.00         4\n",
            "          18       0.00      0.00      0.00         3\n",
            "\n",
            "    accuracy                           0.32        62\n",
            "   macro avg       0.29      0.31      0.25        62\n",
            "weighted avg       0.29      0.32      0.25        62\n",
            "\n"
          ]
        },
        {
          "name": "stderr",
          "output_type": "stream",
          "text": [
            "30epoch  240step | loss:  2.2147 : 100%|██████████| 8/8 [00:09<00:00,  1.24s/it]\n"
          ]
        },
        {
          "name": "stdout",
          "output_type": "stream",
          "text": [
            "eval/acc : 0.3225806451612903, eval/f1 : 0.252873316013145, global_steps: 240\n"
          ]
        },
        {
          "name": "stderr",
          "output_type": "stream",
          "text": [
            "31epoch  241step | loss:  2.2620 :  12%|█▎        | 1/8 [00:00<00:02,  3.40it/s]"
          ]
        },
        {
          "name": "stdout",
          "output_type": "stream",
          "text": [
            " global_steps : 241\n"
          ]
        },
        {
          "name": "stderr",
          "output_type": "stream",
          "text": [
            "31epoch  242step | loss:  2.1806 :  25%|██▌       | 2/8 [00:00<00:01,  3.20it/s]"
          ]
        },
        {
          "name": "stdout",
          "output_type": "stream",
          "text": [
            " global_steps : 242\n"
          ]
        },
        {
          "name": "stderr",
          "output_type": "stream",
          "text": [
            "31epoch  243step | loss:  2.1489 :  38%|███▊      | 3/8 [00:00<00:01,  3.04it/s]"
          ]
        },
        {
          "name": "stdout",
          "output_type": "stream",
          "text": [
            " global_steps : 243\n"
          ]
        },
        {
          "name": "stderr",
          "output_type": "stream",
          "text": [
            "31epoch  244step | loss:  2.1609 :  50%|█████     | 4/8 [00:01<00:01,  3.10it/s]"
          ]
        },
        {
          "name": "stdout",
          "output_type": "stream",
          "text": [
            " global_steps : 244\n"
          ]
        },
        {
          "name": "stderr",
          "output_type": "stream",
          "text": [
            "31epoch  245step | loss:  2.1770 :  62%|██████▎   | 5/8 [00:01<00:00,  3.09it/s]"
          ]
        },
        {
          "name": "stdout",
          "output_type": "stream",
          "text": [
            " global_steps : 245\n"
          ]
        },
        {
          "name": "stderr",
          "output_type": "stream",
          "text": [
            "31epoch  246step | loss:  2.1978 :  75%|███████▌  | 6/8 [00:01<00:00,  3.22it/s]"
          ]
        },
        {
          "name": "stdout",
          "output_type": "stream",
          "text": [
            " global_steps : 246\n"
          ]
        },
        {
          "name": "stderr",
          "output_type": "stream",
          "text": [
            "31epoch  247step | loss:  2.2009 :  88%|████████▊ | 7/8 [00:02<00:00,  3.25it/s]"
          ]
        },
        {
          "name": "stdout",
          "output_type": "stream",
          "text": [
            " global_steps : 247\n"
          ]
        },
        {
          "name": "stderr",
          "output_type": "stream",
          "text": [
            "31epoch  248step | loss:  2.1988 : 100%|██████████| 8/8 [00:02<00:00,  3.22it/s]\n"
          ]
        },
        {
          "name": "stdout",
          "output_type": "stream",
          "text": [
            " global_steps : 248\n"
          ]
        },
        {
          "name": "stderr",
          "output_type": "stream",
          "text": [
            "32epoch  249step | loss:  2.4161 :  12%|█▎        | 1/8 [00:00<00:02,  2.89it/s]"
          ]
        },
        {
          "name": "stdout",
          "output_type": "stream",
          "text": [
            " global_steps : 249\n"
          ]
        },
        {
          "name": "stderr",
          "output_type": "stream",
          "text": [
            "32epoch  250step | loss:  2.3645 :  25%|██▌       | 2/8 [00:00<00:01,  3.12it/s]"
          ]
        },
        {
          "name": "stdout",
          "output_type": "stream",
          "text": [
            " global_steps : 250\n"
          ]
        },
        {
          "name": "stderr",
          "output_type": "stream",
          "text": [
            "32epoch  251step | loss:  2.2845 :  38%|███▊      | 3/8 [00:00<00:01,  3.27it/s]"
          ]
        },
        {
          "name": "stdout",
          "output_type": "stream",
          "text": [
            " global_steps : 251\n"
          ]
        },
        {
          "name": "stderr",
          "output_type": "stream",
          "text": [
            "32epoch  252step | loss:  2.2593 :  50%|█████     | 4/8 [00:01<00:01,  3.14it/s]"
          ]
        },
        {
          "name": "stdout",
          "output_type": "stream",
          "text": [
            " global_steps : 252\n"
          ]
        },
        {
          "name": "stderr",
          "output_type": "stream",
          "text": [
            "32epoch  253step | loss:  2.2414 :  62%|██████▎   | 5/8 [00:01<00:00,  3.20it/s]"
          ]
        },
        {
          "name": "stdout",
          "output_type": "stream",
          "text": [
            " global_steps : 253\n"
          ]
        },
        {
          "name": "stderr",
          "output_type": "stream",
          "text": [
            "32epoch  254step | loss:  2.2158 :  75%|███████▌  | 6/8 [00:01<00:00,  3.30it/s]"
          ]
        },
        {
          "name": "stdout",
          "output_type": "stream",
          "text": [
            " global_steps : 254\n"
          ]
        },
        {
          "name": "stderr",
          "output_type": "stream",
          "text": [
            "epoch 32 loss: 2.3602: 100%|██████████| 2/2 [00:00<00:00, 20.33it/s]\n"
          ]
        },
        {
          "name": "stdout",
          "output_type": "stream",
          "text": [
            "validation multi-class accuracy = 0.3226, f1 score = 0.2539\n",
            "              precision    recall  f1-score   support\n",
            "\n",
            "           0       0.33      0.33      0.33         3\n",
            "           1       0.00      0.00      0.00         3\n",
            "           2       1.00      1.00      1.00         2\n",
            "           3       1.00      1.00      1.00         3\n",
            "           4       0.21      1.00      0.35         4\n",
            "           5       1.00      0.25      0.40         4\n",
            "           6       0.00      0.00      0.00         3\n",
            "           7       1.00      0.33      0.50         3\n",
            "           8       0.00      0.00      0.00         3\n",
            "           9       0.00      0.00      0.00         3\n",
            "          10       0.20      0.33      0.25         6\n",
            "          11       0.00      0.00      0.00         3\n",
            "          12       0.00      0.00      0.00         2\n",
            "          13       0.00      0.00      0.00         2\n",
            "          14       0.27      1.00      0.42         4\n",
            "          15       0.33      0.25      0.29         4\n",
            "          16       0.25      0.33      0.29         3\n",
            "          17       0.00      0.00      0.00         4\n",
            "          18       0.00      0.00      0.00         3\n",
            "\n",
            "    accuracy                           0.32        62\n",
            "   macro avg       0.29      0.31      0.25        62\n",
            "weighted avg       0.29      0.32      0.25        62\n",
            "\n"
          ]
        },
        {
          "name": "stderr",
          "output_type": "stream",
          "text": [
            "\r32epoch  255step | loss:  2.2011 :  88%|████████▊ | 7/8 [00:12<00:03,  3.60s/it]"
          ]
        },
        {
          "name": "stdout",
          "output_type": "stream",
          "text": [
            "eval/acc : 0.3225806451612903, eval/f1 : 0.25387582227880917, global_steps: 255\n"
          ]
        },
        {
          "name": "stderr",
          "output_type": "stream",
          "text": [
            "32epoch  256step | loss:  2.2023 : 100%|██████████| 8/8 [00:12<00:00,  1.57s/it]\n"
          ]
        },
        {
          "name": "stdout",
          "output_type": "stream",
          "text": [
            " global_steps : 256\n"
          ]
        },
        {
          "name": "stderr",
          "output_type": "stream",
          "text": [
            "33epoch  257step | loss:  2.1103 :  12%|█▎        | 1/8 [00:00<00:02,  2.99it/s]"
          ]
        },
        {
          "name": "stdout",
          "output_type": "stream",
          "text": [
            " global_steps : 257\n"
          ]
        },
        {
          "name": "stderr",
          "output_type": "stream",
          "text": [
            "33epoch  258step | loss:  2.1429 :  25%|██▌       | 2/8 [00:00<00:01,  3.15it/s]"
          ]
        },
        {
          "name": "stdout",
          "output_type": "stream",
          "text": [
            " global_steps : 258\n"
          ]
        },
        {
          "name": "stderr",
          "output_type": "stream",
          "text": [
            "33epoch  259step | loss:  2.1484 :  38%|███▊      | 3/8 [00:00<00:01,  3.31it/s]"
          ]
        },
        {
          "name": "stdout",
          "output_type": "stream",
          "text": [
            " global_steps : 259\n"
          ]
        },
        {
          "name": "stderr",
          "output_type": "stream",
          "text": [
            "33epoch  260step | loss:  2.1437 :  50%|█████     | 4/8 [00:01<00:01,  3.29it/s]"
          ]
        },
        {
          "name": "stdout",
          "output_type": "stream",
          "text": [
            " global_steps : 260\n"
          ]
        },
        {
          "name": "stderr",
          "output_type": "stream",
          "text": [
            "33epoch  261step | loss:  2.1602 :  62%|██████▎   | 5/8 [00:01<00:00,  3.30it/s]"
          ]
        },
        {
          "name": "stdout",
          "output_type": "stream",
          "text": [
            " global_steps : 261\n"
          ]
        },
        {
          "name": "stderr",
          "output_type": "stream",
          "text": [
            "33epoch  262step | loss:  2.1609 :  75%|███████▌  | 6/8 [00:01<00:00,  3.25it/s]"
          ]
        },
        {
          "name": "stdout",
          "output_type": "stream",
          "text": [
            " global_steps : 262\n"
          ]
        },
        {
          "name": "stderr",
          "output_type": "stream",
          "text": [
            "33epoch  263step | loss:  2.1825 :  88%|████████▊ | 7/8 [00:02<00:00,  3.27it/s]"
          ]
        },
        {
          "name": "stdout",
          "output_type": "stream",
          "text": [
            " global_steps : 263\n"
          ]
        },
        {
          "name": "stderr",
          "output_type": "stream",
          "text": [
            "33epoch  264step | loss:  2.1824 : 100%|██████████| 8/8 [00:02<00:00,  3.27it/s]\n"
          ]
        },
        {
          "name": "stdout",
          "output_type": "stream",
          "text": [
            " global_steps : 264\n"
          ]
        },
        {
          "name": "stderr",
          "output_type": "stream",
          "text": [
            "34epoch  265step | loss:  2.2591 :  12%|█▎        | 1/8 [00:00<00:02,  3.36it/s]"
          ]
        },
        {
          "name": "stdout",
          "output_type": "stream",
          "text": [
            " global_steps : 265\n"
          ]
        },
        {
          "name": "stderr",
          "output_type": "stream",
          "text": [
            "34epoch  266step | loss:  2.2046 :  25%|██▌       | 2/8 [00:00<00:01,  3.43it/s]"
          ]
        },
        {
          "name": "stdout",
          "output_type": "stream",
          "text": [
            " global_steps : 266\n"
          ]
        },
        {
          "name": "stderr",
          "output_type": "stream",
          "text": [
            "34epoch  267step | loss:  2.2249 :  38%|███▊      | 3/8 [00:00<00:01,  3.26it/s]"
          ]
        },
        {
          "name": "stdout",
          "output_type": "stream",
          "text": [
            " global_steps : 267\n"
          ]
        },
        {
          "name": "stderr",
          "output_type": "stream",
          "text": [
            "34epoch  268step | loss:  2.2562 :  50%|█████     | 4/8 [00:01<00:01,  3.30it/s]"
          ]
        },
        {
          "name": "stdout",
          "output_type": "stream",
          "text": [
            " global_steps : 268\n"
          ]
        },
        {
          "name": "stderr",
          "output_type": "stream",
          "text": [
            "34epoch  269step | loss:  2.2444 :  62%|██████▎   | 5/8 [00:01<00:00,  3.31it/s]"
          ]
        },
        {
          "name": "stdout",
          "output_type": "stream",
          "text": [
            " global_steps : 269\n"
          ]
        },
        {
          "name": "stderr",
          "output_type": "stream",
          "text": [
            "epoch 34 loss: 2.3526: 100%|██████████| 2/2 [00:00<00:00, 20.48it/s]\n",
            "34epoch  270step | loss:  2.2006 :  75%|███████▌  | 6/8 [00:01<00:00,  2.96it/s]"
          ]
        },
        {
          "name": "stdout",
          "output_type": "stream",
          "text": [
            "validation multi-class accuracy = 0.3226, f1 score = 0.2539\n",
            "              precision    recall  f1-score   support\n",
            "\n",
            "           0       0.33      0.33      0.33         3\n",
            "           1       0.00      0.00      0.00         3\n",
            "           2       1.00      1.00      1.00         2\n",
            "           3       1.00      1.00      1.00         3\n",
            "           4       0.21      1.00      0.35         4\n",
            "           5       1.00      0.25      0.40         4\n",
            "           6       0.00      0.00      0.00         3\n",
            "           7       1.00      0.33      0.50         3\n",
            "           8       0.00      0.00      0.00         3\n",
            "           9       0.00      0.00      0.00         3\n",
            "          10       0.20      0.33      0.25         6\n",
            "          11       0.00      0.00      0.00         3\n",
            "          12       0.00      0.00      0.00         2\n",
            "          13       0.00      0.00      0.00         2\n",
            "          14       0.27      1.00      0.42         4\n",
            "          15       0.33      0.25      0.29         4\n",
            "          16       0.25      0.33      0.29         3\n",
            "          17       0.00      0.00      0.00         4\n",
            "          18       0.00      0.00      0.00         3\n",
            "\n",
            "    accuracy                           0.32        62\n",
            "   macro avg       0.29      0.31      0.25        62\n",
            "weighted avg       0.29      0.32      0.25        62\n",
            "\n",
            "eval/acc : 0.3225806451612903, eval/f1 : 0.25387582227880917, global_steps: 270\n"
          ]
        },
        {
          "name": "stderr",
          "output_type": "stream",
          "text": [
            "34epoch  271step | loss:  2.1807 :  88%|████████▊ | 7/8 [00:02<00:00,  3.08it/s]"
          ]
        },
        {
          "name": "stdout",
          "output_type": "stream",
          "text": [
            " global_steps : 271\n"
          ]
        },
        {
          "name": "stderr",
          "output_type": "stream",
          "text": [
            "34epoch  272step | loss:  2.1802 : 100%|██████████| 8/8 [00:02<00:00,  3.18it/s]\n"
          ]
        },
        {
          "name": "stdout",
          "output_type": "stream",
          "text": [
            " global_steps : 272\n"
          ]
        },
        {
          "name": "stderr",
          "output_type": "stream",
          "text": [
            "35epoch  273step | loss:  2.0750 :  12%|█▎        | 1/8 [00:00<00:01,  3.59it/s]"
          ]
        },
        {
          "name": "stdout",
          "output_type": "stream",
          "text": [
            " global_steps : 273\n"
          ]
        },
        {
          "name": "stderr",
          "output_type": "stream",
          "text": [
            "35epoch  274step | loss:  2.1008 :  25%|██▌       | 2/8 [00:00<00:01,  3.22it/s]"
          ]
        },
        {
          "name": "stdout",
          "output_type": "stream",
          "text": [
            " global_steps : 274\n"
          ]
        },
        {
          "name": "stderr",
          "output_type": "stream",
          "text": [
            "35epoch  275step | loss:  2.0877 :  38%|███▊      | 3/8 [00:01<00:01,  2.85it/s]"
          ]
        },
        {
          "name": "stdout",
          "output_type": "stream",
          "text": [
            " global_steps : 275\n"
          ]
        },
        {
          "name": "stderr",
          "output_type": "stream",
          "text": [
            "35epoch  276step | loss:  2.0950 :  50%|█████     | 4/8 [00:01<00:01,  2.78it/s]"
          ]
        },
        {
          "name": "stdout",
          "output_type": "stream",
          "text": [
            " global_steps : 276\n"
          ]
        },
        {
          "name": "stderr",
          "output_type": "stream",
          "text": [
            "35epoch  277step | loss:  2.1084 :  62%|██████▎   | 5/8 [00:01<00:01,  2.73it/s]"
          ]
        },
        {
          "name": "stdout",
          "output_type": "stream",
          "text": [
            " global_steps : 277\n"
          ]
        },
        {
          "name": "stderr",
          "output_type": "stream",
          "text": [
            "35epoch  278step | loss:  2.1350 :  75%|███████▌  | 6/8 [00:02<00:00,  2.82it/s]"
          ]
        },
        {
          "name": "stdout",
          "output_type": "stream",
          "text": [
            " global_steps : 278\n"
          ]
        },
        {
          "name": "stderr",
          "output_type": "stream",
          "text": [
            "35epoch  279step | loss:  2.1366 :  88%|████████▊ | 7/8 [00:02<00:00,  2.82it/s]"
          ]
        },
        {
          "name": "stdout",
          "output_type": "stream",
          "text": [
            " global_steps : 279\n"
          ]
        },
        {
          "name": "stderr",
          "output_type": "stream",
          "text": [
            "35epoch  280step | loss:  2.1521 : 100%|██████████| 8/8 [00:02<00:00,  2.93it/s]\n"
          ]
        },
        {
          "name": "stdout",
          "output_type": "stream",
          "text": [
            " global_steps : 280\n"
          ]
        },
        {
          "name": "stderr",
          "output_type": "stream",
          "text": [
            "36epoch  281step | loss:  2.1494 :  12%|█▎        | 1/8 [00:00<00:02,  3.13it/s]"
          ]
        },
        {
          "name": "stdout",
          "output_type": "stream",
          "text": [
            " global_steps : 281\n"
          ]
        },
        {
          "name": "stderr",
          "output_type": "stream",
          "text": [
            "36epoch  282step | loss:  2.1637 :  25%|██▌       | 2/8 [00:00<00:02,  2.56it/s]"
          ]
        },
        {
          "name": "stdout",
          "output_type": "stream",
          "text": [
            " global_steps : 282\n"
          ]
        },
        {
          "name": "stderr",
          "output_type": "stream",
          "text": [
            "36epoch  283step | loss:  2.2164 :  38%|███▊      | 3/8 [00:01<00:01,  2.58it/s]"
          ]
        },
        {
          "name": "stdout",
          "output_type": "stream",
          "text": [
            " global_steps : 283\n"
          ]
        },
        {
          "name": "stderr",
          "output_type": "stream",
          "text": [
            "36epoch  284step | loss:  2.2128 :  50%|█████     | 4/8 [00:01<00:01,  2.56it/s]"
          ]
        },
        {
          "name": "stdout",
          "output_type": "stream",
          "text": [
            " global_steps : 284\n"
          ]
        },
        {
          "name": "stderr",
          "output_type": "stream",
          "text": [
            "epoch 36 loss: 2.3505: 100%|██████████| 2/2 [00:00<00:00, 20.51it/s]\n",
            "36epoch  285step | loss:  2.1741 :  62%|██████▎   | 5/8 [00:02<00:01,  2.39it/s]"
          ]
        },
        {
          "name": "stdout",
          "output_type": "stream",
          "text": [
            "validation multi-class accuracy = 0.3226, f1 score = 0.2472\n",
            "              precision    recall  f1-score   support\n",
            "\n",
            "           0       0.33      0.33      0.33         3\n",
            "           1       0.00      0.00      0.00         3\n",
            "           2       1.00      1.00      1.00         2\n",
            "           3       0.75      1.00      0.86         3\n",
            "           4       0.21      1.00      0.35         4\n",
            "           5       1.00      0.25      0.40         4\n",
            "           6       0.00      0.00      0.00         3\n",
            "           7       1.00      0.33      0.50         3\n",
            "           8       0.00      0.00      0.00         3\n",
            "           9       0.00      0.00      0.00         3\n",
            "          10       0.22      0.33      0.27         6\n",
            "          11       0.00      0.00      0.00         3\n",
            "          12       0.00      0.00      0.00         2\n",
            "          13       0.00      0.00      0.00         2\n",
            "          14       0.27      1.00      0.42         4\n",
            "          15       0.33      0.25      0.29         4\n",
            "          16       0.25      0.33      0.29         3\n",
            "          17       0.00      0.00      0.00         4\n",
            "          18       0.00      0.00      0.00         3\n",
            "\n",
            "    accuracy                           0.32        62\n",
            "   macro avg       0.28      0.31      0.25        62\n",
            "weighted avg       0.28      0.32      0.25        62\n",
            "\n",
            "eval/acc : 0.3225806451612903, eval/f1 : 0.2472342182687841, global_steps: 285\n"
          ]
        },
        {
          "name": "stderr",
          "output_type": "stream",
          "text": [
            "36epoch  286step | loss:  2.1639 :  75%|███████▌  | 6/8 [00:02<00:00,  2.65it/s]"
          ]
        },
        {
          "name": "stdout",
          "output_type": "stream",
          "text": [
            " global_steps : 286\n"
          ]
        },
        {
          "name": "stderr",
          "output_type": "stream",
          "text": [
            "36epoch  287step | loss:  2.1804 :  88%|████████▊ | 7/8 [00:02<00:00,  2.72it/s]"
          ]
        },
        {
          "name": "stdout",
          "output_type": "stream",
          "text": [
            " global_steps : 287\n"
          ]
        },
        {
          "name": "stderr",
          "output_type": "stream",
          "text": [
            "36epoch  288step | loss:  2.1802 : 100%|██████████| 8/8 [00:02<00:00,  2.71it/s]\n"
          ]
        },
        {
          "name": "stdout",
          "output_type": "stream",
          "text": [
            " global_steps : 288\n"
          ]
        },
        {
          "name": "stderr",
          "output_type": "stream",
          "text": [
            "37epoch  289step | loss:  2.1324 :  12%|█▎        | 1/8 [00:00<00:02,  3.39it/s]"
          ]
        },
        {
          "name": "stdout",
          "output_type": "stream",
          "text": [
            " global_steps : 289\n"
          ]
        },
        {
          "name": "stderr",
          "output_type": "stream",
          "text": [
            "37epoch  290step | loss:  2.1438 :  25%|██▌       | 2/8 [00:00<00:01,  3.31it/s]"
          ]
        },
        {
          "name": "stdout",
          "output_type": "stream",
          "text": [
            " global_steps : 290\n"
          ]
        },
        {
          "name": "stderr",
          "output_type": "stream",
          "text": [
            "37epoch  291step | loss:  2.1768 :  38%|███▊      | 3/8 [00:01<00:01,  2.73it/s]"
          ]
        },
        {
          "name": "stdout",
          "output_type": "stream",
          "text": [
            " global_steps : 291\n"
          ]
        },
        {
          "name": "stderr",
          "output_type": "stream",
          "text": [
            "37epoch  292step | loss:  2.1691 :  50%|█████     | 4/8 [00:01<00:01,  2.91it/s]"
          ]
        },
        {
          "name": "stdout",
          "output_type": "stream",
          "text": [
            " global_steps : 292\n"
          ]
        },
        {
          "name": "stderr",
          "output_type": "stream",
          "text": [
            "37epoch  293step | loss:  2.1729 :  62%|██████▎   | 5/8 [00:01<00:01,  2.91it/s]"
          ]
        },
        {
          "name": "stdout",
          "output_type": "stream",
          "text": [
            " global_steps : 293\n"
          ]
        },
        {
          "name": "stderr",
          "output_type": "stream",
          "text": [
            "37epoch  294step | loss:  2.1502 :  75%|███████▌  | 6/8 [00:02<00:00,  2.93it/s]"
          ]
        },
        {
          "name": "stdout",
          "output_type": "stream",
          "text": [
            " global_steps : 294\n"
          ]
        },
        {
          "name": "stderr",
          "output_type": "stream",
          "text": [
            "37epoch  295step | loss:  2.1696 :  88%|████████▊ | 7/8 [00:02<00:00,  2.99it/s]"
          ]
        },
        {
          "name": "stdout",
          "output_type": "stream",
          "text": [
            " global_steps : 295\n"
          ]
        },
        {
          "name": "stderr",
          "output_type": "stream",
          "text": [
            "37epoch  296step | loss:  2.1767 : 100%|██████████| 8/8 [00:02<00:00,  3.01it/s]\n"
          ]
        },
        {
          "name": "stdout",
          "output_type": "stream",
          "text": [
            " global_steps : 296\n"
          ]
        },
        {
          "name": "stderr",
          "output_type": "stream",
          "text": [
            "38epoch  297step | loss:  2.0547 :  12%|█▎        | 1/8 [00:00<00:02,  3.07it/s]"
          ]
        },
        {
          "name": "stdout",
          "output_type": "stream",
          "text": [
            " global_steps : 297\n"
          ]
        },
        {
          "name": "stderr",
          "output_type": "stream",
          "text": [
            "38epoch  298step | loss:  2.1004 :  25%|██▌       | 2/8 [00:00<00:01,  3.05it/s]"
          ]
        },
        {
          "name": "stdout",
          "output_type": "stream",
          "text": [
            " global_steps : 298\n"
          ]
        },
        {
          "name": "stderr",
          "output_type": "stream",
          "text": [
            "38epoch  299step | loss:  2.1256 :  38%|███▊      | 3/8 [00:00<00:01,  3.03it/s]"
          ]
        },
        {
          "name": "stdout",
          "output_type": "stream",
          "text": [
            " global_steps : 299\n"
          ]
        },
        {
          "name": "stderr",
          "output_type": "stream",
          "text": [
            "epoch 38 loss: 2.3502: 100%|██████████| 2/2 [00:00<00:00, 17.93it/s]\n"
          ]
        },
        {
          "name": "stdout",
          "output_type": "stream",
          "text": [
            "validation multi-class accuracy = 0.3387, f1 score = 0.2693\n",
            "              precision    recall  f1-score   support\n",
            "\n",
            "           0       0.33      0.33      0.33         3\n",
            "           1       0.00      0.00      0.00         3\n",
            "           2       1.00      1.00      1.00         2\n",
            "           3       0.75      1.00      0.86         3\n",
            "           4       0.21      1.00      0.35         4\n",
            "           5       1.00      0.25      0.40         4\n",
            "           6       0.00      0.00      0.00         3\n",
            "           7       1.00      0.33      0.50         3\n",
            "           8       0.50      0.33      0.40         3\n",
            "           9       0.00      0.00      0.00         3\n",
            "          10       0.25      0.33      0.29         6\n",
            "          11       0.00      0.00      0.00         3\n",
            "          12       0.00      0.00      0.00         2\n",
            "          13       0.00      0.00      0.00         2\n",
            "          14       0.27      1.00      0.42         4\n",
            "          15       0.33      0.25      0.29         4\n",
            "          16       0.25      0.33      0.29         3\n",
            "          17       0.00      0.00      0.00         4\n",
            "          18       0.00      0.00      0.00         3\n",
            "\n",
            "    accuracy                           0.34        62\n",
            "   macro avg       0.31      0.32      0.27        62\n",
            "weighted avg       0.31      0.34      0.27        62\n",
            "\n"
          ]
        },
        {
          "name": "stderr",
          "output_type": "stream",
          "text": [
            "\r38epoch  300step | loss:  2.1656 :  50%|█████     | 4/8 [00:07<00:10,  2.66s/it]"
          ]
        },
        {
          "name": "stdout",
          "output_type": "stream",
          "text": [
            "eval/acc : 0.3387096774193548, eval/f1 : 0.2692893561133956, global_steps: 300\n"
          ]
        },
        {
          "name": "stderr",
          "output_type": "stream",
          "text": [
            "38epoch  301step | loss:  2.1456 :  62%|██████▎   | 5/8 [00:07<00:05,  1.81s/it]"
          ]
        },
        {
          "name": "stdout",
          "output_type": "stream",
          "text": [
            " global_steps : 301\n"
          ]
        },
        {
          "name": "stderr",
          "output_type": "stream",
          "text": [
            "38epoch  302step | loss:  2.1765 :  75%|███████▌  | 6/8 [00:07<00:02,  1.30s/it]"
          ]
        },
        {
          "name": "stdout",
          "output_type": "stream",
          "text": [
            " global_steps : 302\n"
          ]
        },
        {
          "name": "stderr",
          "output_type": "stream",
          "text": [
            "38epoch  303step | loss:  2.1922 :  88%|████████▊ | 7/8 [00:08<00:00,  1.03it/s]"
          ]
        },
        {
          "name": "stdout",
          "output_type": "stream",
          "text": [
            " global_steps : 303\n"
          ]
        },
        {
          "name": "stderr",
          "output_type": "stream",
          "text": [
            "38epoch  304step | loss:  2.1887 : 100%|██████████| 8/8 [00:08<00:00,  1.05s/it]\n"
          ]
        },
        {
          "name": "stdout",
          "output_type": "stream",
          "text": [
            " global_steps : 304\n"
          ]
        },
        {
          "name": "stderr",
          "output_type": "stream",
          "text": [
            "39epoch  305step | loss:  2.0730 :  12%|█▎        | 1/8 [00:00<00:02,  3.31it/s]"
          ]
        },
        {
          "name": "stdout",
          "output_type": "stream",
          "text": [
            " global_steps : 305\n"
          ]
        },
        {
          "name": "stderr",
          "output_type": "stream",
          "text": [
            "39epoch  306step | loss:  2.1217 :  25%|██▌       | 2/8 [00:00<00:01,  3.27it/s]"
          ]
        },
        {
          "name": "stdout",
          "output_type": "stream",
          "text": [
            " global_steps : 306\n"
          ]
        },
        {
          "name": "stderr",
          "output_type": "stream",
          "text": [
            "39epoch  307step | loss:  2.1115 :  38%|███▊      | 3/8 [00:00<00:01,  3.23it/s]"
          ]
        },
        {
          "name": "stdout",
          "output_type": "stream",
          "text": [
            " global_steps : 307\n"
          ]
        },
        {
          "name": "stderr",
          "output_type": "stream",
          "text": [
            "39epoch  308step | loss:  2.1532 :  50%|█████     | 4/8 [00:01<00:01,  3.16it/s]"
          ]
        },
        {
          "name": "stdout",
          "output_type": "stream",
          "text": [
            " global_steps : 308\n"
          ]
        },
        {
          "name": "stderr",
          "output_type": "stream",
          "text": [
            "39epoch  309step | loss:  2.1412 :  62%|██████▎   | 5/8 [00:01<00:00,  3.19it/s]"
          ]
        },
        {
          "name": "stdout",
          "output_type": "stream",
          "text": [
            " global_steps : 309\n"
          ]
        },
        {
          "name": "stderr",
          "output_type": "stream",
          "text": [
            "39epoch  310step | loss:  2.1500 :  75%|███████▌  | 6/8 [00:01<00:00,  3.07it/s]"
          ]
        },
        {
          "name": "stdout",
          "output_type": "stream",
          "text": [
            " global_steps : 310\n"
          ]
        },
        {
          "name": "stderr",
          "output_type": "stream",
          "text": [
            "39epoch  311step | loss:  2.1486 :  88%|████████▊ | 7/8 [00:02<00:00,  3.00it/s]"
          ]
        },
        {
          "name": "stdout",
          "output_type": "stream",
          "text": [
            " global_steps : 311\n"
          ]
        },
        {
          "name": "stderr",
          "output_type": "stream",
          "text": [
            "39epoch  312step | loss:  2.1630 : 100%|██████████| 8/8 [00:02<00:00,  3.14it/s]\n"
          ]
        },
        {
          "name": "stdout",
          "output_type": "stream",
          "text": [
            " global_steps : 312\n"
          ]
        },
        {
          "name": "stderr",
          "output_type": "stream",
          "text": [
            "40epoch  313step | loss:  2.1001 :  12%|█▎        | 1/8 [00:00<00:01,  3.60it/s]"
          ]
        },
        {
          "name": "stdout",
          "output_type": "stream",
          "text": [
            " global_steps : 313\n"
          ]
        },
        {
          "name": "stderr",
          "output_type": "stream",
          "text": [
            "40epoch  314step | loss:  2.1712 :  25%|██▌       | 2/8 [00:00<00:01,  3.50it/s]"
          ]
        },
        {
          "name": "stdout",
          "output_type": "stream",
          "text": [
            " global_steps : 314\n"
          ]
        },
        {
          "name": "stderr",
          "output_type": "stream",
          "text": [
            "epoch 40 loss: 2.3500: 100%|██████████| 2/2 [00:00<00:00, 21.93it/s]\n",
            "40epoch  315step | loss:  2.1796 :  38%|███▊      | 3/8 [00:00<00:01,  2.89it/s]"
          ]
        },
        {
          "name": "stdout",
          "output_type": "stream",
          "text": [
            "validation multi-class accuracy = 0.3226, f1 score = 0.2472\n",
            "              precision    recall  f1-score   support\n",
            "\n",
            "           0       0.33      0.33      0.33         3\n",
            "           1       0.00      0.00      0.00         3\n",
            "           2       1.00      1.00      1.00         2\n",
            "           3       0.75      1.00      0.86         3\n",
            "           4       0.21      1.00      0.35         4\n",
            "           5       1.00      0.25      0.40         4\n",
            "           6       0.00      0.00      0.00         3\n",
            "           7       1.00      0.33      0.50         3\n",
            "           8       0.00      0.00      0.00         3\n",
            "           9       0.00      0.00      0.00         3\n",
            "          10       0.22      0.33      0.27         6\n",
            "          11       0.00      0.00      0.00         3\n",
            "          12       0.00      0.00      0.00         2\n",
            "          13       0.00      0.00      0.00         2\n",
            "          14       0.27      1.00      0.42         4\n",
            "          15       0.33      0.25      0.29         4\n",
            "          16       0.25      0.33      0.29         3\n",
            "          17       0.00      0.00      0.00         4\n",
            "          18       0.00      0.00      0.00         3\n",
            "\n",
            "    accuracy                           0.32        62\n",
            "   macro avg       0.28      0.31      0.25        62\n",
            "weighted avg       0.28      0.32      0.25        62\n",
            "\n",
            "eval/acc : 0.3225806451612903, eval/f1 : 0.2472342182687841, global_steps: 315\n"
          ]
        },
        {
          "name": "stderr",
          "output_type": "stream",
          "text": [
            "40epoch  316step | loss:  2.1848 :  50%|█████     | 4/8 [00:01<00:01,  3.06it/s]"
          ]
        },
        {
          "name": "stdout",
          "output_type": "stream",
          "text": [
            " global_steps : 316\n"
          ]
        },
        {
          "name": "stderr",
          "output_type": "stream",
          "text": [
            "40epoch  317step | loss:  2.1988 :  62%|██████▎   | 5/8 [00:01<00:00,  3.20it/s]"
          ]
        },
        {
          "name": "stdout",
          "output_type": "stream",
          "text": [
            " global_steps : 317\n"
          ]
        },
        {
          "name": "stderr",
          "output_type": "stream",
          "text": [
            "40epoch  318step | loss:  2.1927 :  75%|███████▌  | 6/8 [00:01<00:00,  3.17it/s]"
          ]
        },
        {
          "name": "stdout",
          "output_type": "stream",
          "text": [
            " global_steps : 318\n"
          ]
        },
        {
          "name": "stderr",
          "output_type": "stream",
          "text": [
            "40epoch  319step | loss:  2.1922 :  88%|████████▊ | 7/8 [00:02<00:00,  3.15it/s]"
          ]
        },
        {
          "name": "stdout",
          "output_type": "stream",
          "text": [
            " global_steps : 319\n"
          ]
        },
        {
          "name": "stderr",
          "output_type": "stream",
          "text": [
            "40epoch  320step | loss:  2.1831 : 100%|██████████| 8/8 [00:02<00:00,  3.19it/s]\n"
          ]
        },
        {
          "name": "stdout",
          "output_type": "stream",
          "text": [
            " global_steps : 320\n"
          ]
        },
        {
          "name": "stderr",
          "output_type": "stream",
          "text": [
            "41epoch  321step | loss:  2.0699 :  12%|█▎        | 1/8 [00:00<00:02,  3.12it/s]"
          ]
        },
        {
          "name": "stdout",
          "output_type": "stream",
          "text": [
            " global_steps : 321\n"
          ]
        },
        {
          "name": "stderr",
          "output_type": "stream",
          "text": [
            "41epoch  322step | loss:  2.0801 :  25%|██▌       | 2/8 [00:00<00:01,  3.35it/s]"
          ]
        },
        {
          "name": "stdout",
          "output_type": "stream",
          "text": [
            " global_steps : 322\n"
          ]
        },
        {
          "name": "stderr",
          "output_type": "stream",
          "text": [
            "41epoch  323step | loss:  2.1553 :  38%|███▊      | 3/8 [00:00<00:01,  3.28it/s]"
          ]
        },
        {
          "name": "stdout",
          "output_type": "stream",
          "text": [
            " global_steps : 323\n"
          ]
        },
        {
          "name": "stderr",
          "output_type": "stream",
          "text": [
            "41epoch  324step | loss:  2.1675 :  50%|█████     | 4/8 [00:01<00:01,  2.98it/s]"
          ]
        },
        {
          "name": "stdout",
          "output_type": "stream",
          "text": [
            " global_steps : 324\n"
          ]
        },
        {
          "name": "stderr",
          "output_type": "stream",
          "text": [
            "41epoch  325step | loss:  2.2051 :  62%|██████▎   | 5/8 [00:01<00:00,  3.09it/s]"
          ]
        },
        {
          "name": "stdout",
          "output_type": "stream",
          "text": [
            " global_steps : 325\n"
          ]
        },
        {
          "name": "stderr",
          "output_type": "stream",
          "text": [
            "41epoch  326step | loss:  2.1588 :  75%|███████▌  | 6/8 [00:01<00:00,  3.23it/s]"
          ]
        },
        {
          "name": "stdout",
          "output_type": "stream",
          "text": [
            " global_steps : 326\n"
          ]
        },
        {
          "name": "stderr",
          "output_type": "stream",
          "text": [
            "41epoch  327step | loss:  2.1613 :  88%|████████▊ | 7/8 [00:02<00:00,  3.14it/s]"
          ]
        },
        {
          "name": "stdout",
          "output_type": "stream",
          "text": [
            " global_steps : 327\n"
          ]
        },
        {
          "name": "stderr",
          "output_type": "stream",
          "text": [
            "41epoch  328step | loss:  2.1695 : 100%|██████████| 8/8 [00:02<00:00,  3.20it/s]\n"
          ]
        },
        {
          "name": "stdout",
          "output_type": "stream",
          "text": [
            " global_steps : 328\n"
          ]
        },
        {
          "name": "stderr",
          "output_type": "stream",
          "text": [
            "42epoch  329step | loss:  2.2611 :  12%|█▎        | 1/8 [00:00<00:02,  3.32it/s]"
          ]
        },
        {
          "name": "stdout",
          "output_type": "stream",
          "text": [
            " global_steps : 329\n"
          ]
        },
        {
          "name": "stderr",
          "output_type": "stream",
          "text": [
            "epoch 42 loss: 2.3478: 100%|██████████| 2/2 [00:00<00:00, 14.67it/s]\n",
            "42epoch  330step | loss:  2.1824 :  25%|██▌       | 2/8 [00:00<00:02,  2.57it/s]"
          ]
        },
        {
          "name": "stdout",
          "output_type": "stream",
          "text": [
            "validation multi-class accuracy = 0.3387, f1 score = 0.2693\n",
            "              precision    recall  f1-score   support\n",
            "\n",
            "           0       0.33      0.33      0.33         3\n",
            "           1       0.00      0.00      0.00         3\n",
            "           2       1.00      1.00      1.00         2\n",
            "           3       0.75      1.00      0.86         3\n",
            "           4       0.21      1.00      0.35         4\n",
            "           5       1.00      0.25      0.40         4\n",
            "           6       0.00      0.00      0.00         3\n",
            "           7       1.00      0.33      0.50         3\n",
            "           8       0.50      0.33      0.40         3\n",
            "           9       0.00      0.00      0.00         3\n",
            "          10       0.25      0.33      0.29         6\n",
            "          11       0.00      0.00      0.00         3\n",
            "          12       0.00      0.00      0.00         2\n",
            "          13       0.00      0.00      0.00         2\n",
            "          14       0.27      1.00      0.42         4\n",
            "          15       0.33      0.25      0.29         4\n",
            "          16       0.25      0.33      0.29         3\n",
            "          17       0.00      0.00      0.00         4\n",
            "          18       0.00      0.00      0.00         3\n",
            "\n",
            "    accuracy                           0.34        62\n",
            "   macro avg       0.31      0.32      0.27        62\n",
            "weighted avg       0.31      0.34      0.27        62\n",
            "\n",
            "eval/acc : 0.3387096774193548, eval/f1 : 0.2692893561133956, global_steps: 330\n"
          ]
        },
        {
          "name": "stderr",
          "output_type": "stream",
          "text": [
            "42epoch  331step | loss:  2.1489 :  38%|███▊      | 3/8 [00:01<00:01,  2.73it/s]"
          ]
        },
        {
          "name": "stdout",
          "output_type": "stream",
          "text": [
            " global_steps : 331\n"
          ]
        },
        {
          "name": "stderr",
          "output_type": "stream",
          "text": [
            "42epoch  332step | loss:  2.1295 :  50%|█████     | 4/8 [00:01<00:01,  2.62it/s]"
          ]
        },
        {
          "name": "stdout",
          "output_type": "stream",
          "text": [
            " global_steps : 332\n"
          ]
        },
        {
          "name": "stderr",
          "output_type": "stream",
          "text": [
            "42epoch  333step | loss:  2.1714 :  62%|██████▎   | 5/8 [00:01<00:01,  2.61it/s]"
          ]
        },
        {
          "name": "stdout",
          "output_type": "stream",
          "text": [
            " global_steps : 333\n"
          ]
        },
        {
          "name": "stderr",
          "output_type": "stream",
          "text": [
            "42epoch  334step | loss:  2.1653 :  75%|███████▌  | 6/8 [00:02<00:00,  2.63it/s]"
          ]
        },
        {
          "name": "stdout",
          "output_type": "stream",
          "text": [
            " global_steps : 334\n"
          ]
        },
        {
          "name": "stderr",
          "output_type": "stream",
          "text": [
            "42epoch  335step | loss:  2.1768 :  88%|████████▊ | 7/8 [00:02<00:00,  2.50it/s]"
          ]
        },
        {
          "name": "stdout",
          "output_type": "stream",
          "text": [
            " global_steps : 335\n"
          ]
        },
        {
          "name": "stderr",
          "output_type": "stream",
          "text": [
            "42epoch  336step | loss:  2.1734 : 100%|██████████| 8/8 [00:03<00:00,  2.65it/s]\n"
          ]
        },
        {
          "name": "stdout",
          "output_type": "stream",
          "text": [
            " global_steps : 336\n"
          ]
        },
        {
          "name": "stderr",
          "output_type": "stream",
          "text": [
            "43epoch  337step | loss:  2.1993 :  12%|█▎        | 1/8 [00:00<00:02,  2.49it/s]"
          ]
        },
        {
          "name": "stdout",
          "output_type": "stream",
          "text": [
            " global_steps : 337\n"
          ]
        },
        {
          "name": "stderr",
          "output_type": "stream",
          "text": [
            "43epoch  338step | loss:  2.2285 :  25%|██▌       | 2/8 [00:00<00:02,  2.41it/s]"
          ]
        },
        {
          "name": "stdout",
          "output_type": "stream",
          "text": [
            " global_steps : 338\n"
          ]
        },
        {
          "name": "stderr",
          "output_type": "stream",
          "text": [
            "43epoch  339step | loss:  2.2475 :  38%|███▊      | 3/8 [00:01<00:02,  2.37it/s]"
          ]
        },
        {
          "name": "stdout",
          "output_type": "stream",
          "text": [
            " global_steps : 339\n"
          ]
        },
        {
          "name": "stderr",
          "output_type": "stream",
          "text": [
            "43epoch  340step | loss:  2.2016 :  50%|█████     | 4/8 [00:01<00:01,  2.66it/s]"
          ]
        },
        {
          "name": "stdout",
          "output_type": "stream",
          "text": [
            " global_steps : 340\n"
          ]
        },
        {
          "name": "stderr",
          "output_type": "stream",
          "text": [
            "43epoch  341step | loss:  2.2017 :  62%|██████▎   | 5/8 [00:01<00:01,  2.59it/s]"
          ]
        },
        {
          "name": "stdout",
          "output_type": "stream",
          "text": [
            " global_steps : 341\n"
          ]
        },
        {
          "name": "stderr",
          "output_type": "stream",
          "text": [
            "43epoch  342step | loss:  2.1950 :  75%|███████▌  | 6/8 [00:02<00:00,  2.60it/s]"
          ]
        },
        {
          "name": "stdout",
          "output_type": "stream",
          "text": [
            " global_steps : 342\n"
          ]
        },
        {
          "name": "stderr",
          "output_type": "stream",
          "text": [
            "43epoch  343step | loss:  2.1658 :  88%|████████▊ | 7/8 [00:02<00:00,  2.62it/s]"
          ]
        },
        {
          "name": "stdout",
          "output_type": "stream",
          "text": [
            " global_steps : 343\n"
          ]
        },
        {
          "name": "stderr",
          "output_type": "stream",
          "text": [
            "43epoch  344step | loss:  2.1632 : 100%|██████████| 8/8 [00:03<00:00,  2.51it/s]\n"
          ]
        },
        {
          "name": "stdout",
          "output_type": "stream",
          "text": [
            " global_steps : 344\n"
          ]
        },
        {
          "name": "stderr",
          "output_type": "stream",
          "text": [
            "epoch 44 loss: 2.3434: 100%|██████████| 2/2 [00:00<00:00, 11.12it/s]\n",
            "44epoch  345step | loss:  2.2076 :  12%|█▎        | 1/8 [00:00<00:05,  1.35it/s]"
          ]
        },
        {
          "name": "stdout",
          "output_type": "stream",
          "text": [
            "validation multi-class accuracy = 0.3226, f1 score = 0.2472\n",
            "              precision    recall  f1-score   support\n",
            "\n",
            "           0       0.33      0.33      0.33         3\n",
            "           1       0.00      0.00      0.00         3\n",
            "           2       1.00      1.00      1.00         2\n",
            "           3       0.75      1.00      0.86         3\n",
            "           4       0.21      1.00      0.35         4\n",
            "           5       1.00      0.25      0.40         4\n",
            "           6       0.00      0.00      0.00         3\n",
            "           7       1.00      0.33      0.50         3\n",
            "           8       0.00      0.00      0.00         3\n",
            "           9       0.00      0.00      0.00         3\n",
            "          10       0.22      0.33      0.27         6\n",
            "          11       0.00      0.00      0.00         3\n",
            "          12       0.00      0.00      0.00         2\n",
            "          13       0.00      0.00      0.00         2\n",
            "          14       0.27      1.00      0.42         4\n",
            "          15       0.33      0.25      0.29         4\n",
            "          16       0.25      0.33      0.29         3\n",
            "          17       0.00      0.00      0.00         4\n",
            "          18       0.00      0.00      0.00         3\n",
            "\n",
            "    accuracy                           0.32        62\n",
            "   macro avg       0.28      0.31      0.25        62\n",
            "weighted avg       0.28      0.32      0.25        62\n",
            "\n",
            "eval/acc : 0.3225806451612903, eval/f1 : 0.2472342182687841, global_steps: 345\n"
          ]
        },
        {
          "name": "stderr",
          "output_type": "stream",
          "text": [
            "44epoch  346step | loss:  2.1845 :  25%|██▌       | 2/8 [00:01<00:03,  1.93it/s]"
          ]
        },
        {
          "name": "stdout",
          "output_type": "stream",
          "text": [
            " global_steps : 346\n"
          ]
        },
        {
          "name": "stderr",
          "output_type": "stream",
          "text": [
            "44epoch  347step | loss:  2.1545 :  38%|███▊      | 3/8 [00:01<00:02,  2.08it/s]"
          ]
        },
        {
          "name": "stdout",
          "output_type": "stream",
          "text": [
            " global_steps : 347\n"
          ]
        },
        {
          "name": "stderr",
          "output_type": "stream",
          "text": [
            "44epoch  348step | loss:  2.1943 :  50%|█████     | 4/8 [00:01<00:01,  2.16it/s]"
          ]
        },
        {
          "name": "stdout",
          "output_type": "stream",
          "text": [
            " global_steps : 348\n"
          ]
        },
        {
          "name": "stderr",
          "output_type": "stream",
          "text": [
            "44epoch  349step | loss:  2.1902 :  62%|██████▎   | 5/8 [00:02<00:01,  2.25it/s]"
          ]
        },
        {
          "name": "stdout",
          "output_type": "stream",
          "text": [
            " global_steps : 349\n"
          ]
        },
        {
          "name": "stderr",
          "output_type": "stream",
          "text": [
            "44epoch  350step | loss:  2.2060 :  75%|███████▌  | 6/8 [00:02<00:00,  2.40it/s]"
          ]
        },
        {
          "name": "stdout",
          "output_type": "stream",
          "text": [
            " global_steps : 350\n"
          ]
        },
        {
          "name": "stderr",
          "output_type": "stream",
          "text": [
            "44epoch  351step | loss:  2.1883 :  88%|████████▊ | 7/8 [00:03<00:00,  2.53it/s]"
          ]
        },
        {
          "name": "stdout",
          "output_type": "stream",
          "text": [
            " global_steps : 351\n"
          ]
        },
        {
          "name": "stderr",
          "output_type": "stream",
          "text": [
            "44epoch  352step | loss:  2.1885 : 100%|██████████| 8/8 [00:03<00:00,  2.37it/s]\n"
          ]
        },
        {
          "name": "stdout",
          "output_type": "stream",
          "text": [
            " global_steps : 352\n"
          ]
        },
        {
          "name": "stderr",
          "output_type": "stream",
          "text": [
            "45epoch  353step | loss:  2.2121 :  12%|█▎        | 1/8 [00:00<00:03,  2.00it/s]"
          ]
        },
        {
          "name": "stdout",
          "output_type": "stream",
          "text": [
            " global_steps : 353\n"
          ]
        },
        {
          "name": "stderr",
          "output_type": "stream",
          "text": [
            "45epoch  354step | loss:  2.2169 :  25%|██▌       | 2/8 [00:00<00:02,  2.48it/s]"
          ]
        },
        {
          "name": "stdout",
          "output_type": "stream",
          "text": [
            " global_steps : 354\n"
          ]
        },
        {
          "name": "stderr",
          "output_type": "stream",
          "text": [
            "45epoch  355step | loss:  2.2019 :  38%|███▊      | 3/8 [00:01<00:01,  2.60it/s]"
          ]
        },
        {
          "name": "stdout",
          "output_type": "stream",
          "text": [
            " global_steps : 355\n"
          ]
        },
        {
          "name": "stderr",
          "output_type": "stream",
          "text": [
            "45epoch  356step | loss:  2.1915 :  50%|█████     | 4/8 [00:01<00:01,  2.58it/s]"
          ]
        },
        {
          "name": "stdout",
          "output_type": "stream",
          "text": [
            " global_steps : 356\n"
          ]
        },
        {
          "name": "stderr",
          "output_type": "stream",
          "text": [
            "45epoch  357step | loss:  2.1860 :  62%|██████▎   | 5/8 [00:01<00:01,  2.66it/s]"
          ]
        },
        {
          "name": "stdout",
          "output_type": "stream",
          "text": [
            " global_steps : 357\n"
          ]
        },
        {
          "name": "stderr",
          "output_type": "stream",
          "text": [
            "45epoch  358step | loss:  2.1646 :  75%|███████▌  | 6/8 [00:02<00:00,  2.59it/s]"
          ]
        },
        {
          "name": "stdout",
          "output_type": "stream",
          "text": [
            " global_steps : 358\n"
          ]
        },
        {
          "name": "stderr",
          "output_type": "stream",
          "text": [
            "45epoch  359step | loss:  2.1546 :  88%|████████▊ | 7/8 [00:02<00:00,  2.72it/s]"
          ]
        },
        {
          "name": "stdout",
          "output_type": "stream",
          "text": [
            " global_steps : 359\n"
          ]
        },
        {
          "name": "stderr",
          "output_type": "stream",
          "text": [
            "epoch 45 loss: 2.3271: 100%|██████████| 2/2 [00:00<00:00, 15.23it/s]\n",
            "45epoch  360step | loss:  2.1612 : 100%|██████████| 8/8 [00:03<00:00,  2.43it/s]\n"
          ]
        },
        {
          "name": "stdout",
          "output_type": "stream",
          "text": [
            "validation multi-class accuracy = 0.3387, f1 score = 0.2648\n",
            "              precision    recall  f1-score   support\n",
            "\n",
            "           0       0.33      0.33      0.33         3\n",
            "           1       0.00      0.00      0.00         3\n",
            "           2       1.00      1.00      1.00         2\n",
            "           3       0.60      1.00      0.75         3\n",
            "           4       0.21      1.00      0.35         4\n",
            "           5       1.00      0.25      0.40         4\n",
            "           6       0.00      0.00      0.00         3\n",
            "           7       1.00      0.33      0.50         3\n",
            "           8       0.50      0.33      0.40         3\n",
            "           9       0.00      0.00      0.00         3\n",
            "          10       0.29      0.33      0.31         6\n",
            "          11       0.00      0.00      0.00         3\n",
            "          12       0.00      0.00      0.00         2\n",
            "          13       0.00      0.00      0.00         2\n",
            "          14       0.27      1.00      0.42         4\n",
            "          15       0.33      0.25      0.29         4\n",
            "          16       0.25      0.33      0.29         3\n",
            "          17       0.00      0.00      0.00         4\n",
            "          18       0.00      0.00      0.00         3\n",
            "\n",
            "    accuracy                           0.34        62\n",
            "   macro avg       0.30      0.32      0.26        62\n",
            "weighted avg       0.31      0.34      0.27        62\n",
            "\n",
            "eval/acc : 0.3387096774193548, eval/f1 : 0.26480699636787797, global_steps: 360\n"
          ]
        },
        {
          "name": "stderr",
          "output_type": "stream",
          "text": [
            "46epoch  361step | loss:  2.2544 :  12%|█▎        | 1/8 [00:00<00:02,  2.65it/s]"
          ]
        },
        {
          "name": "stdout",
          "output_type": "stream",
          "text": [
            " global_steps : 361\n"
          ]
        },
        {
          "name": "stderr",
          "output_type": "stream",
          "text": [
            "46epoch  362step | loss:  2.2665 :  25%|██▌       | 2/8 [00:00<00:02,  2.48it/s]"
          ]
        },
        {
          "name": "stdout",
          "output_type": "stream",
          "text": [
            " global_steps : 362\n"
          ]
        },
        {
          "name": "stderr",
          "output_type": "stream",
          "text": [
            "46epoch  363step | loss:  2.2353 :  38%|███▊      | 3/8 [00:01<00:01,  2.68it/s]"
          ]
        },
        {
          "name": "stdout",
          "output_type": "stream",
          "text": [
            " global_steps : 363\n"
          ]
        },
        {
          "name": "stderr",
          "output_type": "stream",
          "text": [
            "46epoch  364step | loss:  2.1929 :  50%|█████     | 4/8 [00:01<00:01,  2.71it/s]"
          ]
        },
        {
          "name": "stdout",
          "output_type": "stream",
          "text": [
            " global_steps : 364\n"
          ]
        },
        {
          "name": "stderr",
          "output_type": "stream",
          "text": [
            "46epoch  365step | loss:  2.1632 :  62%|██████▎   | 5/8 [00:01<00:01,  2.72it/s]"
          ]
        },
        {
          "name": "stdout",
          "output_type": "stream",
          "text": [
            " global_steps : 365\n"
          ]
        },
        {
          "name": "stderr",
          "output_type": "stream",
          "text": [
            "46epoch  366step | loss:  2.1497 :  75%|███████▌  | 6/8 [00:02<00:00,  2.37it/s]"
          ]
        },
        {
          "name": "stdout",
          "output_type": "stream",
          "text": [
            " global_steps : 366\n"
          ]
        },
        {
          "name": "stderr",
          "output_type": "stream",
          "text": [
            "46epoch  367step | loss:  2.1454 :  88%|████████▊ | 7/8 [00:02<00:00,  2.62it/s]"
          ]
        },
        {
          "name": "stdout",
          "output_type": "stream",
          "text": [
            " global_steps : 367\n"
          ]
        },
        {
          "name": "stderr",
          "output_type": "stream",
          "text": [
            "46epoch  368step | loss:  2.1457 : 100%|██████████| 8/8 [00:02<00:00,  2.69it/s]\n"
          ]
        },
        {
          "name": "stdout",
          "output_type": "stream",
          "text": [
            " global_steps : 368\n"
          ]
        },
        {
          "name": "stderr",
          "output_type": "stream",
          "text": [
            "47epoch  369step | loss:  2.0974 :  12%|█▎        | 1/8 [00:00<00:02,  2.96it/s]"
          ]
        },
        {
          "name": "stdout",
          "output_type": "stream",
          "text": [
            " global_steps : 369\n"
          ]
        },
        {
          "name": "stderr",
          "output_type": "stream",
          "text": [
            "47epoch  370step | loss:  2.0418 :  25%|██▌       | 2/8 [00:00<00:01,  3.15it/s]"
          ]
        },
        {
          "name": "stdout",
          "output_type": "stream",
          "text": [
            " global_steps : 370\n"
          ]
        },
        {
          "name": "stderr",
          "output_type": "stream",
          "text": [
            "47epoch  371step | loss:  2.0604 :  38%|███▊      | 3/8 [00:00<00:01,  3.28it/s]"
          ]
        },
        {
          "name": "stdout",
          "output_type": "stream",
          "text": [
            " global_steps : 371\n"
          ]
        },
        {
          "name": "stderr",
          "output_type": "stream",
          "text": [
            "47epoch  372step | loss:  2.0827 :  50%|█████     | 4/8 [00:01<00:01,  3.35it/s]"
          ]
        },
        {
          "name": "stdout",
          "output_type": "stream",
          "text": [
            " global_steps : 372\n"
          ]
        },
        {
          "name": "stderr",
          "output_type": "stream",
          "text": [
            "47epoch  373step | loss:  2.1078 :  62%|██████▎   | 5/8 [00:01<00:00,  3.19it/s]"
          ]
        },
        {
          "name": "stdout",
          "output_type": "stream",
          "text": [
            " global_steps : 373\n"
          ]
        },
        {
          "name": "stderr",
          "output_type": "stream",
          "text": [
            "47epoch  374step | loss:  2.1049 :  75%|███████▌  | 6/8 [00:01<00:00,  3.13it/s]"
          ]
        },
        {
          "name": "stdout",
          "output_type": "stream",
          "text": [
            " global_steps : 374\n"
          ]
        },
        {
          "name": "stderr",
          "output_type": "stream",
          "text": [
            "epoch 47 loss: 2.3128: 100%|██████████| 2/2 [00:00<00:00, 18.93it/s]\n"
          ]
        },
        {
          "name": "stdout",
          "output_type": "stream",
          "text": [
            "validation multi-class accuracy = 0.3710, f1 score = 0.3189\n",
            "              precision    recall  f1-score   support\n",
            "\n",
            "           0       0.50      0.67      0.57         3\n",
            "           1       0.00      0.00      0.00         3\n",
            "           2       1.00      1.00      1.00         2\n",
            "           3       0.75      1.00      0.86         3\n",
            "           4       0.22      1.00      0.36         4\n",
            "           5       1.00      0.25      0.40         4\n",
            "           6       0.00      0.00      0.00         3\n",
            "           7       1.00      0.33      0.50         3\n",
            "           8       0.50      0.33      0.40         3\n",
            "           9       0.00      0.00      0.00         3\n",
            "          10       0.29      0.33      0.31         6\n",
            "          11       0.00      0.00      0.00         3\n",
            "          12       0.00      0.00      0.00         2\n",
            "          13       1.00      0.50      0.67         2\n",
            "          14       0.27      1.00      0.42         4\n",
            "          15       0.33      0.25      0.29         4\n",
            "          16       0.25      0.33      0.29         3\n",
            "          17       0.00      0.00      0.00         4\n",
            "          18       0.00      0.00      0.00         3\n",
            "\n",
            "    accuracy                           0.37        62\n",
            "   macro avg       0.37      0.37      0.32        62\n",
            "weighted avg       0.35      0.37      0.30        62\n",
            "\n"
          ]
        },
        {
          "name": "stderr",
          "output_type": "stream",
          "text": [
            "\r47epoch  375step | loss:  2.1263 :  88%|████████▊ | 7/8 [00:07<00:02,  2.05s/it]"
          ]
        },
        {
          "name": "stdout",
          "output_type": "stream",
          "text": [
            "eval/acc : 0.3709677419354839, eval/f1 : 0.3188972615565413, global_steps: 375\n"
          ]
        },
        {
          "name": "stderr",
          "output_type": "stream",
          "text": [
            "47epoch  376step | loss:  2.1312 : 100%|██████████| 8/8 [00:07<00:00,  1.02it/s]\n"
          ]
        },
        {
          "name": "stdout",
          "output_type": "stream",
          "text": [
            " global_steps : 376\n"
          ]
        },
        {
          "name": "stderr",
          "output_type": "stream",
          "text": [
            "48epoch  377step | loss:  2.2238 :  12%|█▎        | 1/8 [00:00<00:02,  3.31it/s]"
          ]
        },
        {
          "name": "stdout",
          "output_type": "stream",
          "text": [
            " global_steps : 377\n"
          ]
        },
        {
          "name": "stderr",
          "output_type": "stream",
          "text": [
            "48epoch  378step | loss:  2.2088 :  25%|██▌       | 2/8 [00:00<00:01,  3.28it/s]"
          ]
        },
        {
          "name": "stdout",
          "output_type": "stream",
          "text": [
            " global_steps : 378\n"
          ]
        },
        {
          "name": "stderr",
          "output_type": "stream",
          "text": [
            "48epoch  379step | loss:  2.1777 :  38%|███▊      | 3/8 [00:00<00:01,  3.21it/s]"
          ]
        },
        {
          "name": "stdout",
          "output_type": "stream",
          "text": [
            " global_steps : 379\n"
          ]
        },
        {
          "name": "stderr",
          "output_type": "stream",
          "text": [
            "48epoch  380step | loss:  2.1488 :  50%|█████     | 4/8 [00:01<00:01,  3.24it/s]"
          ]
        },
        {
          "name": "stdout",
          "output_type": "stream",
          "text": [
            " global_steps : 380\n"
          ]
        },
        {
          "name": "stderr",
          "output_type": "stream",
          "text": [
            "48epoch  381step | loss:  2.1183 :  62%|██████▎   | 5/8 [00:01<00:00,  3.31it/s]"
          ]
        },
        {
          "name": "stdout",
          "output_type": "stream",
          "text": [
            " global_steps : 381\n"
          ]
        },
        {
          "name": "stderr",
          "output_type": "stream",
          "text": [
            "48epoch  382step | loss:  2.1395 :  75%|███████▌  | 6/8 [00:01<00:00,  3.33it/s]"
          ]
        },
        {
          "name": "stdout",
          "output_type": "stream",
          "text": [
            " global_steps : 382\n"
          ]
        },
        {
          "name": "stderr",
          "output_type": "stream",
          "text": [
            "48epoch  383step | loss:  2.1279 :  88%|████████▊ | 7/8 [00:02<00:00,  3.28it/s]"
          ]
        },
        {
          "name": "stdout",
          "output_type": "stream",
          "text": [
            " global_steps : 383\n"
          ]
        },
        {
          "name": "stderr",
          "output_type": "stream",
          "text": [
            "48epoch  384step | loss:  2.1286 : 100%|██████████| 8/8 [00:02<00:00,  3.31it/s]\n"
          ]
        },
        {
          "name": "stdout",
          "output_type": "stream",
          "text": [
            " global_steps : 384\n"
          ]
        },
        {
          "name": "stderr",
          "output_type": "stream",
          "text": [
            "49epoch  385step | loss:  2.0959 :  12%|█▎        | 1/8 [00:00<00:02,  2.82it/s]"
          ]
        },
        {
          "name": "stdout",
          "output_type": "stream",
          "text": [
            " global_steps : 385\n"
          ]
        },
        {
          "name": "stderr",
          "output_type": "stream",
          "text": [
            "49epoch  386step | loss:  2.0419 :  25%|██▌       | 2/8 [00:00<00:01,  3.13it/s]"
          ]
        },
        {
          "name": "stdout",
          "output_type": "stream",
          "text": [
            " global_steps : 386\n"
          ]
        },
        {
          "name": "stderr",
          "output_type": "stream",
          "text": [
            "49epoch  387step | loss:  2.0866 :  38%|███▊      | 3/8 [00:00<00:01,  3.16it/s]"
          ]
        },
        {
          "name": "stdout",
          "output_type": "stream",
          "text": [
            " global_steps : 387\n"
          ]
        },
        {
          "name": "stderr",
          "output_type": "stream",
          "text": [
            "49epoch  388step | loss:  2.0961 :  50%|█████     | 4/8 [00:01<00:01,  3.12it/s]"
          ]
        },
        {
          "name": "stdout",
          "output_type": "stream",
          "text": [
            " global_steps : 388\n"
          ]
        },
        {
          "name": "stderr",
          "output_type": "stream",
          "text": [
            "49epoch  389step | loss:  2.1109 :  62%|██████▎   | 5/8 [00:01<00:00,  3.13it/s]"
          ]
        },
        {
          "name": "stdout",
          "output_type": "stream",
          "text": [
            " global_steps : 389\n"
          ]
        },
        {
          "name": "stderr",
          "output_type": "stream",
          "text": [
            "epoch 49 loss: 2.2922: 100%|██████████| 2/2 [00:00<00:00, 20.21it/s]\n"
          ]
        },
        {
          "name": "stdout",
          "output_type": "stream",
          "text": [
            "validation multi-class accuracy = 0.3871, f1 score = 0.3262\n",
            "              precision    recall  f1-score   support\n",
            "\n",
            "           0       0.50      0.67      0.57         3\n",
            "           1       0.00      0.00      0.00         3\n",
            "           2       1.00      1.00      1.00         2\n",
            "           3       0.75      1.00      0.86         3\n",
            "           4       0.24      1.00      0.38         4\n",
            "           5       1.00      0.25      0.40         4\n",
            "           6       0.00      0.00      0.00         3\n",
            "           7       1.00      0.33      0.50         3\n",
            "           8       0.50      0.33      0.40         3\n",
            "           9       0.00      0.00      0.00         3\n",
            "          10       0.38      0.50      0.43         6\n",
            "          11       0.00      0.00      0.00         3\n",
            "          12       0.00      0.00      0.00         2\n",
            "          13       1.00      0.50      0.67         2\n",
            "          14       0.27      1.00      0.42         4\n",
            "          15       0.33      0.25      0.29         4\n",
            "          16       0.25      0.33      0.29         3\n",
            "          17       0.00      0.00      0.00         4\n",
            "          18       0.00      0.00      0.00         3\n",
            "\n",
            "    accuracy                           0.39        62\n",
            "   macro avg       0.38      0.38      0.33        62\n",
            "weighted avg       0.36      0.39      0.32        62\n",
            "\n"
          ]
        },
        {
          "name": "stderr",
          "output_type": "stream",
          "text": [
            "\r49epoch  390step | loss:  2.1220 :  75%|███████▌  | 6/8 [00:07<00:04,  2.31s/it]"
          ]
        },
        {
          "name": "stdout",
          "output_type": "stream",
          "text": [
            "eval/acc : 0.3870967741935484, eval/f1 : 0.32617068988260123, global_steps: 390\n"
          ]
        },
        {
          "name": "stderr",
          "output_type": "stream",
          "text": [
            "49epoch  391step | loss:  2.1317 :  88%|████████▊ | 7/8 [00:08<00:01,  1.66s/it]"
          ]
        },
        {
          "name": "stdout",
          "output_type": "stream",
          "text": [
            " global_steps : 391\n"
          ]
        },
        {
          "name": "stderr",
          "output_type": "stream",
          "text": [
            "49epoch  392step | loss:  2.1198 : 100%|██████████| 8/8 [00:08<00:00,  1.05s/it]\n"
          ]
        },
        {
          "name": "stdout",
          "output_type": "stream",
          "text": [
            " global_steps : 392\n"
          ]
        },
        {
          "name": "stderr",
          "output_type": "stream",
          "text": [
            "50epoch  393step | loss:  1.9749 :  12%|█▎        | 1/8 [00:00<00:02,  2.95it/s]"
          ]
        },
        {
          "name": "stdout",
          "output_type": "stream",
          "text": [
            " global_steps : 393\n"
          ]
        },
        {
          "name": "stderr",
          "output_type": "stream",
          "text": [
            "50epoch  394step | loss:  2.0413 :  25%|██▌       | 2/8 [00:00<00:01,  3.07it/s]"
          ]
        },
        {
          "name": "stdout",
          "output_type": "stream",
          "text": [
            " global_steps : 394\n"
          ]
        },
        {
          "name": "stderr",
          "output_type": "stream",
          "text": [
            "50epoch  395step | loss:  2.0538 :  38%|███▊      | 3/8 [00:00<00:01,  3.21it/s]"
          ]
        },
        {
          "name": "stdout",
          "output_type": "stream",
          "text": [
            " global_steps : 395\n"
          ]
        },
        {
          "name": "stderr",
          "output_type": "stream",
          "text": [
            "50epoch  396step | loss:  2.0436 :  50%|█████     | 4/8 [00:01<00:01,  3.22it/s]"
          ]
        },
        {
          "name": "stdout",
          "output_type": "stream",
          "text": [
            " global_steps : 396\n"
          ]
        },
        {
          "name": "stderr",
          "output_type": "stream",
          "text": [
            "50epoch  397step | loss:  2.0704 :  62%|██████▎   | 5/8 [00:01<00:00,  3.18it/s]"
          ]
        },
        {
          "name": "stdout",
          "output_type": "stream",
          "text": [
            " global_steps : 397\n"
          ]
        },
        {
          "name": "stderr",
          "output_type": "stream",
          "text": [
            "50epoch  398step | loss:  2.0908 :  75%|███████▌  | 6/8 [00:01<00:00,  3.19it/s]"
          ]
        },
        {
          "name": "stdout",
          "output_type": "stream",
          "text": [
            " global_steps : 398\n"
          ]
        },
        {
          "name": "stderr",
          "output_type": "stream",
          "text": [
            "50epoch  399step | loss:  2.0955 :  88%|████████▊ | 7/8 [00:02<00:00,  3.26it/s]"
          ]
        },
        {
          "name": "stdout",
          "output_type": "stream",
          "text": [
            " global_steps : 399\n"
          ]
        },
        {
          "name": "stderr",
          "output_type": "stream",
          "text": [
            "50epoch  400step | loss:  2.0923 : 100%|██████████| 8/8 [00:02<00:00,  3.26it/s]\n"
          ]
        },
        {
          "name": "stdout",
          "output_type": "stream",
          "text": [
            " global_steps : 400\n"
          ]
        },
        {
          "name": "stderr",
          "output_type": "stream",
          "text": [
            "51epoch  401step | loss:  2.0633 :  12%|█▎        | 1/8 [00:00<00:01,  3.60it/s]"
          ]
        },
        {
          "name": "stdout",
          "output_type": "stream",
          "text": [
            " global_steps : 401\n"
          ]
        },
        {
          "name": "stderr",
          "output_type": "stream",
          "text": [
            "51epoch  402step | loss:  2.0634 :  25%|██▌       | 2/8 [00:00<00:01,  3.51it/s]"
          ]
        },
        {
          "name": "stdout",
          "output_type": "stream",
          "text": [
            " global_steps : 402\n"
          ]
        },
        {
          "name": "stderr",
          "output_type": "stream",
          "text": [
            "51epoch  403step | loss:  2.0949 :  38%|███▊      | 3/8 [00:00<00:01,  3.26it/s]"
          ]
        },
        {
          "name": "stdout",
          "output_type": "stream",
          "text": [
            " global_steps : 403\n"
          ]
        },
        {
          "name": "stderr",
          "output_type": "stream",
          "text": [
            "51epoch  404step | loss:  2.0657 :  50%|█████     | 4/8 [00:01<00:01,  3.25it/s]"
          ]
        },
        {
          "name": "stdout",
          "output_type": "stream",
          "text": [
            " global_steps : 404\n"
          ]
        },
        {
          "name": "stderr",
          "output_type": "stream",
          "text": [
            "epoch 51 loss: 2.2473: 100%|██████████| 2/2 [00:00<00:00, 12.45it/s]\n"
          ]
        },
        {
          "name": "stdout",
          "output_type": "stream",
          "text": [
            "validation multi-class accuracy = 0.4194, f1 score = 0.3535\n",
            "              precision    recall  f1-score   support\n",
            "\n",
            "           0       0.50      0.67      0.57         3\n",
            "           1       0.00      0.00      0.00         3\n",
            "           2       1.00      1.00      1.00         2\n",
            "           3       0.75      1.00      0.86         3\n",
            "           4       0.24      1.00      0.38         4\n",
            "           5       1.00      0.50      0.67         4\n",
            "           6       0.00      0.00      0.00         3\n",
            "           7       1.00      0.33      0.50         3\n",
            "           8       1.00      0.33      0.50         3\n",
            "           9       0.00      0.00      0.00         3\n",
            "          10       0.44      0.67      0.53         6\n",
            "          11       0.00      0.00      0.00         3\n",
            "          12       0.00      0.00      0.00         2\n",
            "          13       1.00      0.50      0.67         2\n",
            "          14       0.27      1.00      0.42         4\n",
            "          15       0.50      0.25      0.33         4\n",
            "          16       0.25      0.33      0.29         3\n",
            "          17       0.00      0.00      0.00         4\n",
            "          18       0.00      0.00      0.00         3\n",
            "\n",
            "    accuracy                           0.42        62\n",
            "   macro avg       0.42      0.40      0.35        62\n",
            "weighted avg       0.41      0.42      0.35        62\n",
            "\n"
          ]
        },
        {
          "name": "stderr",
          "output_type": "stream",
          "text": [
            "\r51epoch  405step | loss:  2.0711 :  62%|██████▎   | 5/8 [00:07<00:07,  2.54s/it]"
          ]
        },
        {
          "name": "stdout",
          "output_type": "stream",
          "text": [
            "eval/acc : 0.41935483870967744, eval/f1 : 0.3534889856219496, global_steps: 405\n"
          ]
        },
        {
          "name": "stderr",
          "output_type": "stream",
          "text": [
            "51epoch  406step | loss:  2.0661 :  75%|███████▌  | 6/8 [00:08<00:03,  1.78s/it]"
          ]
        },
        {
          "name": "stdout",
          "output_type": "stream",
          "text": [
            " global_steps : 406\n"
          ]
        },
        {
          "name": "stderr",
          "output_type": "stream",
          "text": [
            "51epoch  407step | loss:  2.0750 :  88%|████████▊ | 7/8 [00:08<00:01,  1.30s/it]"
          ]
        },
        {
          "name": "stdout",
          "output_type": "stream",
          "text": [
            " global_steps : 407\n"
          ]
        },
        {
          "name": "stderr",
          "output_type": "stream",
          "text": [
            "51epoch  408step | loss:  2.0710 : 100%|██████████| 8/8 [00:08<00:00,  1.07s/it]\n"
          ]
        },
        {
          "name": "stdout",
          "output_type": "stream",
          "text": [
            " global_steps : 408\n"
          ]
        },
        {
          "name": "stderr",
          "output_type": "stream",
          "text": [
            "52epoch  409step | loss:  2.0381 :  12%|█▎        | 1/8 [00:00<00:01,  3.55it/s]"
          ]
        },
        {
          "name": "stdout",
          "output_type": "stream",
          "text": [
            " global_steps : 409\n"
          ]
        },
        {
          "name": "stderr",
          "output_type": "stream",
          "text": [
            "52epoch  410step | loss:  2.0429 :  25%|██▌       | 2/8 [00:00<00:01,  3.47it/s]"
          ]
        },
        {
          "name": "stdout",
          "output_type": "stream",
          "text": [
            " global_steps : 410\n"
          ]
        },
        {
          "name": "stderr",
          "output_type": "stream",
          "text": [
            "52epoch  411step | loss:  2.0581 :  38%|███▊      | 3/8 [00:00<00:01,  3.30it/s]"
          ]
        },
        {
          "name": "stdout",
          "output_type": "stream",
          "text": [
            " global_steps : 411\n"
          ]
        },
        {
          "name": "stderr",
          "output_type": "stream",
          "text": [
            "52epoch  412step | loss:  2.0553 :  50%|█████     | 4/8 [00:01<00:01,  3.31it/s]"
          ]
        },
        {
          "name": "stdout",
          "output_type": "stream",
          "text": [
            " global_steps : 412\n"
          ]
        },
        {
          "name": "stderr",
          "output_type": "stream",
          "text": [
            "52epoch  413step | loss:  2.0589 :  62%|██████▎   | 5/8 [00:01<00:00,  3.34it/s]"
          ]
        },
        {
          "name": "stdout",
          "output_type": "stream",
          "text": [
            " global_steps : 413\n"
          ]
        },
        {
          "name": "stderr",
          "output_type": "stream",
          "text": [
            "52epoch  414step | loss:  2.0560 :  75%|███████▌  | 6/8 [00:01<00:00,  3.33it/s]"
          ]
        },
        {
          "name": "stdout",
          "output_type": "stream",
          "text": [
            " global_steps : 414\n"
          ]
        },
        {
          "name": "stderr",
          "output_type": "stream",
          "text": [
            "52epoch  415step | loss:  2.0701 :  88%|████████▊ | 7/8 [00:02<00:00,  3.33it/s]"
          ]
        },
        {
          "name": "stdout",
          "output_type": "stream",
          "text": [
            " global_steps : 415\n"
          ]
        },
        {
          "name": "stderr",
          "output_type": "stream",
          "text": [
            "52epoch  416step | loss:  2.0621 : 100%|██████████| 8/8 [00:02<00:00,  3.34it/s]\n"
          ]
        },
        {
          "name": "stdout",
          "output_type": "stream",
          "text": [
            " global_steps : 416\n"
          ]
        },
        {
          "name": "stderr",
          "output_type": "stream",
          "text": [
            "53epoch  417step | loss:  2.0224 :  12%|█▎        | 1/8 [00:00<00:02,  3.23it/s]"
          ]
        },
        {
          "name": "stdout",
          "output_type": "stream",
          "text": [
            " global_steps : 417\n"
          ]
        },
        {
          "name": "stderr",
          "output_type": "stream",
          "text": [
            "53epoch  418step | loss:  2.1072 :  25%|██▌       | 2/8 [00:00<00:01,  3.41it/s]"
          ]
        },
        {
          "name": "stdout",
          "output_type": "stream",
          "text": [
            " global_steps : 418\n"
          ]
        },
        {
          "name": "stderr",
          "output_type": "stream",
          "text": [
            "53epoch  419step | loss:  2.0751 :  38%|███▊      | 3/8 [00:00<00:01,  3.48it/s]"
          ]
        },
        {
          "name": "stdout",
          "output_type": "stream",
          "text": [
            " global_steps : 419\n"
          ]
        },
        {
          "name": "stderr",
          "output_type": "stream",
          "text": [
            "epoch 53 loss: 2.2008: 100%|██████████| 2/2 [00:00<00:00, 22.63it/s]\n"
          ]
        },
        {
          "name": "stdout",
          "output_type": "stream",
          "text": [
            "validation multi-class accuracy = 0.4839, f1 score = 0.4204\n",
            "              precision    recall  f1-score   support\n",
            "\n",
            "           0       0.60      1.00      0.75         3\n",
            "           1       0.00      0.00      0.00         3\n",
            "           2       1.00      1.00      1.00         2\n",
            "           3       0.75      1.00      0.86         3\n",
            "           4       0.29      1.00      0.44         4\n",
            "           5       1.00      0.75      0.86         4\n",
            "           6       0.00      0.00      0.00         3\n",
            "           7       1.00      0.67      0.80         3\n",
            "           8       1.00      0.33      0.50         3\n",
            "           9       1.00      0.33      0.50         3\n",
            "          10       0.50      0.67      0.57         6\n",
            "          11       0.00      0.00      0.00         3\n",
            "          12       0.00      0.00      0.00         2\n",
            "          13       1.00      0.50      0.67         2\n",
            "          14       0.27      1.00      0.42         4\n",
            "          15       0.50      0.25      0.33         4\n",
            "          16       0.25      0.33      0.29         3\n",
            "          17       0.00      0.00      0.00         4\n",
            "          18       0.00      0.00      0.00         3\n",
            "\n",
            "    accuracy                           0.48        62\n",
            "   macro avg       0.48      0.46      0.42        62\n",
            "weighted avg       0.47      0.48      0.42        62\n",
            "\n"
          ]
        },
        {
          "name": "stderr",
          "output_type": "stream",
          "text": [
            "\r53epoch  420step | loss:  2.0396 :  50%|█████     | 4/8 [00:08<00:12,  3.25s/it]"
          ]
        },
        {
          "name": "stdout",
          "output_type": "stream",
          "text": [
            "eval/acc : 0.4838709677419355, eval/f1 : 0.42036450776062967, global_steps: 420\n"
          ]
        },
        {
          "name": "stderr",
          "output_type": "stream",
          "text": [
            "53epoch  421step | loss:  2.0429 :  62%|██████▎   | 5/8 [00:08<00:06,  2.19s/it]"
          ]
        },
        {
          "name": "stdout",
          "output_type": "stream",
          "text": [
            " global_steps : 421\n"
          ]
        },
        {
          "name": "stderr",
          "output_type": "stream",
          "text": [
            "53epoch  422step | loss:  2.0361 :  75%|███████▌  | 6/8 [00:09<00:03,  1.56s/it]"
          ]
        },
        {
          "name": "stdout",
          "output_type": "stream",
          "text": [
            " global_steps : 422\n"
          ]
        },
        {
          "name": "stderr",
          "output_type": "stream",
          "text": [
            "53epoch  423step | loss:  2.0356 :  88%|████████▊ | 7/8 [00:09<00:01,  1.16s/it]"
          ]
        },
        {
          "name": "stdout",
          "output_type": "stream",
          "text": [
            " global_steps : 423\n"
          ]
        },
        {
          "name": "stderr",
          "output_type": "stream",
          "text": [
            "53epoch  424step | loss:  2.0224 : 100%|██████████| 8/8 [00:09<00:00,  1.24s/it]\n"
          ]
        },
        {
          "name": "stdout",
          "output_type": "stream",
          "text": [
            " global_steps : 424\n"
          ]
        },
        {
          "name": "stderr",
          "output_type": "stream",
          "text": [
            "54epoch  425step | loss:  1.9733 :  12%|█▎        | 1/8 [00:00<00:02,  3.18it/s]"
          ]
        },
        {
          "name": "stdout",
          "output_type": "stream",
          "text": [
            " global_steps : 425\n"
          ]
        },
        {
          "name": "stderr",
          "output_type": "stream",
          "text": [
            "54epoch  426step | loss:  1.9599 :  25%|██▌       | 2/8 [00:00<00:01,  3.13it/s]"
          ]
        },
        {
          "name": "stdout",
          "output_type": "stream",
          "text": [
            " global_steps : 426\n"
          ]
        },
        {
          "name": "stderr",
          "output_type": "stream",
          "text": [
            "54epoch  427step | loss:  1.9205 :  38%|███▊      | 3/8 [00:00<00:01,  3.17it/s]"
          ]
        },
        {
          "name": "stdout",
          "output_type": "stream",
          "text": [
            " global_steps : 427\n"
          ]
        },
        {
          "name": "stderr",
          "output_type": "stream",
          "text": [
            "54epoch  428step | loss:  1.9579 :  50%|█████     | 4/8 [00:01<00:01,  3.19it/s]"
          ]
        },
        {
          "name": "stdout",
          "output_type": "stream",
          "text": [
            " global_steps : 428\n"
          ]
        },
        {
          "name": "stderr",
          "output_type": "stream",
          "text": [
            "54epoch  429step | loss:  1.9325 :  62%|██████▎   | 5/8 [00:01<00:00,  3.25it/s]"
          ]
        },
        {
          "name": "stdout",
          "output_type": "stream",
          "text": [
            " global_steps : 429\n"
          ]
        },
        {
          "name": "stderr",
          "output_type": "stream",
          "text": [
            "54epoch  430step | loss:  1.9568 :  75%|███████▌  | 6/8 [00:01<00:00,  3.18it/s]"
          ]
        },
        {
          "name": "stdout",
          "output_type": "stream",
          "text": [
            " global_steps : 430\n"
          ]
        },
        {
          "name": "stderr",
          "output_type": "stream",
          "text": [
            "54epoch  431step | loss:  1.9638 :  88%|████████▊ | 7/8 [00:02<00:00,  3.19it/s]"
          ]
        },
        {
          "name": "stdout",
          "output_type": "stream",
          "text": [
            " global_steps : 431\n"
          ]
        },
        {
          "name": "stderr",
          "output_type": "stream",
          "text": [
            "54epoch  432step | loss:  1.9585 : 100%|██████████| 8/8 [00:02<00:00,  3.20it/s]\n"
          ]
        },
        {
          "name": "stdout",
          "output_type": "stream",
          "text": [
            " global_steps : 432\n"
          ]
        },
        {
          "name": "stderr",
          "output_type": "stream",
          "text": [
            "55epoch  433step | loss:  1.9311 :  12%|█▎        | 1/8 [00:00<00:02,  3.31it/s]"
          ]
        },
        {
          "name": "stdout",
          "output_type": "stream",
          "text": [
            " global_steps : 433\n"
          ]
        },
        {
          "name": "stderr",
          "output_type": "stream",
          "text": [
            "55epoch  434step | loss:  1.9362 :  25%|██▌       | 2/8 [00:00<00:01,  3.23it/s]"
          ]
        },
        {
          "name": "stdout",
          "output_type": "stream",
          "text": [
            " global_steps : 434\n"
          ]
        },
        {
          "name": "stderr",
          "output_type": "stream",
          "text": [
            "epoch 55 loss: 2.1348: 100%|██████████| 2/2 [00:00<00:00, 18.25it/s]\n"
          ]
        },
        {
          "name": "stdout",
          "output_type": "stream",
          "text": [
            "validation multi-class accuracy = 0.5323, f1 score = 0.4807\n",
            "              precision    recall  f1-score   support\n",
            "\n",
            "           0       0.60      1.00      0.75         3\n",
            "           1       0.00      0.00      0.00         3\n",
            "           2       1.00      1.00      1.00         2\n",
            "           3       0.60      1.00      0.75         3\n",
            "           4       0.31      1.00      0.47         4\n",
            "           5       1.00      1.00      1.00         4\n",
            "           6       0.00      0.00      0.00         3\n",
            "           7       1.00      0.67      0.80         3\n",
            "           8       1.00      0.33      0.50         3\n",
            "           9       1.00      0.67      0.80         3\n",
            "          10       0.67      0.67      0.67         6\n",
            "          11       0.00      0.00      0.00         3\n",
            "          12       1.00      0.50      0.67         2\n",
            "          13       1.00      0.50      0.67         2\n",
            "          14       0.29      1.00      0.44         4\n",
            "          15       0.50      0.25      0.33         4\n",
            "          16       0.25      0.33      0.29         3\n",
            "          17       0.00      0.00      0.00         4\n",
            "          18       0.00      0.00      0.00         3\n",
            "\n",
            "    accuracy                           0.53        62\n",
            "   macro avg       0.54      0.52      0.48        62\n",
            "weighted avg       0.51      0.53      0.47        62\n",
            "\n"
          ]
        },
        {
          "name": "stderr",
          "output_type": "stream",
          "text": [
            "\r55epoch  435step | loss:  1.9729 :  38%|███▊      | 3/8 [00:08<00:19,  3.88s/it]"
          ]
        },
        {
          "name": "stdout",
          "output_type": "stream",
          "text": [
            "eval/acc : 0.532258064516129, eval/f1 : 0.4807410683571675, global_steps: 435\n"
          ]
        },
        {
          "name": "stderr",
          "output_type": "stream",
          "text": [
            "55epoch  436step | loss:  1.9659 :  50%|█████     | 4/8 [00:09<00:09,  2.48s/it]"
          ]
        },
        {
          "name": "stdout",
          "output_type": "stream",
          "text": [
            " global_steps : 436\n"
          ]
        },
        {
          "name": "stderr",
          "output_type": "stream",
          "text": [
            "55epoch  437step | loss:  1.9523 :  62%|██████▎   | 5/8 [00:09<00:05,  1.70s/it]"
          ]
        },
        {
          "name": "stdout",
          "output_type": "stream",
          "text": [
            " global_steps : 437\n"
          ]
        },
        {
          "name": "stderr",
          "output_type": "stream",
          "text": [
            "55epoch  438step | loss:  1.9540 :  75%|███████▌  | 6/8 [00:09<00:02,  1.23s/it]"
          ]
        },
        {
          "name": "stdout",
          "output_type": "stream",
          "text": [
            " global_steps : 438\n"
          ]
        },
        {
          "name": "stderr",
          "output_type": "stream",
          "text": [
            "55epoch  439step | loss:  1.9455 :  88%|████████▊ | 7/8 [00:10<00:00,  1.08it/s]"
          ]
        },
        {
          "name": "stdout",
          "output_type": "stream",
          "text": [
            " global_steps : 439\n"
          ]
        },
        {
          "name": "stderr",
          "output_type": "stream",
          "text": [
            "55epoch  440step | loss:  1.9467 : 100%|██████████| 8/8 [00:10<00:00,  1.29s/it]\n"
          ]
        },
        {
          "name": "stdout",
          "output_type": "stream",
          "text": [
            " global_steps : 440\n"
          ]
        },
        {
          "name": "stderr",
          "output_type": "stream",
          "text": [
            "56epoch  441step | loss:  2.0199 :  12%|█▎        | 1/8 [00:00<00:02,  3.20it/s]"
          ]
        },
        {
          "name": "stdout",
          "output_type": "stream",
          "text": [
            " global_steps : 441\n"
          ]
        },
        {
          "name": "stderr",
          "output_type": "stream",
          "text": [
            "56epoch  442step | loss:  2.0022 :  25%|██▌       | 2/8 [00:00<00:01,  3.23it/s]"
          ]
        },
        {
          "name": "stdout",
          "output_type": "stream",
          "text": [
            " global_steps : 442\n"
          ]
        },
        {
          "name": "stderr",
          "output_type": "stream",
          "text": [
            "56epoch  443step | loss:  2.0176 :  38%|███▊      | 3/8 [00:00<00:01,  3.16it/s]"
          ]
        },
        {
          "name": "stdout",
          "output_type": "stream",
          "text": [
            " global_steps : 443\n"
          ]
        },
        {
          "name": "stderr",
          "output_type": "stream",
          "text": [
            "56epoch  444step | loss:  1.9969 :  50%|█████     | 4/8 [00:01<00:01,  3.21it/s]"
          ]
        },
        {
          "name": "stdout",
          "output_type": "stream",
          "text": [
            " global_steps : 444\n"
          ]
        },
        {
          "name": "stderr",
          "output_type": "stream",
          "text": [
            "56epoch  445step | loss:  1.9679 :  62%|██████▎   | 5/8 [00:01<00:00,  3.18it/s]"
          ]
        },
        {
          "name": "stdout",
          "output_type": "stream",
          "text": [
            " global_steps : 445\n"
          ]
        },
        {
          "name": "stderr",
          "output_type": "stream",
          "text": [
            "56epoch  446step | loss:  1.9647 :  75%|███████▌  | 6/8 [00:01<00:00,  3.12it/s]"
          ]
        },
        {
          "name": "stdout",
          "output_type": "stream",
          "text": [
            " global_steps : 446\n"
          ]
        },
        {
          "name": "stderr",
          "output_type": "stream",
          "text": [
            "56epoch  447step | loss:  1.9399 :  88%|████████▊ | 7/8 [00:02<00:00,  3.16it/s]"
          ]
        },
        {
          "name": "stdout",
          "output_type": "stream",
          "text": [
            " global_steps : 447\n"
          ]
        },
        {
          "name": "stderr",
          "output_type": "stream",
          "text": [
            "56epoch  448step | loss:  1.9332 : 100%|██████████| 8/8 [00:02<00:00,  3.24it/s]\n"
          ]
        },
        {
          "name": "stdout",
          "output_type": "stream",
          "text": [
            " global_steps : 448\n"
          ]
        },
        {
          "name": "stderr",
          "output_type": "stream",
          "text": [
            "57epoch  449step | loss:  2.0611 :  12%|█▎        | 1/8 [00:00<00:02,  3.22it/s]"
          ]
        },
        {
          "name": "stdout",
          "output_type": "stream",
          "text": [
            " global_steps : 449\n"
          ]
        },
        {
          "name": "stderr",
          "output_type": "stream",
          "text": [
            "epoch 57 loss: 2.0653: 100%|██████████| 2/2 [00:00<00:00, 16.10it/s]\n"
          ]
        },
        {
          "name": "stdout",
          "output_type": "stream",
          "text": [
            "validation multi-class accuracy = 0.5806, f1 score = 0.5436\n",
            "              precision    recall  f1-score   support\n",
            "\n",
            "           0       0.60      1.00      0.75         3\n",
            "           1       1.00      0.67      0.80         3\n",
            "           2       1.00      1.00      1.00         2\n",
            "           3       0.75      1.00      0.86         3\n",
            "           4       0.36      1.00      0.53         4\n",
            "           5       1.00      1.00      1.00         4\n",
            "           6       0.00      0.00      0.00         3\n",
            "           7       1.00      0.67      0.80         3\n",
            "           8       1.00      0.33      0.50         3\n",
            "           9       1.00      1.00      1.00         3\n",
            "          10       0.80      0.67      0.73         6\n",
            "          11       0.00      0.00      0.00         3\n",
            "          12       1.00      0.50      0.67         2\n",
            "          13       1.00      0.50      0.67         2\n",
            "          14       0.29      1.00      0.44         4\n",
            "          15       0.50      0.25      0.33         4\n",
            "          16       0.20      0.33      0.25         3\n",
            "          17       0.00      0.00      0.00         4\n",
            "          18       0.00      0.00      0.00         3\n",
            "\n",
            "    accuracy                           0.58        62\n",
            "   macro avg       0.61      0.57      0.54        62\n",
            "weighted avg       0.58      0.58      0.53        62\n",
            "\n"
          ]
        },
        {
          "name": "stderr",
          "output_type": "stream",
          "text": [
            "\r57epoch  450step | loss:  1.9656 :  25%|██▌       | 2/8 [00:07<00:27,  4.50s/it]"
          ]
        },
        {
          "name": "stdout",
          "output_type": "stream",
          "text": [
            "eval/acc : 0.5806451612903226, eval/f1 : 0.5436242120452647, global_steps: 450\n"
          ]
        },
        {
          "name": "stderr",
          "output_type": "stream",
          "text": [
            "57epoch  451step | loss:  1.9113 :  38%|███▊      | 3/8 [00:08<00:12,  2.58s/it]"
          ]
        },
        {
          "name": "stdout",
          "output_type": "stream",
          "text": [
            " global_steps : 451\n"
          ]
        },
        {
          "name": "stderr",
          "output_type": "stream",
          "text": [
            "57epoch  452step | loss:  1.8775 :  50%|█████     | 4/8 [00:08<00:06,  1.70s/it]"
          ]
        },
        {
          "name": "stdout",
          "output_type": "stream",
          "text": [
            " global_steps : 452\n"
          ]
        },
        {
          "name": "stderr",
          "output_type": "stream",
          "text": [
            "57epoch  453step | loss:  1.8581 :  62%|██████▎   | 5/8 [00:08<00:03,  1.19s/it]"
          ]
        },
        {
          "name": "stdout",
          "output_type": "stream",
          "text": [
            " global_steps : 453\n"
          ]
        },
        {
          "name": "stderr",
          "output_type": "stream",
          "text": [
            "57epoch  454step | loss:  1.8513 :  75%|███████▌  | 6/8 [00:08<00:01,  1.13it/s]"
          ]
        },
        {
          "name": "stdout",
          "output_type": "stream",
          "text": [
            " global_steps : 454\n"
          ]
        },
        {
          "name": "stderr",
          "output_type": "stream",
          "text": [
            "57epoch  455step | loss:  1.8648 :  88%|████████▊ | 7/8 [00:09<00:00,  1.44it/s]"
          ]
        },
        {
          "name": "stdout",
          "output_type": "stream",
          "text": [
            " global_steps : 455\n"
          ]
        },
        {
          "name": "stderr",
          "output_type": "stream",
          "text": [
            "57epoch  456step | loss:  1.8737 : 100%|██████████| 8/8 [00:09<00:00,  1.19s/it]\n"
          ]
        },
        {
          "name": "stdout",
          "output_type": "stream",
          "text": [
            " global_steps : 456\n"
          ]
        },
        {
          "name": "stderr",
          "output_type": "stream",
          "text": [
            "58epoch  457step | loss:  1.7576 :  12%|█▎        | 1/8 [00:00<00:02,  3.22it/s]"
          ]
        },
        {
          "name": "stdout",
          "output_type": "stream",
          "text": [
            " global_steps : 457\n"
          ]
        },
        {
          "name": "stderr",
          "output_type": "stream",
          "text": [
            "58epoch  458step | loss:  1.7614 :  25%|██▌       | 2/8 [00:00<00:01,  3.29it/s]"
          ]
        },
        {
          "name": "stdout",
          "output_type": "stream",
          "text": [
            " global_steps : 458\n"
          ]
        },
        {
          "name": "stderr",
          "output_type": "stream",
          "text": [
            "58epoch  459step | loss:  1.7599 :  38%|███▊      | 3/8 [00:00<00:01,  3.33it/s]"
          ]
        },
        {
          "name": "stdout",
          "output_type": "stream",
          "text": [
            " global_steps : 459\n"
          ]
        },
        {
          "name": "stderr",
          "output_type": "stream",
          "text": [
            "58epoch  460step | loss:  1.7875 :  50%|█████     | 4/8 [00:01<00:01,  3.32it/s]"
          ]
        },
        {
          "name": "stdout",
          "output_type": "stream",
          "text": [
            " global_steps : 460\n"
          ]
        },
        {
          "name": "stderr",
          "output_type": "stream",
          "text": [
            "58epoch  461step | loss:  1.8248 :  62%|██████▎   | 5/8 [00:01<00:00,  3.23it/s]"
          ]
        },
        {
          "name": "stdout",
          "output_type": "stream",
          "text": [
            " global_steps : 461\n"
          ]
        },
        {
          "name": "stderr",
          "output_type": "stream",
          "text": [
            "58epoch  462step | loss:  1.8279 :  75%|███████▌  | 6/8 [00:01<00:00,  3.19it/s]"
          ]
        },
        {
          "name": "stdout",
          "output_type": "stream",
          "text": [
            " global_steps : 462\n"
          ]
        },
        {
          "name": "stderr",
          "output_type": "stream",
          "text": [
            "58epoch  463step | loss:  1.8256 :  88%|████████▊ | 7/8 [00:02<00:00,  3.22it/s]"
          ]
        },
        {
          "name": "stdout",
          "output_type": "stream",
          "text": [
            " global_steps : 463\n"
          ]
        },
        {
          "name": "stderr",
          "output_type": "stream",
          "text": [
            "58epoch  464step | loss:  1.8269 : 100%|██████████| 8/8 [00:02<00:00,  3.24it/s]\n"
          ]
        },
        {
          "name": "stdout",
          "output_type": "stream",
          "text": [
            " global_steps : 464\n"
          ]
        },
        {
          "name": "stderr",
          "output_type": "stream",
          "text": [
            "epoch 59 loss: 1.9959: 100%|██████████| 2/2 [00:00<00:00, 17.50it/s]\n"
          ]
        },
        {
          "name": "stdout",
          "output_type": "stream",
          "text": [
            "validation multi-class accuracy = 0.5968, f1 score = 0.5482\n",
            "              precision    recall  f1-score   support\n",
            "\n",
            "           0       0.60      1.00      0.75         3\n",
            "           1       1.00      0.67      0.80         3\n",
            "           2       1.00      1.00      1.00         2\n",
            "           3       0.60      1.00      0.75         3\n",
            "           4       0.40      1.00      0.57         4\n",
            "           5       1.00      1.00      1.00         4\n",
            "           6       0.00      0.00      0.00         3\n",
            "           7       1.00      0.67      0.80         3\n",
            "           8       0.33      0.33      0.33         3\n",
            "           9       1.00      1.00      1.00         3\n",
            "          10       1.00      0.67      0.80         6\n",
            "          11       0.00      0.00      0.00         3\n",
            "          12       1.00      0.50      0.67         2\n",
            "          13       1.00      0.50      0.67         2\n",
            "          14       0.33      1.00      0.50         4\n",
            "          15       0.50      0.25      0.33         4\n",
            "          16       0.33      0.67      0.44         3\n",
            "          17       0.00      0.00      0.00         4\n",
            "          18       0.00      0.00      0.00         3\n",
            "\n",
            "    accuracy                           0.60        62\n",
            "   macro avg       0.58      0.59      0.55        62\n",
            "weighted avg       0.57      0.60      0.54        62\n",
            "\n"
          ]
        },
        {
          "name": "stderr",
          "output_type": "stream",
          "text": [
            "\r59epoch  465step | loss:  1.8020 :  12%|█▎        | 1/8 [00:08<00:58,  8.35s/it]"
          ]
        },
        {
          "name": "stdout",
          "output_type": "stream",
          "text": [
            "eval/acc : 0.5967741935483871, eval/f1 : 0.548203842940685, global_steps: 465\n"
          ]
        },
        {
          "name": "stderr",
          "output_type": "stream",
          "text": [
            "59epoch  466step | loss:  1.8051 :  25%|██▌       | 2/8 [00:08<00:21,  3.63s/it]"
          ]
        },
        {
          "name": "stdout",
          "output_type": "stream",
          "text": [
            " global_steps : 466\n"
          ]
        },
        {
          "name": "stderr",
          "output_type": "stream",
          "text": [
            "59epoch  467step | loss:  1.7936 :  38%|███▊      | 3/8 [00:08<00:10,  2.11s/it]"
          ]
        },
        {
          "name": "stdout",
          "output_type": "stream",
          "text": [
            " global_steps : 467\n"
          ]
        },
        {
          "name": "stderr",
          "output_type": "stream",
          "text": [
            "59epoch  468step | loss:  1.7899 :  50%|█████     | 4/8 [00:09<00:05,  1.40s/it]"
          ]
        },
        {
          "name": "stdout",
          "output_type": "stream",
          "text": [
            " global_steps : 468\n"
          ]
        },
        {
          "name": "stderr",
          "output_type": "stream",
          "text": [
            "59epoch  469step | loss:  1.7737 :  62%|██████▎   | 5/8 [00:09<00:03,  1.02s/it]"
          ]
        },
        {
          "name": "stdout",
          "output_type": "stream",
          "text": [
            " global_steps : 469\n"
          ]
        },
        {
          "name": "stderr",
          "output_type": "stream",
          "text": [
            "59epoch  470step | loss:  1.7979 :  75%|███████▌  | 6/8 [00:09<00:01,  1.29it/s]"
          ]
        },
        {
          "name": "stdout",
          "output_type": "stream",
          "text": [
            " global_steps : 470\n"
          ]
        },
        {
          "name": "stderr",
          "output_type": "stream",
          "text": [
            "59epoch  471step | loss:  1.8125 :  88%|████████▊ | 7/8 [00:10<00:00,  1.62it/s]"
          ]
        },
        {
          "name": "stdout",
          "output_type": "stream",
          "text": [
            " global_steps : 471\n"
          ]
        },
        {
          "name": "stderr",
          "output_type": "stream",
          "text": [
            "59epoch  472step | loss:  1.7935 : 100%|██████████| 8/8 [00:10<00:00,  1.31s/it]\n"
          ]
        },
        {
          "name": "stdout",
          "output_type": "stream",
          "text": [
            " global_steps : 472\n"
          ]
        },
        {
          "name": "stderr",
          "output_type": "stream",
          "text": [
            "60epoch  473step | loss:  1.7362 :  12%|█▎        | 1/8 [00:00<00:02,  3.04it/s]"
          ]
        },
        {
          "name": "stdout",
          "output_type": "stream",
          "text": [
            " global_steps : 473\n"
          ]
        },
        {
          "name": "stderr",
          "output_type": "stream",
          "text": [
            "60epoch  474step | loss:  1.7178 :  25%|██▌       | 2/8 [00:00<00:02,  2.95it/s]"
          ]
        },
        {
          "name": "stdout",
          "output_type": "stream",
          "text": [
            " global_steps : 474\n"
          ]
        },
        {
          "name": "stderr",
          "output_type": "stream",
          "text": [
            "60epoch  475step | loss:  1.7445 :  38%|███▊      | 3/8 [00:00<00:01,  3.14it/s]"
          ]
        },
        {
          "name": "stdout",
          "output_type": "stream",
          "text": [
            " global_steps : 475\n"
          ]
        },
        {
          "name": "stderr",
          "output_type": "stream",
          "text": [
            "60epoch  476step | loss:  1.7467 :  50%|█████     | 4/8 [00:01<00:01,  3.18it/s]"
          ]
        },
        {
          "name": "stdout",
          "output_type": "stream",
          "text": [
            " global_steps : 476\n"
          ]
        },
        {
          "name": "stderr",
          "output_type": "stream",
          "text": [
            "60epoch  477step | loss:  1.7341 :  62%|██████▎   | 5/8 [00:01<00:00,  3.21it/s]"
          ]
        },
        {
          "name": "stdout",
          "output_type": "stream",
          "text": [
            " global_steps : 477\n"
          ]
        },
        {
          "name": "stderr",
          "output_type": "stream",
          "text": [
            "60epoch  478step | loss:  1.7322 :  75%|███████▌  | 6/8 [00:01<00:00,  3.18it/s]"
          ]
        },
        {
          "name": "stdout",
          "output_type": "stream",
          "text": [
            " global_steps : 478\n"
          ]
        },
        {
          "name": "stderr",
          "output_type": "stream",
          "text": [
            "60epoch  479step | loss:  1.7425 :  88%|████████▊ | 7/8 [00:02<00:00,  3.18it/s]"
          ]
        },
        {
          "name": "stdout",
          "output_type": "stream",
          "text": [
            " global_steps : 479\n"
          ]
        },
        {
          "name": "stderr",
          "output_type": "stream",
          "text": [
            "epoch 60 loss: 1.9098: 100%|██████████| 2/2 [00:00<00:00, 20.50it/s]\n"
          ]
        },
        {
          "name": "stdout",
          "output_type": "stream",
          "text": [
            "validation multi-class accuracy = 0.6452, f1 score = 0.6240\n",
            "              precision    recall  f1-score   support\n",
            "\n",
            "           0       0.60      1.00      0.75         3\n",
            "           1       1.00      0.67      0.80         3\n",
            "           2       1.00      1.00      1.00         2\n",
            "           3       0.75      1.00      0.86         3\n",
            "           4       0.50      1.00      0.67         4\n",
            "           5       1.00      1.00      1.00         4\n",
            "           6       0.00      0.00      0.00         3\n",
            "           7       1.00      0.67      0.80         3\n",
            "           8       0.50      0.67      0.57         3\n",
            "           9       1.00      1.00      1.00         3\n",
            "          10       1.00      0.67      0.80         6\n",
            "          11       1.00      0.33      0.50         3\n",
            "          12       1.00      0.50      0.67         2\n",
            "          13       1.00      0.50      0.67         2\n",
            "          14       0.33      1.00      0.50         4\n",
            "          15       0.50      0.25      0.33         4\n",
            "          16       0.33      0.67      0.44         3\n",
            "          17       0.00      0.00      0.00         4\n",
            "          18       1.00      0.33      0.50         3\n",
            "\n",
            "    accuracy                           0.65        62\n",
            "   macro avg       0.71      0.64      0.62        62\n",
            "weighted avg       0.69      0.65      0.62        62\n",
            "\n"
          ]
        },
        {
          "name": "stderr",
          "output_type": "stream",
          "text": [
            "60epoch  480step | loss:  1.7256 : 100%|██████████| 8/8 [00:08<00:00,  1.11s/it]\n"
          ]
        },
        {
          "name": "stdout",
          "output_type": "stream",
          "text": [
            "eval/acc : 0.6451612903225806, eval/f1 : 0.6240183792815371, global_steps: 480\n"
          ]
        },
        {
          "name": "stderr",
          "output_type": "stream",
          "text": [
            "61epoch  481step | loss:  1.6801 :  12%|█▎        | 1/8 [00:00<00:02,  3.28it/s]"
          ]
        },
        {
          "name": "stdout",
          "output_type": "stream",
          "text": [
            " global_steps : 481\n"
          ]
        },
        {
          "name": "stderr",
          "output_type": "stream",
          "text": [
            "61epoch  482step | loss:  1.6954 :  25%|██▌       | 2/8 [00:00<00:01,  3.41it/s]"
          ]
        },
        {
          "name": "stdout",
          "output_type": "stream",
          "text": [
            " global_steps : 482\n"
          ]
        },
        {
          "name": "stderr",
          "output_type": "stream",
          "text": [
            "61epoch  483step | loss:  1.6909 :  38%|███▊      | 3/8 [00:00<00:01,  3.24it/s]"
          ]
        },
        {
          "name": "stdout",
          "output_type": "stream",
          "text": [
            " global_steps : 483\n"
          ]
        },
        {
          "name": "stderr",
          "output_type": "stream",
          "text": [
            "61epoch  484step | loss:  1.6877 :  50%|█████     | 4/8 [00:01<00:01,  3.05it/s]"
          ]
        },
        {
          "name": "stdout",
          "output_type": "stream",
          "text": [
            " global_steps : 484\n"
          ]
        },
        {
          "name": "stderr",
          "output_type": "stream",
          "text": [
            "61epoch  485step | loss:  1.6783 :  62%|██████▎   | 5/8 [00:01<00:00,  3.16it/s]"
          ]
        },
        {
          "name": "stdout",
          "output_type": "stream",
          "text": [
            " global_steps : 485\n"
          ]
        },
        {
          "name": "stderr",
          "output_type": "stream",
          "text": [
            "61epoch  486step | loss:  1.6794 :  75%|███████▌  | 6/8 [00:01<00:00,  3.11it/s]"
          ]
        },
        {
          "name": "stdout",
          "output_type": "stream",
          "text": [
            " global_steps : 486\n"
          ]
        },
        {
          "name": "stderr",
          "output_type": "stream",
          "text": [
            "61epoch  487step | loss:  1.6763 :  88%|████████▊ | 7/8 [00:02<00:00,  3.16it/s]"
          ]
        },
        {
          "name": "stdout",
          "output_type": "stream",
          "text": [
            " global_steps : 487\n"
          ]
        },
        {
          "name": "stderr",
          "output_type": "stream",
          "text": [
            "61epoch  488step | loss:  1.6707 : 100%|██████████| 8/8 [00:02<00:00,  3.23it/s]\n"
          ]
        },
        {
          "name": "stdout",
          "output_type": "stream",
          "text": [
            " global_steps : 488\n"
          ]
        },
        {
          "name": "stderr",
          "output_type": "stream",
          "text": [
            "62epoch  489step | loss:  1.7127 :  12%|█▎        | 1/8 [00:00<00:02,  3.27it/s]"
          ]
        },
        {
          "name": "stdout",
          "output_type": "stream",
          "text": [
            " global_steps : 489\n"
          ]
        },
        {
          "name": "stderr",
          "output_type": "stream",
          "text": [
            "62epoch  490step | loss:  1.7155 :  25%|██▌       | 2/8 [00:00<00:01,  3.40it/s]"
          ]
        },
        {
          "name": "stdout",
          "output_type": "stream",
          "text": [
            " global_steps : 490\n"
          ]
        },
        {
          "name": "stderr",
          "output_type": "stream",
          "text": [
            "62epoch  491step | loss:  1.6739 :  38%|███▊      | 3/8 [00:00<00:01,  3.23it/s]"
          ]
        },
        {
          "name": "stdout",
          "output_type": "stream",
          "text": [
            " global_steps : 491\n"
          ]
        },
        {
          "name": "stderr",
          "output_type": "stream",
          "text": [
            "62epoch  492step | loss:  1.6942 :  50%|█████     | 4/8 [00:01<00:01,  3.21it/s]"
          ]
        },
        {
          "name": "stdout",
          "output_type": "stream",
          "text": [
            " global_steps : 492\n"
          ]
        },
        {
          "name": "stderr",
          "output_type": "stream",
          "text": [
            "62epoch  493step | loss:  1.6401 :  62%|██████▎   | 5/8 [00:01<00:00,  3.26it/s]"
          ]
        },
        {
          "name": "stdout",
          "output_type": "stream",
          "text": [
            " global_steps : 493\n"
          ]
        },
        {
          "name": "stderr",
          "output_type": "stream",
          "text": [
            "62epoch  494step | loss:  1.6236 :  75%|███████▌  | 6/8 [00:01<00:00,  3.25it/s]"
          ]
        },
        {
          "name": "stdout",
          "output_type": "stream",
          "text": [
            " global_steps : 494\n"
          ]
        },
        {
          "name": "stderr",
          "output_type": "stream",
          "text": [
            "epoch 62 loss: 1.8062: 100%|██████████| 2/2 [00:00<00:00, 21.51it/s]\n"
          ]
        },
        {
          "name": "stdout",
          "output_type": "stream",
          "text": [
            "validation multi-class accuracy = 0.7258, f1 score = 0.7211\n",
            "              precision    recall  f1-score   support\n",
            "\n",
            "           0       0.60      1.00      0.75         3\n",
            "           1       1.00      0.67      0.80         3\n",
            "           2       1.00      1.00      1.00         2\n",
            "           3       0.75      1.00      0.86         3\n",
            "           4       0.57      1.00      0.73         4\n",
            "           5       0.80      1.00      0.89         4\n",
            "           6       1.00      0.67      0.80         3\n",
            "           7       1.00      1.00      1.00         3\n",
            "           8       0.67      0.67      0.67         3\n",
            "           9       1.00      1.00      1.00         3\n",
            "          10       1.00      0.67      0.80         6\n",
            "          11       1.00      0.67      0.80         3\n",
            "          12       1.00      0.50      0.67         2\n",
            "          13       1.00      1.00      1.00         2\n",
            "          14       0.50      1.00      0.67         4\n",
            "          15       0.50      0.25      0.33         4\n",
            "          16       0.33      0.67      0.44         3\n",
            "          17       0.00      0.00      0.00         4\n",
            "          18       1.00      0.33      0.50         3\n",
            "\n",
            "    accuracy                           0.73        62\n",
            "   macro avg       0.77      0.74      0.72        62\n",
            "weighted avg       0.75      0.73      0.70        62\n",
            "\n"
          ]
        },
        {
          "name": "stderr",
          "output_type": "stream",
          "text": [
            "\r62epoch  495step | loss:  1.6124 :  88%|████████▊ | 7/8 [00:09<00:02,  2.84s/it]"
          ]
        },
        {
          "name": "stdout",
          "output_type": "stream",
          "text": [
            "eval/acc : 0.7258064516129032, eval/f1 : 0.7211095921622238, global_steps: 495\n"
          ]
        },
        {
          "name": "stderr",
          "output_type": "stream",
          "text": [
            "62epoch  496step | loss:  1.6174 : 100%|██████████| 8/8 [00:10<00:00,  1.27s/it]\n"
          ]
        },
        {
          "name": "stdout",
          "output_type": "stream",
          "text": [
            " global_steps : 496\n"
          ]
        },
        {
          "name": "stderr",
          "output_type": "stream",
          "text": [
            "63epoch  497step | loss:  1.6247 :  12%|█▎        | 1/8 [00:00<00:02,  3.21it/s]"
          ]
        },
        {
          "name": "stdout",
          "output_type": "stream",
          "text": [
            " global_steps : 497\n"
          ]
        },
        {
          "name": "stderr",
          "output_type": "stream",
          "text": [
            "63epoch  498step | loss:  1.5444 :  25%|██▌       | 2/8 [00:00<00:01,  3.16it/s]"
          ]
        },
        {
          "name": "stdout",
          "output_type": "stream",
          "text": [
            " global_steps : 498\n"
          ]
        },
        {
          "name": "stderr",
          "output_type": "stream",
          "text": [
            "63epoch  499step | loss:  1.5226 :  38%|███▊      | 3/8 [00:00<00:01,  3.28it/s]"
          ]
        },
        {
          "name": "stdout",
          "output_type": "stream",
          "text": [
            " global_steps : 499\n"
          ]
        },
        {
          "name": "stderr",
          "output_type": "stream",
          "text": [
            "63epoch  500step | loss:  1.5385 :  50%|█████     | 4/8 [00:01<00:01,  3.24it/s]"
          ]
        },
        {
          "name": "stdout",
          "output_type": "stream",
          "text": [
            " global_steps : 500\n"
          ]
        },
        {
          "name": "stderr",
          "output_type": "stream",
          "text": [
            "63epoch  501step | loss:  1.5699 :  62%|██████▎   | 5/8 [00:01<00:00,  3.14it/s]"
          ]
        },
        {
          "name": "stdout",
          "output_type": "stream",
          "text": [
            " global_steps : 501\n"
          ]
        },
        {
          "name": "stderr",
          "output_type": "stream",
          "text": [
            "63epoch  502step | loss:  1.5588 :  75%|███████▌  | 6/8 [00:01<00:00,  2.99it/s]"
          ]
        },
        {
          "name": "stdout",
          "output_type": "stream",
          "text": [
            " global_steps : 502\n"
          ]
        },
        {
          "name": "stderr",
          "output_type": "stream",
          "text": [
            "63epoch  503step | loss:  1.5555 :  88%|████████▊ | 7/8 [00:02<00:00,  2.79it/s]"
          ]
        },
        {
          "name": "stdout",
          "output_type": "stream",
          "text": [
            " global_steps : 503\n"
          ]
        },
        {
          "name": "stderr",
          "output_type": "stream",
          "text": [
            "63epoch  504step | loss:  1.5591 : 100%|██████████| 8/8 [00:02<00:00,  3.05it/s]\n"
          ]
        },
        {
          "name": "stdout",
          "output_type": "stream",
          "text": [
            " global_steps : 504\n"
          ]
        },
        {
          "name": "stderr",
          "output_type": "stream",
          "text": [
            "64epoch  505step | loss:  1.4409 :  12%|█▎        | 1/8 [00:00<00:02,  3.42it/s]"
          ]
        },
        {
          "name": "stdout",
          "output_type": "stream",
          "text": [
            " global_steps : 505\n"
          ]
        },
        {
          "name": "stderr",
          "output_type": "stream",
          "text": [
            "64epoch  506step | loss:  1.5181 :  25%|██▌       | 2/8 [00:00<00:01,  3.44it/s]"
          ]
        },
        {
          "name": "stdout",
          "output_type": "stream",
          "text": [
            " global_steps : 506\n"
          ]
        },
        {
          "name": "stderr",
          "output_type": "stream",
          "text": [
            "64epoch  507step | loss:  1.4841 :  38%|███▊      | 3/8 [00:00<00:01,  3.26it/s]"
          ]
        },
        {
          "name": "stdout",
          "output_type": "stream",
          "text": [
            " global_steps : 507\n"
          ]
        },
        {
          "name": "stderr",
          "output_type": "stream",
          "text": [
            "64epoch  508step | loss:  1.5099 :  50%|█████     | 4/8 [00:01<00:01,  3.22it/s]"
          ]
        },
        {
          "name": "stdout",
          "output_type": "stream",
          "text": [
            " global_steps : 508\n"
          ]
        },
        {
          "name": "stderr",
          "output_type": "stream",
          "text": [
            "64epoch  509step | loss:  1.5334 :  62%|██████▎   | 5/8 [00:01<00:00,  3.24it/s]"
          ]
        },
        {
          "name": "stdout",
          "output_type": "stream",
          "text": [
            " global_steps : 509\n"
          ]
        },
        {
          "name": "stderr",
          "output_type": "stream",
          "text": [
            "epoch 64 loss: 1.7058: 100%|██████████| 2/2 [00:00<00:00, 15.11it/s]\n"
          ]
        },
        {
          "name": "stdout",
          "output_type": "stream",
          "text": [
            "validation multi-class accuracy = 0.7419, f1 score = 0.7335\n",
            "              precision    recall  f1-score   support\n",
            "\n",
            "           0       1.00      1.00      1.00         3\n",
            "           1       1.00      1.00      1.00         3\n",
            "           2       1.00      1.00      1.00         2\n",
            "           3       0.75      1.00      0.86         3\n",
            "           4       0.80      1.00      0.89         4\n",
            "           5       0.80      1.00      0.89         4\n",
            "           6       1.00      0.33      0.50         3\n",
            "           7       1.00      1.00      1.00         3\n",
            "           8       0.75      1.00      0.86         3\n",
            "           9       1.00      1.00      1.00         3\n",
            "          10       1.00      0.67      0.80         6\n",
            "          11       1.00      1.00      1.00         3\n",
            "          12       1.00      0.50      0.67         2\n",
            "          13       1.00      0.50      0.67         2\n",
            "          14       0.36      1.00      0.53         4\n",
            "          15       0.50      0.25      0.33         4\n",
            "          16       0.33      0.67      0.44         3\n",
            "          17       0.00      0.00      0.00         4\n",
            "          18       1.00      0.33      0.50         3\n",
            "\n",
            "    accuracy                           0.74        62\n",
            "   macro avg       0.81      0.75      0.73        62\n",
            "weighted avg       0.78      0.74      0.72        62\n",
            "\n"
          ]
        },
        {
          "name": "stderr",
          "output_type": "stream",
          "text": [
            "\r64epoch  510step | loss:  1.5299 :  75%|███████▌  | 6/8 [00:09<00:05,  2.86s/it]"
          ]
        },
        {
          "name": "stdout",
          "output_type": "stream",
          "text": [
            "eval/acc : 0.7419354838709677, eval/f1 : 0.733500417710944, global_steps: 510\n"
          ]
        },
        {
          "name": "stderr",
          "output_type": "stream",
          "text": [
            "64epoch  511step | loss:  1.5039 :  88%|████████▊ | 7/8 [00:09<00:02,  2.04s/it]"
          ]
        },
        {
          "name": "stdout",
          "output_type": "stream",
          "text": [
            " global_steps : 511\n"
          ]
        },
        {
          "name": "stderr",
          "output_type": "stream",
          "text": [
            "64epoch  512step | loss:  1.4988 : 100%|██████████| 8/8 [00:09<00:00,  1.25s/it]\n"
          ]
        },
        {
          "name": "stdout",
          "output_type": "stream",
          "text": [
            " global_steps : 512\n"
          ]
        },
        {
          "name": "stderr",
          "output_type": "stream",
          "text": [
            "65epoch  513step | loss:  1.5047 :  12%|█▎        | 1/8 [00:00<00:02,  3.31it/s]"
          ]
        },
        {
          "name": "stdout",
          "output_type": "stream",
          "text": [
            " global_steps : 513\n"
          ]
        },
        {
          "name": "stderr",
          "output_type": "stream",
          "text": [
            "65epoch  514step | loss:  1.4626 :  25%|██▌       | 2/8 [00:00<00:01,  3.38it/s]"
          ]
        },
        {
          "name": "stdout",
          "output_type": "stream",
          "text": [
            " global_steps : 514\n"
          ]
        },
        {
          "name": "stderr",
          "output_type": "stream",
          "text": [
            "65epoch  515step | loss:  1.4751 :  38%|███▊      | 3/8 [00:00<00:01,  3.19it/s]"
          ]
        },
        {
          "name": "stdout",
          "output_type": "stream",
          "text": [
            " global_steps : 515\n"
          ]
        },
        {
          "name": "stderr",
          "output_type": "stream",
          "text": [
            "65epoch  516step | loss:  1.4291 :  50%|█████     | 4/8 [00:01<00:01,  3.17it/s]"
          ]
        },
        {
          "name": "stdout",
          "output_type": "stream",
          "text": [
            " global_steps : 516\n"
          ]
        },
        {
          "name": "stderr",
          "output_type": "stream",
          "text": [
            "65epoch  517step | loss:  1.4383 :  62%|██████▎   | 5/8 [00:01<00:00,  3.19it/s]"
          ]
        },
        {
          "name": "stdout",
          "output_type": "stream",
          "text": [
            " global_steps : 517\n"
          ]
        },
        {
          "name": "stderr",
          "output_type": "stream",
          "text": [
            "65epoch  518step | loss:  1.4282 :  75%|███████▌  | 6/8 [00:01<00:00,  3.25it/s]"
          ]
        },
        {
          "name": "stdout",
          "output_type": "stream",
          "text": [
            " global_steps : 518\n"
          ]
        },
        {
          "name": "stderr",
          "output_type": "stream",
          "text": [
            "65epoch  519step | loss:  1.4364 :  88%|████████▊ | 7/8 [00:02<00:00,  3.18it/s]"
          ]
        },
        {
          "name": "stdout",
          "output_type": "stream",
          "text": [
            " global_steps : 519\n"
          ]
        },
        {
          "name": "stderr",
          "output_type": "stream",
          "text": [
            "65epoch  520step | loss:  1.4243 : 100%|██████████| 8/8 [00:02<00:00,  3.25it/s]\n"
          ]
        },
        {
          "name": "stdout",
          "output_type": "stream",
          "text": [
            " global_steps : 520\n"
          ]
        },
        {
          "name": "stderr",
          "output_type": "stream",
          "text": [
            "66epoch  521step | loss:  1.3827 :  12%|█▎        | 1/8 [00:00<00:02,  3.07it/s]"
          ]
        },
        {
          "name": "stdout",
          "output_type": "stream",
          "text": [
            " global_steps : 521\n"
          ]
        },
        {
          "name": "stderr",
          "output_type": "stream",
          "text": [
            "66epoch  522step | loss:  1.3553 :  25%|██▌       | 2/8 [00:00<00:01,  3.18it/s]"
          ]
        },
        {
          "name": "stdout",
          "output_type": "stream",
          "text": [
            " global_steps : 522\n"
          ]
        },
        {
          "name": "stderr",
          "output_type": "stream",
          "text": [
            "66epoch  523step | loss:  1.3945 :  38%|███▊      | 3/8 [00:00<00:01,  3.28it/s]"
          ]
        },
        {
          "name": "stdout",
          "output_type": "stream",
          "text": [
            " global_steps : 523\n"
          ]
        },
        {
          "name": "stderr",
          "output_type": "stream",
          "text": [
            "66epoch  524step | loss:  1.4140 :  50%|█████     | 4/8 [00:01<00:01,  3.12it/s]"
          ]
        },
        {
          "name": "stdout",
          "output_type": "stream",
          "text": [
            " global_steps : 524\n"
          ]
        },
        {
          "name": "stderr",
          "output_type": "stream",
          "text": [
            "epoch 66 loss: 1.6001: 100%|██████████| 2/2 [00:00<00:00, 18.45it/s]\n"
          ]
        },
        {
          "name": "stdout",
          "output_type": "stream",
          "text": [
            "validation multi-class accuracy = 0.7742, f1 score = 0.7763\n",
            "              precision    recall  f1-score   support\n",
            "\n",
            "           0       1.00      1.00      1.00         3\n",
            "           1       1.00      1.00      1.00         3\n",
            "           2       1.00      1.00      1.00         2\n",
            "           3       1.00      1.00      1.00         3\n",
            "           4       0.80      1.00      0.89         4\n",
            "           5       0.67      1.00      0.80         4\n",
            "           6       1.00      0.67      0.80         3\n",
            "           7       1.00      1.00      1.00         3\n",
            "           8       0.60      1.00      0.75         3\n",
            "           9       1.00      1.00      1.00         3\n",
            "          10       1.00      0.67      0.80         6\n",
            "          11       1.00      0.67      0.80         3\n",
            "          12       1.00      0.50      0.67         2\n",
            "          13       1.00      1.00      1.00         2\n",
            "          14       0.50      1.00      0.67         4\n",
            "          15       0.50      0.25      0.33         4\n",
            "          16       0.33      0.67      0.44         3\n",
            "          17       0.00      0.00      0.00         4\n",
            "          18       1.00      0.67      0.80         3\n",
            "\n",
            "    accuracy                           0.77        62\n",
            "   macro avg       0.81      0.79      0.78        62\n",
            "weighted avg       0.78      0.77      0.75        62\n",
            "\n"
          ]
        },
        {
          "name": "stderr",
          "output_type": "stream",
          "text": [
            "\r66epoch  525step | loss:  1.3949 :  62%|██████▎   | 5/8 [00:09<00:09,  3.09s/it]"
          ]
        },
        {
          "name": "stdout",
          "output_type": "stream",
          "text": [
            "eval/acc : 0.7741935483870968, eval/f1 : 0.7763157894736842, global_steps: 525\n"
          ]
        },
        {
          "name": "stderr",
          "output_type": "stream",
          "text": [
            "66epoch  526step | loss:  1.3950 :  75%|███████▌  | 6/8 [00:09<00:04,  2.15s/it]"
          ]
        },
        {
          "name": "stdout",
          "output_type": "stream",
          "text": [
            " global_steps : 526\n"
          ]
        },
        {
          "name": "stderr",
          "output_type": "stream",
          "text": [
            "66epoch  527step | loss:  1.3820 :  88%|████████▊ | 7/8 [00:09<00:01,  1.55s/it]"
          ]
        },
        {
          "name": "stdout",
          "output_type": "stream",
          "text": [
            " global_steps : 527\n"
          ]
        },
        {
          "name": "stderr",
          "output_type": "stream",
          "text": [
            "66epoch  528step | loss:  1.3730 : 100%|██████████| 8/8 [00:10<00:00,  1.28s/it]\n"
          ]
        },
        {
          "name": "stdout",
          "output_type": "stream",
          "text": [
            " global_steps : 528\n"
          ]
        },
        {
          "name": "stderr",
          "output_type": "stream",
          "text": [
            "67epoch  529step | loss:  1.3028 :  12%|█▎        | 1/8 [00:00<00:02,  3.18it/s]"
          ]
        },
        {
          "name": "stdout",
          "output_type": "stream",
          "text": [
            " global_steps : 529\n"
          ]
        },
        {
          "name": "stderr",
          "output_type": "stream",
          "text": [
            "67epoch  530step | loss:  1.2818 :  25%|██▌       | 2/8 [00:00<00:01,  3.06it/s]"
          ]
        },
        {
          "name": "stdout",
          "output_type": "stream",
          "text": [
            " global_steps : 530\n"
          ]
        },
        {
          "name": "stderr",
          "output_type": "stream",
          "text": [
            "67epoch  531step | loss:  1.2852 :  38%|███▊      | 3/8 [00:00<00:01,  3.11it/s]"
          ]
        },
        {
          "name": "stdout",
          "output_type": "stream",
          "text": [
            " global_steps : 531\n"
          ]
        },
        {
          "name": "stderr",
          "output_type": "stream",
          "text": [
            "67epoch  532step | loss:  1.2769 :  50%|█████     | 4/8 [00:01<00:01,  3.18it/s]"
          ]
        },
        {
          "name": "stdout",
          "output_type": "stream",
          "text": [
            " global_steps : 532\n"
          ]
        },
        {
          "name": "stderr",
          "output_type": "stream",
          "text": [
            "67epoch  533step | loss:  1.3059 :  62%|██████▎   | 5/8 [00:01<00:00,  3.18it/s]"
          ]
        },
        {
          "name": "stdout",
          "output_type": "stream",
          "text": [
            " global_steps : 533\n"
          ]
        },
        {
          "name": "stderr",
          "output_type": "stream",
          "text": [
            "67epoch  534step | loss:  1.3069 :  75%|███████▌  | 6/8 [00:01<00:00,  3.17it/s]"
          ]
        },
        {
          "name": "stdout",
          "output_type": "stream",
          "text": [
            " global_steps : 534\n"
          ]
        },
        {
          "name": "stderr",
          "output_type": "stream",
          "text": [
            "67epoch  535step | loss:  1.3127 :  88%|████████▊ | 7/8 [00:02<00:00,  3.21it/s]"
          ]
        },
        {
          "name": "stdout",
          "output_type": "stream",
          "text": [
            " global_steps : 535\n"
          ]
        },
        {
          "name": "stderr",
          "output_type": "stream",
          "text": [
            "67epoch  536step | loss:  1.3042 : 100%|██████████| 8/8 [00:02<00:00,  3.11it/s]\n"
          ]
        },
        {
          "name": "stdout",
          "output_type": "stream",
          "text": [
            " global_steps : 536\n"
          ]
        },
        {
          "name": "stderr",
          "output_type": "stream",
          "text": [
            "68epoch  537step | loss:  1.2713 :  12%|█▎        | 1/8 [00:00<00:02,  3.22it/s]"
          ]
        },
        {
          "name": "stdout",
          "output_type": "stream",
          "text": [
            " global_steps : 537\n"
          ]
        },
        {
          "name": "stderr",
          "output_type": "stream",
          "text": [
            "68epoch  538step | loss:  1.2211 :  25%|██▌       | 2/8 [00:00<00:01,  3.27it/s]"
          ]
        },
        {
          "name": "stdout",
          "output_type": "stream",
          "text": [
            " global_steps : 538\n"
          ]
        },
        {
          "name": "stderr",
          "output_type": "stream",
          "text": [
            "68epoch  539step | loss:  1.2029 :  38%|███▊      | 3/8 [00:00<00:01,  3.28it/s]"
          ]
        },
        {
          "name": "stdout",
          "output_type": "stream",
          "text": [
            " global_steps : 539\n"
          ]
        },
        {
          "name": "stderr",
          "output_type": "stream",
          "text": [
            "epoch 68 loss: 1.5245: 100%|██████████| 2/2 [00:00<00:00, 20.35it/s]\n"
          ]
        },
        {
          "name": "stdout",
          "output_type": "stream",
          "text": [
            "validation multi-class accuracy = 0.7903, f1 score = 0.7925\n",
            "              precision    recall  f1-score   support\n",
            "\n",
            "           0       1.00      1.00      1.00         3\n",
            "           1       1.00      1.00      1.00         3\n",
            "           2       1.00      1.00      1.00         2\n",
            "           3       1.00      1.00      1.00         3\n",
            "           4       0.80      1.00      0.89         4\n",
            "           5       0.67      1.00      0.80         4\n",
            "           6       1.00      0.67      0.80         3\n",
            "           7       1.00      1.00      1.00         3\n",
            "           8       0.75      1.00      0.86         3\n",
            "           9       1.00      1.00      1.00         3\n",
            "          10       1.00      0.67      0.80         6\n",
            "          11       1.00      1.00      1.00         3\n",
            "          12       1.00      0.50      0.67         2\n",
            "          13       1.00      1.00      1.00         2\n",
            "          14       0.50      1.00      0.67         4\n",
            "          15       0.50      0.25      0.33         4\n",
            "          16       0.33      0.67      0.44         3\n",
            "          17       0.00      0.00      0.00         4\n",
            "          18       1.00      0.67      0.80         3\n",
            "\n",
            "    accuracy                           0.79        62\n",
            "   macro avg       0.82      0.81      0.79        62\n",
            "weighted avg       0.79      0.79      0.77        62\n",
            "\n"
          ]
        },
        {
          "name": "stderr",
          "output_type": "stream",
          "text": [
            "\r68epoch  540step | loss:  1.2132 :  50%|█████     | 4/8 [00:08<00:12,  3.23s/it]"
          ]
        },
        {
          "name": "stdout",
          "output_type": "stream",
          "text": [
            "eval/acc : 0.7903225806451613, eval/f1 : 0.7924812030075188, global_steps: 540\n"
          ]
        },
        {
          "name": "stderr",
          "output_type": "stream",
          "text": [
            "68epoch  541step | loss:  1.2161 :  62%|██████▎   | 5/8 [00:08<00:06,  2.18s/it]"
          ]
        },
        {
          "name": "stdout",
          "output_type": "stream",
          "text": [
            " global_steps : 541\n"
          ]
        },
        {
          "name": "stderr",
          "output_type": "stream",
          "text": [
            "68epoch  542step | loss:  1.2170 :  75%|███████▌  | 6/8 [00:09<00:03,  1.55s/it]"
          ]
        },
        {
          "name": "stdout",
          "output_type": "stream",
          "text": [
            " global_steps : 542\n"
          ]
        },
        {
          "name": "stderr",
          "output_type": "stream",
          "text": [
            "68epoch  543step | loss:  1.2311 :  88%|████████▊ | 7/8 [00:09<00:01,  1.15s/it]"
          ]
        },
        {
          "name": "stdout",
          "output_type": "stream",
          "text": [
            " global_steps : 543\n"
          ]
        },
        {
          "name": "stderr",
          "output_type": "stream",
          "text": [
            "68epoch  544step | loss:  1.2345 : 100%|██████████| 8/8 [00:09<00:00,  1.23s/it]\n"
          ]
        },
        {
          "name": "stdout",
          "output_type": "stream",
          "text": [
            " global_steps : 544\n"
          ]
        },
        {
          "name": "stderr",
          "output_type": "stream",
          "text": [
            "69epoch  545step | loss:  1.2671 :  12%|█▎        | 1/8 [00:00<00:02,  3.23it/s]"
          ]
        },
        {
          "name": "stdout",
          "output_type": "stream",
          "text": [
            " global_steps : 545\n"
          ]
        },
        {
          "name": "stderr",
          "output_type": "stream",
          "text": [
            "69epoch  546step | loss:  1.2209 :  25%|██▌       | 2/8 [00:00<00:01,  3.22it/s]"
          ]
        },
        {
          "name": "stdout",
          "output_type": "stream",
          "text": [
            " global_steps : 546\n"
          ]
        },
        {
          "name": "stderr",
          "output_type": "stream",
          "text": [
            "69epoch  547step | loss:  1.2169 :  38%|███▊      | 3/8 [00:00<00:01,  3.27it/s]"
          ]
        },
        {
          "name": "stdout",
          "output_type": "stream",
          "text": [
            " global_steps : 547\n"
          ]
        },
        {
          "name": "stderr",
          "output_type": "stream",
          "text": [
            "69epoch  548step | loss:  1.2083 :  50%|█████     | 4/8 [00:01<00:01,  3.11it/s]"
          ]
        },
        {
          "name": "stdout",
          "output_type": "stream",
          "text": [
            " global_steps : 548\n"
          ]
        },
        {
          "name": "stderr",
          "output_type": "stream",
          "text": [
            "69epoch  549step | loss:  1.2059 :  62%|██████▎   | 5/8 [00:01<00:01,  2.98it/s]"
          ]
        },
        {
          "name": "stdout",
          "output_type": "stream",
          "text": [
            " global_steps : 549\n"
          ]
        },
        {
          "name": "stderr",
          "output_type": "stream",
          "text": [
            "69epoch  550step | loss:  1.1992 :  75%|███████▌  | 6/8 [00:01<00:00,  3.10it/s]"
          ]
        },
        {
          "name": "stdout",
          "output_type": "stream",
          "text": [
            " global_steps : 550\n"
          ]
        },
        {
          "name": "stderr",
          "output_type": "stream",
          "text": [
            "69epoch  551step | loss:  1.1852 :  88%|████████▊ | 7/8 [00:02<00:00,  3.11it/s]"
          ]
        },
        {
          "name": "stdout",
          "output_type": "stream",
          "text": [
            " global_steps : 551\n"
          ]
        },
        {
          "name": "stderr",
          "output_type": "stream",
          "text": [
            "69epoch  552step | loss:  1.1794 : 100%|██████████| 8/8 [00:02<00:00,  3.15it/s]\n"
          ]
        },
        {
          "name": "stdout",
          "output_type": "stream",
          "text": [
            " global_steps : 552\n"
          ]
        },
        {
          "name": "stderr",
          "output_type": "stream",
          "text": [
            "70epoch  553step | loss:  1.1631 :  12%|█▎        | 1/8 [00:00<00:02,  3.04it/s]"
          ]
        },
        {
          "name": "stdout",
          "output_type": "stream",
          "text": [
            " global_steps : 553\n"
          ]
        },
        {
          "name": "stderr",
          "output_type": "stream",
          "text": [
            "70epoch  554step | loss:  1.2069 :  25%|██▌       | 2/8 [00:00<00:01,  3.18it/s]"
          ]
        },
        {
          "name": "stdout",
          "output_type": "stream",
          "text": [
            " global_steps : 554\n"
          ]
        },
        {
          "name": "stderr",
          "output_type": "stream",
          "text": [
            "epoch 70 loss: 1.4038: 100%|██████████| 2/2 [00:00<00:00, 21.36it/s]\n",
            "70epoch  555step | loss:  1.2150 :  38%|███▊      | 3/8 [00:01<00:01,  2.68it/s]"
          ]
        },
        {
          "name": "stdout",
          "output_type": "stream",
          "text": [
            "validation multi-class accuracy = 0.7903, f1 score = 0.7925\n",
            "              precision    recall  f1-score   support\n",
            "\n",
            "           0       1.00      1.00      1.00         3\n",
            "           1       1.00      1.00      1.00         3\n",
            "           2       1.00      1.00      1.00         2\n",
            "           3       1.00      1.00      1.00         3\n",
            "           4       0.80      1.00      0.89         4\n",
            "           5       0.67      1.00      0.80         4\n",
            "           6       1.00      0.67      0.80         3\n",
            "           7       1.00      1.00      1.00         3\n",
            "           8       0.75      1.00      0.86         3\n",
            "           9       1.00      1.00      1.00         3\n",
            "          10       1.00      0.67      0.80         6\n",
            "          11       1.00      1.00      1.00         3\n",
            "          12       1.00      0.50      0.67         2\n",
            "          13       1.00      1.00      1.00         2\n",
            "          14       0.50      1.00      0.67         4\n",
            "          15       0.50      0.25      0.33         4\n",
            "          16       0.33      0.67      0.44         3\n",
            "          17       0.00      0.00      0.00         4\n",
            "          18       1.00      0.67      0.80         3\n",
            "\n",
            "    accuracy                           0.79        62\n",
            "   macro avg       0.82      0.81      0.79        62\n",
            "weighted avg       0.79      0.79      0.77        62\n",
            "\n",
            "eval/acc : 0.7903225806451613, eval/f1 : 0.7924812030075188, global_steps: 555\n"
          ]
        },
        {
          "name": "stderr",
          "output_type": "stream",
          "text": [
            "70epoch  556step | loss:  1.1850 :  50%|█████     | 4/8 [00:01<00:01,  2.95it/s]"
          ]
        },
        {
          "name": "stdout",
          "output_type": "stream",
          "text": [
            " global_steps : 556\n"
          ]
        },
        {
          "name": "stderr",
          "output_type": "stream",
          "text": [
            "70epoch  557step | loss:  1.1595 :  62%|██████▎   | 5/8 [00:01<00:01,  3.00it/s]"
          ]
        },
        {
          "name": "stdout",
          "output_type": "stream",
          "text": [
            " global_steps : 557\n"
          ]
        },
        {
          "name": "stderr",
          "output_type": "stream",
          "text": [
            "70epoch  558step | loss:  1.1474 :  75%|███████▌  | 6/8 [00:02<00:00,  3.02it/s]"
          ]
        },
        {
          "name": "stdout",
          "output_type": "stream",
          "text": [
            " global_steps : 558\n"
          ]
        },
        {
          "name": "stderr",
          "output_type": "stream",
          "text": [
            "70epoch  559step | loss:  1.1324 :  88%|████████▊ | 7/8 [00:02<00:00,  3.14it/s]"
          ]
        },
        {
          "name": "stdout",
          "output_type": "stream",
          "text": [
            " global_steps : 559\n"
          ]
        },
        {
          "name": "stderr",
          "output_type": "stream",
          "text": [
            "70epoch  560step | loss:  1.1294 : 100%|██████████| 8/8 [00:02<00:00,  3.09it/s]\n"
          ]
        },
        {
          "name": "stdout",
          "output_type": "stream",
          "text": [
            " global_steps : 560\n"
          ]
        },
        {
          "name": "stderr",
          "output_type": "stream",
          "text": [
            "71epoch  561step | loss:  1.0809 :  12%|█▎        | 1/8 [00:00<00:02,  3.41it/s]"
          ]
        },
        {
          "name": "stdout",
          "output_type": "stream",
          "text": [
            " global_steps : 561\n"
          ]
        },
        {
          "name": "stderr",
          "output_type": "stream",
          "text": [
            "71epoch  562step | loss:  1.0549 :  25%|██▌       | 2/8 [00:00<00:01,  3.16it/s]"
          ]
        },
        {
          "name": "stdout",
          "output_type": "stream",
          "text": [
            " global_steps : 562\n"
          ]
        },
        {
          "name": "stderr",
          "output_type": "stream",
          "text": [
            "71epoch  563step | loss:  1.0674 :  38%|███▊      | 3/8 [00:00<00:01,  3.24it/s]"
          ]
        },
        {
          "name": "stdout",
          "output_type": "stream",
          "text": [
            " global_steps : 563\n"
          ]
        },
        {
          "name": "stderr",
          "output_type": "stream",
          "text": [
            "71epoch  564step | loss:  1.0586 :  50%|█████     | 4/8 [00:01<00:01,  3.17it/s]"
          ]
        },
        {
          "name": "stdout",
          "output_type": "stream",
          "text": [
            " global_steps : 564\n"
          ]
        },
        {
          "name": "stderr",
          "output_type": "stream",
          "text": [
            "71epoch  565step | loss:  1.0641 :  62%|██████▎   | 5/8 [00:01<00:00,  3.19it/s]"
          ]
        },
        {
          "name": "stdout",
          "output_type": "stream",
          "text": [
            " global_steps : 565\n"
          ]
        },
        {
          "name": "stderr",
          "output_type": "stream",
          "text": [
            "71epoch  566step | loss:  1.0571 :  75%|███████▌  | 6/8 [00:01<00:00,  3.20it/s]"
          ]
        },
        {
          "name": "stdout",
          "output_type": "stream",
          "text": [
            " global_steps : 566\n"
          ]
        },
        {
          "name": "stderr",
          "output_type": "stream",
          "text": [
            "71epoch  567step | loss:  1.0414 :  88%|████████▊ | 7/8 [00:02<00:00,  3.23it/s]"
          ]
        },
        {
          "name": "stdout",
          "output_type": "stream",
          "text": [
            " global_steps : 567\n"
          ]
        },
        {
          "name": "stderr",
          "output_type": "stream",
          "text": [
            "71epoch  568step | loss:  1.0365 : 100%|██████████| 8/8 [00:02<00:00,  3.17it/s]\n"
          ]
        },
        {
          "name": "stdout",
          "output_type": "stream",
          "text": [
            " global_steps : 568\n"
          ]
        },
        {
          "name": "stderr",
          "output_type": "stream",
          "text": [
            "72epoch  569step | loss:  0.9825 :  12%|█▎        | 1/8 [00:00<00:02,  2.38it/s]"
          ]
        },
        {
          "name": "stdout",
          "output_type": "stream",
          "text": [
            " global_steps : 569\n"
          ]
        },
        {
          "name": "stderr",
          "output_type": "stream",
          "text": [
            "epoch 72 loss: 1.2611: 100%|██████████| 2/2 [00:00<00:00, 15.75it/s]\n"
          ]
        },
        {
          "name": "stdout",
          "output_type": "stream",
          "text": [
            "validation multi-class accuracy = 0.8065, f1 score = 0.8062\n",
            "              precision    recall  f1-score   support\n",
            "\n",
            "           0       1.00      1.00      1.00         3\n",
            "           1       1.00      1.00      1.00         3\n",
            "           2       1.00      1.00      1.00         2\n",
            "           3       1.00      1.00      1.00         3\n",
            "           4       0.80      1.00      0.89         4\n",
            "           5       0.67      1.00      0.80         4\n",
            "           6       1.00      1.00      1.00         3\n",
            "           7       1.00      1.00      1.00         3\n",
            "           8       0.75      1.00      0.86         3\n",
            "           9       1.00      1.00      1.00         3\n",
            "          10       1.00      0.67      0.80         6\n",
            "          11       1.00      1.00      1.00         3\n",
            "          12       1.00      0.50      0.67         2\n",
            "          13       1.00      1.00      1.00         2\n",
            "          14       0.57      1.00      0.73         4\n",
            "          15       0.50      0.25      0.33         4\n",
            "          16       0.33      0.67      0.44         3\n",
            "          17       0.00      0.00      0.00         4\n",
            "          18       1.00      0.67      0.80         3\n",
            "\n",
            "    accuracy                           0.81        62\n",
            "   macro avg       0.82      0.83      0.81        62\n",
            "weighted avg       0.80      0.81      0.78        62\n",
            "\n"
          ]
        },
        {
          "name": "stderr",
          "output_type": "stream",
          "text": [
            "\r72epoch  570step | loss:  0.9871 :  25%|██▌       | 2/8 [00:06<00:23,  3.90s/it]"
          ]
        },
        {
          "name": "stdout",
          "output_type": "stream",
          "text": [
            "eval/acc : 0.8064516129032258, eval/f1 : 0.8061973114604694, global_steps: 570\n"
          ]
        },
        {
          "name": "stderr",
          "output_type": "stream",
          "text": [
            "72epoch  571step | loss:  1.0001 :  38%|███▊      | 3/8 [00:07<00:11,  2.28s/it]"
          ]
        },
        {
          "name": "stdout",
          "output_type": "stream",
          "text": [
            " global_steps : 571\n"
          ]
        },
        {
          "name": "stderr",
          "output_type": "stream",
          "text": [
            "72epoch  572step | loss:  0.9824 :  50%|█████     | 4/8 [00:07<00:06,  1.51s/it]"
          ]
        },
        {
          "name": "stdout",
          "output_type": "stream",
          "text": [
            " global_steps : 572\n"
          ]
        },
        {
          "name": "stderr",
          "output_type": "stream",
          "text": [
            "72epoch  573step | loss:  0.9735 :  62%|██████▎   | 5/8 [00:07<00:03,  1.09s/it]"
          ]
        },
        {
          "name": "stdout",
          "output_type": "stream",
          "text": [
            " global_steps : 573\n"
          ]
        },
        {
          "name": "stderr",
          "output_type": "stream",
          "text": [
            "72epoch  574step | loss:  0.9881 :  75%|███████▌  | 6/8 [00:08<00:01,  1.20it/s]"
          ]
        },
        {
          "name": "stdout",
          "output_type": "stream",
          "text": [
            " global_steps : 574\n"
          ]
        },
        {
          "name": "stderr",
          "output_type": "stream",
          "text": [
            "72epoch  575step | loss:  0.9923 :  88%|████████▊ | 7/8 [00:08<00:00,  1.51it/s]"
          ]
        },
        {
          "name": "stdout",
          "output_type": "stream",
          "text": [
            " global_steps : 575\n"
          ]
        },
        {
          "name": "stderr",
          "output_type": "stream",
          "text": [
            "72epoch  576step | loss:  0.9895 : 100%|██████████| 8/8 [00:08<00:00,  1.09s/it]\n"
          ]
        },
        {
          "name": "stdout",
          "output_type": "stream",
          "text": [
            " global_steps : 576\n"
          ]
        },
        {
          "name": "stderr",
          "output_type": "stream",
          "text": [
            "73epoch  577step | loss:  0.9488 :  12%|█▎        | 1/8 [00:00<00:02,  3.39it/s]"
          ]
        },
        {
          "name": "stdout",
          "output_type": "stream",
          "text": [
            " global_steps : 577\n"
          ]
        },
        {
          "name": "stderr",
          "output_type": "stream",
          "text": [
            "73epoch  578step | loss:  0.9422 :  25%|██▌       | 2/8 [00:00<00:01,  3.16it/s]"
          ]
        },
        {
          "name": "stdout",
          "output_type": "stream",
          "text": [
            " global_steps : 578\n"
          ]
        },
        {
          "name": "stderr",
          "output_type": "stream",
          "text": [
            "73epoch  579step | loss:  0.9717 :  38%|███▊      | 3/8 [00:00<00:01,  3.05it/s]"
          ]
        },
        {
          "name": "stdout",
          "output_type": "stream",
          "text": [
            " global_steps : 579\n"
          ]
        },
        {
          "name": "stderr",
          "output_type": "stream",
          "text": [
            "73epoch  580step | loss:  0.9760 :  50%|█████     | 4/8 [00:01<00:01,  3.07it/s]"
          ]
        },
        {
          "name": "stdout",
          "output_type": "stream",
          "text": [
            " global_steps : 580\n"
          ]
        },
        {
          "name": "stderr",
          "output_type": "stream",
          "text": [
            "73epoch  581step | loss:  0.9588 :  62%|██████▎   | 5/8 [00:01<00:00,  3.06it/s]"
          ]
        },
        {
          "name": "stdout",
          "output_type": "stream",
          "text": [
            " global_steps : 581\n"
          ]
        },
        {
          "name": "stderr",
          "output_type": "stream",
          "text": [
            "73epoch  582step | loss:  0.9388 :  75%|███████▌  | 6/8 [00:01<00:00,  3.12it/s]"
          ]
        },
        {
          "name": "stdout",
          "output_type": "stream",
          "text": [
            " global_steps : 582\n"
          ]
        },
        {
          "name": "stderr",
          "output_type": "stream",
          "text": [
            "73epoch  583step | loss:  0.9361 :  88%|████████▊ | 7/8 [00:02<00:00,  3.22it/s]"
          ]
        },
        {
          "name": "stdout",
          "output_type": "stream",
          "text": [
            " global_steps : 583\n"
          ]
        },
        {
          "name": "stderr",
          "output_type": "stream",
          "text": [
            "73epoch  584step | loss:  0.9388 : 100%|██████████| 8/8 [00:02<00:00,  3.21it/s]\n"
          ]
        },
        {
          "name": "stdout",
          "output_type": "stream",
          "text": [
            " global_steps : 584\n"
          ]
        },
        {
          "name": "stderr",
          "output_type": "stream",
          "text": [
            "epoch 74 loss: 1.1803: 100%|██████████| 2/2 [00:00<00:00, 19.47it/s]\n",
            "74epoch  585step | loss:  0.9502 :  12%|█▎        | 1/8 [00:00<00:03,  2.15it/s]"
          ]
        },
        {
          "name": "stdout",
          "output_type": "stream",
          "text": [
            "validation multi-class accuracy = 0.7903, f1 score = 0.7954\n",
            "              precision    recall  f1-score   support\n",
            "\n",
            "           0       1.00      1.00      1.00         3\n",
            "           1       1.00      1.00      1.00         3\n",
            "           2       1.00      1.00      1.00         2\n",
            "           3       1.00      1.00      1.00         3\n",
            "           4       0.80      1.00      0.89         4\n",
            "           5       0.67      1.00      0.80         4\n",
            "           6       1.00      0.67      0.80         3\n",
            "           7       1.00      1.00      1.00         3\n",
            "           8       0.75      1.00      0.86         3\n",
            "           9       1.00      1.00      1.00         3\n",
            "          10       1.00      0.67      0.80         6\n",
            "          11       1.00      0.67      0.80         3\n",
            "          12       1.00      1.00      1.00         2\n",
            "          13       1.00      1.00      1.00         2\n",
            "          14       0.50      1.00      0.67         4\n",
            "          15       0.50      0.25      0.33         4\n",
            "          16       0.40      0.67      0.50         3\n",
            "          17       0.00      0.00      0.00         4\n",
            "          18       0.67      0.67      0.67         3\n",
            "\n",
            "    accuracy                           0.79        62\n",
            "   macro avg       0.80      0.82      0.80        62\n",
            "weighted avg       0.78      0.79      0.76        62\n",
            "\n",
            "eval/acc : 0.7903225806451613, eval/f1 : 0.7954051796157059, global_steps: 585\n"
          ]
        },
        {
          "name": "stderr",
          "output_type": "stream",
          "text": [
            "74epoch  586step | loss:  0.9129 :  25%|██▌       | 2/8 [00:00<00:02,  2.77it/s]"
          ]
        },
        {
          "name": "stdout",
          "output_type": "stream",
          "text": [
            " global_steps : 586\n"
          ]
        },
        {
          "name": "stderr",
          "output_type": "stream",
          "text": [
            "74epoch  587step | loss:  0.9026 :  38%|███▊      | 3/8 [00:01<00:01,  2.85it/s]"
          ]
        },
        {
          "name": "stdout",
          "output_type": "stream",
          "text": [
            " global_steps : 587\n"
          ]
        },
        {
          "name": "stderr",
          "output_type": "stream",
          "text": [
            "74epoch  588step | loss:  0.9066 :  50%|█████     | 4/8 [00:01<00:01,  2.89it/s]"
          ]
        },
        {
          "name": "stdout",
          "output_type": "stream",
          "text": [
            " global_steps : 588\n"
          ]
        },
        {
          "name": "stderr",
          "output_type": "stream",
          "text": [
            "74epoch  589step | loss:  0.8925 :  62%|██████▎   | 5/8 [00:01<00:01,  3.00it/s]"
          ]
        },
        {
          "name": "stdout",
          "output_type": "stream",
          "text": [
            " global_steps : 589\n"
          ]
        },
        {
          "name": "stderr",
          "output_type": "stream",
          "text": [
            "74epoch  590step | loss:  0.8957 :  75%|███████▌  | 6/8 [00:02<00:00,  3.11it/s]"
          ]
        },
        {
          "name": "stdout",
          "output_type": "stream",
          "text": [
            " global_steps : 590\n"
          ]
        },
        {
          "name": "stderr",
          "output_type": "stream",
          "text": [
            "74epoch  591step | loss:  0.8862 :  88%|████████▊ | 7/8 [00:02<00:00,  3.13it/s]"
          ]
        },
        {
          "name": "stdout",
          "output_type": "stream",
          "text": [
            " global_steps : 591\n"
          ]
        },
        {
          "name": "stderr",
          "output_type": "stream",
          "text": [
            "74epoch  592step | loss:  0.8818 : 100%|██████████| 8/8 [00:02<00:00,  3.02it/s]\n"
          ]
        },
        {
          "name": "stdout",
          "output_type": "stream",
          "text": [
            " global_steps : 592\n"
          ]
        },
        {
          "name": "stderr",
          "output_type": "stream",
          "text": [
            "75epoch  593step | loss:  0.7852 :  12%|█▎        | 1/8 [00:00<00:02,  3.21it/s]"
          ]
        },
        {
          "name": "stdout",
          "output_type": "stream",
          "text": [
            " global_steps : 593\n"
          ]
        },
        {
          "name": "stderr",
          "output_type": "stream",
          "text": [
            "75epoch  594step | loss:  0.8016 :  25%|██▌       | 2/8 [00:00<00:01,  3.23it/s]"
          ]
        },
        {
          "name": "stdout",
          "output_type": "stream",
          "text": [
            " global_steps : 594\n"
          ]
        },
        {
          "name": "stderr",
          "output_type": "stream",
          "text": [
            "75epoch  595step | loss:  0.7948 :  38%|███▊      | 3/8 [00:00<00:01,  3.05it/s]"
          ]
        },
        {
          "name": "stdout",
          "output_type": "stream",
          "text": [
            " global_steps : 595\n"
          ]
        },
        {
          "name": "stderr",
          "output_type": "stream",
          "text": [
            "75epoch  596step | loss:  0.8150 :  50%|█████     | 4/8 [00:01<00:01,  3.12it/s]"
          ]
        },
        {
          "name": "stdout",
          "output_type": "stream",
          "text": [
            " global_steps : 596\n"
          ]
        },
        {
          "name": "stderr",
          "output_type": "stream",
          "text": [
            "75epoch  597step | loss:  0.8145 :  62%|██████▎   | 5/8 [00:01<00:00,  3.17it/s]"
          ]
        },
        {
          "name": "stdout",
          "output_type": "stream",
          "text": [
            " global_steps : 597\n"
          ]
        },
        {
          "name": "stderr",
          "output_type": "stream",
          "text": [
            "75epoch  598step | loss:  0.8225 :  75%|███████▌  | 6/8 [00:01<00:00,  3.10it/s]"
          ]
        },
        {
          "name": "stdout",
          "output_type": "stream",
          "text": [
            " global_steps : 598\n"
          ]
        },
        {
          "name": "stderr",
          "output_type": "stream",
          "text": [
            "75epoch  599step | loss:  0.8340 :  88%|████████▊ | 7/8 [00:02<00:00,  3.09it/s]"
          ]
        },
        {
          "name": "stdout",
          "output_type": "stream",
          "text": [
            " global_steps : 599\n"
          ]
        },
        {
          "name": "stderr",
          "output_type": "stream",
          "text": [
            "epoch 75 loss: 1.1067: 100%|██████████| 2/2 [00:00<00:00, 15.76it/s]\n"
          ]
        },
        {
          "name": "stdout",
          "output_type": "stream",
          "text": [
            "validation multi-class accuracy = 0.8226, f1 score = 0.8339\n",
            "              precision    recall  f1-score   support\n",
            "\n",
            "           0       1.00      1.00      1.00         3\n",
            "           1       1.00      1.00      1.00         3\n",
            "           2       1.00      1.00      1.00         2\n",
            "           3       1.00      1.00      1.00         3\n",
            "           4       0.80      1.00      0.89         4\n",
            "           5       0.67      1.00      0.80         4\n",
            "           6       1.00      1.00      1.00         3\n",
            "           7       1.00      1.00      1.00         3\n",
            "           8       0.75      1.00      0.86         3\n",
            "           9       1.00      1.00      1.00         3\n",
            "          10       1.00      0.67      0.80         6\n",
            "          11       1.00      0.67      0.80         3\n",
            "          12       1.00      1.00      1.00         2\n",
            "          13       1.00      1.00      1.00         2\n",
            "          14       0.57      1.00      0.73         4\n",
            "          15       0.50      0.25      0.33         4\n",
            "          16       0.50      0.67      0.57         3\n",
            "          17       1.00      0.25      0.40         4\n",
            "          18       0.67      0.67      0.67         3\n",
            "\n",
            "    accuracy                           0.82        62\n",
            "   macro avg       0.87      0.85      0.83        62\n",
            "weighted avg       0.85      0.82      0.81        62\n",
            "\n"
          ]
        },
        {
          "name": "stderr",
          "output_type": "stream",
          "text": [
            "75epoch  600step | loss:  0.8272 : 100%|██████████| 8/8 [00:08<00:00,  1.06s/it]\n"
          ]
        },
        {
          "name": "stdout",
          "output_type": "stream",
          "text": [
            "eval/acc : 0.8225806451612904, eval/f1 : 0.8339333181438445, global_steps: 600\n"
          ]
        },
        {
          "name": "stderr",
          "output_type": "stream",
          "text": [
            "76epoch  601step | loss:  0.7331 :  12%|█▎        | 1/8 [00:00<00:02,  2.87it/s]"
          ]
        },
        {
          "name": "stdout",
          "output_type": "stream",
          "text": [
            " global_steps : 601\n"
          ]
        },
        {
          "name": "stderr",
          "output_type": "stream",
          "text": [
            "76epoch  602step | loss:  0.7577 :  25%|██▌       | 2/8 [00:00<00:01,  3.06it/s]"
          ]
        },
        {
          "name": "stdout",
          "output_type": "stream",
          "text": [
            " global_steps : 602\n"
          ]
        },
        {
          "name": "stderr",
          "output_type": "stream",
          "text": [
            "76epoch  603step | loss:  0.7817 :  38%|███▊      | 3/8 [00:00<00:01,  3.04it/s]"
          ]
        },
        {
          "name": "stdout",
          "output_type": "stream",
          "text": [
            " global_steps : 603\n"
          ]
        },
        {
          "name": "stderr",
          "output_type": "stream",
          "text": [
            "76epoch  604step | loss:  0.7832 :  50%|█████     | 4/8 [00:01<00:01,  3.12it/s]"
          ]
        },
        {
          "name": "stdout",
          "output_type": "stream",
          "text": [
            " global_steps : 604\n"
          ]
        },
        {
          "name": "stderr",
          "output_type": "stream",
          "text": [
            "76epoch  605step | loss:  0.7993 :  62%|██████▎   | 5/8 [00:01<00:00,  3.16it/s]"
          ]
        },
        {
          "name": "stdout",
          "output_type": "stream",
          "text": [
            " global_steps : 605\n"
          ]
        },
        {
          "name": "stderr",
          "output_type": "stream",
          "text": [
            "76epoch  606step | loss:  0.7965 :  75%|███████▌  | 6/8 [00:01<00:00,  3.15it/s]"
          ]
        },
        {
          "name": "stdout",
          "output_type": "stream",
          "text": [
            " global_steps : 606\n"
          ]
        },
        {
          "name": "stderr",
          "output_type": "stream",
          "text": [
            "76epoch  607step | loss:  0.8009 :  88%|████████▊ | 7/8 [00:02<00:00,  3.10it/s]"
          ]
        },
        {
          "name": "stdout",
          "output_type": "stream",
          "text": [
            " global_steps : 607\n"
          ]
        },
        {
          "name": "stderr",
          "output_type": "stream",
          "text": [
            "76epoch  608step | loss:  0.7941 : 100%|██████████| 8/8 [00:02<00:00,  3.13it/s]\n"
          ]
        },
        {
          "name": "stdout",
          "output_type": "stream",
          "text": [
            " global_steps : 608\n"
          ]
        },
        {
          "name": "stderr",
          "output_type": "stream",
          "text": [
            "77epoch  609step | loss:  0.7434 :  12%|█▎        | 1/8 [00:00<00:02,  3.14it/s]"
          ]
        },
        {
          "name": "stdout",
          "output_type": "stream",
          "text": [
            " global_steps : 609\n"
          ]
        },
        {
          "name": "stderr",
          "output_type": "stream",
          "text": [
            "77epoch  610step | loss:  0.7337 :  25%|██▌       | 2/8 [00:00<00:01,  3.02it/s]"
          ]
        },
        {
          "name": "stdout",
          "output_type": "stream",
          "text": [
            " global_steps : 610\n"
          ]
        },
        {
          "name": "stderr",
          "output_type": "stream",
          "text": [
            "77epoch  611step | loss:  0.7530 :  38%|███▊      | 3/8 [00:00<00:01,  3.08it/s]"
          ]
        },
        {
          "name": "stdout",
          "output_type": "stream",
          "text": [
            " global_steps : 611\n"
          ]
        },
        {
          "name": "stderr",
          "output_type": "stream",
          "text": [
            "77epoch  612step | loss:  0.7762 :  50%|█████     | 4/8 [00:01<00:01,  3.14it/s]"
          ]
        },
        {
          "name": "stdout",
          "output_type": "stream",
          "text": [
            " global_steps : 612\n"
          ]
        },
        {
          "name": "stderr",
          "output_type": "stream",
          "text": [
            "77epoch  613step | loss:  0.7754 :  62%|██████▎   | 5/8 [00:01<00:00,  3.08it/s]"
          ]
        },
        {
          "name": "stdout",
          "output_type": "stream",
          "text": [
            " global_steps : 613\n"
          ]
        },
        {
          "name": "stderr",
          "output_type": "stream",
          "text": [
            "77epoch  614step | loss:  0.7702 :  75%|███████▌  | 6/8 [00:01<00:00,  3.11it/s]"
          ]
        },
        {
          "name": "stdout",
          "output_type": "stream",
          "text": [
            " global_steps : 614\n"
          ]
        },
        {
          "name": "stderr",
          "output_type": "stream",
          "text": [
            "epoch 77 loss: 1.0184: 100%|██████████| 2/2 [00:00<00:00, 19.26it/s]\n"
          ]
        },
        {
          "name": "stdout",
          "output_type": "stream",
          "text": [
            "validation multi-class accuracy = 0.8548, f1 score = 0.8602\n",
            "              precision    recall  f1-score   support\n",
            "\n",
            "           0       1.00      1.00      1.00         3\n",
            "           1       1.00      1.00      1.00         3\n",
            "           2       1.00      1.00      1.00         2\n",
            "           3       1.00      1.00      1.00         3\n",
            "           4       1.00      1.00      1.00         4\n",
            "           5       0.80      1.00      0.89         4\n",
            "           6       1.00      1.00      1.00         3\n",
            "           7       1.00      1.00      1.00         3\n",
            "           8       0.75      1.00      0.86         3\n",
            "           9       1.00      1.00      1.00         3\n",
            "          10       1.00      0.83      0.91         6\n",
            "          11       1.00      0.67      0.80         3\n",
            "          12       1.00      1.00      1.00         2\n",
            "          13       1.00      1.00      1.00         2\n",
            "          14       0.57      1.00      0.73         4\n",
            "          15       0.50      0.25      0.33         4\n",
            "          16       0.50      0.67      0.57         3\n",
            "          17       1.00      0.25      0.40         4\n",
            "          18       0.75      1.00      0.86         3\n",
            "\n",
            "    accuracy                           0.85        62\n",
            "   macro avg       0.89      0.88      0.86        62\n",
            "weighted avg       0.88      0.85      0.84        62\n",
            "\n"
          ]
        },
        {
          "name": "stderr",
          "output_type": "stream",
          "text": [
            "\r77epoch  615step | loss:  0.7696 :  88%|████████▊ | 7/8 [00:08<00:02,  2.21s/it]"
          ]
        },
        {
          "name": "stdout",
          "output_type": "stream",
          "text": [
            "eval/acc : 0.8548387096774194, eval/f1 : 0.8602263233842182, global_steps: 615\n"
          ]
        },
        {
          "name": "stderr",
          "output_type": "stream",
          "text": [
            "77epoch  616step | loss:  0.7635 : 100%|██████████| 8/8 [00:08<00:00,  1.04s/it]\n"
          ]
        },
        {
          "name": "stdout",
          "output_type": "stream",
          "text": [
            " global_steps : 616\n"
          ]
        },
        {
          "name": "stderr",
          "output_type": "stream",
          "text": [
            "78epoch  617step | loss:  0.7626 :  12%|█▎        | 1/8 [00:00<00:02,  2.96it/s]"
          ]
        },
        {
          "name": "stdout",
          "output_type": "stream",
          "text": [
            " global_steps : 617\n"
          ]
        },
        {
          "name": "stderr",
          "output_type": "stream",
          "text": [
            "78epoch  618step | loss:  0.7528 :  25%|██▌       | 2/8 [00:00<00:01,  3.17it/s]"
          ]
        },
        {
          "name": "stdout",
          "output_type": "stream",
          "text": [
            " global_steps : 618\n"
          ]
        },
        {
          "name": "stderr",
          "output_type": "stream",
          "text": [
            "78epoch  619step | loss:  0.7559 :  38%|███▊      | 3/8 [00:00<00:01,  3.22it/s]"
          ]
        },
        {
          "name": "stdout",
          "output_type": "stream",
          "text": [
            " global_steps : 619\n"
          ]
        },
        {
          "name": "stderr",
          "output_type": "stream",
          "text": [
            "78epoch  620step | loss:  0.7392 :  50%|█████     | 4/8 [00:01<00:01,  3.26it/s]"
          ]
        },
        {
          "name": "stdout",
          "output_type": "stream",
          "text": [
            " global_steps : 620\n"
          ]
        },
        {
          "name": "stderr",
          "output_type": "stream",
          "text": [
            "78epoch  621step | loss:  0.7336 :  62%|██████▎   | 5/8 [00:01<00:00,  3.25it/s]"
          ]
        },
        {
          "name": "stdout",
          "output_type": "stream",
          "text": [
            " global_steps : 621\n"
          ]
        },
        {
          "name": "stderr",
          "output_type": "stream",
          "text": [
            "78epoch  622step | loss:  0.7262 :  75%|███████▌  | 6/8 [00:01<00:00,  3.21it/s]"
          ]
        },
        {
          "name": "stdout",
          "output_type": "stream",
          "text": [
            " global_steps : 622\n"
          ]
        },
        {
          "name": "stderr",
          "output_type": "stream",
          "text": [
            "78epoch  623step | loss:  0.7136 :  88%|████████▊ | 7/8 [00:02<00:00,  3.25it/s]"
          ]
        },
        {
          "name": "stdout",
          "output_type": "stream",
          "text": [
            " global_steps : 623\n"
          ]
        },
        {
          "name": "stderr",
          "output_type": "stream",
          "text": [
            "78epoch  624step | loss:  0.7120 : 100%|██████████| 8/8 [00:02<00:00,  3.29it/s]\n"
          ]
        },
        {
          "name": "stdout",
          "output_type": "stream",
          "text": [
            " global_steps : 624\n"
          ]
        },
        {
          "name": "stderr",
          "output_type": "stream",
          "text": [
            "79epoch  625step | loss:  0.6249 :  12%|█▎        | 1/8 [00:00<00:02,  3.24it/s]"
          ]
        },
        {
          "name": "stdout",
          "output_type": "stream",
          "text": [
            " global_steps : 625\n"
          ]
        },
        {
          "name": "stderr",
          "output_type": "stream",
          "text": [
            "79epoch  626step | loss:  0.6579 :  25%|██▌       | 2/8 [00:00<00:01,  3.23it/s]"
          ]
        },
        {
          "name": "stdout",
          "output_type": "stream",
          "text": [
            " global_steps : 626\n"
          ]
        },
        {
          "name": "stderr",
          "output_type": "stream",
          "text": [
            "79epoch  627step | loss:  0.6707 :  38%|███▊      | 3/8 [00:00<00:01,  3.11it/s]"
          ]
        },
        {
          "name": "stdout",
          "output_type": "stream",
          "text": [
            " global_steps : 627\n"
          ]
        },
        {
          "name": "stderr",
          "output_type": "stream",
          "text": [
            "79epoch  628step | loss:  0.6774 :  50%|█████     | 4/8 [00:01<00:01,  3.15it/s]"
          ]
        },
        {
          "name": "stdout",
          "output_type": "stream",
          "text": [
            " global_steps : 628\n"
          ]
        },
        {
          "name": "stderr",
          "output_type": "stream",
          "text": [
            "79epoch  629step | loss:  0.6575 :  62%|██████▎   | 5/8 [00:01<00:00,  3.18it/s]"
          ]
        },
        {
          "name": "stdout",
          "output_type": "stream",
          "text": [
            " global_steps : 629\n"
          ]
        },
        {
          "name": "stderr",
          "output_type": "stream",
          "text": [
            "epoch 79 loss: 0.9359: 100%|██████████| 2/2 [00:00<00:00, 20.49it/s]\n",
            "79epoch  630step | loss:  0.6607 :  75%|███████▌  | 6/8 [00:02<00:00,  2.76it/s]"
          ]
        },
        {
          "name": "stdout",
          "output_type": "stream",
          "text": [
            "validation multi-class accuracy = 0.8548, f1 score = 0.8602\n",
            "              precision    recall  f1-score   support\n",
            "\n",
            "           0       1.00      1.00      1.00         3\n",
            "           1       1.00      1.00      1.00         3\n",
            "           2       1.00      1.00      1.00         2\n",
            "           3       1.00      1.00      1.00         3\n",
            "           4       1.00      1.00      1.00         4\n",
            "           5       0.80      1.00      0.89         4\n",
            "           6       1.00      1.00      1.00         3\n",
            "           7       1.00      1.00      1.00         3\n",
            "           8       0.75      1.00      0.86         3\n",
            "           9       1.00      1.00      1.00         3\n",
            "          10       1.00      0.83      0.91         6\n",
            "          11       1.00      0.67      0.80         3\n",
            "          12       1.00      1.00      1.00         2\n",
            "          13       1.00      1.00      1.00         2\n",
            "          14       0.57      1.00      0.73         4\n",
            "          15       0.50      0.25      0.33         4\n",
            "          16       0.50      0.67      0.57         3\n",
            "          17       1.00      0.25      0.40         4\n",
            "          18       0.75      1.00      0.86         3\n",
            "\n",
            "    accuracy                           0.85        62\n",
            "   macro avg       0.89      0.88      0.86        62\n",
            "weighted avg       0.88      0.85      0.84        62\n",
            "\n",
            "eval/acc : 0.8548387096774194, eval/f1 : 0.8602263233842182, global_steps: 630\n"
          ]
        },
        {
          "name": "stderr",
          "output_type": "stream",
          "text": [
            "79epoch  631step | loss:  0.6556 :  88%|████████▊ | 7/8 [00:02<00:00,  2.94it/s]"
          ]
        },
        {
          "name": "stdout",
          "output_type": "stream",
          "text": [
            " global_steps : 631\n"
          ]
        },
        {
          "name": "stderr",
          "output_type": "stream",
          "text": [
            "79epoch  632step | loss:  0.6532 : 100%|██████████| 8/8 [00:02<00:00,  2.98it/s]\n"
          ]
        },
        {
          "name": "stdout",
          "output_type": "stream",
          "text": [
            " global_steps : 632\n"
          ]
        },
        {
          "name": "stderr",
          "output_type": "stream",
          "text": [
            "80epoch  633step | loss:  0.6378 :  12%|█▎        | 1/8 [00:00<00:02,  3.29it/s]"
          ]
        },
        {
          "name": "stdout",
          "output_type": "stream",
          "text": [
            " global_steps : 633\n"
          ]
        },
        {
          "name": "stderr",
          "output_type": "stream",
          "text": [
            "80epoch  634step | loss:  0.6422 :  25%|██▌       | 2/8 [00:00<00:01,  3.33it/s]"
          ]
        },
        {
          "name": "stdout",
          "output_type": "stream",
          "text": [
            " global_steps : 634\n"
          ]
        },
        {
          "name": "stderr",
          "output_type": "stream",
          "text": [
            "80epoch  635step | loss:  0.6281 :  38%|███▊      | 3/8 [00:00<00:01,  3.41it/s]"
          ]
        },
        {
          "name": "stdout",
          "output_type": "stream",
          "text": [
            " global_steps : 635\n"
          ]
        },
        {
          "name": "stderr",
          "output_type": "stream",
          "text": [
            "80epoch  636step | loss:  0.6255 :  50%|█████     | 4/8 [00:01<00:01,  3.27it/s]"
          ]
        },
        {
          "name": "stdout",
          "output_type": "stream",
          "text": [
            " global_steps : 636\n"
          ]
        },
        {
          "name": "stderr",
          "output_type": "stream",
          "text": [
            "80epoch  637step | loss:  0.6366 :  62%|██████▎   | 5/8 [00:01<00:01,  2.92it/s]"
          ]
        },
        {
          "name": "stdout",
          "output_type": "stream",
          "text": [
            " global_steps : 637\n"
          ]
        },
        {
          "name": "stderr",
          "output_type": "stream",
          "text": [
            "80epoch  638step | loss:  0.6366 :  75%|███████▌  | 6/8 [00:01<00:00,  2.89it/s]"
          ]
        },
        {
          "name": "stdout",
          "output_type": "stream",
          "text": [
            " global_steps : 638\n"
          ]
        },
        {
          "name": "stderr",
          "output_type": "stream",
          "text": [
            "80epoch  639step | loss:  0.6316 :  88%|████████▊ | 7/8 [00:02<00:00,  2.85it/s]"
          ]
        },
        {
          "name": "stdout",
          "output_type": "stream",
          "text": [
            " global_steps : 639\n"
          ]
        },
        {
          "name": "stderr",
          "output_type": "stream",
          "text": [
            "80epoch  640step | loss:  0.6286 : 100%|██████████| 8/8 [00:02<00:00,  2.92it/s]\n"
          ]
        },
        {
          "name": "stdout",
          "output_type": "stream",
          "text": [
            " global_steps : 640\n"
          ]
        },
        {
          "name": "stderr",
          "output_type": "stream",
          "text": [
            "81epoch  641step | loss:  0.5988 :  12%|█▎        | 1/8 [00:00<00:02,  2.53it/s]"
          ]
        },
        {
          "name": "stdout",
          "output_type": "stream",
          "text": [
            " global_steps : 641\n"
          ]
        },
        {
          "name": "stderr",
          "output_type": "stream",
          "text": [
            "81epoch  642step | loss:  0.6166 :  25%|██▌       | 2/8 [00:00<00:02,  2.49it/s]"
          ]
        },
        {
          "name": "stdout",
          "output_type": "stream",
          "text": [
            " global_steps : 642\n"
          ]
        },
        {
          "name": "stderr",
          "output_type": "stream",
          "text": [
            "81epoch  643step | loss:  0.5945 :  38%|███▊      | 3/8 [00:01<00:02,  2.44it/s]"
          ]
        },
        {
          "name": "stdout",
          "output_type": "stream",
          "text": [
            " global_steps : 643\n"
          ]
        },
        {
          "name": "stderr",
          "output_type": "stream",
          "text": [
            "81epoch  644step | loss:  0.5888 :  50%|█████     | 4/8 [00:01<00:01,  2.46it/s]"
          ]
        },
        {
          "name": "stdout",
          "output_type": "stream",
          "text": [
            " global_steps : 644\n"
          ]
        },
        {
          "name": "stderr",
          "output_type": "stream",
          "text": [
            "epoch 81 loss: 0.8901: 100%|██████████| 2/2 [00:00<00:00, 20.17it/s]\n",
            "81epoch  645step | loss:  0.5874 :  62%|██████▎   | 5/8 [00:02<00:01,  2.01it/s]"
          ]
        },
        {
          "name": "stdout",
          "output_type": "stream",
          "text": [
            "validation multi-class accuracy = 0.8548, f1 score = 0.8602\n",
            "              precision    recall  f1-score   support\n",
            "\n",
            "           0       1.00      1.00      1.00         3\n",
            "           1       1.00      1.00      1.00         3\n",
            "           2       1.00      1.00      1.00         2\n",
            "           3       1.00      1.00      1.00         3\n",
            "           4       1.00      1.00      1.00         4\n",
            "           5       0.80      1.00      0.89         4\n",
            "           6       1.00      1.00      1.00         3\n",
            "           7       1.00      1.00      1.00         3\n",
            "           8       0.75      1.00      0.86         3\n",
            "           9       1.00      1.00      1.00         3\n",
            "          10       1.00      0.83      0.91         6\n",
            "          11       1.00      0.67      0.80         3\n",
            "          12       1.00      1.00      1.00         2\n",
            "          13       1.00      1.00      1.00         2\n",
            "          14       0.57      1.00      0.73         4\n",
            "          15       0.50      0.25      0.33         4\n",
            "          16       0.50      0.67      0.57         3\n",
            "          17       1.00      0.25      0.40         4\n",
            "          18       0.75      1.00      0.86         3\n",
            "\n",
            "    accuracy                           0.85        62\n",
            "   macro avg       0.89      0.88      0.86        62\n",
            "weighted avg       0.88      0.85      0.84        62\n",
            "\n",
            "eval/acc : 0.8548387096774194, eval/f1 : 0.8602263233842182, global_steps: 645\n"
          ]
        },
        {
          "name": "stderr",
          "output_type": "stream",
          "text": [
            "81epoch  646step | loss:  0.5900 :  75%|███████▌  | 6/8 [00:02<00:00,  2.20it/s]"
          ]
        },
        {
          "name": "stdout",
          "output_type": "stream",
          "text": [
            " global_steps : 646\n"
          ]
        },
        {
          "name": "stderr",
          "output_type": "stream",
          "text": [
            "81epoch  647step | loss:  0.5887 :  88%|████████▊ | 7/8 [00:02<00:00,  2.38it/s]"
          ]
        },
        {
          "name": "stdout",
          "output_type": "stream",
          "text": [
            " global_steps : 647\n"
          ]
        },
        {
          "name": "stderr",
          "output_type": "stream",
          "text": [
            "81epoch  648step | loss:  0.5848 : 100%|██████████| 8/8 [00:03<00:00,  2.43it/s]\n"
          ]
        },
        {
          "name": "stdout",
          "output_type": "stream",
          "text": [
            " global_steps : 648\n"
          ]
        },
        {
          "name": "stderr",
          "output_type": "stream",
          "text": [
            "82epoch  649step | loss:  0.6675 :  12%|█▎        | 1/8 [00:00<00:02,  2.34it/s]"
          ]
        },
        {
          "name": "stdout",
          "output_type": "stream",
          "text": [
            " global_steps : 649\n"
          ]
        },
        {
          "name": "stderr",
          "output_type": "stream",
          "text": [
            "82epoch  650step | loss:  0.5910 :  25%|██▌       | 2/8 [00:00<00:02,  2.12it/s]"
          ]
        },
        {
          "name": "stdout",
          "output_type": "stream",
          "text": [
            " global_steps : 650\n"
          ]
        },
        {
          "name": "stderr",
          "output_type": "stream",
          "text": [
            "82epoch  651step | loss:  0.5620 :  38%|███▊      | 3/8 [00:01<00:02,  2.40it/s]"
          ]
        },
        {
          "name": "stdout",
          "output_type": "stream",
          "text": [
            " global_steps : 651\n"
          ]
        },
        {
          "name": "stderr",
          "output_type": "stream",
          "text": [
            "82epoch  652step | loss:  0.5755 :  50%|█████     | 4/8 [00:01<00:01,  2.58it/s]"
          ]
        },
        {
          "name": "stdout",
          "output_type": "stream",
          "text": [
            " global_steps : 652\n"
          ]
        },
        {
          "name": "stderr",
          "output_type": "stream",
          "text": [
            "82epoch  653step | loss:  0.5830 :  62%|██████▎   | 5/8 [00:02<00:01,  2.45it/s]"
          ]
        },
        {
          "name": "stdout",
          "output_type": "stream",
          "text": [
            " global_steps : 653\n"
          ]
        },
        {
          "name": "stderr",
          "output_type": "stream",
          "text": [
            "82epoch  654step | loss:  0.5765 :  75%|███████▌  | 6/8 [00:02<00:00,  2.55it/s]"
          ]
        },
        {
          "name": "stdout",
          "output_type": "stream",
          "text": [
            " global_steps : 654\n"
          ]
        },
        {
          "name": "stderr",
          "output_type": "stream",
          "text": [
            "82epoch  655step | loss:  0.5832 :  88%|████████▊ | 7/8 [00:02<00:00,  2.58it/s]"
          ]
        },
        {
          "name": "stdout",
          "output_type": "stream",
          "text": [
            " global_steps : 655\n"
          ]
        },
        {
          "name": "stderr",
          "output_type": "stream",
          "text": [
            "82epoch  656step | loss:  0.5732 : 100%|██████████| 8/8 [00:03<00:00,  2.59it/s]\n"
          ]
        },
        {
          "name": "stdout",
          "output_type": "stream",
          "text": [
            " global_steps : 656\n"
          ]
        },
        {
          "name": "stderr",
          "output_type": "stream",
          "text": [
            "83epoch  657step | loss:  0.5404 :  12%|█▎        | 1/8 [00:00<00:02,  2.55it/s]"
          ]
        },
        {
          "name": "stdout",
          "output_type": "stream",
          "text": [
            " global_steps : 657\n"
          ]
        },
        {
          "name": "stderr",
          "output_type": "stream",
          "text": [
            "83epoch  658step | loss:  0.5619 :  25%|██▌       | 2/8 [00:00<00:02,  2.16it/s]"
          ]
        },
        {
          "name": "stdout",
          "output_type": "stream",
          "text": [
            " global_steps : 658\n"
          ]
        },
        {
          "name": "stderr",
          "output_type": "stream",
          "text": [
            "83epoch  659step | loss:  0.5708 :  38%|███▊      | 3/8 [00:01<00:02,  2.45it/s]"
          ]
        },
        {
          "name": "stdout",
          "output_type": "stream",
          "text": [
            " global_steps : 659\n"
          ]
        },
        {
          "name": "stderr",
          "output_type": "stream",
          "text": [
            "epoch 83 loss: 0.8277: 100%|██████████| 2/2 [00:00<00:00, 17.48it/s]\n",
            "83epoch  660step | loss:  0.5544 :  50%|█████     | 4/8 [00:01<00:01,  2.25it/s]"
          ]
        },
        {
          "name": "stdout",
          "output_type": "stream",
          "text": [
            "validation multi-class accuracy = 0.8548, f1 score = 0.8602\n",
            "              precision    recall  f1-score   support\n",
            "\n",
            "           0       1.00      1.00      1.00         3\n",
            "           1       1.00      1.00      1.00         3\n",
            "           2       1.00      1.00      1.00         2\n",
            "           3       1.00      1.00      1.00         3\n",
            "           4       1.00      1.00      1.00         4\n",
            "           5       0.80      1.00      0.89         4\n",
            "           6       1.00      1.00      1.00         3\n",
            "           7       1.00      1.00      1.00         3\n",
            "           8       0.75      1.00      0.86         3\n",
            "           9       1.00      1.00      1.00         3\n",
            "          10       1.00      0.83      0.91         6\n",
            "          11       1.00      0.67      0.80         3\n",
            "          12       1.00      1.00      1.00         2\n",
            "          13       1.00      1.00      1.00         2\n",
            "          14       0.57      1.00      0.73         4\n",
            "          15       0.50      0.25      0.33         4\n",
            "          16       0.50      0.67      0.57         3\n",
            "          17       1.00      0.25      0.40         4\n",
            "          18       0.75      1.00      0.86         3\n",
            "\n",
            "    accuracy                           0.85        62\n",
            "   macro avg       0.89      0.88      0.86        62\n",
            "weighted avg       0.88      0.85      0.84        62\n",
            "\n",
            "eval/acc : 0.8548387096774194, eval/f1 : 0.8602263233842182, global_steps: 660\n"
          ]
        },
        {
          "name": "stderr",
          "output_type": "stream",
          "text": [
            "83epoch  661step | loss:  0.5581 :  62%|██████▎   | 5/8 [00:02<00:01,  2.38it/s]"
          ]
        },
        {
          "name": "stdout",
          "output_type": "stream",
          "text": [
            " global_steps : 661\n"
          ]
        },
        {
          "name": "stderr",
          "output_type": "stream",
          "text": [
            "83epoch  662step | loss:  0.5522 :  75%|███████▌  | 6/8 [00:02<00:00,  2.54it/s]"
          ]
        },
        {
          "name": "stdout",
          "output_type": "stream",
          "text": [
            " global_steps : 662\n"
          ]
        },
        {
          "name": "stderr",
          "output_type": "stream",
          "text": [
            "83epoch  663step | loss:  0.5443 :  88%|████████▊ | 7/8 [00:02<00:00,  2.57it/s]"
          ]
        },
        {
          "name": "stdout",
          "output_type": "stream",
          "text": [
            " global_steps : 663\n"
          ]
        },
        {
          "name": "stderr",
          "output_type": "stream",
          "text": [
            "83epoch  664step | loss:  0.5432 : 100%|██████████| 8/8 [00:03<00:00,  2.50it/s]\n"
          ]
        },
        {
          "name": "stdout",
          "output_type": "stream",
          "text": [
            " global_steps : 664\n"
          ]
        },
        {
          "name": "stderr",
          "output_type": "stream",
          "text": [
            "84epoch  665step | loss:  0.5202 :  12%|█▎        | 1/8 [00:00<00:03,  1.82it/s]"
          ]
        },
        {
          "name": "stdout",
          "output_type": "stream",
          "text": [
            " global_steps : 665\n"
          ]
        },
        {
          "name": "stderr",
          "output_type": "stream",
          "text": [
            "84epoch  666step | loss:  0.5197 :  25%|██▌       | 2/8 [00:00<00:02,  2.16it/s]"
          ]
        },
        {
          "name": "stdout",
          "output_type": "stream",
          "text": [
            " global_steps : 666\n"
          ]
        },
        {
          "name": "stderr",
          "output_type": "stream",
          "text": [
            "84epoch  667step | loss:  0.5209 :  38%|███▊      | 3/8 [00:01<00:02,  2.31it/s]"
          ]
        },
        {
          "name": "stdout",
          "output_type": "stream",
          "text": [
            " global_steps : 667\n"
          ]
        },
        {
          "name": "stderr",
          "output_type": "stream",
          "text": [
            "84epoch  668step | loss:  0.5100 :  50%|█████     | 4/8 [00:01<00:01,  2.41it/s]"
          ]
        },
        {
          "name": "stdout",
          "output_type": "stream",
          "text": [
            " global_steps : 668\n"
          ]
        },
        {
          "name": "stderr",
          "output_type": "stream",
          "text": [
            "84epoch  669step | loss:  0.5109 :  62%|██████▎   | 5/8 [00:02<00:01,  2.49it/s]"
          ]
        },
        {
          "name": "stdout",
          "output_type": "stream",
          "text": [
            " global_steps : 669\n"
          ]
        },
        {
          "name": "stderr",
          "output_type": "stream",
          "text": [
            "84epoch  670step | loss:  0.5045 :  75%|███████▌  | 6/8 [00:02<00:00,  2.57it/s]"
          ]
        },
        {
          "name": "stdout",
          "output_type": "stream",
          "text": [
            " global_steps : 670\n"
          ]
        },
        {
          "name": "stderr",
          "output_type": "stream",
          "text": [
            "84epoch  671step | loss:  0.5007 :  88%|████████▊ | 7/8 [00:02<00:00,  2.51it/s]"
          ]
        },
        {
          "name": "stdout",
          "output_type": "stream",
          "text": [
            " global_steps : 671\n"
          ]
        },
        {
          "name": "stderr",
          "output_type": "stream",
          "text": [
            "84epoch  672step | loss:  0.5007 : 100%|██████████| 8/8 [00:03<00:00,  2.46it/s]\n"
          ]
        },
        {
          "name": "stdout",
          "output_type": "stream",
          "text": [
            " global_steps : 672\n"
          ]
        },
        {
          "name": "stderr",
          "output_type": "stream",
          "text": [
            "85epoch  673step | loss:  0.5696 :  12%|█▎        | 1/8 [00:00<00:03,  2.20it/s]"
          ]
        },
        {
          "name": "stdout",
          "output_type": "stream",
          "text": [
            " global_steps : 673\n"
          ]
        },
        {
          "name": "stderr",
          "output_type": "stream",
          "text": [
            "85epoch  674step | loss:  0.5185 :  25%|██▌       | 2/8 [00:00<00:02,  2.75it/s]"
          ]
        },
        {
          "name": "stdout",
          "output_type": "stream",
          "text": [
            " global_steps : 674\n"
          ]
        },
        {
          "name": "stderr",
          "output_type": "stream",
          "text": [
            "epoch 85 loss: 0.7849: 100%|██████████| 2/2 [00:00<00:00, 19.29it/s]\n"
          ]
        },
        {
          "name": "stdout",
          "output_type": "stream",
          "text": [
            "validation multi-class accuracy = 0.8871, f1 score = 0.8907\n",
            "              precision    recall  f1-score   support\n",
            "\n",
            "           0       1.00      1.00      1.00         3\n",
            "           1       1.00      1.00      1.00         3\n",
            "           2       1.00      1.00      1.00         2\n",
            "           3       1.00      1.00      1.00         3\n",
            "           4       1.00      1.00      1.00         4\n",
            "           5       0.80      1.00      0.89         4\n",
            "           6       1.00      1.00      1.00         3\n",
            "           7       1.00      1.00      1.00         3\n",
            "           8       0.75      1.00      0.86         3\n",
            "           9       1.00      1.00      1.00         3\n",
            "          10       1.00      0.83      0.91         6\n",
            "          11       1.00      0.67      0.80         3\n",
            "          12       1.00      1.00      1.00         2\n",
            "          13       1.00      1.00      1.00         2\n",
            "          14       0.80      1.00      0.89         4\n",
            "          15       0.75      0.75      0.75         4\n",
            "          16       0.50      0.67      0.57         3\n",
            "          17       1.00      0.25      0.40         4\n",
            "          18       0.75      1.00      0.86         3\n",
            "\n",
            "    accuracy                           0.89        62\n",
            "   macro avg       0.91      0.90      0.89        62\n",
            "weighted avg       0.91      0.89      0.88        62\n",
            "\n"
          ]
        },
        {
          "name": "stderr",
          "output_type": "stream",
          "text": [
            "\r85epoch  675step | loss:  0.4939 :  38%|███▊      | 3/8 [00:06<00:14,  2.99s/it]"
          ]
        },
        {
          "name": "stdout",
          "output_type": "stream",
          "text": [
            "eval/acc : 0.8870967741935484, eval/f1 : 0.8906622617148933, global_steps: 675\n"
          ]
        },
        {
          "name": "stderr",
          "output_type": "stream",
          "text": [
            "85epoch  676step | loss:  0.4895 :  50%|█████     | 4/8 [00:07<00:07,  1.96s/it]"
          ]
        },
        {
          "name": "stdout",
          "output_type": "stream",
          "text": [
            " global_steps : 676\n"
          ]
        },
        {
          "name": "stderr",
          "output_type": "stream",
          "text": [
            "85epoch  677step | loss:  0.4809 :  62%|██████▎   | 5/8 [00:07<00:04,  1.37s/it]"
          ]
        },
        {
          "name": "stdout",
          "output_type": "stream",
          "text": [
            " global_steps : 677\n"
          ]
        },
        {
          "name": "stderr",
          "output_type": "stream",
          "text": [
            "85epoch  678step | loss:  0.4808 :  75%|███████▌  | 6/8 [00:07<00:02,  1.02s/it]"
          ]
        },
        {
          "name": "stdout",
          "output_type": "stream",
          "text": [
            " global_steps : 678\n"
          ]
        },
        {
          "name": "stderr",
          "output_type": "stream",
          "text": [
            "85epoch  679step | loss:  0.4830 :  88%|████████▊ | 7/8 [00:08<00:00,  1.28it/s]"
          ]
        },
        {
          "name": "stdout",
          "output_type": "stream",
          "text": [
            " global_steps : 679\n"
          ]
        },
        {
          "name": "stderr",
          "output_type": "stream",
          "text": [
            "85epoch  680step | loss:  0.4838 : 100%|██████████| 8/8 [00:08<00:00,  1.07s/it]\n"
          ]
        },
        {
          "name": "stdout",
          "output_type": "stream",
          "text": [
            " global_steps : 680\n"
          ]
        },
        {
          "name": "stderr",
          "output_type": "stream",
          "text": [
            "86epoch  681step | loss:  0.4436 :  12%|█▎        | 1/8 [00:00<00:01,  3.55it/s]"
          ]
        },
        {
          "name": "stdout",
          "output_type": "stream",
          "text": [
            " global_steps : 681\n"
          ]
        },
        {
          "name": "stderr",
          "output_type": "stream",
          "text": [
            "86epoch  682step | loss:  0.4556 :  25%|██▌       | 2/8 [00:00<00:01,  3.50it/s]"
          ]
        },
        {
          "name": "stdout",
          "output_type": "stream",
          "text": [
            " global_steps : 682\n"
          ]
        },
        {
          "name": "stderr",
          "output_type": "stream",
          "text": [
            "86epoch  683step | loss:  0.4452 :  38%|███▊      | 3/8 [00:00<00:01,  3.20it/s]"
          ]
        },
        {
          "name": "stdout",
          "output_type": "stream",
          "text": [
            " global_steps : 683\n"
          ]
        },
        {
          "name": "stderr",
          "output_type": "stream",
          "text": [
            "86epoch  684step | loss:  0.4476 :  50%|█████     | 4/8 [00:01<00:01,  3.19it/s]"
          ]
        },
        {
          "name": "stdout",
          "output_type": "stream",
          "text": [
            " global_steps : 684\n"
          ]
        },
        {
          "name": "stderr",
          "output_type": "stream",
          "text": [
            "86epoch  685step | loss:  0.4513 :  62%|██████▎   | 5/8 [00:01<00:00,  3.26it/s]"
          ]
        },
        {
          "name": "stdout",
          "output_type": "stream",
          "text": [
            " global_steps : 685\n"
          ]
        },
        {
          "name": "stderr",
          "output_type": "stream",
          "text": [
            "86epoch  686step | loss:  0.4519 :  75%|███████▌  | 6/8 [00:01<00:00,  3.23it/s]"
          ]
        },
        {
          "name": "stdout",
          "output_type": "stream",
          "text": [
            " global_steps : 686\n"
          ]
        },
        {
          "name": "stderr",
          "output_type": "stream",
          "text": [
            "86epoch  687step | loss:  0.4519 :  88%|████████▊ | 7/8 [00:02<00:00,  3.10it/s]"
          ]
        },
        {
          "name": "stdout",
          "output_type": "stream",
          "text": [
            " global_steps : 687\n"
          ]
        },
        {
          "name": "stderr",
          "output_type": "stream",
          "text": [
            "86epoch  688step | loss:  0.4616 : 100%|██████████| 8/8 [00:02<00:00,  3.19it/s]\n"
          ]
        },
        {
          "name": "stdout",
          "output_type": "stream",
          "text": [
            " global_steps : 688\n"
          ]
        },
        {
          "name": "stderr",
          "output_type": "stream",
          "text": [
            "87epoch  689step | loss:  0.4774 :  12%|█▎        | 1/8 [00:00<00:02,  3.25it/s]"
          ]
        },
        {
          "name": "stdout",
          "output_type": "stream",
          "text": [
            " global_steps : 689\n"
          ]
        },
        {
          "name": "stderr",
          "output_type": "stream",
          "text": [
            "epoch 87 loss: 0.7458: 100%|██████████| 2/2 [00:00<00:00, 20.73it/s]\n",
            "87epoch  690step | loss:  0.4778 :  25%|██▌       | 2/8 [00:00<00:02,  2.47it/s]"
          ]
        },
        {
          "name": "stdout",
          "output_type": "stream",
          "text": [
            "validation multi-class accuracy = 0.8871, f1 score = 0.8907\n",
            "              precision    recall  f1-score   support\n",
            "\n",
            "           0       1.00      1.00      1.00         3\n",
            "           1       1.00      1.00      1.00         3\n",
            "           2       1.00      1.00      1.00         2\n",
            "           3       1.00      1.00      1.00         3\n",
            "           4       1.00      1.00      1.00         4\n",
            "           5       0.80      1.00      0.89         4\n",
            "           6       1.00      1.00      1.00         3\n",
            "           7       1.00      1.00      1.00         3\n",
            "           8       0.75      1.00      0.86         3\n",
            "           9       1.00      1.00      1.00         3\n",
            "          10       1.00      0.83      0.91         6\n",
            "          11       1.00      0.67      0.80         3\n",
            "          12       1.00      1.00      1.00         2\n",
            "          13       1.00      1.00      1.00         2\n",
            "          14       0.80      1.00      0.89         4\n",
            "          15       0.75      0.75      0.75         4\n",
            "          16       0.50      0.67      0.57         3\n",
            "          17       1.00      0.25      0.40         4\n",
            "          18       0.75      1.00      0.86         3\n",
            "\n",
            "    accuracy                           0.89        62\n",
            "   macro avg       0.91      0.90      0.89        62\n",
            "weighted avg       0.91      0.89      0.88        62\n",
            "\n",
            "eval/acc : 0.8870967741935484, eval/f1 : 0.8906622617148933, global_steps: 690\n"
          ]
        },
        {
          "name": "stderr",
          "output_type": "stream",
          "text": [
            "87epoch  691step | loss:  0.4676 :  38%|███▊      | 3/8 [00:01<00:01,  2.68it/s]"
          ]
        },
        {
          "name": "stdout",
          "output_type": "stream",
          "text": [
            " global_steps : 691\n"
          ]
        },
        {
          "name": "stderr",
          "output_type": "stream",
          "text": [
            "87epoch  692step | loss:  0.4638 :  50%|█████     | 4/8 [00:01<00:01,  2.83it/s]"
          ]
        },
        {
          "name": "stdout",
          "output_type": "stream",
          "text": [
            " global_steps : 692\n"
          ]
        },
        {
          "name": "stderr",
          "output_type": "stream",
          "text": [
            "87epoch  693step | loss:  0.4567 :  62%|██████▎   | 5/8 [00:01<00:01,  3.00it/s]"
          ]
        },
        {
          "name": "stdout",
          "output_type": "stream",
          "text": [
            " global_steps : 693\n"
          ]
        },
        {
          "name": "stderr",
          "output_type": "stream",
          "text": [
            "87epoch  694step | loss:  0.4486 :  75%|███████▌  | 6/8 [00:02<00:00,  3.01it/s]"
          ]
        },
        {
          "name": "stdout",
          "output_type": "stream",
          "text": [
            " global_steps : 694\n"
          ]
        },
        {
          "name": "stderr",
          "output_type": "stream",
          "text": [
            "87epoch  695step | loss:  0.4459 :  88%|████████▊ | 7/8 [00:02<00:00,  3.07it/s]"
          ]
        },
        {
          "name": "stdout",
          "output_type": "stream",
          "text": [
            " global_steps : 695\n"
          ]
        },
        {
          "name": "stderr",
          "output_type": "stream",
          "text": [
            "87epoch  696step | loss:  0.4474 : 100%|██████████| 8/8 [00:02<00:00,  2.97it/s]\n"
          ]
        },
        {
          "name": "stdout",
          "output_type": "stream",
          "text": [
            " global_steps : 696\n"
          ]
        },
        {
          "name": "stderr",
          "output_type": "stream",
          "text": [
            "88epoch  697step | loss:  0.3845 :  12%|█▎        | 1/8 [00:00<00:02,  3.41it/s]"
          ]
        },
        {
          "name": "stdout",
          "output_type": "stream",
          "text": [
            " global_steps : 697\n"
          ]
        },
        {
          "name": "stderr",
          "output_type": "stream",
          "text": [
            "88epoch  698step | loss:  0.3979 :  25%|██▌       | 2/8 [00:00<00:01,  3.45it/s]"
          ]
        },
        {
          "name": "stdout",
          "output_type": "stream",
          "text": [
            " global_steps : 698\n"
          ]
        },
        {
          "name": "stderr",
          "output_type": "stream",
          "text": [
            "88epoch  699step | loss:  0.3950 :  38%|███▊      | 3/8 [00:00<00:01,  3.43it/s]"
          ]
        },
        {
          "name": "stdout",
          "output_type": "stream",
          "text": [
            " global_steps : 699\n"
          ]
        },
        {
          "name": "stderr",
          "output_type": "stream",
          "text": [
            "88epoch  700step | loss:  0.3996 :  50%|█████     | 4/8 [00:01<00:01,  3.46it/s]"
          ]
        },
        {
          "name": "stdout",
          "output_type": "stream",
          "text": [
            " global_steps : 700\n"
          ]
        },
        {
          "name": "stderr",
          "output_type": "stream",
          "text": [
            "88epoch  701step | loss:  0.4051 :  62%|██████▎   | 5/8 [00:01<00:00,  3.26it/s]"
          ]
        },
        {
          "name": "stdout",
          "output_type": "stream",
          "text": [
            " global_steps : 701\n"
          ]
        },
        {
          "name": "stderr",
          "output_type": "stream",
          "text": [
            "88epoch  702step | loss:  0.4228 :  75%|███████▌  | 6/8 [00:01<00:00,  3.21it/s]"
          ]
        },
        {
          "name": "stdout",
          "output_type": "stream",
          "text": [
            " global_steps : 702\n"
          ]
        },
        {
          "name": "stderr",
          "output_type": "stream",
          "text": [
            "88epoch  703step | loss:  0.4191 :  88%|████████▊ | 7/8 [00:02<00:00,  3.05it/s]"
          ]
        },
        {
          "name": "stdout",
          "output_type": "stream",
          "text": [
            " global_steps : 703\n"
          ]
        },
        {
          "name": "stderr",
          "output_type": "stream",
          "text": [
            "88epoch  704step | loss:  0.4182 : 100%|██████████| 8/8 [00:02<00:00,  3.14it/s]\n"
          ]
        },
        {
          "name": "stdout",
          "output_type": "stream",
          "text": [
            " global_steps : 704\n"
          ]
        },
        {
          "name": "stderr",
          "output_type": "stream",
          "text": [
            "epoch 89 loss: 0.7194: 100%|██████████| 2/2 [00:00<00:00, 14.09it/s]\n",
            "89epoch  705step | loss:  0.3924 :  12%|█▎        | 1/8 [00:00<00:03,  1.80it/s]"
          ]
        },
        {
          "name": "stdout",
          "output_type": "stream",
          "text": [
            "validation multi-class accuracy = 0.8871, f1 score = 0.8907\n",
            "              precision    recall  f1-score   support\n",
            "\n",
            "           0       1.00      1.00      1.00         3\n",
            "           1       1.00      1.00      1.00         3\n",
            "           2       1.00      1.00      1.00         2\n",
            "           3       1.00      1.00      1.00         3\n",
            "           4       1.00      1.00      1.00         4\n",
            "           5       0.80      1.00      0.89         4\n",
            "           6       1.00      1.00      1.00         3\n",
            "           7       1.00      1.00      1.00         3\n",
            "           8       0.75      1.00      0.86         3\n",
            "           9       1.00      1.00      1.00         3\n",
            "          10       1.00      0.83      0.91         6\n",
            "          11       1.00      0.67      0.80         3\n",
            "          12       1.00      1.00      1.00         2\n",
            "          13       1.00      1.00      1.00         2\n",
            "          14       0.80      1.00      0.89         4\n",
            "          15       0.75      0.75      0.75         4\n",
            "          16       0.50      0.67      0.57         3\n",
            "          17       1.00      0.25      0.40         4\n",
            "          18       0.75      1.00      0.86         3\n",
            "\n",
            "    accuracy                           0.89        62\n",
            "   macro avg       0.91      0.90      0.89        62\n",
            "weighted avg       0.91      0.89      0.88        62\n",
            "\n",
            "eval/acc : 0.8870967741935484, eval/f1 : 0.8906622617148933, global_steps: 705\n"
          ]
        },
        {
          "name": "stderr",
          "output_type": "stream",
          "text": [
            "89epoch  706step | loss:  0.4027 :  25%|██▌       | 2/8 [00:00<00:02,  2.17it/s]"
          ]
        },
        {
          "name": "stdout",
          "output_type": "stream",
          "text": [
            " global_steps : 706\n"
          ]
        },
        {
          "name": "stderr",
          "output_type": "stream",
          "text": [
            "89epoch  707step | loss:  0.4260 :  38%|███▊      | 3/8 [00:01<00:01,  2.52it/s]"
          ]
        },
        {
          "name": "stdout",
          "output_type": "stream",
          "text": [
            " global_steps : 707\n"
          ]
        },
        {
          "name": "stderr",
          "output_type": "stream",
          "text": [
            "89epoch  708step | loss:  0.4181 :  50%|█████     | 4/8 [00:01<00:01,  2.49it/s]"
          ]
        },
        {
          "name": "stdout",
          "output_type": "stream",
          "text": [
            " global_steps : 708\n"
          ]
        },
        {
          "name": "stderr",
          "output_type": "stream",
          "text": [
            "89epoch  709step | loss:  0.4127 :  62%|██████▎   | 5/8 [00:02<00:01,  2.46it/s]"
          ]
        },
        {
          "name": "stdout",
          "output_type": "stream",
          "text": [
            " global_steps : 709\n"
          ]
        },
        {
          "name": "stderr",
          "output_type": "stream",
          "text": [
            "89epoch  710step | loss:  0.4128 :  75%|███████▌  | 6/8 [00:02<00:00,  2.54it/s]"
          ]
        },
        {
          "name": "stdout",
          "output_type": "stream",
          "text": [
            " global_steps : 710\n"
          ]
        },
        {
          "name": "stderr",
          "output_type": "stream",
          "text": [
            "89epoch  711step | loss:  0.4128 :  88%|████████▊ | 7/8 [00:02<00:00,  2.56it/s]"
          ]
        },
        {
          "name": "stdout",
          "output_type": "stream",
          "text": [
            " global_steps : 711\n"
          ]
        },
        {
          "name": "stderr",
          "output_type": "stream",
          "text": [
            "89epoch  712step | loss:  0.4117 : 100%|██████████| 8/8 [00:03<00:00,  2.50it/s]\n"
          ]
        },
        {
          "name": "stdout",
          "output_type": "stream",
          "text": [
            " global_steps : 712\n"
          ]
        },
        {
          "name": "stderr",
          "output_type": "stream",
          "text": [
            "90epoch  713step | loss:  0.3850 :  12%|█▎        | 1/8 [00:00<00:02,  2.91it/s]"
          ]
        },
        {
          "name": "stdout",
          "output_type": "stream",
          "text": [
            " global_steps : 713\n"
          ]
        },
        {
          "name": "stderr",
          "output_type": "stream",
          "text": [
            "90epoch  714step | loss:  0.3802 :  25%|██▌       | 2/8 [00:00<00:02,  2.65it/s]"
          ]
        },
        {
          "name": "stdout",
          "output_type": "stream",
          "text": [
            " global_steps : 714\n"
          ]
        },
        {
          "name": "stderr",
          "output_type": "stream",
          "text": [
            "90epoch  715step | loss:  0.3911 :  38%|███▊      | 3/8 [00:01<00:01,  2.64it/s]"
          ]
        },
        {
          "name": "stdout",
          "output_type": "stream",
          "text": [
            " global_steps : 715\n"
          ]
        },
        {
          "name": "stderr",
          "output_type": "stream",
          "text": [
            "90epoch  716step | loss:  0.4077 :  50%|█████     | 4/8 [00:01<00:01,  2.65it/s]"
          ]
        },
        {
          "name": "stdout",
          "output_type": "stream",
          "text": [
            " global_steps : 716\n"
          ]
        },
        {
          "name": "stderr",
          "output_type": "stream",
          "text": [
            "90epoch  717step | loss:  0.4097 :  62%|██████▎   | 5/8 [00:01<00:01,  2.73it/s]"
          ]
        },
        {
          "name": "stdout",
          "output_type": "stream",
          "text": [
            " global_steps : 717\n"
          ]
        },
        {
          "name": "stderr",
          "output_type": "stream",
          "text": [
            "90epoch  718step | loss:  0.4019 :  75%|███████▌  | 6/8 [00:02<00:00,  2.70it/s]"
          ]
        },
        {
          "name": "stdout",
          "output_type": "stream",
          "text": [
            " global_steps : 718\n"
          ]
        },
        {
          "name": "stderr",
          "output_type": "stream",
          "text": [
            "90epoch  719step | loss:  0.4000 :  88%|████████▊ | 7/8 [00:02<00:00,  2.74it/s]"
          ]
        },
        {
          "name": "stdout",
          "output_type": "stream",
          "text": [
            " global_steps : 719\n"
          ]
        },
        {
          "name": "stderr",
          "output_type": "stream",
          "text": [
            "epoch 90 loss: 0.6925: 100%|██████████| 2/2 [00:00<00:00, 15.21it/s]\n",
            "90epoch  720step | loss:  0.3947 : 100%|██████████| 8/8 [00:03<00:00,  2.57it/s]\n"
          ]
        },
        {
          "name": "stdout",
          "output_type": "stream",
          "text": [
            "validation multi-class accuracy = 0.8871, f1 score = 0.8907\n",
            "              precision    recall  f1-score   support\n",
            "\n",
            "           0       1.00      1.00      1.00         3\n",
            "           1       1.00      1.00      1.00         3\n",
            "           2       1.00      1.00      1.00         2\n",
            "           3       1.00      1.00      1.00         3\n",
            "           4       1.00      1.00      1.00         4\n",
            "           5       0.80      1.00      0.89         4\n",
            "           6       1.00      1.00      1.00         3\n",
            "           7       1.00      1.00      1.00         3\n",
            "           8       0.75      1.00      0.86         3\n",
            "           9       1.00      1.00      1.00         3\n",
            "          10       1.00      0.83      0.91         6\n",
            "          11       1.00      0.67      0.80         3\n",
            "          12       1.00      1.00      1.00         2\n",
            "          13       1.00      1.00      1.00         2\n",
            "          14       0.80      1.00      0.89         4\n",
            "          15       0.75      0.75      0.75         4\n",
            "          16       0.50      0.67      0.57         3\n",
            "          17       1.00      0.25      0.40         4\n",
            "          18       0.75      1.00      0.86         3\n",
            "\n",
            "    accuracy                           0.89        62\n",
            "   macro avg       0.91      0.90      0.89        62\n",
            "weighted avg       0.91      0.89      0.88        62\n",
            "\n",
            "eval/acc : 0.8870967741935484, eval/f1 : 0.8906622617148933, global_steps: 720\n"
          ]
        },
        {
          "name": "stderr",
          "output_type": "stream",
          "text": [
            "91epoch  721step | loss:  0.4095 :  12%|█▎        | 1/8 [00:00<00:02,  2.82it/s]"
          ]
        },
        {
          "name": "stdout",
          "output_type": "stream",
          "text": [
            " global_steps : 721\n"
          ]
        },
        {
          "name": "stderr",
          "output_type": "stream",
          "text": [
            "91epoch  722step | loss:  0.4364 :  25%|██▌       | 2/8 [00:00<00:02,  2.72it/s]"
          ]
        },
        {
          "name": "stdout",
          "output_type": "stream",
          "text": [
            " global_steps : 722\n"
          ]
        },
        {
          "name": "stderr",
          "output_type": "stream",
          "text": [
            "91epoch  723step | loss:  0.4026 :  38%|███▊      | 3/8 [00:01<00:01,  2.74it/s]"
          ]
        },
        {
          "name": "stdout",
          "output_type": "stream",
          "text": [
            " global_steps : 723\n"
          ]
        },
        {
          "name": "stderr",
          "output_type": "stream",
          "text": [
            "91epoch  724step | loss:  0.4044 :  50%|█████     | 4/8 [00:01<00:01,  2.71it/s]"
          ]
        },
        {
          "name": "stdout",
          "output_type": "stream",
          "text": [
            " global_steps : 724\n"
          ]
        },
        {
          "name": "stderr",
          "output_type": "stream",
          "text": [
            "91epoch  725step | loss:  0.3962 :  62%|██████▎   | 5/8 [00:01<00:01,  2.81it/s]"
          ]
        },
        {
          "name": "stdout",
          "output_type": "stream",
          "text": [
            " global_steps : 725\n"
          ]
        },
        {
          "name": "stderr",
          "output_type": "stream",
          "text": [
            "91epoch  726step | loss:  0.3899 :  75%|███████▌  | 6/8 [00:02<00:00,  2.83it/s]"
          ]
        },
        {
          "name": "stdout",
          "output_type": "stream",
          "text": [
            " global_steps : 726\n"
          ]
        },
        {
          "name": "stderr",
          "output_type": "stream",
          "text": [
            "91epoch  727step | loss:  0.3909 :  88%|████████▊ | 7/8 [00:02<00:00,  2.65it/s]"
          ]
        },
        {
          "name": "stdout",
          "output_type": "stream",
          "text": [
            " global_steps : 727\n"
          ]
        },
        {
          "name": "stderr",
          "output_type": "stream",
          "text": [
            "91epoch  728step | loss:  0.3894 : 100%|██████████| 8/8 [00:02<00:00,  2.75it/s]\n"
          ]
        },
        {
          "name": "stdout",
          "output_type": "stream",
          "text": [
            " global_steps : 728\n"
          ]
        },
        {
          "name": "stderr",
          "output_type": "stream",
          "text": [
            "92epoch  729step | loss:  0.4005 :  12%|█▎        | 1/8 [00:00<00:02,  3.26it/s]"
          ]
        },
        {
          "name": "stdout",
          "output_type": "stream",
          "text": [
            " global_steps : 729\n"
          ]
        },
        {
          "name": "stderr",
          "output_type": "stream",
          "text": [
            "92epoch  730step | loss:  0.3917 :  25%|██▌       | 2/8 [00:00<00:02,  2.91it/s]"
          ]
        },
        {
          "name": "stdout",
          "output_type": "stream",
          "text": [
            " global_steps : 730\n"
          ]
        },
        {
          "name": "stderr",
          "output_type": "stream",
          "text": [
            "92epoch  731step | loss:  0.3941 :  38%|███▊      | 3/8 [00:01<00:01,  2.80it/s]"
          ]
        },
        {
          "name": "stdout",
          "output_type": "stream",
          "text": [
            " global_steps : 731\n"
          ]
        },
        {
          "name": "stderr",
          "output_type": "stream",
          "text": [
            "92epoch  732step | loss:  0.3760 :  50%|█████     | 4/8 [00:01<00:01,  2.81it/s]"
          ]
        },
        {
          "name": "stdout",
          "output_type": "stream",
          "text": [
            " global_steps : 732\n"
          ]
        },
        {
          "name": "stderr",
          "output_type": "stream",
          "text": [
            "92epoch  733step | loss:  0.3672 :  62%|██████▎   | 5/8 [00:01<00:01,  2.79it/s]"
          ]
        },
        {
          "name": "stdout",
          "output_type": "stream",
          "text": [
            " global_steps : 733\n"
          ]
        },
        {
          "name": "stderr",
          "output_type": "stream",
          "text": [
            "92epoch  734step | loss:  0.3720 :  75%|███████▌  | 6/8 [00:02<00:00,  2.84it/s]"
          ]
        },
        {
          "name": "stdout",
          "output_type": "stream",
          "text": [
            " global_steps : 734\n"
          ]
        },
        {
          "name": "stderr",
          "output_type": "stream",
          "text": [
            "epoch 92 loss: 0.6733: 100%|██████████| 2/2 [00:00<00:00, 16.00it/s]\n"
          ]
        },
        {
          "name": "stdout",
          "output_type": "stream",
          "text": [
            "validation multi-class accuracy = 0.9032, f1 score = 0.9103\n",
            "              precision    recall  f1-score   support\n",
            "\n",
            "           0       1.00      1.00      1.00         3\n",
            "           1       1.00      1.00      1.00         3\n",
            "           2       1.00      1.00      1.00         2\n",
            "           3       1.00      1.00      1.00         3\n",
            "           4       1.00      1.00      1.00         4\n",
            "           5       0.80      1.00      0.89         4\n",
            "           6       1.00      1.00      1.00         3\n",
            "           7       1.00      1.00      1.00         3\n",
            "           8       0.75      1.00      0.86         3\n",
            "           9       1.00      1.00      1.00         3\n",
            "          10       1.00      0.83      0.91         6\n",
            "          11       1.00      0.67      0.80         3\n",
            "          12       1.00      1.00      1.00         2\n",
            "          13       1.00      1.00      1.00         2\n",
            "          14       0.80      1.00      0.89         4\n",
            "          15       1.00      0.75      0.86         4\n",
            "          16       0.50      0.67      0.57         3\n",
            "          17       1.00      0.50      0.67         4\n",
            "          18       0.75      1.00      0.86         3\n",
            "\n",
            "    accuracy                           0.90        62\n",
            "   macro avg       0.93      0.92      0.91        62\n",
            "weighted avg       0.93      0.90      0.90        62\n",
            "\n"
          ]
        },
        {
          "name": "stderr",
          "output_type": "stream",
          "text": [
            "\r92epoch  735step | loss:  0.3714 :  88%|████████▊ | 7/8 [00:08<00:02,  2.32s/it]"
          ]
        },
        {
          "name": "stdout",
          "output_type": "stream",
          "text": [
            "eval/acc : 0.9032258064516129, eval/f1 : 0.9103364471785524, global_steps: 735\n"
          ]
        },
        {
          "name": "stderr",
          "output_type": "stream",
          "text": [
            "92epoch  736step | loss:  0.3716 : 100%|██████████| 8/8 [00:08<00:00,  1.10s/it]\n"
          ]
        },
        {
          "name": "stdout",
          "output_type": "stream",
          "text": [
            " global_steps : 736\n"
          ]
        },
        {
          "name": "stderr",
          "output_type": "stream",
          "text": [
            "93epoch  737step | loss:  0.3755 :  12%|█▎        | 1/8 [00:00<00:02,  3.10it/s]"
          ]
        },
        {
          "name": "stdout",
          "output_type": "stream",
          "text": [
            " global_steps : 737\n"
          ]
        },
        {
          "name": "stderr",
          "output_type": "stream",
          "text": [
            "93epoch  738step | loss:  0.3717 :  25%|██▌       | 2/8 [00:00<00:01,  3.08it/s]"
          ]
        },
        {
          "name": "stdout",
          "output_type": "stream",
          "text": [
            " global_steps : 738\n"
          ]
        },
        {
          "name": "stderr",
          "output_type": "stream",
          "text": [
            "93epoch  739step | loss:  0.3660 :  38%|███▊      | 3/8 [00:00<00:01,  3.13it/s]"
          ]
        },
        {
          "name": "stdout",
          "output_type": "stream",
          "text": [
            " global_steps : 739\n"
          ]
        },
        {
          "name": "stderr",
          "output_type": "stream",
          "text": [
            "93epoch  740step | loss:  0.3699 :  50%|█████     | 4/8 [00:01<00:01,  3.24it/s]"
          ]
        },
        {
          "name": "stdout",
          "output_type": "stream",
          "text": [
            " global_steps : 740\n"
          ]
        },
        {
          "name": "stderr",
          "output_type": "stream",
          "text": [
            "93epoch  741step | loss:  0.3670 :  62%|██████▎   | 5/8 [00:01<00:00,  3.21it/s]"
          ]
        },
        {
          "name": "stdout",
          "output_type": "stream",
          "text": [
            " global_steps : 741\n"
          ]
        },
        {
          "name": "stderr",
          "output_type": "stream",
          "text": [
            "93epoch  742step | loss:  0.3664 :  75%|███████▌  | 6/8 [00:01<00:00,  3.06it/s]"
          ]
        },
        {
          "name": "stdout",
          "output_type": "stream",
          "text": [
            " global_steps : 742\n"
          ]
        },
        {
          "name": "stderr",
          "output_type": "stream",
          "text": [
            "93epoch  743step | loss:  0.3605 :  88%|████████▊ | 7/8 [00:02<00:00,  3.10it/s]"
          ]
        },
        {
          "name": "stdout",
          "output_type": "stream",
          "text": [
            " global_steps : 743\n"
          ]
        },
        {
          "name": "stderr",
          "output_type": "stream",
          "text": [
            "93epoch  744step | loss:  0.3652 : 100%|██████████| 8/8 [00:02<00:00,  3.12it/s]\n"
          ]
        },
        {
          "name": "stdout",
          "output_type": "stream",
          "text": [
            " global_steps : 744\n"
          ]
        },
        {
          "name": "stderr",
          "output_type": "stream",
          "text": [
            "94epoch  745step | loss:  0.3821 :  12%|█▎        | 1/8 [00:00<00:02,  3.00it/s]"
          ]
        },
        {
          "name": "stdout",
          "output_type": "stream",
          "text": [
            " global_steps : 745\n"
          ]
        },
        {
          "name": "stderr",
          "output_type": "stream",
          "text": [
            "94epoch  746step | loss:  0.3741 :  25%|██▌       | 2/8 [00:00<00:01,  3.04it/s]"
          ]
        },
        {
          "name": "stdout",
          "output_type": "stream",
          "text": [
            " global_steps : 746\n"
          ]
        },
        {
          "name": "stderr",
          "output_type": "stream",
          "text": [
            "94epoch  747step | loss:  0.3581 :  38%|███▊      | 3/8 [00:00<00:01,  3.05it/s]"
          ]
        },
        {
          "name": "stdout",
          "output_type": "stream",
          "text": [
            " global_steps : 747\n"
          ]
        },
        {
          "name": "stderr",
          "output_type": "stream",
          "text": [
            "94epoch  748step | loss:  0.3545 :  50%|█████     | 4/8 [00:01<00:01,  3.18it/s]"
          ]
        },
        {
          "name": "stdout",
          "output_type": "stream",
          "text": [
            " global_steps : 748\n"
          ]
        },
        {
          "name": "stderr",
          "output_type": "stream",
          "text": [
            "94epoch  749step | loss:  0.3617 :  62%|██████▎   | 5/8 [00:01<00:00,  3.13it/s]"
          ]
        },
        {
          "name": "stdout",
          "output_type": "stream",
          "text": [
            " global_steps : 749\n"
          ]
        },
        {
          "name": "stderr",
          "output_type": "stream",
          "text": [
            "epoch 94 loss: 0.6511: 100%|██████████| 2/2 [00:00<00:00, 20.70it/s]\n",
            "94epoch  750step | loss:  0.3609 :  75%|███████▌  | 6/8 [00:02<00:00,  2.80it/s]"
          ]
        },
        {
          "name": "stdout",
          "output_type": "stream",
          "text": [
            "validation multi-class accuracy = 0.9032, f1 score = 0.9103\n",
            "              precision    recall  f1-score   support\n",
            "\n",
            "           0       1.00      1.00      1.00         3\n",
            "           1       1.00      1.00      1.00         3\n",
            "           2       1.00      1.00      1.00         2\n",
            "           3       1.00      1.00      1.00         3\n",
            "           4       1.00      1.00      1.00         4\n",
            "           5       0.80      1.00      0.89         4\n",
            "           6       1.00      1.00      1.00         3\n",
            "           7       1.00      1.00      1.00         3\n",
            "           8       0.75      1.00      0.86         3\n",
            "           9       1.00      1.00      1.00         3\n",
            "          10       1.00      0.83      0.91         6\n",
            "          11       1.00      0.67      0.80         3\n",
            "          12       1.00      1.00      1.00         2\n",
            "          13       1.00      1.00      1.00         2\n",
            "          14       0.80      1.00      0.89         4\n",
            "          15       1.00      0.75      0.86         4\n",
            "          16       0.50      0.67      0.57         3\n",
            "          17       1.00      0.50      0.67         4\n",
            "          18       0.75      1.00      0.86         3\n",
            "\n",
            "    accuracy                           0.90        62\n",
            "   macro avg       0.93      0.92      0.91        62\n",
            "weighted avg       0.93      0.90      0.90        62\n",
            "\n",
            "eval/acc : 0.9032258064516129, eval/f1 : 0.9103364471785524, global_steps: 750\n"
          ]
        },
        {
          "name": "stderr",
          "output_type": "stream",
          "text": [
            "94epoch  751step | loss:  0.3539 :  88%|████████▊ | 7/8 [00:02<00:00,  2.86it/s]"
          ]
        },
        {
          "name": "stdout",
          "output_type": "stream",
          "text": [
            " global_steps : 751\n"
          ]
        },
        {
          "name": "stderr",
          "output_type": "stream",
          "text": [
            "94epoch  752step | loss:  0.3576 : 100%|██████████| 8/8 [00:02<00:00,  3.02it/s]\n"
          ]
        },
        {
          "name": "stdout",
          "output_type": "stream",
          "text": [
            " global_steps : 752\n"
          ]
        },
        {
          "name": "stderr",
          "output_type": "stream",
          "text": [
            "95epoch  753step | loss:  0.3895 :  12%|█▎        | 1/8 [00:00<00:02,  3.38it/s]"
          ]
        },
        {
          "name": "stdout",
          "output_type": "stream",
          "text": [
            " global_steps : 753\n"
          ]
        },
        {
          "name": "stderr",
          "output_type": "stream",
          "text": [
            "95epoch  754step | loss:  0.3677 :  25%|██▌       | 2/8 [00:00<00:01,  3.34it/s]"
          ]
        },
        {
          "name": "stdout",
          "output_type": "stream",
          "text": [
            " global_steps : 754\n"
          ]
        },
        {
          "name": "stderr",
          "output_type": "stream",
          "text": [
            "95epoch  755step | loss:  0.3736 :  38%|███▊      | 3/8 [00:00<00:01,  3.26it/s]"
          ]
        },
        {
          "name": "stdout",
          "output_type": "stream",
          "text": [
            " global_steps : 755\n"
          ]
        },
        {
          "name": "stderr",
          "output_type": "stream",
          "text": [
            "95epoch  756step | loss:  0.3665 :  50%|█████     | 4/8 [00:01<00:01,  3.23it/s]"
          ]
        },
        {
          "name": "stdout",
          "output_type": "stream",
          "text": [
            " global_steps : 756\n"
          ]
        },
        {
          "name": "stderr",
          "output_type": "stream",
          "text": [
            "95epoch  757step | loss:  0.3603 :  62%|██████▎   | 5/8 [00:01<00:00,  3.13it/s]"
          ]
        },
        {
          "name": "stdout",
          "output_type": "stream",
          "text": [
            " global_steps : 757\n"
          ]
        },
        {
          "name": "stderr",
          "output_type": "stream",
          "text": [
            "95epoch  758step | loss:  0.3548 :  75%|███████▌  | 6/8 [00:01<00:00,  3.22it/s]"
          ]
        },
        {
          "name": "stdout",
          "output_type": "stream",
          "text": [
            " global_steps : 758\n"
          ]
        },
        {
          "name": "stderr",
          "output_type": "stream",
          "text": [
            "95epoch  759step | loss:  0.3556 :  88%|████████▊ | 7/8 [00:02<00:00,  3.21it/s]"
          ]
        },
        {
          "name": "stdout",
          "output_type": "stream",
          "text": [
            " global_steps : 759\n"
          ]
        },
        {
          "name": "stderr",
          "output_type": "stream",
          "text": [
            "95epoch  760step | loss:  0.3510 : 100%|██████████| 8/8 [00:02<00:00,  3.22it/s]\n"
          ]
        },
        {
          "name": "stdout",
          "output_type": "stream",
          "text": [
            " global_steps : 760\n"
          ]
        },
        {
          "name": "stderr",
          "output_type": "stream",
          "text": [
            "96epoch  761step | loss:  0.3141 :  12%|█▎        | 1/8 [00:00<00:02,  3.12it/s]"
          ]
        },
        {
          "name": "stdout",
          "output_type": "stream",
          "text": [
            " global_steps : 761\n"
          ]
        },
        {
          "name": "stderr",
          "output_type": "stream",
          "text": [
            "96epoch  762step | loss:  0.3247 :  25%|██▌       | 2/8 [00:00<00:01,  3.09it/s]"
          ]
        },
        {
          "name": "stdout",
          "output_type": "stream",
          "text": [
            " global_steps : 762\n"
          ]
        },
        {
          "name": "stderr",
          "output_type": "stream",
          "text": [
            "96epoch  763step | loss:  0.3330 :  38%|███▊      | 3/8 [00:00<00:01,  3.14it/s]"
          ]
        },
        {
          "name": "stdout",
          "output_type": "stream",
          "text": [
            " global_steps : 763\n"
          ]
        },
        {
          "name": "stderr",
          "output_type": "stream",
          "text": [
            "96epoch  764step | loss:  0.3333 :  50%|█████     | 4/8 [00:01<00:01,  3.17it/s]"
          ]
        },
        {
          "name": "stdout",
          "output_type": "stream",
          "text": [
            " global_steps : 764\n"
          ]
        },
        {
          "name": "stderr",
          "output_type": "stream",
          "text": [
            "epoch 96 loss: 0.6370: 100%|██████████| 2/2 [00:00<00:00, 11.35it/s]\n",
            "96epoch  765step | loss:  0.3353 :  62%|██████▎   | 5/8 [00:01<00:01,  2.57it/s]"
          ]
        },
        {
          "name": "stdout",
          "output_type": "stream",
          "text": [
            "validation multi-class accuracy = 0.9032, f1 score = 0.9103\n",
            "              precision    recall  f1-score   support\n",
            "\n",
            "           0       1.00      1.00      1.00         3\n",
            "           1       1.00      1.00      1.00         3\n",
            "           2       1.00      1.00      1.00         2\n",
            "           3       1.00      1.00      1.00         3\n",
            "           4       1.00      1.00      1.00         4\n",
            "           5       0.80      1.00      0.89         4\n",
            "           6       1.00      1.00      1.00         3\n",
            "           7       1.00      1.00      1.00         3\n",
            "           8       0.75      1.00      0.86         3\n",
            "           9       1.00      1.00      1.00         3\n",
            "          10       1.00      0.83      0.91         6\n",
            "          11       1.00      0.67      0.80         3\n",
            "          12       1.00      1.00      1.00         2\n",
            "          13       1.00      1.00      1.00         2\n",
            "          14       0.80      1.00      0.89         4\n",
            "          15       1.00      0.75      0.86         4\n",
            "          16       0.50      0.67      0.57         3\n",
            "          17       1.00      0.50      0.67         4\n",
            "          18       0.75      1.00      0.86         3\n",
            "\n",
            "    accuracy                           0.90        62\n",
            "   macro avg       0.93      0.92      0.91        62\n",
            "weighted avg       0.93      0.90      0.90        62\n",
            "\n",
            "eval/acc : 0.9032258064516129, eval/f1 : 0.9103364471785524, global_steps: 765\n"
          ]
        },
        {
          "name": "stderr",
          "output_type": "stream",
          "text": [
            "96epoch  766step | loss:  0.3418 :  75%|███████▌  | 6/8 [00:02<00:00,  2.83it/s]"
          ]
        },
        {
          "name": "stdout",
          "output_type": "stream",
          "text": [
            " global_steps : 766\n"
          ]
        },
        {
          "name": "stderr",
          "output_type": "stream",
          "text": [
            "96epoch  767step | loss:  0.3393 :  88%|████████▊ | 7/8 [00:02<00:00,  2.71it/s]"
          ]
        },
        {
          "name": "stdout",
          "output_type": "stream",
          "text": [
            " global_steps : 767\n"
          ]
        },
        {
          "name": "stderr",
          "output_type": "stream",
          "text": [
            "96epoch  768step | loss:  0.3347 : 100%|██████████| 8/8 [00:02<00:00,  2.81it/s]\n"
          ]
        },
        {
          "name": "stdout",
          "output_type": "stream",
          "text": [
            " global_steps : 768\n"
          ]
        },
        {
          "name": "stderr",
          "output_type": "stream",
          "text": [
            "97epoch  769step | loss:  0.3310 :  12%|█▎        | 1/8 [00:00<00:03,  2.31it/s]"
          ]
        },
        {
          "name": "stdout",
          "output_type": "stream",
          "text": [
            " global_steps : 769\n"
          ]
        },
        {
          "name": "stderr",
          "output_type": "stream",
          "text": [
            "97epoch  770step | loss:  0.3370 :  25%|██▌       | 2/8 [00:00<00:02,  2.58it/s]"
          ]
        },
        {
          "name": "stdout",
          "output_type": "stream",
          "text": [
            " global_steps : 770\n"
          ]
        },
        {
          "name": "stderr",
          "output_type": "stream",
          "text": [
            "97epoch  771step | loss:  0.3433 :  38%|███▊      | 3/8 [00:01<00:01,  2.51it/s]"
          ]
        },
        {
          "name": "stdout",
          "output_type": "stream",
          "text": [
            " global_steps : 771\n"
          ]
        },
        {
          "name": "stderr",
          "output_type": "stream",
          "text": [
            "97epoch  772step | loss:  0.3339 :  50%|█████     | 4/8 [00:01<00:01,  2.53it/s]"
          ]
        },
        {
          "name": "stdout",
          "output_type": "stream",
          "text": [
            " global_steps : 772\n"
          ]
        },
        {
          "name": "stderr",
          "output_type": "stream",
          "text": [
            "97epoch  773step | loss:  0.3310 :  62%|██████▎   | 5/8 [00:01<00:01,  2.65it/s]"
          ]
        },
        {
          "name": "stdout",
          "output_type": "stream",
          "text": [
            " global_steps : 773\n"
          ]
        },
        {
          "name": "stderr",
          "output_type": "stream",
          "text": [
            "97epoch  774step | loss:  0.3333 :  75%|███████▌  | 6/8 [00:02<00:00,  2.81it/s]"
          ]
        },
        {
          "name": "stdout",
          "output_type": "stream",
          "text": [
            " global_steps : 774\n"
          ]
        },
        {
          "name": "stderr",
          "output_type": "stream",
          "text": [
            "97epoch  775step | loss:  0.3417 :  88%|████████▊ | 7/8 [00:02<00:00,  2.80it/s]"
          ]
        },
        {
          "name": "stdout",
          "output_type": "stream",
          "text": [
            " global_steps : 775\n"
          ]
        },
        {
          "name": "stderr",
          "output_type": "stream",
          "text": [
            "97epoch  776step | loss:  0.3396 : 100%|██████████| 8/8 [00:02<00:00,  2.73it/s]\n"
          ]
        },
        {
          "name": "stdout",
          "output_type": "stream",
          "text": [
            " global_steps : 776\n"
          ]
        },
        {
          "name": "stderr",
          "output_type": "stream",
          "text": [
            "98epoch  777step | loss:  0.2850 :  12%|█▎        | 1/8 [00:00<00:02,  3.12it/s]"
          ]
        },
        {
          "name": "stdout",
          "output_type": "stream",
          "text": [
            " global_steps : 777\n"
          ]
        },
        {
          "name": "stderr",
          "output_type": "stream",
          "text": [
            "98epoch  778step | loss:  0.3127 :  25%|██▌       | 2/8 [00:00<00:02,  2.86it/s]"
          ]
        },
        {
          "name": "stdout",
          "output_type": "stream",
          "text": [
            " global_steps : 778\n"
          ]
        },
        {
          "name": "stderr",
          "output_type": "stream",
          "text": [
            "98epoch  779step | loss:  0.3222 :  38%|███▊      | 3/8 [00:01<00:01,  2.84it/s]"
          ]
        },
        {
          "name": "stdout",
          "output_type": "stream",
          "text": [
            " global_steps : 779\n"
          ]
        },
        {
          "name": "stderr",
          "output_type": "stream",
          "text": [
            "epoch 98 loss: 0.6255: 100%|██████████| 2/2 [00:00<00:00, 14.50it/s]\n",
            "98epoch  780step | loss:  0.3225 :  50%|█████     | 4/8 [00:01<00:01,  2.23it/s]"
          ]
        },
        {
          "name": "stdout",
          "output_type": "stream",
          "text": [
            "validation multi-class accuracy = 0.9032, f1 score = 0.9103\n",
            "              precision    recall  f1-score   support\n",
            "\n",
            "           0       1.00      1.00      1.00         3\n",
            "           1       1.00      1.00      1.00         3\n",
            "           2       1.00      1.00      1.00         2\n",
            "           3       1.00      1.00      1.00         3\n",
            "           4       1.00      1.00      1.00         4\n",
            "           5       0.80      1.00      0.89         4\n",
            "           6       1.00      1.00      1.00         3\n",
            "           7       1.00      1.00      1.00         3\n",
            "           8       0.75      1.00      0.86         3\n",
            "           9       1.00      1.00      1.00         3\n",
            "          10       1.00      0.83      0.91         6\n",
            "          11       1.00      0.67      0.80         3\n",
            "          12       1.00      1.00      1.00         2\n",
            "          13       1.00      1.00      1.00         2\n",
            "          14       0.80      1.00      0.89         4\n",
            "          15       1.00      0.75      0.86         4\n",
            "          16       0.50      0.67      0.57         3\n",
            "          17       1.00      0.50      0.67         4\n",
            "          18       0.75      1.00      0.86         3\n",
            "\n",
            "    accuracy                           0.90        62\n",
            "   macro avg       0.93      0.92      0.91        62\n",
            "weighted avg       0.93      0.90      0.90        62\n",
            "\n",
            "eval/acc : 0.9032258064516129, eval/f1 : 0.9103364471785524, global_steps: 780\n"
          ]
        },
        {
          "name": "stderr",
          "output_type": "stream",
          "text": [
            "98epoch  781step | loss:  0.3243 :  62%|██████▎   | 5/8 [00:02<00:01,  2.36it/s]"
          ]
        },
        {
          "name": "stdout",
          "output_type": "stream",
          "text": [
            " global_steps : 781\n"
          ]
        },
        {
          "name": "stderr",
          "output_type": "stream",
          "text": [
            "98epoch  782step | loss:  0.3292 :  75%|███████▌  | 6/8 [00:02<00:00,  2.57it/s]"
          ]
        },
        {
          "name": "stdout",
          "output_type": "stream",
          "text": [
            " global_steps : 782\n"
          ]
        },
        {
          "name": "stderr",
          "output_type": "stream",
          "text": [
            "98epoch  783step | loss:  0.3279 :  88%|████████▊ | 7/8 [00:02<00:00,  2.59it/s]"
          ]
        },
        {
          "name": "stdout",
          "output_type": "stream",
          "text": [
            " global_steps : 783\n"
          ]
        },
        {
          "name": "stderr",
          "output_type": "stream",
          "text": [
            "98epoch  784step | loss:  0.3267 : 100%|██████████| 8/8 [00:03<00:00,  2.63it/s]\n"
          ]
        },
        {
          "name": "stdout",
          "output_type": "stream",
          "text": [
            " global_steps : 784\n"
          ]
        },
        {
          "name": "stderr",
          "output_type": "stream",
          "text": [
            "99epoch  785step | loss:  0.2913 :  12%|█▎        | 1/8 [00:00<00:02,  2.49it/s]"
          ]
        },
        {
          "name": "stdout",
          "output_type": "stream",
          "text": [
            " global_steps : 785\n"
          ]
        },
        {
          "name": "stderr",
          "output_type": "stream",
          "text": [
            "99epoch  786step | loss:  0.2994 :  25%|██▌       | 2/8 [00:00<00:02,  2.75it/s]"
          ]
        },
        {
          "name": "stdout",
          "output_type": "stream",
          "text": [
            " global_steps : 786\n"
          ]
        },
        {
          "name": "stderr",
          "output_type": "stream",
          "text": [
            "99epoch  787step | loss:  0.3127 :  38%|███▊      | 3/8 [00:01<00:01,  2.66it/s]"
          ]
        },
        {
          "name": "stdout",
          "output_type": "stream",
          "text": [
            " global_steps : 787\n"
          ]
        },
        {
          "name": "stderr",
          "output_type": "stream",
          "text": [
            "99epoch  788step | loss:  0.3264 :  50%|█████     | 4/8 [00:01<00:01,  2.76it/s]"
          ]
        },
        {
          "name": "stdout",
          "output_type": "stream",
          "text": [
            " global_steps : 788\n"
          ]
        },
        {
          "name": "stderr",
          "output_type": "stream",
          "text": [
            "99epoch  789step | loss:  0.3265 :  62%|██████▎   | 5/8 [00:01<00:01,  2.58it/s]"
          ]
        },
        {
          "name": "stdout",
          "output_type": "stream",
          "text": [
            " global_steps : 789\n"
          ]
        },
        {
          "name": "stderr",
          "output_type": "stream",
          "text": [
            "99epoch  790step | loss:  0.3260 :  75%|███████▌  | 6/8 [00:02<00:00,  2.71it/s]"
          ]
        },
        {
          "name": "stdout",
          "output_type": "stream",
          "text": [
            " global_steps : 790\n"
          ]
        },
        {
          "name": "stderr",
          "output_type": "stream",
          "text": [
            "99epoch  791step | loss:  0.3280 :  88%|████████▊ | 7/8 [00:02<00:00,  2.78it/s]"
          ]
        },
        {
          "name": "stdout",
          "output_type": "stream",
          "text": [
            " global_steps : 791\n"
          ]
        },
        {
          "name": "stderr",
          "output_type": "stream",
          "text": [
            "99epoch  792step | loss:  0.3256 : 100%|██████████| 8/8 [00:02<00:00,  2.72it/s]\n"
          ]
        },
        {
          "name": "stdout",
          "output_type": "stream",
          "text": [
            " global_steps : 792\n"
          ]
        },
        {
          "name": "stderr",
          "output_type": "stream",
          "text": [
            "100epoch  793step | loss:  0.3264 :  12%|█▎        | 1/8 [00:00<00:02,  2.40it/s]"
          ]
        },
        {
          "name": "stdout",
          "output_type": "stream",
          "text": [
            " global_steps : 793\n"
          ]
        },
        {
          "name": "stderr",
          "output_type": "stream",
          "text": [
            "100epoch  794step | loss:  0.3392 :  25%|██▌       | 2/8 [00:00<00:02,  2.65it/s]"
          ]
        },
        {
          "name": "stdout",
          "output_type": "stream",
          "text": [
            " global_steps : 794\n"
          ]
        },
        {
          "name": "stderr",
          "output_type": "stream",
          "text": [
            "epoch 100 loss: 0.6158: 100%|██████████| 2/2 [00:00<00:00, 13.72it/s]\n",
            "100epoch  795step | loss:  0.3339 :  38%|███▊      | 3/8 [00:01<00:02,  2.29it/s]"
          ]
        },
        {
          "name": "stdout",
          "output_type": "stream",
          "text": [
            "validation multi-class accuracy = 0.9032, f1 score = 0.9103\n",
            "              precision    recall  f1-score   support\n",
            "\n",
            "           0       1.00      1.00      1.00         3\n",
            "           1       1.00      1.00      1.00         3\n",
            "           2       1.00      1.00      1.00         2\n",
            "           3       1.00      1.00      1.00         3\n",
            "           4       1.00      1.00      1.00         4\n",
            "           5       0.80      1.00      0.89         4\n",
            "           6       1.00      1.00      1.00         3\n",
            "           7       1.00      1.00      1.00         3\n",
            "           8       0.75      1.00      0.86         3\n",
            "           9       1.00      1.00      1.00         3\n",
            "          10       1.00      0.83      0.91         6\n",
            "          11       1.00      0.67      0.80         3\n",
            "          12       1.00      1.00      1.00         2\n",
            "          13       1.00      1.00      1.00         2\n",
            "          14       0.80      1.00      0.89         4\n",
            "          15       1.00      0.75      0.86         4\n",
            "          16       0.50      0.67      0.57         3\n",
            "          17       1.00      0.50      0.67         4\n",
            "          18       0.75      1.00      0.86         3\n",
            "\n",
            "    accuracy                           0.90        62\n",
            "   macro avg       0.93      0.92      0.91        62\n",
            "weighted avg       0.93      0.90      0.90        62\n",
            "\n",
            "eval/acc : 0.9032258064516129, eval/f1 : 0.9103364471785524, global_steps: 795\n"
          ]
        },
        {
          "name": "stderr",
          "output_type": "stream",
          "text": [
            "100epoch  796step | loss:  0.3276 :  50%|█████     | 4/8 [00:01<00:01,  2.44it/s]"
          ]
        },
        {
          "name": "stdout",
          "output_type": "stream",
          "text": [
            " global_steps : 796\n"
          ]
        },
        {
          "name": "stderr",
          "output_type": "stream",
          "text": [
            "100epoch  797step | loss:  0.3183 :  62%|██████▎   | 5/8 [00:02<00:01,  2.56it/s]"
          ]
        },
        {
          "name": "stdout",
          "output_type": "stream",
          "text": [
            " global_steps : 797\n"
          ]
        },
        {
          "name": "stderr",
          "output_type": "stream",
          "text": [
            "100epoch  798step | loss:  0.3165 :  75%|███████▌  | 6/8 [00:02<00:00,  2.65it/s]"
          ]
        },
        {
          "name": "stdout",
          "output_type": "stream",
          "text": [
            " global_steps : 798\n"
          ]
        },
        {
          "name": "stderr",
          "output_type": "stream",
          "text": [
            "100epoch  799step | loss:  0.3207 :  88%|████████▊ | 7/8 [00:02<00:00,  2.69it/s]"
          ]
        },
        {
          "name": "stdout",
          "output_type": "stream",
          "text": [
            " global_steps : 799\n"
          ]
        },
        {
          "name": "stderr",
          "output_type": "stream",
          "text": [
            "100epoch  800step | loss:  0.3201 : 100%|██████████| 8/8 [00:03<00:00,  2.66it/s]"
          ]
        },
        {
          "name": "stdout",
          "output_type": "stream",
          "text": [
            " global_steps : 800\n"
          ]
        },
        {
          "name": "stderr",
          "output_type": "stream",
          "text": [
            "\n"
          ]
        }
      ],
      "source": [
        "train(network, criterion, optimizer, scaler, train_iter, val_iter, scheduler, \"cuda\")"
      ]
    },
    {
      "cell_type": "markdown",
      "metadata": {
        "id": "5eG_lSTXtrRr"
      },
      "source": [
        "# 💌Inference"
      ]
    },
    {
      "cell_type": "code",
      "execution_count": 53,
      "metadata": {
        "id": "aYFleUottrRs"
      },
      "outputs": [],
      "source": [
        "class CFG:\n",
        "    tokenizer_max_length = 35\n",
        "    batch_size = 1\n",
        "    model_name = \"xlm-roberta-base\""
      ]
    },
    {
      "cell_type": "code",
      "execution_count": 54,
      "metadata": {
        "id": "BY88Ds1MtrRs"
      },
      "outputs": [],
      "source": [
        "class NLP_Dataset_test(Dataset):\n",
        "    def __init__(self, dataframe, tokenizer):\n",
        "        self.dataset = dataframe\n",
        "        self.question = dataframe['question']\n",
        "        self.labels = dataframe['label']\n",
        "        self.tokenizer = tokenizer\n",
        "\n",
        "    def __getitem__(self, idx):\n",
        "        tokenized_text = self.tokenizer(self.question[idx],\n",
        "                                        max_length=CFG.tokenizer_max_length,\n",
        "                                        padding='max_length',\n",
        "                                        truncation=True,\n",
        "                                        return_tensors='pt',\n",
        "                                        add_special_tokens=True)\n",
        "        \n",
        "        tokenized_text['label'] = self.labels[idx]\n",
        "        return tokenized_text\n",
        "\n",
        "    def __len__(self):\n",
        "        return len(self.labels)"
      ]
    },
    {
      "cell_type": "code",
      "execution_count": 55,
      "metadata": {
        "id": "wcCZw4UjtrRs"
      },
      "outputs": [],
      "source": [
        "names = {0: '이름',\n",
        "         1: '가격',\n",
        "         2: '사이즈 옵션',\n",
        "         3: '소재',\n",
        "         4: '비침',\n",
        "         5: '카테고리',\n",
        "         6: '색 옵션',\n",
        "         7: '두께감',\n",
        "         8: '신축성',\n",
        "         9: '촉감',\n",
        "         10: '핏',\n",
        "         11: '안감',\n",
        "         12: '스타일',\n",
        "         13: '프린팅',\n",
        "         14: '상의 색',\n",
        "         15: '하의 색',\n",
        "         16: '상의 카테고리',\n",
        "         17: '하의 카테고리',\n",
        "         18: '넥 라인'}"
      ]
    },
    {
      "cell_type": "markdown",
      "metadata": {
        "id": "oQR2YZXOtrRs"
      },
      "source": [
        "### 학습된 모델 불러오기"
      ]
    },
    {
      "cell_type": "code",
      "execution_count": 56,
      "metadata": {
        "colab": {
          "base_uri": "https://localhost:8080/",
          "height": 1000
        },
        "id": "Rsl2RnamtrRs",
        "outputId": "80455e75-e220-4289-c188-124d9562b97c"
      },
      "outputs": [
        {
          "data": {
            "text/plain": [
              "XLMRobertaForSequenceClassification(\n",
              "  (roberta): RobertaModel(\n",
              "    (embeddings): RobertaEmbeddings(\n",
              "      (word_embeddings): Embedding(250002, 768, padding_idx=1)\n",
              "      (position_embeddings): Embedding(514, 768, padding_idx=1)\n",
              "      (token_type_embeddings): Embedding(1, 768)\n",
              "      (LayerNorm): LayerNorm((768,), eps=1e-05, elementwise_affine=True)\n",
              "      (dropout): Dropout(p=0, inplace=False)\n",
              "    )\n",
              "    (encoder): RobertaEncoder(\n",
              "      (layer): ModuleList(\n",
              "        (0): RobertaLayer(\n",
              "          (attention): RobertaAttention(\n",
              "            (self): RobertaSelfAttention(\n",
              "              (query): Linear(in_features=768, out_features=768, bias=True)\n",
              "              (key): Linear(in_features=768, out_features=768, bias=True)\n",
              "              (value): Linear(in_features=768, out_features=768, bias=True)\n",
              "              (dropout): Dropout(p=0.1, inplace=False)\n",
              "            )\n",
              "            (output): RobertaSelfOutput(\n",
              "              (dense): Linear(in_features=768, out_features=768, bias=True)\n",
              "              (LayerNorm): LayerNorm((768,), eps=1e-05, elementwise_affine=True)\n",
              "              (dropout): Dropout(p=0, inplace=False)\n",
              "            )\n",
              "          )\n",
              "          (intermediate): RobertaIntermediate(\n",
              "            (dense): Linear(in_features=768, out_features=3072, bias=True)\n",
              "          )\n",
              "          (output): RobertaOutput(\n",
              "            (dense): Linear(in_features=3072, out_features=768, bias=True)\n",
              "            (LayerNorm): LayerNorm((768,), eps=1e-05, elementwise_affine=True)\n",
              "            (dropout): Dropout(p=0, inplace=False)\n",
              "          )\n",
              "        )\n",
              "        (1): RobertaLayer(\n",
              "          (attention): RobertaAttention(\n",
              "            (self): RobertaSelfAttention(\n",
              "              (query): Linear(in_features=768, out_features=768, bias=True)\n",
              "              (key): Linear(in_features=768, out_features=768, bias=True)\n",
              "              (value): Linear(in_features=768, out_features=768, bias=True)\n",
              "              (dropout): Dropout(p=0.1, inplace=False)\n",
              "            )\n",
              "            (output): RobertaSelfOutput(\n",
              "              (dense): Linear(in_features=768, out_features=768, bias=True)\n",
              "              (LayerNorm): LayerNorm((768,), eps=1e-05, elementwise_affine=True)\n",
              "              (dropout): Dropout(p=0, inplace=False)\n",
              "            )\n",
              "          )\n",
              "          (intermediate): RobertaIntermediate(\n",
              "            (dense): Linear(in_features=768, out_features=3072, bias=True)\n",
              "          )\n",
              "          (output): RobertaOutput(\n",
              "            (dense): Linear(in_features=3072, out_features=768, bias=True)\n",
              "            (LayerNorm): LayerNorm((768,), eps=1e-05, elementwise_affine=True)\n",
              "            (dropout): Dropout(p=0, inplace=False)\n",
              "          )\n",
              "        )\n",
              "        (2): RobertaLayer(\n",
              "          (attention): RobertaAttention(\n",
              "            (self): RobertaSelfAttention(\n",
              "              (query): Linear(in_features=768, out_features=768, bias=True)\n",
              "              (key): Linear(in_features=768, out_features=768, bias=True)\n",
              "              (value): Linear(in_features=768, out_features=768, bias=True)\n",
              "              (dropout): Dropout(p=0.1, inplace=False)\n",
              "            )\n",
              "            (output): RobertaSelfOutput(\n",
              "              (dense): Linear(in_features=768, out_features=768, bias=True)\n",
              "              (LayerNorm): LayerNorm((768,), eps=1e-05, elementwise_affine=True)\n",
              "              (dropout): Dropout(p=0, inplace=False)\n",
              "            )\n",
              "          )\n",
              "          (intermediate): RobertaIntermediate(\n",
              "            (dense): Linear(in_features=768, out_features=3072, bias=True)\n",
              "          )\n",
              "          (output): RobertaOutput(\n",
              "            (dense): Linear(in_features=3072, out_features=768, bias=True)\n",
              "            (LayerNorm): LayerNorm((768,), eps=1e-05, elementwise_affine=True)\n",
              "            (dropout): Dropout(p=0, inplace=False)\n",
              "          )\n",
              "        )\n",
              "        (3): RobertaLayer(\n",
              "          (attention): RobertaAttention(\n",
              "            (self): RobertaSelfAttention(\n",
              "              (query): Linear(in_features=768, out_features=768, bias=True)\n",
              "              (key): Linear(in_features=768, out_features=768, bias=True)\n",
              "              (value): Linear(in_features=768, out_features=768, bias=True)\n",
              "              (dropout): Dropout(p=0.1, inplace=False)\n",
              "            )\n",
              "            (output): RobertaSelfOutput(\n",
              "              (dense): Linear(in_features=768, out_features=768, bias=True)\n",
              "              (LayerNorm): LayerNorm((768,), eps=1e-05, elementwise_affine=True)\n",
              "              (dropout): Dropout(p=0, inplace=False)\n",
              "            )\n",
              "          )\n",
              "          (intermediate): RobertaIntermediate(\n",
              "            (dense): Linear(in_features=768, out_features=3072, bias=True)\n",
              "          )\n",
              "          (output): RobertaOutput(\n",
              "            (dense): Linear(in_features=3072, out_features=768, bias=True)\n",
              "            (LayerNorm): LayerNorm((768,), eps=1e-05, elementwise_affine=True)\n",
              "            (dropout): Dropout(p=0, inplace=False)\n",
              "          )\n",
              "        )\n",
              "        (4): RobertaLayer(\n",
              "          (attention): RobertaAttention(\n",
              "            (self): RobertaSelfAttention(\n",
              "              (query): Linear(in_features=768, out_features=768, bias=True)\n",
              "              (key): Linear(in_features=768, out_features=768, bias=True)\n",
              "              (value): Linear(in_features=768, out_features=768, bias=True)\n",
              "              (dropout): Dropout(p=0.1, inplace=False)\n",
              "            )\n",
              "            (output): RobertaSelfOutput(\n",
              "              (dense): Linear(in_features=768, out_features=768, bias=True)\n",
              "              (LayerNorm): LayerNorm((768,), eps=1e-05, elementwise_affine=True)\n",
              "              (dropout): Dropout(p=0, inplace=False)\n",
              "            )\n",
              "          )\n",
              "          (intermediate): RobertaIntermediate(\n",
              "            (dense): Linear(in_features=768, out_features=3072, bias=True)\n",
              "          )\n",
              "          (output): RobertaOutput(\n",
              "            (dense): Linear(in_features=3072, out_features=768, bias=True)\n",
              "            (LayerNorm): LayerNorm((768,), eps=1e-05, elementwise_affine=True)\n",
              "            (dropout): Dropout(p=0, inplace=False)\n",
              "          )\n",
              "        )\n",
              "        (5): RobertaLayer(\n",
              "          (attention): RobertaAttention(\n",
              "            (self): RobertaSelfAttention(\n",
              "              (query): Linear(in_features=768, out_features=768, bias=True)\n",
              "              (key): Linear(in_features=768, out_features=768, bias=True)\n",
              "              (value): Linear(in_features=768, out_features=768, bias=True)\n",
              "              (dropout): Dropout(p=0.1, inplace=False)\n",
              "            )\n",
              "            (output): RobertaSelfOutput(\n",
              "              (dense): Linear(in_features=768, out_features=768, bias=True)\n",
              "              (LayerNorm): LayerNorm((768,), eps=1e-05, elementwise_affine=True)\n",
              "              (dropout): Dropout(p=0, inplace=False)\n",
              "            )\n",
              "          )\n",
              "          (intermediate): RobertaIntermediate(\n",
              "            (dense): Linear(in_features=768, out_features=3072, bias=True)\n",
              "          )\n",
              "          (output): RobertaOutput(\n",
              "            (dense): Linear(in_features=3072, out_features=768, bias=True)\n",
              "            (LayerNorm): LayerNorm((768,), eps=1e-05, elementwise_affine=True)\n",
              "            (dropout): Dropout(p=0, inplace=False)\n",
              "          )\n",
              "        )\n",
              "        (6): RobertaLayer(\n",
              "          (attention): RobertaAttention(\n",
              "            (self): RobertaSelfAttention(\n",
              "              (query): Linear(in_features=768, out_features=768, bias=True)\n",
              "              (key): Linear(in_features=768, out_features=768, bias=True)\n",
              "              (value): Linear(in_features=768, out_features=768, bias=True)\n",
              "              (dropout): Dropout(p=0.1, inplace=False)\n",
              "            )\n",
              "            (output): RobertaSelfOutput(\n",
              "              (dense): Linear(in_features=768, out_features=768, bias=True)\n",
              "              (LayerNorm): LayerNorm((768,), eps=1e-05, elementwise_affine=True)\n",
              "              (dropout): Dropout(p=0, inplace=False)\n",
              "            )\n",
              "          )\n",
              "          (intermediate): RobertaIntermediate(\n",
              "            (dense): Linear(in_features=768, out_features=3072, bias=True)\n",
              "          )\n",
              "          (output): RobertaOutput(\n",
              "            (dense): Linear(in_features=3072, out_features=768, bias=True)\n",
              "            (LayerNorm): LayerNorm((768,), eps=1e-05, elementwise_affine=True)\n",
              "            (dropout): Dropout(p=0, inplace=False)\n",
              "          )\n",
              "        )\n",
              "        (7): RobertaLayer(\n",
              "          (attention): RobertaAttention(\n",
              "            (self): RobertaSelfAttention(\n",
              "              (query): Linear(in_features=768, out_features=768, bias=True)\n",
              "              (key): Linear(in_features=768, out_features=768, bias=True)\n",
              "              (value): Linear(in_features=768, out_features=768, bias=True)\n",
              "              (dropout): Dropout(p=0.1, inplace=False)\n",
              "            )\n",
              "            (output): RobertaSelfOutput(\n",
              "              (dense): Linear(in_features=768, out_features=768, bias=True)\n",
              "              (LayerNorm): LayerNorm((768,), eps=1e-05, elementwise_affine=True)\n",
              "              (dropout): Dropout(p=0, inplace=False)\n",
              "            )\n",
              "          )\n",
              "          (intermediate): RobertaIntermediate(\n",
              "            (dense): Linear(in_features=768, out_features=3072, bias=True)\n",
              "          )\n",
              "          (output): RobertaOutput(\n",
              "            (dense): Linear(in_features=3072, out_features=768, bias=True)\n",
              "            (LayerNorm): LayerNorm((768,), eps=1e-05, elementwise_affine=True)\n",
              "            (dropout): Dropout(p=0, inplace=False)\n",
              "          )\n",
              "        )\n",
              "        (8): RobertaLayer(\n",
              "          (attention): RobertaAttention(\n",
              "            (self): RobertaSelfAttention(\n",
              "              (query): Linear(in_features=768, out_features=768, bias=True)\n",
              "              (key): Linear(in_features=768, out_features=768, bias=True)\n",
              "              (value): Linear(in_features=768, out_features=768, bias=True)\n",
              "              (dropout): Dropout(p=0.1, inplace=False)\n",
              "            )\n",
              "            (output): RobertaSelfOutput(\n",
              "              (dense): Linear(in_features=768, out_features=768, bias=True)\n",
              "              (LayerNorm): LayerNorm((768,), eps=1e-05, elementwise_affine=True)\n",
              "              (dropout): Dropout(p=0, inplace=False)\n",
              "            )\n",
              "          )\n",
              "          (intermediate): RobertaIntermediate(\n",
              "            (dense): Linear(in_features=768, out_features=3072, bias=True)\n",
              "          )\n",
              "          (output): RobertaOutput(\n",
              "            (dense): Linear(in_features=3072, out_features=768, bias=True)\n",
              "            (LayerNorm): LayerNorm((768,), eps=1e-05, elementwise_affine=True)\n",
              "            (dropout): Dropout(p=0, inplace=False)\n",
              "          )\n",
              "        )\n",
              "        (9): RobertaLayer(\n",
              "          (attention): RobertaAttention(\n",
              "            (self): RobertaSelfAttention(\n",
              "              (query): Linear(in_features=768, out_features=768, bias=True)\n",
              "              (key): Linear(in_features=768, out_features=768, bias=True)\n",
              "              (value): Linear(in_features=768, out_features=768, bias=True)\n",
              "              (dropout): Dropout(p=0.1, inplace=False)\n",
              "            )\n",
              "            (output): RobertaSelfOutput(\n",
              "              (dense): Linear(in_features=768, out_features=768, bias=True)\n",
              "              (LayerNorm): LayerNorm((768,), eps=1e-05, elementwise_affine=True)\n",
              "              (dropout): Dropout(p=0, inplace=False)\n",
              "            )\n",
              "          )\n",
              "          (intermediate): RobertaIntermediate(\n",
              "            (dense): Linear(in_features=768, out_features=3072, bias=True)\n",
              "          )\n",
              "          (output): RobertaOutput(\n",
              "            (dense): Linear(in_features=3072, out_features=768, bias=True)\n",
              "            (LayerNorm): LayerNorm((768,), eps=1e-05, elementwise_affine=True)\n",
              "            (dropout): Dropout(p=0, inplace=False)\n",
              "          )\n",
              "        )\n",
              "        (10): RobertaLayer(\n",
              "          (attention): RobertaAttention(\n",
              "            (self): RobertaSelfAttention(\n",
              "              (query): Linear(in_features=768, out_features=768, bias=True)\n",
              "              (key): Linear(in_features=768, out_features=768, bias=True)\n",
              "              (value): Linear(in_features=768, out_features=768, bias=True)\n",
              "              (dropout): Dropout(p=0.1, inplace=False)\n",
              "            )\n",
              "            (output): RobertaSelfOutput(\n",
              "              (dense): Linear(in_features=768, out_features=768, bias=True)\n",
              "              (LayerNorm): LayerNorm((768,), eps=1e-05, elementwise_affine=True)\n",
              "              (dropout): Dropout(p=0, inplace=False)\n",
              "            )\n",
              "          )\n",
              "          (intermediate): RobertaIntermediate(\n",
              "            (dense): Linear(in_features=768, out_features=3072, bias=True)\n",
              "          )\n",
              "          (output): RobertaOutput(\n",
              "            (dense): Linear(in_features=3072, out_features=768, bias=True)\n",
              "            (LayerNorm): LayerNorm((768,), eps=1e-05, elementwise_affine=True)\n",
              "            (dropout): Dropout(p=0, inplace=False)\n",
              "          )\n",
              "        )\n",
              "        (11): RobertaLayer(\n",
              "          (attention): RobertaAttention(\n",
              "            (self): RobertaSelfAttention(\n",
              "              (query): Linear(in_features=768, out_features=768, bias=True)\n",
              "              (key): Linear(in_features=768, out_features=768, bias=True)\n",
              "              (value): Linear(in_features=768, out_features=768, bias=True)\n",
              "              (dropout): Dropout(p=0.1, inplace=False)\n",
              "            )\n",
              "            (output): RobertaSelfOutput(\n",
              "              (dense): Linear(in_features=768, out_features=768, bias=True)\n",
              "              (LayerNorm): LayerNorm((768,), eps=1e-05, elementwise_affine=True)\n",
              "              (dropout): Dropout(p=0, inplace=False)\n",
              "            )\n",
              "          )\n",
              "          (intermediate): RobertaIntermediate(\n",
              "            (dense): Linear(in_features=768, out_features=3072, bias=True)\n",
              "          )\n",
              "          (output): RobertaOutput(\n",
              "            (dense): Linear(in_features=3072, out_features=768, bias=True)\n",
              "            (LayerNorm): LayerNorm((768,), eps=1e-05, elementwise_affine=True)\n",
              "            (dropout): Dropout(p=0, inplace=False)\n",
              "          )\n",
              "        )\n",
              "      )\n",
              "    )\n",
              "  )\n",
              "  (classifier): RobertaClassificationHead(\n",
              "    (dense): Linear(in_features=768, out_features=768, bias=True)\n",
              "    (dropout): Dropout(p=0, inplace=False)\n",
              "    (out_proj): Linear(in_features=768, out_features=19, bias=True)\n",
              "  )\n",
              ")"
            ]
          },
          "execution_count": 56,
          "metadata": {},
          "output_type": "execute_result"
        }
      ],
      "source": [
        "network = torch.load(\"/content/drive/MyDrive/Colab Notebooks/fashion_reader/question_intention_classification/output/new_baseline.pt\") #기존까지 학습된 모델 load\n",
        "pretrained_model_state = deepcopy(network.state_dict())\n",
        "network.load_state_dict(pretrained_model_state)\n",
        "device = \"cuda\"\n",
        "network.to(device)\n",
        "network.eval()"
      ]
    },
    {
      "cell_type": "code",
      "execution_count": 57,
      "metadata": {
        "id": "heTF77cktrRt"
      },
      "outputs": [],
      "source": [
        "input_str = \"옷이 체크야?\"\n",
        "test_df = pd.DataFrame(zip([input_str],[-1]), columns=['question', 'label'])\n",
        "tokenizer = AutoTokenizer.from_pretrained(CFG.model_name)\n",
        "test_set = NLP_Dataset_test(test_df, tokenizer)\n",
        "test_loader = DataLoader(dataset=test_set, batch_size=CFG.batch_size, shuffle=False)"
      ]
    },
    {
      "cell_type": "markdown",
      "metadata": {
        "id": "GYD0nzIbtrRt"
      },
      "source": [
        "### Test Data로 Inference"
      ]
    },
    {
      "cell_type": "code",
      "execution_count": 58,
      "metadata": {
        "colab": {
          "base_uri": "https://localhost:8080/"
        },
        "id": "pqxrjZ_rtrRt",
        "outputId": "04e6d2e0-48cb-41de-b978-bb886ffa4430"
      },
      "outputs": [
        {
          "name": "stderr",
          "output_type": "stream",
          "text": [
            "100%|██████████| 1/1 [00:00<00:00, 18.27batch/s]\n"
          ]
        }
      ],
      "source": [
        "preds_all = []\n",
        "prediction_array=[]\n",
        "with tqdm(test_loader,\n",
        "          total=test_loader.__len__(),\n",
        "          unit='batch') as test_bar:\n",
        "    for batch in test_bar:\n",
        "        input_ids = batch['input_ids'].squeeze(1).to(device)\n",
        "        attention_mask = batch['attention_mask'].squeeze(1).to(device)\n",
        "\n",
        "        preds = network(input_ids, attention_mask = attention_mask)[0]\n",
        "        preds_all += [torch.argmax(preds, 1).detach().cpu().numpy().item()]"
      ]
    },
    {
      "cell_type": "code",
      "execution_count": 59,
      "metadata": {
        "colab": {
          "base_uri": "https://localhost:8080/"
        },
        "id": "kT9GN64VtrRt",
        "outputId": "7bf627da-0b50-47d9-d913-998a42b7052a"
      },
      "outputs": [
        {
          "name": "stdout",
          "output_type": "stream",
          "text": [
            "유저 질문 : 옷이 체크야?\n",
            "질문 의도 : 13, 프린팅\n"
          ]
        }
      ],
      "source": [
        "print(f'유저 질문 : {input_str}')\n",
        "print(f'질문 의도 : {preds_all[0]}, {names[preds_all[0]]}')"
      ]
    },
    {
      "cell_type": "code",
      "execution_count": 59,
      "metadata": {
        "id": "l7CspUVRtrRt"
      },
      "outputs": [],
      "source": []
    }
  ],
  "metadata": {
    "accelerator": "GPU",
    "colab": {
      "collapsed_sections": [],
      "name": "질문의도분류.ipynb",
      "provenance": []
    },
    "kernelspec": {
      "display_name": "Python 3",
      "name": "python3"
    },
    "language_info": {
      "name": "python"
    }
  },
  "nbformat": 4,
  "nbformat_minor": 0
}
